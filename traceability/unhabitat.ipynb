{
 "cells": [
  {
   "cell_type": "code",
   "execution_count": 1,
   "metadata": {
    "collapsed": false
   },
   "outputs": [],
   "source": [
    "import requests\n",
    "import json\n",
    "from collections import OrderedDict\n",
    "from ipy_table import *\n",
    "def pretty_json(x):\n",
    "    print(json.dumps(x, indent=4))\n",
    "\n",
    "reporting_org_ref = '41120'"
   ]
  },
  {
   "cell_type": "markdown",
   "metadata": {},
   "source": [
    "## This reporting org ref as a participating org ref"
   ]
  },
  {
   "cell_type": "markdown",
   "metadata": {},
   "source": [
    "### Publishers"
   ]
  },
  {
   "cell_type": "code",
   "execution_count": 2,
   "metadata": {
    "collapsed": false
   },
   "outputs": [
    {
     "data": {
      "text/html": [
       "<table border=\"1\" cellpadding=\"3\" cellspacing=\"0\"  style=\"border:1px solid black;border-collapse:collapse;\"><tr><td>akvo</td><td>1</td></tr><tr><td>dfatd-maecd</td><td>1</td></tr><tr><td>dfid</td><td>19</td></tr><tr><td>finland_mfa</td><td>7</td></tr><tr><td>jica</td><td>9</td></tr><tr><td>minbuza_nl</td><td>2</td></tr><tr><td>sida</td><td>48</td></tr><tr><td>zimmzimm</td><td>1</td></tr></table>"
      ],
      "text/plain": [
       "<ipy_table.IpyTable at 0x7f680a8c2320>"
      ]
     },
     "execution_count": 2,
     "metadata": {},
     "output_type": "execute_result"
    }
   ],
   "source": [
    "participating_orgs = requests.get('http://dashboard.iatistandard.org/stats/current/inverted-publisher/participating_orgs.json').json(object_pairs_hook=OrderedDict)\n",
    "make_table(list(participating_orgs[reporting_org_ref].items()))"
   ]
  },
  {
   "cell_type": "markdown",
   "metadata": {},
   "source": [
    "### Files"
   ]
  },
  {
   "cell_type": "code",
   "execution_count": 3,
   "metadata": {
    "collapsed": false
   },
   "outputs": [
    {
     "data": {
      "text/html": [
       "<table border=\"1\" cellpadding=\"3\" cellspacing=\"0\"  style=\"border:1px solid black;border-collapse:collapse;\"><tr><td>akvo-activities</td><td>1</td></tr><tr><td>dfatd-maecd-act_2_3</td><td>1</td></tr><tr><td>dfid-af</td><td>4</td></tr><tr><td>dfid-cd</td><td>2</td></tr><tr><td>dfid-mm</td><td>2</td></tr><tr><td>dfid-ns3</td><td>2</td></tr><tr><td>dfid-pk</td><td>4</td></tr><tr><td>dfid-ps</td><td>3</td></tr><tr><td>dfid-zz</td><td>2</td></tr><tr><td>finland_mfa-001</td><td>2</td></tr><tr><td>finland_mfa-002</td><td>2</td></tr><tr><td>finland_mfa-003</td><td>1</td></tr><tr><td>finland_mfa-998</td><td>1</td></tr><tr><td>finland_mfa-lb</td><td>1</td></tr><tr><td>jica-grant_2012</td><td>9</td></tr><tr><td>minbuza_nl-activities20082009</td><td>1</td></tr><tr><td>minbuza_nl-activities20142015</td><td>1</td></tr><tr><td>sida-289</td><td>7</td></tr><tr><td>sida-298</td><td>10</td></tr><tr><td>sida-998b</td><td>11</td></tr><tr><td>sida-998c</td><td>1</td></tr><tr><td>sida-998e</td><td>2</td></tr><tr><td>sida-et</td><td>1</td></tr><tr><td>sida-lr</td><td>2</td></tr><tr><td>sida-pk</td><td>1</td></tr><tr><td>sida-so</td><td>2</td></tr><tr><td>sida-tz</td><td>1</td></tr><tr><td>sida-xk</td><td>10</td></tr><tr><td>zimmzimm-activities</td><td>1</td></tr></table>"
      ],
      "text/plain": [
       "<ipy_table.IpyTable at 0x7f680a8c2278>"
      ]
     },
     "execution_count": 3,
     "metadata": {},
     "output_type": "execute_result"
    }
   ],
   "source": [
    "participating_orgs = requests.get('http://dashboard.iatistandard.org/stats/current/inverted-file/participating_orgs.json').json(object_pairs_hook=OrderedDict)\n",
    "make_table(list(participating_orgs[reporting_org_ref].items()))"
   ]
  },
  {
   "cell_type": "markdown",
   "metadata": {},
   "source": [
    "### Which participating org roles?"
   ]
  },
  {
   "cell_type": "code",
   "execution_count": 4,
   "metadata": {
    "collapsed": false
   },
   "outputs": [
    {
     "data": {
      "text/html": [
       "<table border=\"1\" cellpadding=\"3\" cellspacing=\"0\"  style=\"border:1px solid black;border-collapse:collapse;\"><tr><td>Role</td><td>Publisher</td><td>Count</td></tr><tr><td>1</td><td>akvo</td><td>1</td></tr><tr><td>4</td><td>dfatd-maecd</td><td>1</td></tr><tr><td>4</td><td>sida</td><td>48</td></tr><tr><td>Accountable</td><td>zimmzimm</td><td>1</td></tr><tr><td>Implementing</td><td>dfid</td><td>12</td></tr><tr><td>Implementing</td><td>finland_mfa</td><td>5</td></tr><tr><td>Implementing</td><td>jica</td><td>9</td></tr><tr><td>Implementing</td><td>minbuza_nl</td><td>2</td></tr><tr><td>implementing</td><td>finland_mfa</td><td>2</td></tr></table>"
      ],
      "text/plain": [
       "<ipy_table.IpyTable at 0x7f6809e41a20>"
      ]
     },
     "execution_count": 4,
     "metadata": {},
     "output_type": "execute_result"
    }
   ],
   "source": [
    "by_role = requests.get('http://dashboard.iatistandard.org/stats/current/inverted-publisher/participating_orgs_by_role.json').json(object_pairs_hook=OrderedDict)\n",
    "make_table([('Role', 'Publisher', 'Count')] + [(k, publisher, reporting_org) for k,v in by_role.items() if reporting_org_ref in v for publisher, reporting_org in v[reporting_org_ref].items() ])"
   ]
  },
  {
   "cell_type": "markdown",
   "metadata": {},
   "source": [
    "## This reporting-org ref as provider-org"
   ]
  },
  {
   "cell_type": "markdown",
   "metadata": {},
   "source": [
    "### Publishers"
   ]
  },
  {
   "cell_type": "code",
   "execution_count": 5,
   "metadata": {
    "collapsed": false
   },
   "outputs": [
    {
     "data": {
      "text/html": [
       "<table border=\"1\" cellpadding=\"3\" cellspacing=\"0\"  style=\"border:1px solid black;border-collapse:collapse;\"><tr><td>akvo</td><td>2</td></tr></table>"
      ],
      "text/plain": [
       "<ipy_table.IpyTable at 0x7f6809e44a90>"
      ]
     },
     "execution_count": 5,
     "metadata": {},
     "output_type": "execute_result"
    }
   ],
   "source": [
    "provider_org = requests.get('http://dashboard.iatistandard.org/stats/current/inverted-publisher/provider_org.json').json(object_pairs_hook=OrderedDict)\n",
    "make_table(list(provider_org[reporting_org_ref].items()))"
   ]
  },
  {
   "cell_type": "markdown",
   "metadata": {},
   "source": [
    "### Files"
   ]
  },
  {
   "cell_type": "code",
   "execution_count": 6,
   "metadata": {
    "collapsed": false
   },
   "outputs": [
    {
     "data": {
      "text/html": [
       "<table border=\"1\" cellpadding=\"3\" cellspacing=\"0\"  style=\"border:1px solid black;border-collapse:collapse;\"><tr><td>akvo-activities</td><td>2</td></tr></table>"
      ],
      "text/plain": [
       "<ipy_table.IpyTable at 0x7f68092c9f98>"
      ]
     },
     "execution_count": 6,
     "metadata": {},
     "output_type": "execute_result"
    }
   ],
   "source": [
    "provider_org = requests.get('http://dashboard.iatistandard.org/stats/current/inverted-file/provider_org.json').json(object_pairs_hook=OrderedDict)\n",
    "make_table(list(provider_org[reporting_org_ref].items()))"
   ]
  },
  {
   "cell_type": "markdown",
   "metadata": {},
   "source": [
    "## This reporting-org ref as receiver-org"
   ]
  },
  {
   "cell_type": "markdown",
   "metadata": {},
   "source": [
    "### Publishers"
   ]
  },
  {
   "cell_type": "code",
   "execution_count": 7,
   "metadata": {
    "collapsed": false
   },
   "outputs": [
    {
     "data": {
      "text/html": [
       "<table border=\"1\" cellpadding=\"3\" cellspacing=\"0\"  style=\"border:1px solid black;border-collapse:collapse;\"><tr><td>dfatd-maecd</td><td>6</td></tr><tr><td>dfid</td><td>7</td></tr><tr><td>finland_mfa</td><td>15</td></tr><tr><td>minbuza_nl</td><td>11</td></tr></table>"
      ],
      "text/plain": [
       "<ipy_table.IpyTable at 0x7f68092c9da0>"
      ]
     },
     "execution_count": 7,
     "metadata": {},
     "output_type": "execute_result"
    }
   ],
   "source": [
    "receiver_org = requests.get('http://dashboard.iatistandard.org/stats/current/inverted-publisher/receiver_org.json').json(object_pairs_hook=OrderedDict)\n",
    "make_table(list(receiver_org[reporting_org_ref].items()))"
   ]
  },
  {
   "cell_type": "markdown",
   "metadata": {},
   "source": [
    "### Files"
   ]
  },
  {
   "cell_type": "code",
   "execution_count": 8,
   "metadata": {
    "collapsed": false
   },
   "outputs": [
    {
     "data": {
      "text/html": [
       "<table border=\"1\" cellpadding=\"3\" cellspacing=\"0\"  style=\"border:1px solid black;border-collapse:collapse;\"><tr><td>dfatd-maecd-act_2_3</td><td>6</td></tr><tr><td>dfid-cd</td><td>3</td></tr><tr><td>dfid-ns3</td><td>3</td></tr><tr><td>dfid-zz</td><td>1</td></tr><tr><td>finland_mfa-001</td><td>6</td></tr><tr><td>finland_mfa-002</td><td>6</td></tr><tr><td>finland_mfa-003</td><td>3</td></tr><tr><td>minbuza_nl-activities20082009</td><td>9</td></tr><tr><td>minbuza_nl-activities20142015</td><td>2</td></tr></table>"
      ],
      "text/plain": [
       "<ipy_table.IpyTable at 0x7f6809209b38>"
      ]
     },
     "execution_count": 8,
     "metadata": {},
     "output_type": "execute_result"
    }
   ],
   "source": [
    "receiver_org = requests.get('http://dashboard.iatistandard.org/stats/current/inverted-file/receiver_org.json').json(object_pairs_hook=OrderedDict)\n",
    "make_table(list(receiver_org[reporting_org_ref].items()))"
   ]
  },
  {
   "cell_type": "markdown",
   "metadata": {},
   "source": [
    "# Participating Org Text"
   ]
  },
  {
   "cell_type": "markdown",
   "metadata": {},
   "source": [
    "### Text used by publishers using the correct ref"
   ]
  },
  {
   "cell_type": "code",
   "execution_count": 9,
   "metadata": {
    "collapsed": false
   },
   "outputs": [
    {
     "data": {
      "text/html": [
       "<table border=\"1\" cellpadding=\"3\" cellspacing=\"0\"  style=\"border:1px solid black;border-collapse:collapse;\"><tr><td>Publisher</td><td>Ref</td><td>Text</td></tr><tr><td>akvo</td><td>41120</td><td>\n",
       "&nbsp&nbsp&nbsp&nbsp&nbsp&nbsp</td></tr><tr><td>sida</td><td>41120</td><td>\n",
       "&nbsp&nbsp&nbsp&nbsp&nbsp&nbsp</td></tr><tr><td>minbuza_nl</td><td>41120</td><td>UN&nbspHabitat</td></tr><tr><td>finland_mfa</td><td>41120</td><td>UN&nbspHuman&nbspSettlements&nbspProgramme</td></tr><tr><td>zimmzimm</td><td>41120</td><td>UN-Habitat</td></tr><tr><td>dfid</td><td>41120</td><td>United&nbspNations&nbspHuman&nbspSettlement&nbspProgramme</td></tr><tr><td>finland_mfa</td><td>41120</td><td>United&nbspNations&nbspHuman&nbspSettlement&nbspProgramme</td></tr><tr><td>jica</td><td>41120</td><td>United&nbspNations&nbspHuman&nbspSettlement&nbspProgramme&nbsp</td></tr><tr><td>finland_mfa</td><td>41120</td><td>United&nbspNations&nbspHuman&nbspSettlement&nbspProgramme&nbsp(UN&nbspHabitat)</td></tr><tr><td>dfatd-maecd</td><td>41120</td><td>null</td></tr></table>"
      ],
      "text/plain": [
       "<ipy_table.IpyTable at 0x7f6809e44e48>"
      ]
     },
     "execution_count": 9,
     "metadata": {},
     "output_type": "execute_result"
    }
   ],
   "source": [
    "participating_orgs_text = requests.get('http://dashboard.iatistandard.org/stats/current/inverted-publisher/participating_orgs_text.json').json(object_pairs_hook=OrderedDict)\n",
    "make_table([['Publisher', 'Ref', 'Text']] + [[ publisher, reporting_org_ref, text ] for text, publishers in  participating_orgs_text[reporting_org_ref].items() for publisher in publishers ])"
   ]
  },
  {
   "cell_type": "markdown",
   "metadata": {},
   "source": [
    "### Search for relevant text across all refs"
   ]
  },
  {
   "cell_type": "code",
   "execution_count": 11,
   "metadata": {
    "collapsed": false
   },
   "outputs": [
    {
     "data": {
      "text/html": [
       "<table border=\"1\" cellpadding=\"3\" cellspacing=\"0\"  style=\"border:1px solid black;border-collapse:collapse;\"><tr><td>Publisher</td><td>Ref</td><td>Text</td></tr><tr><td>unesco</td><td></td><td>UN-Habitat</td></tr><tr><td>danida</td><td></td><td>United&nbspNations&nbspCentre&nbspfor&nbspHuman&nbspSettlement</td></tr><tr><td>undp</td><td>00023</td><td>UN&nbspCENTRE&nbspFOR&nbspHUMAN&nbspSETTLEMENTS</td></tr><tr><td>undp</td><td>10602</td><td>UN-HABITAT</td></tr><tr><td>minbuza_nl</td><td>41120</td><td>UN&nbspHabitat</td></tr><tr><td>finland_mfa</td><td>41120</td><td>UN&nbspHuman&nbspSettlements&nbspProgramme</td></tr><tr><td>zimmzimm</td><td>41120</td><td>UN-Habitat</td></tr><tr><td>dfid</td><td>41120</td><td>United&nbspNations&nbspHuman&nbspSettlement&nbspProgramme</td></tr><tr><td>finland_mfa</td><td>41120</td><td>United&nbspNations&nbspHuman&nbspSettlement&nbspProgramme</td></tr><tr><td>jica</td><td>41120</td><td>United&nbspNations&nbspHuman&nbspSettlement&nbspProgramme&nbsp</td></tr><tr><td>finland_mfa</td><td>41120</td><td>United&nbspNations&nbspHuman&nbspSettlement&nbspProgramme&nbsp(UN&nbspHabitat)</td></tr><tr><td>aiddata</td><td>null</td><td>\n",
       "\t\t\tUNHABITAT\n",
       "\t\t</td></tr><tr><td>aiddata</td><td>null</td><td>\n",
       "\t\t\tUnited&nbspNations&nbspHuman&nbspSettlements&nbspProgramme\n",
       "\t\t</td></tr><tr><td>bmgf</td><td>null</td><td>Habitat&nbspfor&nbspHumanity&nbspof&nbspSeattle&nbsp/&nbspSouth&nbspKing&nbspCounty</td></tr><tr><td>pa</td><td>null</td><td>United&nbspNations&nbspHuman&nbspSettlement</td></tr><tr><td>unops</td><td>null</td><td>United&nbspNations&nbspHuman&nbspSettlement&nbspProgramme&nbsp(UN-HABITAT)</td></tr><tr><td>bmz</td><td>null</td><td>United&nbspNations&nbspHuman&nbspSettlements&nbspProgramme</td></tr><tr><td>ec-devco</td><td>null</td><td>United&nbspNations&nbspHuman&nbspSettlements&nbspProgramme</td></tr><tr><td>ec-fpi</td><td>null</td><td>United&nbspNations&nbspHuman&nbspSettlements&nbspProgramme</td></tr><tr><td>ec-near</td><td>null</td><td>United&nbspNations&nbspHuman&nbspSettlements&nbspProgramme</td></tr></table>"
      ],
      "text/plain": [
       "<ipy_table.IpyTable at 0x7f68012dc5f8>"
      ]
     },
     "execution_count": 11,
     "metadata": {},
     "output_type": "execute_result"
    }
   ],
   "source": [
    "table = [ ['Publisher', 'Ref', 'Text'] ]\n",
    "for ref, text_dict in participating_orgs_text.items():\n",
    "    for text, publishers in text_dict.items():\n",
    "        tl = text.lower()\n",
    "        if ('un' in tl or 'united nations' in tl) and ('habitat' in tl or 'human settlement' in tl):\n",
    "            for publisher in publishers:\n",
    "                table.append([publisher, ref, text])\n",
    "make_table(table)"
   ]
  }
 ],
 "metadata": {
  "kernelspec": {
   "display_name": "Python 3",
   "language": "python",
   "name": "python3"
  },
  "language_info": {
   "codemirror_mode": {
    "name": "ipython",
    "version": 3
   },
   "file_extension": ".py",
   "mimetype": "text/x-python",
   "name": "python",
   "nbconvert_exporter": "python",
   "pygments_lexer": "ipython3",
   "version": "3.4.3+"
  }
 },
 "nbformat": 4,
 "nbformat_minor": 0
}
