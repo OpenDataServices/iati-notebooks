{
 "cells": [
  {
   "cell_type": "code",
   "execution_count": 1,
   "metadata": {
    "collapsed": false
   },
   "outputs": [],
   "source": [
    "import requests\n",
    "import json\n",
    "from collections import OrderedDict\n",
    "from ipy_table import *\n",
    "def pretty_json(x):\n",
    "    print(json.dumps(x, indent=4))\n",
    "\n",
    "reporting_org_ref = 'GB-1'"
   ]
  },
  {
   "cell_type": "markdown",
   "metadata": {},
   "source": [
    "### Learning Notes\n",
    "\n",
    "We are looking here for both GB-1 and GB-GOV-1\n",
    "\n",
    "But - in looking at some data (e.g. ycare-activities) we found a case of GB-01, so may need to check for this in future examples. \n"
   ]
  },
  {
   "cell_type": "markdown",
   "metadata": {},
   "source": [
    "## This reporting org ref as a participating org ref"
   ]
  },
  {
   "cell_type": "markdown",
   "metadata": {},
   "source": [
    "### Publishers (GB-1)\n",
    "\n",
    "Fetching a list of all the IATI publishers listing DFID as a participating organisation via 'GB-1'"
   ]
  },
  {
   "cell_type": "code",
   "execution_count": 2,
   "metadata": {
    "collapsed": false,
    "scrolled": false
   },
   "outputs": [
    {
     "data": {
      "text/html": [
       "<table border=\"1\" cellpadding=\"3\" cellspacing=\"0\"  style=\"border:1px solid black;border-collapse:collapse;\"><tr><td>aai</td><td>43</td></tr><tr><td>aauk</td><td>6</td></tr><tr><td>abaseen</td><td>1</td></tr><tr><td>across</td><td>1</td></tr><tr><td>act4africa</td><td>1</td></tr><tr><td>addinternational</td><td>6</td></tr><tr><td>adrasom</td><td>2</td></tr><tr><td>adrauk</td><td>1</td></tr><tr><td>afrikids</td><td>2</td></tr><tr><td>ageintl</td><td>2</td></tr><tr><td>aktis</td><td>4</td></tr><tr><td>alcis</td><td>1</td></tr><tr><td>allwecan</td><td>1</td></tr><tr><td>amrefha</td><td>2</td></tr><tr><td>apt</td><td>4</td></tr><tr><td>art19</td><td>1</td></tr><tr><td>asf</td><td>3</td></tr><tr><td>asi</td><td>8</td></tr><tr><td>basicneeds</td><td>1</td></tr><tr><td>bbcmediaaction</td><td>1</td></tr><tr><td>beesfordevelopment</td><td>1</td></tr><tr><td>blueventures</td><td>1</td></tr><tr><td>bond</td><td>2</td></tr><tr><td>bracintl</td><td>1</td></tr><tr><td>buildafrica</td><td>1</td></tr><tr><td>caid</td><td>813</td></tr><tr><td>cal</td><td>8</td></tr><tr><td>camfed</td><td>7</td></tr><tr><td>canoncollinstrust</td><td>1</td></tr><tr><td>cfbt_kenya</td><td>6</td></tr><tr><td>childhopeuk</td><td>1</td></tr><tr><td>cic</td><td>1</td></tr><tr><td>ciuk</td><td>71</td></tr><tr><td>coda</td><td>1</td></tr><tr><td>coffey</td><td>10</td></tr><tr><td>concernuk</td><td>5</td></tr><tr><td>cprojects</td><td>2</td></tr><tr><td>crs_vyf</td><td>1</td></tr><tr><td>ctc</td><td>1</td></tr><tr><td>cu</td><td>2</td></tr><tr><td>cuammtrustees</td><td>1</td></tr><tr><td>cww</td><td>1</td></tr><tr><td>cyan</td><td>1</td></tr><tr><td>dai-e</td><td>11</td></tr><tr><td>dec-uk</td><td>1</td></tr><tr><td>deccadmin</td><td>2</td></tr><tr><td>diltuk</td><td>1</td></tr><tr><td>dipr</td><td>1</td></tr><tr><td>eel</td><td>1</td></tr><tr><td>eiuk</td><td>1</td></tr><tr><td>emms</td><td>1</td></tr><tr><td>evc</td><td>2</td></tr><tr><td>excellent</td><td>1</td></tr><tr><td>foe-ghana</td><td>1</td></tr><tr><td>foe_ewni</td><td>1</td></tr><tr><td>ftm-291333</td><td>2</td></tr><tr><td>fyf</td><td>4</td></tr><tr><td>gb-chc-220949</td><td>33</td></tr><tr><td>gecfundmanagerpwc</td><td>25</td></tr><tr><td>goal</td><td>1</td></tr><tr><td>handinhand</td><td>1</td></tr><tr><td>hauk</td><td>1</td></tr><tr><td>hha</td><td>1</td></tr><tr><td>hhc</td><td>1</td></tr><tr><td>hifed</td><td>13</td></tr><tr><td>hpa</td><td>2</td></tr><tr><td>htspe</td><td>2</td></tr><tr><td>hwa-zm</td><td>1</td></tr><tr><td>idlo</td><td>1</td></tr><tr><td>interburns</td><td>1</td></tr><tr><td>ip-india</td><td>1</td></tr><tr><td>ipa</td><td>4</td></tr><tr><td>irc_uk</td><td>2</td></tr><tr><td>irw</td><td>3</td></tr><tr><td>jeevika_trust</td><td>1</td></tr><tr><td>karuna</td><td>1</td></tr><tr><td>kpmgea</td><td>1</td></tr><tr><td>kpmgllp</td><td>1</td></tr><tr><td>kwaafrica</td><td>1</td></tr><tr><td>lcd_admin</td><td>1</td></tr><tr><td>learningforlife</td><td>1</td></tr><tr><td>lepra</td><td>2</td></tr><tr><td>livelyminds</td><td>1</td></tr><tr><td>livingearth12</td><td>5</td></tr><tr><td>malariaconsortium</td><td>4</td></tr><tr><td>mce</td><td>12</td></tr><tr><td>mck</td><td>5</td></tr><tr><td>mia_india</td><td>1</td></tr><tr><td>mie-1134415</td><td>1</td></tr><tr><td>motivation</td><td>2</td></tr><tr><td>mrc-sierra-leone</td><td>1</td></tr><tr><td>msi</td><td>9</td></tr><tr><td>mstamp</td><td>9</td></tr><tr><td>opportunity-international-uk</td><td>2</td></tr><tr><td>oxfamgb</td><td>107</td></tr><tr><td>oxfamindia</td><td>1</td></tr><tr><td>palladium</td><td>23</td></tr><tr><td>peopleinaid</td><td>1</td></tr><tr><td>phase_worldwide</td><td>2</td></tr><tr><td>phe</td><td>1</td></tr><tr><td>pidg</td><td>5</td></tr><tr><td>plan_uk</td><td>34</td></tr><tr><td>pont</td><td>1</td></tr><tr><td>pragya</td><td>1</td></tr><tr><td>pri</td><td>3</td></tr><tr><td>pumpaid</td><td>1</td></tr><tr><td>rc</td><td>1</td></tr><tr><td>rem</td><td>2</td></tr><tr><td>restless</td><td>10</td></tr><tr><td>rfpap</td><td>2</td></tr><tr><td>ri-uk</td><td>2</td></tr><tr><td>rojiroti</td><td>1</td></tr><tr><td>saferworld</td><td>6</td></tr><tr><td>sciaf</td><td>2</td></tr><tr><td>sct</td><td>1</td></tr><tr><td>scuk</td><td>2</td></tr><tr><td>sendacow</td><td>4</td></tr><tr><td>sense_international</td><td>2</td></tr><tr><td>signal</td><td>1</td></tr><tr><td>spuk</td><td>3</td></tr><tr><td>ss-org</td><td>59</td></tr><tr><td>surf</td><td>1</td></tr><tr><td>tao-03473165</td><td>1</td></tr><tr><td>targettb</td><td>1</td></tr><tr><td>tbalert</td><td>3</td></tr><tr><td>tccec</td><td>1</td></tr><tr><td>tearfund</td><td>4</td></tr><tr><td>tib</td><td>2</td></tr><tr><td>tlmew</td><td>2</td></tr><tr><td>traidcraft</td><td>4</td></tr><tr><td>transparency-international</td><td>5</td></tr><tr><td>tripleline_crownagents</td><td>272</td></tr><tr><td>troc</td><td>4</td></tr><tr><td>twin-iati</td><td>1</td></tr><tr><td>umn</td><td>1</td></tr><tr><td>unfpa</td><td>1</td></tr><tr><td>uq</td><td>8</td></tr><tr><td>vfan</td><td>1</td></tr><tr><td>viva</td><td>1</td></tr><tr><td>vso</td><td>1</td></tr><tr><td>wacc-uk</td><td>1</td></tr><tr><td>waronwant</td><td>2</td></tr><tr><td>wateraid</td><td>1</td></tr><tr><td>waterworks</td><td>1</td></tr><tr><td>wccuk</td><td>1</td></tr><tr><td>wcf</td><td>2</td></tr><tr><td>welbodipartnership</td><td>1</td></tr><tr><td>wellfound</td><td>1</td></tr><tr><td>wfwiuk</td><td>2</td></tr><tr><td>wowni</td><td>1</td></tr><tr><td>wsup</td><td>1</td></tr><tr><td>wvuk</td><td>43</td></tr><tr><td>wygi</td><td>8</td></tr><tr><td>ycare</td><td>3</td></tr><tr><td>zet</td><td>1</td></tr><tr><td>zoa</td><td>2</td></tr></table>"
      ],
      "text/plain": [
       "<ipy_table.IpyTable at 0x10497eb38>"
      ]
     },
     "execution_count": 2,
     "metadata": {},
     "output_type": "execute_result"
    }
   ],
   "source": [
    "participating_orgs = requests.get('http://dashboard.iatistandard.org/stats/current/inverted-publisher/participating_orgs.json').json(object_pairs_hook=OrderedDict)\n",
    "make_table(list(participating_orgs[reporting_org_ref].items()))"
   ]
  },
  {
   "cell_type": "markdown",
   "metadata": {},
   "source": [
    "### Publishers (GB-GOV-1)\n",
    "\n",
    "Fetching a list of all the IATI publishers using 'GB-GOV-1'"
   ]
  },
  {
   "cell_type": "code",
   "execution_count": 3,
   "metadata": {
    "collapsed": false
   },
   "outputs": [
    {
     "data": {
      "text/html": [
       "<table border=\"1\" cellpadding=\"3\" cellspacing=\"0\"  style=\"border:1px solid black;border-collapse:collapse;\"><tr><td>aai</td><td>6</td></tr><tr><td>asfpakistan</td><td>1</td></tr><tr><td>bracintl</td><td>2</td></tr><tr><td>cabi</td><td>1</td></tr><tr><td>cdc</td><td>43</td></tr><tr><td>dfid</td><td>16473</td></tr><tr><td>landell-mills</td><td>1</td></tr><tr><td>minbuza_nl</td><td>29</td></tr><tr><td>scuk</td><td>105</td></tr><tr><td>undp</td><td>340</td></tr></table>"
      ],
      "text/plain": [
       "<ipy_table.IpyTable at 0x10331ff60>"
      ]
     },
     "execution_count": 3,
     "metadata": {},
     "output_type": "execute_result"
    }
   ],
   "source": [
    "reporting_org_ref = 'GB-GOV-1'\n",
    "\n",
    "participating_orgs = requests.get('http://dashboard.iatistandard.org/stats/current/inverted-publisher/participating_orgs.json').json(object_pairs_hook=OrderedDict)\n",
    "make_table(list(participating_orgs[reporting_org_ref].items()))"
   ]
  },
  {
   "cell_type": "markdown",
   "metadata": {},
   "source": [
    "### Files"
   ]
  },
  {
   "cell_type": "code",
   "execution_count": 5,
   "metadata": {
    "collapsed": false
   },
   "outputs": [
    {
     "data": {
      "text/html": [
       "<table border=\"1\" cellpadding=\"3\" cellspacing=\"0\"  style=\"border:1px solid black;border-collapse:collapse;\"><tr><td>aai-2015</td><td>6</td></tr><tr><td>asfpakistan-activities</td><td>1</td></tr><tr><td>bracintl-activities</td><td>2</td></tr><tr><td>cabi-998</td><td>1</td></tr><tr><td>cdc-2015</td><td>43</td></tr><tr><td>dfid-189</td><td>16</td></tr><tr><td>dfid-289</td><td>184</td></tr><tr><td>dfid-298</td><td>776</td></tr><tr><td>dfid-380</td><td>207</td></tr><tr><td>dfid-389</td><td>9</td></tr><tr><td>dfid-589</td><td>80</td></tr><tr><td>dfid-679</td><td>5</td></tr><tr><td>dfid-798</td><td>154</td></tr><tr><td>dfid-89</td><td>58</td></tr><tr><td>dfid-998_1</td><td>1333</td></tr><tr><td>dfid-998_2</td><td>1265</td></tr><tr><td>dfid-998_3</td><td>1223</td></tr><tr><td>dfid-998_4</td><td>1005</td></tr><tr><td>dfid-ac</td><td>8</td></tr><tr><td>dfid-ae</td><td>2</td></tr><tr><td>dfid-af</td><td>403</td></tr><tr><td>dfid-al</td><td>8</td></tr><tr><td>dfid-ao</td><td>16</td></tr><tr><td>dfid-as</td><td>2</td></tr><tr><td>dfid-ba</td><td>50</td></tr><tr><td>dfid-bd</td><td>411</td></tr><tr><td>dfid-bf</td><td>5</td></tr><tr><td>dfid-bi</td><td>73</td></tr><tr><td>dfid-bj</td><td>2</td></tr><tr><td>dfid-br</td><td>15</td></tr><tr><td>dfid-cd</td><td>284</td></tr><tr><td>dfid-cf</td><td>39</td></tr><tr><td>dfid-cg</td><td>2</td></tr><tr><td>dfid-ci</td><td>10</td></tr><tr><td>dfid-cl</td><td>3</td></tr><tr><td>dfid-cm</td><td>15</td></tr><tr><td>dfid-cn</td><td>98</td></tr><tr><td>dfid-cu</td><td>2</td></tr><tr><td>dfid-cv</td><td>2</td></tr><tr><td>dfid-dm</td><td>4</td></tr><tr><td>dfid-ec</td><td>3</td></tr><tr><td>dfid-eg</td><td>18</td></tr><tr><td>dfid-er</td><td>12</td></tr><tr><td>dfid-et</td><td>434</td></tr><tr><td>dfid-fj</td><td>2</td></tr><tr><td>dfid-gb</td><td>14</td></tr><tr><td>dfid-ge</td><td>4</td></tr><tr><td>dfid-gh</td><td>312</td></tr><tr><td>dfid-gm</td><td>20</td></tr><tr><td>dfid-gn</td><td>2</td></tr><tr><td>dfid-gt</td><td>5</td></tr><tr><td>dfid-gy</td><td>24</td></tr><tr><td>dfid-hn</td><td>2</td></tr><tr><td>dfid-ht</td><td>54</td></tr><tr><td>dfid-id</td><td>138</td></tr><tr><td>dfid-in</td><td>372</td></tr><tr><td>dfid-iq</td><td>65</td></tr><tr><td>dfid-jm</td><td>31</td></tr><tr><td>dfid-jo</td><td>47</td></tr><tr><td>dfid-jp</td><td>4</td></tr><tr><td>dfid-ke</td><td>465</td></tr><tr><td>dfid-kg</td><td>45</td></tr><tr><td>dfid-kh</td><td>64</td></tr><tr><td>dfid-la</td><td>11</td></tr><tr><td>dfid-lb</td><td>60</td></tr><tr><td>dfid-lc</td><td>2</td></tr><tr><td>dfid-lk</td><td>48</td></tr><tr><td>dfid-lr</td><td>58</td></tr><tr><td>dfid-ls</td><td>26</td></tr><tr><td>dfid-ly</td><td>81</td></tr><tr><td>dfid-md</td><td>38</td></tr><tr><td>dfid-mg</td><td>7</td></tr><tr><td>dfid-ml</td><td>10</td></tr><tr><td>dfid-mm</td><td>248</td></tr><tr><td>dfid-mn</td><td>2</td></tr><tr><td>dfid-mr</td><td>2</td></tr><tr><td>dfid-ms</td><td>186</td></tr><tr><td>dfid-mv</td><td>2</td></tr><tr><td>dfid-mw</td><td>369</td></tr><tr><td>dfid-mz</td><td>262</td></tr><tr><td>dfid-na</td><td>2</td></tr><tr><td>dfid-ne</td><td>10</td></tr><tr><td>dfid-ng</td><td>401</td></tr><tr><td>dfid-ni</td><td>11</td></tr><tr><td>dfid-np</td><td>348</td></tr><tr><td>dfid-pe</td><td>8</td></tr><tr><td>dfid-pg</td><td>6</td></tr><tr><td>dfid-ph</td><td>15</td></tr><tr><td>dfid-pk</td><td>490</td></tr><tr><td>dfid-pn</td><td>29</td></tr><tr><td>dfid-ps</td><td>162</td></tr><tr><td>dfid-rs</td><td>31</td></tr><tr><td>dfid-ru</td><td>12</td></tr><tr><td>dfid-rw</td><td>246</td></tr><tr><td>dfid-sb</td><td>4</td></tr><tr><td>dfid-sd</td><td>251</td></tr><tr><td>dfid-sh</td><td>166</td></tr><tr><td>dfid-sl</td><td>427</td></tr><tr><td>dfid-sn</td><td>6</td></tr><tr><td>dfid-so</td><td>336</td></tr><tr><td>dfid-ss</td><td>244</td></tr><tr><td>dfid-sy</td><td>113</td></tr><tr><td>dfid-ta</td><td>40</td></tr><tr><td>dfid-tc</td><td>13</td></tr><tr><td>dfid-td</td><td>11</td></tr><tr><td>dfid-tg</td><td>2</td></tr><tr><td>dfid-th</td><td>2</td></tr><tr><td>dfid-tj</td><td>113</td></tr><tr><td>dfid-tl</td><td>2</td></tr><tr><td>dfid-tn</td><td>5</td></tr><tr><td>dfid-tr</td><td>10</td></tr><tr><td>dfid-tz</td><td>389</td></tr><tr><td>dfid-ua</td><td>36</td></tr><tr><td>dfid-ug</td><td>321</td></tr><tr><td>dfid-vn</td><td>98</td></tr><tr><td>dfid-vu</td><td>4</td></tr><tr><td>dfid-ws</td><td>2</td></tr><tr><td>dfid-xk</td><td>65</td></tr><tr><td>dfid-ye</td><td>149</td></tr><tr><td>dfid-za</td><td>91</td></tr><tr><td>dfid-zm</td><td>282</td></tr><tr><td>dfid-zw</td><td>202</td></tr><tr><td>landell-mills-mw</td><td>1</td></tr><tr><td>minbuza_nl-activities19972007</td><td>7</td></tr><tr><td>minbuza_nl-activities20082009</td><td>5</td></tr><tr><td>minbuza_nl-activities20102011</td><td>7</td></tr><tr><td>minbuza_nl-activities20122013</td><td>8</td></tr><tr><td>minbuza_nl-activities20142015</td><td>2</td></tr><tr><td>scuk-scukppa</td><td>1</td></tr><tr><td>scuk-zz</td><td>104</td></tr><tr><td>undp-afg</td><td>24</td></tr><tr><td>undp-bdi</td><td>2</td></tr><tr><td>undp-bgd</td><td>24</td></tr><tr><td>undp-bih</td><td>2</td></tr><tr><td>undp-bra</td><td>6</td></tr><tr><td>undp-chn</td><td>1</td></tr><tr><td>undp-cod</td><td>13</td></tr><tr><td>undp-col</td><td>1</td></tr><tr><td>undp-egy</td><td>2</td></tr><tr><td>undp-eth</td><td>6</td></tr><tr><td>undp-geo</td><td>2</td></tr><tr><td>undp-global</td><td>48</td></tr><tr><td>undp-hti</td><td>4</td></tr><tr><td>undp-irq</td><td>7</td></tr><tr><td>undp-ken</td><td>11</td></tr><tr><td>undp-lao</td><td>1</td></tr><tr><td>undp-lbn</td><td>2</td></tr><tr><td>undp-lbr</td><td>2</td></tr><tr><td>undp-lby</td><td>2</td></tr><tr><td>undp-mmr</td><td>16</td></tr><tr><td>undp-mwi</td><td>10</td></tr><tr><td>undp-nga</td><td>4</td></tr><tr><td>undp-npl</td><td>22</td></tr><tr><td>undp-pak</td><td>15</td></tr><tr><td>undp-pal</td><td>2</td></tr><tr><td>undp-rwa</td><td>1</td></tr><tr><td>undp-sdn</td><td>7</td></tr><tr><td>undp-sle</td><td>5</td></tr><tr><td>undp-som</td><td>16</td></tr><tr><td>undp-ssd</td><td>36</td></tr><tr><td>undp-tjk</td><td>6</td></tr><tr><td>undp-tza</td><td>21</td></tr><tr><td>undp-ukr</td><td>2</td></tr><tr><td>undp-uzb</td><td>2</td></tr><tr><td>undp-yem</td><td>5</td></tr><tr><td>undp-zmb</td><td>6</td></tr><tr><td>undp-zwe</td><td>4</td></tr></table>"
      ],
      "text/plain": [
       "<ipy_table.IpyTable at 0x104994358>"
      ]
     },
     "execution_count": 5,
     "metadata": {},
     "output_type": "execute_result"
    }
   ],
   "source": [
    "reporting_org_ref = 'GB-1'\n",
    "\n",
    "participating_orgs = requests.get('http://dashboard.iatistandard.org/stats/current/inverted-file/participating_orgs.json').json(object_pairs_hook=OrderedDict)\n",
    "make_table(list(participating_orgs[reporting_org_ref].items()))"
   ]
  },
  {
   "cell_type": "code",
   "execution_count": null,
   "metadata": {
    "collapsed": true
   },
   "outputs": [],
   "source": [
    "reporting_org_ref = 'GB-GOV-1'\n",
    "\n",
    "participating_orgs = requests.get('http://dashboard.iatistandard.org/stats/current/inverted-file/participating_orgs.json').json(object_pairs_hook=OrderedDict)\n",
    "make_table(list(participating_orgs[reporting_org_ref].items()))"
   ]
  },
  {
   "cell_type": "markdown",
   "metadata": {},
   "source": [
    "### Which participating org roles?"
   ]
  },
  {
   "cell_type": "code",
   "execution_count": 6,
   "metadata": {
    "collapsed": false
   },
   "outputs": [
    {
     "data": {
      "text/html": [
       "<table border=\"1\" cellpadding=\"3\" cellspacing=\"0\"  style=\"border:1px solid black;border-collapse:collapse;\"><tr><td>Role</td><td>Publisher</td><td>Count</td></tr><tr><td>1</td><td>abaseen</td><td>1</td></tr><tr><td>1</td><td>across</td><td>1</td></tr><tr><td>1</td><td>act4africa</td><td>1</td></tr><tr><td>1</td><td>addinternational</td><td>4</td></tr><tr><td>1</td><td>adrauk</td><td>1</td></tr><tr><td>1</td><td>afrikids</td><td>2</td></tr><tr><td>1</td><td>ageintl</td><td>2</td></tr><tr><td>1</td><td>aktis</td><td>4</td></tr><tr><td>1</td><td>alcis</td><td>1</td></tr><tr><td>1</td><td>amrefha</td><td>2</td></tr><tr><td>1</td><td>art19</td><td>1</td></tr><tr><td>1</td><td>basicneeds</td><td>1</td></tr><tr><td>1</td><td>bbcmediaaction</td><td>1</td></tr><tr><td>1</td><td>beesfordevelopment</td><td>1</td></tr><tr><td>1</td><td>blueventures</td><td>1</td></tr><tr><td>1</td><td>bond</td><td>2</td></tr><tr><td>1</td><td>caid</td><td>24</td></tr><tr><td>1</td><td>cal</td><td>1</td></tr><tr><td>1</td><td>camfed</td><td>7</td></tr><tr><td>1</td><td>childhopeuk</td><td>1</td></tr><tr><td>1</td><td>cic</td><td>1</td></tr><tr><td>1</td><td>coffey</td><td>10</td></tr><tr><td>1</td><td>concernuk</td><td>5</td></tr><tr><td>1</td><td>cu</td><td>1</td></tr><tr><td>1</td><td>cuammtrustees</td><td>1</td></tr><tr><td>1</td><td>cww</td><td>1</td></tr><tr><td>1</td><td>cyan</td><td>1</td></tr><tr><td>1</td><td>dec-uk</td><td>1</td></tr><tr><td>1</td><td>deccadmin</td><td>2</td></tr><tr><td>1</td><td>diltuk</td><td>1</td></tr><tr><td>1</td><td>eel</td><td>1</td></tr><tr><td>1</td><td>eiuk</td><td>1</td></tr><tr><td>1</td><td>excellent</td><td>1</td></tr><tr><td>1</td><td>foe-ghana</td><td>1</td></tr><tr><td>1</td><td>ftm-291333</td><td>2</td></tr><tr><td>1</td><td>fyf</td><td>4</td></tr><tr><td>1</td><td>gb-chc-220949</td><td>23</td></tr><tr><td>1</td><td>goal</td><td>1</td></tr><tr><td>1</td><td>handinhand</td><td>1</td></tr><tr><td>1</td><td>hha</td><td>1</td></tr><tr><td>1</td><td>hhc</td><td>1</td></tr><tr><td>1</td><td>hifed</td><td>12</td></tr><tr><td>1</td><td>hpa</td><td>2</td></tr><tr><td>1</td><td>hwa-zm</td><td>1</td></tr><tr><td>1</td><td>interburns</td><td>1</td></tr><tr><td>1</td><td>ip-india</td><td>1</td></tr><tr><td>1</td><td>ipa</td><td>4</td></tr><tr><td>1</td><td>irw</td><td>3</td></tr><tr><td>1</td><td>karuna</td><td>1</td></tr><tr><td>1</td><td>kpmgea</td><td>1</td></tr><tr><td>1</td><td>kpmgllp</td><td>1</td></tr><tr><td>1</td><td>kwaafrica</td><td>1</td></tr><tr><td>1</td><td>lcd_admin</td><td>1</td></tr><tr><td>1</td><td>learningforlife</td><td>1</td></tr><tr><td>1</td><td>lepra</td><td>1</td></tr><tr><td>1</td><td>livelyminds</td><td>1</td></tr><tr><td>1</td><td>livingearth12</td><td>5</td></tr><tr><td>1</td><td>mce</td><td>12</td></tr><tr><td>1</td><td>mck</td><td>5</td></tr><tr><td>1</td><td>mie-1134415</td><td>1</td></tr><tr><td>1</td><td>mrc-sierra-leone</td><td>1</td></tr><tr><td>1</td><td>mstamp</td><td>9</td></tr><tr><td>1</td><td>opportunity-international-uk</td><td>2</td></tr><tr><td>1</td><td>oxfamindia</td><td>1</td></tr><tr><td>1</td><td>palladium</td><td>19</td></tr><tr><td>1</td><td>phase_worldwide</td><td>2</td></tr><tr><td>1</td><td>phe</td><td>1</td></tr><tr><td>1</td><td>pidg</td><td>1</td></tr><tr><td>1</td><td>pragya</td><td>1</td></tr><tr><td>1</td><td>pumpaid</td><td>1</td></tr><tr><td>1</td><td>rc</td><td>1</td></tr><tr><td>1</td><td>restless</td><td>1</td></tr><tr><td>1</td><td>rfpap</td><td>2</td></tr><tr><td>1</td><td>sciaf</td><td>1</td></tr><tr><td>1</td><td>sendacow</td><td>4</td></tr><tr><td>1</td><td>signal</td><td>1</td></tr><tr><td>1</td><td>spuk</td><td>3</td></tr><tr><td>1</td><td>surf</td><td>1</td></tr><tr><td>1</td><td>targettb</td><td>1</td></tr><tr><td>1</td><td>tbalert</td><td>3</td></tr><tr><td>1</td><td>tearfund</td><td>4</td></tr><tr><td>1</td><td>tlmew</td><td>2</td></tr><tr><td>1</td><td>traidcraft</td><td>4</td></tr><tr><td>1</td><td>transparency-international</td><td>5</td></tr><tr><td>1</td><td>troc</td><td>4</td></tr><tr><td>1</td><td>twin-iati</td><td>1</td></tr><tr><td>1</td><td>uq</td><td>8</td></tr><tr><td>1</td><td>viva</td><td>1</td></tr><tr><td>1</td><td>wccuk</td><td>1</td></tr><tr><td>1</td><td>wcf</td><td>2</td></tr><tr><td>1</td><td>welbodipartnership</td><td>1</td></tr><tr><td>1</td><td>wellfound</td><td>1</td></tr><tr><td>1</td><td>wfwiuk</td><td>2</td></tr><tr><td>1</td><td>wowni</td><td>1</td></tr><tr><td>1</td><td>wvuk</td><td>8</td></tr><tr><td>1</td><td>wygi</td><td>7</td></tr><tr><td>1</td><td>zet</td><td>1</td></tr><tr><td>1</td><td>zoa</td><td>2</td></tr><tr><td>3</td><td>asi</td><td>8</td></tr><tr><td>3</td><td>cal</td><td>3</td></tr><tr><td>3</td><td>ctc</td><td>1</td></tr><tr><td>3</td><td>dai-e</td><td>11</td></tr><tr><td>3</td><td>palladium</td><td>4</td></tr><tr><td>3</td><td>sciaf</td><td>1</td></tr><tr><td>Extending</td><td>htspe</td><td>1</td></tr><tr><td>Funding</td><td>aai</td><td>39</td></tr><tr><td>Funding</td><td>aauk</td><td>6</td></tr><tr><td>Funding</td><td>addinternational</td><td>2</td></tr><tr><td>Funding</td><td>adrasom</td><td>2</td></tr><tr><td>Funding</td><td>allwecan</td><td>1</td></tr><tr><td>Funding</td><td>asf</td><td>3</td></tr><tr><td>Funding</td><td>buildafrica</td><td>1</td></tr><tr><td>Funding</td><td>caid</td><td>658</td></tr><tr><td>Funding</td><td>cal</td><td>4</td></tr><tr><td>Funding</td><td>canoncollinstrust</td><td>1</td></tr><tr><td>Funding</td><td>cfbt_kenya</td><td>6</td></tr><tr><td>Funding</td><td>ciuk</td><td>71</td></tr><tr><td>Funding</td><td>coda</td><td>1</td></tr><tr><td>Funding</td><td>crs_vyf</td><td>1</td></tr><tr><td>Funding</td><td>dipr</td><td>1</td></tr><tr><td>Funding</td><td>emms</td><td>1</td></tr><tr><td>Funding</td><td>evc</td><td>2</td></tr><tr><td>Funding</td><td>foe_ewni</td><td>1</td></tr><tr><td>Funding</td><td>gecfundmanagerpwc</td><td>25</td></tr><tr><td>Funding</td><td>htspe</td><td>2</td></tr><tr><td>Funding</td><td>idlo</td><td>1</td></tr><tr><td>Funding</td><td>irc_uk</td><td>2</td></tr><tr><td>Funding</td><td>jeevika_trust</td><td>1</td></tr><tr><td>Funding</td><td>malariaconsortium</td><td>4</td></tr><tr><td>Funding</td><td>mia_india</td><td>1</td></tr><tr><td>Funding</td><td>msi</td><td>9</td></tr><tr><td>Funding</td><td>oxfamgb</td><td>41</td></tr><tr><td>Funding</td><td>plan_uk</td><td>34</td></tr><tr><td>Funding</td><td>pont</td><td>1</td></tr><tr><td>Funding</td><td>rem</td><td>1</td></tr><tr><td>Funding</td><td>ri-uk</td><td>2</td></tr><tr><td>Funding</td><td>rojiroti</td><td>1</td></tr><tr><td>Funding</td><td>saferworld</td><td>6</td></tr><tr><td>Funding</td><td>scuk</td><td>2</td></tr><tr><td>Funding</td><td>sense_international</td><td>2</td></tr><tr><td>Funding</td><td>ss-org</td><td>53</td></tr><tr><td>Funding</td><td>tao-03473165</td><td>1</td></tr><tr><td>Funding</td><td>tccec</td><td>1</td></tr><tr><td>Funding</td><td>tripleline_crownagents</td><td>272</td></tr><tr><td>Funding</td><td>vfan</td><td>1</td></tr><tr><td>Funding</td><td>vso</td><td>1</td></tr><tr><td>Funding</td><td>wacc-uk</td><td>1</td></tr><tr><td>Funding</td><td>waronwant</td><td>2</td></tr><tr><td>Funding</td><td>wsup</td><td>1</td></tr><tr><td>Funding</td><td>wvuk</td><td>35</td></tr><tr><td>funding</td><td>caid</td><td>131</td></tr></table>"
      ],
      "text/plain": [
       "<ipy_table.IpyTable at 0x105bcfcc0>"
      ]
     },
     "execution_count": 6,
     "metadata": {},
     "output_type": "execute_result"
    }
   ],
   "source": [
    "reporting_org_ref = 'GB-1'\n",
    "\n",
    "by_role = requests.get('http://dashboard.iatistandard.org/stats/current/inverted-publisher/participating_orgs_by_role.json').json(object_pairs_hook=OrderedDict)\n",
    "make_table([('Role', 'Publisher', 'Count')] + [(k, publisher, reporting_org) for k,v in by_role.items() if reporting_org_ref in v for publisher, reporting_org in v[reporting_org_ref].items() ])"
   ]
  },
  {
   "cell_type": "markdown",
   "metadata": {},
   "source": [
    "## This reporting-org ref as provider-org"
   ]
  },
  {
   "cell_type": "markdown",
   "metadata": {},
   "source": [
    "### Publishers"
   ]
  },
  {
   "cell_type": "code",
   "execution_count": 7,
   "metadata": {
    "collapsed": false
   },
   "outputs": [
    {
     "data": {
      "text/html": [
       "<table border=\"1\" cellpadding=\"3\" cellspacing=\"0\"  style=\"border:1px solid black;border-collapse:collapse;\"><tr><td>aai</td><td>8</td></tr><tr><td>abaseen</td><td>8</td></tr><tr><td>acord</td><td>26</td></tr><tr><td>act4africa</td><td>8</td></tr><tr><td>addinternational</td><td>65</td></tr><tr><td>adrauk</td><td>4</td></tr><tr><td>afrikids</td><td>5</td></tr><tr><td>ageintl</td><td>26</td></tr><tr><td>ai_1064413</td><td>8</td></tr><tr><td>akfuk73</td><td>12</td></tr><tr><td>allwecan</td><td>10</td></tr><tr><td>apt</td><td>51</td></tr><tr><td>art19</td><td>35</td></tr><tr><td>asi</td><td>1</td></tr><tr><td>basicneeds</td><td>7</td></tr><tr><td>bauk</td><td>1</td></tr><tr><td>bbcmediaaction</td><td>39</td></tr><tr><td>beesfordevelopment</td><td>6</td></tr><tr><td>bioclimate</td><td>4</td></tr><tr><td>blueventures</td><td>9</td></tr><tr><td>bond</td><td>34</td></tr><tr><td>buildafrica</td><td>9</td></tr><tr><td>cal</td><td>14</td></tr><tr><td>camfed</td><td>9</td></tr><tr><td>childhopeuk</td><td>7</td></tr><tr><td>cic</td><td>10</td></tr><tr><td>cifal</td><td>6</td></tr><tr><td>ciuk</td><td>42</td></tr><tr><td>coda</td><td>15</td></tr><tr><td>coffey</td><td>11</td></tr><tr><td>concernuk</td><td>9</td></tr><tr><td>cprojects</td><td>4</td></tr><tr><td>ctc</td><td>9</td></tr><tr><td>cu</td><td>9</td></tr><tr><td>cww</td><td>10</td></tr><tr><td>cyan</td><td>7</td></tr><tr><td>dai-e</td><td>38</td></tr><tr><td>dc</td><td>1</td></tr><tr><td>ddp</td><td>7</td></tr><tr><td>diltuk</td><td>4</td></tr><tr><td>dipr</td><td>18</td></tr><tr><td>drf</td><td>1</td></tr><tr><td>eel</td><td>2</td></tr><tr><td>eiuk</td><td>13</td></tr><tr><td>evc</td><td>19</td></tr><tr><td>excellent</td><td>12</td></tr><tr><td>fa</td><td>2</td></tr><tr><td>fh</td><td>17</td></tr><tr><td>foe-ghana</td><td>8</td></tr><tr><td>foe_ewni</td><td>26</td></tr><tr><td>ftm-291333</td><td>12</td></tr><tr><td>fyf</td><td>27</td></tr><tr><td>gb-chc-220949</td><td>244</td></tr><tr><td>gecfundmanagerpwc</td><td>66</td></tr><tr><td>goal</td><td>3</td></tr><tr><td>gpe</td><td>1</td></tr><tr><td>handinhand</td><td>1</td></tr><tr><td>hha</td><td>19</td></tr><tr><td>hhc</td><td>8</td></tr><tr><td>hi</td><td>25</td></tr><tr><td>hifed</td><td>45</td></tr><tr><td>hpa</td><td>3</td></tr><tr><td>htspe</td><td>2</td></tr><tr><td>hwa-zm</td><td>7</td></tr><tr><td>interburns</td><td>16</td></tr><tr><td>ip-india</td><td>43</td></tr><tr><td>ipa</td><td>2</td></tr><tr><td>irw</td><td>40</td></tr><tr><td>jeevika_trust</td><td>1</td></tr><tr><td>kipkelion</td><td>5</td></tr><tr><td>kwaafrica</td><td>2</td></tr><tr><td>lcd_admin</td><td>3</td></tr><tr><td>lcds</td><td>8</td></tr><tr><td>lepra</td><td>19</td></tr><tr><td>lhcf</td><td>1</td></tr><tr><td>livelyminds</td><td>3</td></tr><tr><td>livingearth12</td><td>36</td></tr><tr><td>m2m_sa</td><td>29</td></tr><tr><td>malariaconsortium</td><td>112</td></tr><tr><td>mapaction</td><td>4</td></tr><tr><td>mce</td><td>39</td></tr><tr><td>motivation</td><td>22</td></tr><tr><td>mrc-sierra-leone</td><td>14</td></tr><tr><td>mstamp</td><td>67</td></tr><tr><td>opportunity-international-uk</td><td>12</td></tr><tr><td>oxfamgb</td><td>552</td></tr><tr><td>oxfamindia</td><td>3</td></tr><tr><td>peopleinaid</td><td>6</td></tr><tr><td>phase_worldwide</td><td>16</td></tr><tr><td>phe</td><td>32</td></tr><tr><td>pidg</td><td>89</td></tr><tr><td>plan_uk</td><td>65</td></tr><tr><td>pont</td><td>2</td></tr><tr><td>pragya</td><td>1</td></tr><tr><td>pri</td><td>12</td></tr><tr><td>rc</td><td>5</td></tr><tr><td>restless</td><td>79</td></tr><tr><td>rfpap</td><td>12</td></tr><tr><td>rfuk</td><td>13</td></tr><tr><td>ri-uk</td><td>3</td></tr><tr><td>rojiroti</td><td>11</td></tr><tr><td>rspb_</td><td>9</td></tr><tr><td>sacu</td><td>1</td></tr><tr><td>saferworld</td><td>24</td></tr><tr><td>sciaf</td><td>45</td></tr><tr><td>sct</td><td>9</td></tr><tr><td>scuk</td><td>3</td></tr><tr><td>sendacow</td><td>20</td></tr><tr><td>si</td><td>8</td></tr><tr><td>signal</td><td>4</td></tr><tr><td>sossaheluk</td><td>2</td></tr><tr><td>spuk</td><td>58</td></tr><tr><td>ss-org</td><td>116</td></tr><tr><td>street_child</td><td>1</td></tr><tr><td>surf</td><td>9</td></tr><tr><td>tao-03473165</td><td>3</td></tr><tr><td>tbalert</td><td>21</td></tr><tr><td>tccec</td><td>3</td></tr><tr><td>tearfund</td><td>26</td></tr><tr><td>theict</td><td>4</td></tr><tr><td>tib</td><td>4</td></tr><tr><td>tlmew</td><td>19</td></tr><tr><td>traidcraft</td><td>15</td></tr><tr><td>transparency-international</td><td>28</td></tr><tr><td>tripleline_crownagents</td><td>35</td></tr><tr><td>troc</td><td>43</td></tr><tr><td>twin-iati</td><td>15</td></tr><tr><td>umn</td><td>2</td></tr><tr><td>uq</td><td>8</td></tr><tr><td>vao</td><td>4</td></tr><tr><td>vfan</td><td>7</td></tr><tr><td>vso</td><td>1014</td></tr><tr><td>wacc-uk</td><td>7</td></tr><tr><td>waronwant</td><td>15</td></tr><tr><td>wateraid</td><td>9</td></tr><tr><td>waterworks</td><td>9</td></tr><tr><td>wccuk</td><td>7</td></tr><tr><td>wcf</td><td>37</td></tr><tr><td>welbodipartnership</td><td>1</td></tr><tr><td>wellfound</td><td>1</td></tr><tr><td>wfwiuk</td><td>60</td></tr><tr><td>wowni</td><td>9</td></tr><tr><td>wsup</td><td>8</td></tr><tr><td>wusc</td><td>11</td></tr><tr><td>wvuk</td><td>55</td></tr><tr><td>wygi</td><td>6</td></tr><tr><td>ycare</td><td>17</td></tr><tr><td>zet</td><td>3</td></tr><tr><td>zoa</td><td>1</td></tr></table>"
      ],
      "text/plain": [
       "<ipy_table.IpyTable at 0x1047c6cc0>"
      ]
     },
     "execution_count": 7,
     "metadata": {},
     "output_type": "execute_result"
    }
   ],
   "source": [
    "provider_org = requests.get('http://dashboard.iatistandard.org/stats/current/inverted-publisher/provider_org.json').json(object_pairs_hook=OrderedDict)\n",
    "make_table(list(provider_org[reporting_org_ref].items()))"
   ]
  },
  {
   "cell_type": "markdown",
   "metadata": {},
   "source": [
    "### Files"
   ]
  },
  {
   "cell_type": "code",
   "execution_count": 8,
   "metadata": {
    "collapsed": false
   },
   "outputs": [
    {
     "data": {
      "text/html": [
       "<table border=\"1\" cellpadding=\"3\" cellspacing=\"0\"  style=\"border:1px solid black;border-collapse:collapse;\"><tr><td>aai-2014</td><td>8</td></tr><tr><td>abaseen-activities</td><td>8</td></tr><tr><td>acord-289</td><td>10</td></tr><tr><td>acord-cd</td><td>7</td></tr><tr><td>acord-tz</td><td>9</td></tr><tr><td>act4africa-activities</td><td>8</td></tr><tr><td>addinternational-998</td><td>12</td></tr><tr><td>addinternational-activities</td><td>5</td></tr><tr><td>addinternational-gb</td><td>48</td></tr><tr><td>adrauk-activities</td><td>4</td></tr><tr><td>afrikids-activities</td><td>5</td></tr><tr><td>ageintl-activities</td><td>26</td></tr><tr><td>ai_1064413-activities</td><td>8</td></tr><tr><td>akfuk73-activities</td><td>12</td></tr><tr><td>allwecan-cm</td><td>8</td></tr><tr><td>allwecan-ug</td><td>2</td></tr><tr><td>apt-ke</td><td>39</td></tr><tr><td>apt-ug</td><td>12</td></tr><tr><td>art19-activities</td><td>35</td></tr><tr><td>asi-activities</td><td>1</td></tr><tr><td>basicneeds-gh</td><td>3</td></tr><tr><td>basicneeds-in</td><td>1</td></tr><tr><td>basicneeds-np</td><td>1</td></tr><tr><td>basicneeds-ug</td><td>1</td></tr><tr><td>basicneeds-uganda</td><td>1</td></tr><tr><td>bauk-activities</td><td>1</td></tr><tr><td>bbcmediaaction-activities</td><td>39</td></tr><tr><td>beesfordevelopment-et</td><td>6</td></tr><tr><td>bioclimate-activities</td><td>4</td></tr><tr><td>blueventures-activities</td><td>9</td></tr><tr><td>bond-activities</td><td>34</td></tr><tr><td>buildafrica-ug</td><td>9</td></tr><tr><td>cal-bd</td><td>1</td></tr><tr><td>cal-gb</td><td>1</td></tr><tr><td>cal-gh</td><td>1</td></tr><tr><td>cal-mz</td><td>2</td></tr><tr><td>cal-np</td><td>6</td></tr><tr><td>cal-so</td><td>2</td></tr><tr><td>cal-ug</td><td>1</td></tr><tr><td>camfed-gh</td><td>1</td></tr><tr><td>camfed-zm</td><td>4</td></tr><tr><td>camfed-zw</td><td>4</td></tr><tr><td>childhopeuk-br</td><td>7</td></tr><tr><td>cic-sl</td><td>10</td></tr><tr><td>cifal-activities</td><td>6</td></tr><tr><td>ciuk-0916</td><td>42</td></tr><tr><td>coda-activities</td><td>15</td></tr><tr><td>coffey-cm</td><td>1</td></tr><tr><td>coffey-et</td><td>1</td></tr><tr><td>coffey-gb</td><td>1</td></tr><tr><td>coffey-gh</td><td>2</td></tr><tr><td>coffey-gy</td><td>1</td></tr><tr><td>coffey-ke</td><td>1</td></tr><tr><td>coffey-ng</td><td>1</td></tr><tr><td>coffey-pk</td><td>1</td></tr><tr><td>coffey-sl</td><td>1</td></tr><tr><td>coffey-zw</td><td>1</td></tr><tr><td>concernuk-pk</td><td>1</td></tr><tr><td>concernuk-sl</td><td>3</td></tr><tr><td>concernuk-zm</td><td>5</td></tr><tr><td>cprojects-activities</td><td>4</td></tr><tr><td>ctc-activities</td><td>9</td></tr><tr><td>cu-998</td><td>9</td></tr><tr><td>cww-activities</td><td>10</td></tr><tr><td>cyan-activities</td><td>7</td></tr><tr><td>dai-e-activities</td><td>38</td></tr><tr><td>dc-activities</td><td>1</td></tr><tr><td>ddp-activityfile1</td><td>7</td></tr><tr><td>diltuk-activities</td><td>4</td></tr><tr><td>dipr-998</td><td>18</td></tr><tr><td>drf-998</td><td>1</td></tr><tr><td>eel-activities</td><td>2</td></tr><tr><td>eiuk-tz</td><td>13</td></tr><tr><td>evc-activities</td><td>19</td></tr><tr><td>excellent-activities</td><td>12</td></tr><tr><td>fa-activities</td><td>2</td></tr><tr><td>fh-activities</td><td>17</td></tr><tr><td>foe-ghana-activities</td><td>8</td></tr><tr><td>foe_ewni-activities</td><td>26</td></tr><tr><td>ftm-291333-activities</td><td>12</td></tr><tr><td>fyf-in</td><td>23</td></tr><tr><td>fyf-np</td><td>3</td></tr><tr><td>fyf-zw</td><td>1</td></tr><tr><td>gb-chc-220949-activities</td><td>244</td></tr><tr><td>gecfundmanagerpwc-publication2</td><td>66</td></tr><tr><td>goal-activities</td><td>3</td></tr><tr><td>gpe-org</td><td>1</td></tr><tr><td>handinhand-activities</td><td>1</td></tr><tr><td>hha-activities</td><td>19</td></tr><tr><td>hhc-activities</td><td>8</td></tr><tr><td>hi-998</td><td>2</td></tr><tr><td>hi-ao</td><td>3</td></tr><tr><td>hi-ke</td><td>8</td></tr><tr><td>hi-lk</td><td>3</td></tr><tr><td>hi-tz</td><td>9</td></tr><tr><td>hifed-89</td><td>4</td></tr><tr><td>hifed-bd</td><td>5</td></tr><tr><td>hifed-iq</td><td>1</td></tr><tr><td>hifed-jo</td><td>7</td></tr><tr><td>hifed-kh</td><td>12</td></tr><tr><td>hifed-lb</td><td>7</td></tr><tr><td>hifed-np</td><td>2</td></tr><tr><td>hifed-ps</td><td>2</td></tr><tr><td>hifed-rw</td><td>1</td></tr><tr><td>hifed-sl</td><td>1</td></tr><tr><td>hifed-so</td><td>3</td></tr><tr><td>hpa-activities</td><td>3</td></tr><tr><td>htspe-ke</td><td>1</td></tr><tr><td>htspe-pk</td><td>1</td></tr><tr><td>hwa-zm-activities</td><td>7</td></tr><tr><td>interburns-activities</td><td>9</td></tr><tr><td>interburns-bd</td><td>7</td></tr><tr><td>ip-india-activities</td><td>43</td></tr><tr><td>ipa-ss</td><td>2</td></tr><tr><td>irw-activities</td><td>40</td></tr><tr><td>jeevika_trust-activities</td><td>1</td></tr><tr><td>kipkelion-activities</td><td>5</td></tr><tr><td>kwaafrica-activities</td><td>2</td></tr><tr><td>lcd_admin-activities</td><td>3</td></tr><tr><td>lcds-activities</td><td>8</td></tr><tr><td>lepra-activities</td><td>19</td></tr><tr><td>lhcf-activities</td><td>1</td></tr><tr><td>livelyminds-activities</td><td>3</td></tr><tr><td>livingearth12-activities</td><td>36</td></tr><tr><td>m2m_sa-mz</td><td>17</td></tr><tr><td>m2m_sa-za</td><td>12</td></tr><tr><td>malariaconsortium-b8</td><td>86</td></tr><tr><td>malariaconsortium-j7</td><td>15</td></tr><tr><td>malariaconsortium-m7</td><td>9</td></tr><tr><td>malariaconsortium-r1</td><td>2</td></tr><tr><td>mapaction-gb</td><td>4</td></tr><tr><td>mce-cd</td><td>2</td></tr><tr><td>mce-cf</td><td>2</td></tr><tr><td>mce-et</td><td>4</td></tr><tr><td>mce-iq</td><td>2</td></tr><tr><td>mce-jo</td><td>6</td></tr><tr><td>mce-lb</td><td>6</td></tr><tr><td>mce-np</td><td>9</td></tr><tr><td>mce-tr</td><td>8</td></tr><tr><td>motivation-activities</td><td>22</td></tr><tr><td>mrc-sierra-leone-activities</td><td>14</td></tr><tr><td>mstamp-bd</td><td>67</td></tr><tr><td>opportunity-international-uk-activities</td><td>12</td></tr><tr><td>oxfamgb-289</td><td>15</td></tr><tr><td>oxfamgb-998</td><td>120</td></tr><tr><td>oxfamgb-bd</td><td>29</td></tr><tr><td>oxfamgb-cd</td><td>52</td></tr><tr><td>oxfamgb-et</td><td>10</td></tr><tr><td>oxfamgb-gh</td><td>1</td></tr><tr><td>oxfamgb-in</td><td>6</td></tr><tr><td>oxfamgb-jo</td><td>5</td></tr><tr><td>oxfamgb-ke</td><td>35</td></tr><tr><td>oxfamgb-lb</td><td>21</td></tr><tr><td>oxfamgb-lr</td><td>13</td></tr><tr><td>oxfamgb-ml</td><td>12</td></tr><tr><td>oxfamgb-mm</td><td>4</td></tr><tr><td>oxfamgb-mw</td><td>4</td></tr><tr><td>oxfamgb-mz</td><td>1</td></tr><tr><td>oxfamgb-ne</td><td>6</td></tr><tr><td>oxfamgb-np</td><td>26</td></tr><tr><td>oxfamgb-ph</td><td>4</td></tr><tr><td>oxfamgb-ps</td><td>15</td></tr><tr><td>oxfamgb-rw</td><td>6</td></tr><tr><td>oxfamgb-sl</td><td>33</td></tr><tr><td>oxfamgb-so</td><td>8</td></tr><tr><td>oxfamgb-ss</td><td>7</td></tr><tr><td>oxfamgb-td</td><td>11</td></tr><tr><td>oxfamgb-tj</td><td>8</td></tr><tr><td>oxfamgb-tz</td><td>29</td></tr><tr><td>oxfamgb-vn</td><td>17</td></tr><tr><td>oxfamgb-vu</td><td>1</td></tr><tr><td>oxfamgb-ye</td><td>49</td></tr><tr><td>oxfamgb-za</td><td>1</td></tr><tr><td>oxfamgb-zm</td><td>3</td></tr><tr><td>oxfamindia-in</td><td>3</td></tr><tr><td>peopleinaid-activities</td><td>6</td></tr><tr><td>phase_worldwide-activities</td><td>16</td></tr><tr><td>phe-activities</td><td>32</td></tr><tr><td>pidg-activities</td><td>89</td></tr><tr><td>plan_uk-dfid2016</td><td>65</td></tr><tr><td>pont-activities</td><td>2</td></tr><tr><td>pragya-activities</td><td>1</td></tr><tr><td>pri-activities</td><td>12</td></tr><tr><td>rc-activities</td><td>5</td></tr><tr><td>restless-gb</td><td>20</td></tr><tr><td>restless-in</td><td>4</td></tr><tr><td>restless-np</td><td>9</td></tr><tr><td>restless-sl</td><td>8</td></tr><tr><td>restless-tz</td><td>5</td></tr><tr><td>restless-ug</td><td>9</td></tr><tr><td>restless-za</td><td>9</td></tr><tr><td>restless-zm</td><td>10</td></tr><tr><td>restless-zw</td><td>5</td></tr><tr><td>rfpap-activities</td><td>12</td></tr><tr><td>rfuk-298</td><td>13</td></tr><tr><td>ri-uk-activities</td><td>3</td></tr><tr><td>rojiroti-activities</td><td>11</td></tr><tr><td>rspb_-activities</td><td>9</td></tr><tr><td>sacu-activities</td><td>1</td></tr><tr><td>saferworld-activities</td><td>24</td></tr><tr><td>sciaf-cd</td><td>26</td></tr><tr><td>sciaf-mw</td><td>19</td></tr><tr><td>sct-gh</td><td>9</td></tr><tr><td>scuk-archive</td><td>3</td></tr><tr><td>sendacow-998</td><td>6</td></tr><tr><td>sendacow-et</td><td>1</td></tr><tr><td>sendacow-ke</td><td>7</td></tr><tr><td>sendacow-rw</td><td>6</td></tr><tr><td>si-activities</td><td>8</td></tr><tr><td>signal-activities</td><td>4</td></tr><tr><td>sossaheluk-activities</td><td>2</td></tr><tr><td>spuk-activities</td><td>58</td></tr><tr><td>ss-org-projects</td><td>116</td></tr><tr><td>street_child-activities</td><td>1</td></tr><tr><td>surf-activities</td><td>9</td></tr><tr><td>tao-03473165-activities</td><td>3</td></tr><tr><td>tbalert-activities</td><td>21</td></tr><tr><td>tccec-activities</td><td>3</td></tr><tr><td>tearfund-activities</td><td>26</td></tr><tr><td>theict-activities</td><td>4</td></tr><tr><td>tib-bibec</td><td>2</td></tr><tr><td>tib-project</td><td>2</td></tr><tr><td>tlmew-activities</td><td>9</td></tr><tr><td>tlmew-mm</td><td>8</td></tr><tr><td>tlmew-mz</td><td>2</td></tr><tr><td>traidcraft-bd</td><td>3</td></tr><tr><td>traidcraft-tz</td><td>12</td></tr><tr><td>transparency-international-10000000</td><td>6</td></tr><tr><td>transparency-international-10000287</td><td>3</td></tr><tr><td>transparency-international-10000318</td><td>16</td></tr><tr><td>transparency-international-10000345</td><td>3</td></tr><tr><td>tripleline_crownagents-incoming</td><td>35</td></tr><tr><td>troc-activities</td><td>43</td></tr><tr><td>twin-iati-mw</td><td>15</td></tr><tr><td>umn-activities</td><td>2</td></tr><tr><td>uq-activities</td><td>8</td></tr><tr><td>vao-activities</td><td>4</td></tr><tr><td>vfan-activities</td><td>7</td></tr><tr><td>vso-activity</td><td>1006</td></tr><tr><td>vso-gec</td><td>8</td></tr><tr><td>wacc-uk-activities</td><td>7</td></tr><tr><td>waronwant-hn</td><td>7</td></tr><tr><td>waronwant-ke</td><td>8</td></tr><tr><td>wateraid-global</td><td>9</td></tr><tr><td>waterworks-activities</td><td>9</td></tr><tr><td>wccuk-activities</td><td>7</td></tr><tr><td>wcf-activities</td><td>37</td></tr><tr><td>welbodipartnership-sl</td><td>1</td></tr><tr><td>wellfound-activities</td><td>1</td></tr><tr><td>wfwiuk-activities</td><td>60</td></tr><tr><td>wowni-activities</td><td>9</td></tr><tr><td>wsup-activities</td><td>8</td></tr><tr><td>wusc-activities</td><td>11</td></tr><tr><td>wvuk-998</td><td>2</td></tr><tr><td>wvuk-af</td><td>1</td></tr><tr><td>wvuk-al</td><td>2</td></tr><tr><td>wvuk-am</td><td>1</td></tr><tr><td>wvuk-bo</td><td>1</td></tr><tr><td>wvuk-cd</td><td>3</td></tr><tr><td>wvuk-gb</td><td>15</td></tr><tr><td>wvuk-in</td><td>6</td></tr><tr><td>wvuk-kh</td><td>2</td></tr><tr><td>wvuk-ml</td><td>3</td></tr><tr><td>wvuk-mm</td><td>1</td></tr><tr><td>wvuk-mw</td><td>2</td></tr><tr><td>wvuk-mz</td><td>2</td></tr><tr><td>wvuk-pk</td><td>2</td></tr><tr><td>wvuk-sd</td><td>1</td></tr><tr><td>wvuk-sl</td><td>2</td></tr><tr><td>wvuk-sn</td><td>5</td></tr><tr><td>wvuk-tz</td><td>1</td></tr><tr><td>wvuk-ug</td><td>1</td></tr><tr><td>wvuk-zm</td><td>1</td></tr><tr><td>wvuk-zw</td><td>1</td></tr><tr><td>wygi-bd</td><td>1</td></tr><tr><td>wygi-cd</td><td>2</td></tr><tr><td>wygi-et</td><td>1</td></tr><tr><td>wygi-ug</td><td>2</td></tr><tr><td>ycare-activities</td><td>17</td></tr><tr><td>zet-activities</td><td>3</td></tr><tr><td>zoa-activities</td><td>1</td></tr></table>"
      ],
      "text/plain": [
       "<ipy_table.IpyTable at 0x105bc8e10>"
      ]
     },
     "execution_count": 8,
     "metadata": {},
     "output_type": "execute_result"
    }
   ],
   "source": [
    "provider_org = requests.get('http://dashboard.iatistandard.org/stats/current/inverted-file/provider_org.json').json(object_pairs_hook=OrderedDict)\n",
    "make_table(list(provider_org[reporting_org_ref].items()))"
   ]
  },
  {
   "cell_type": "markdown",
   "metadata": {},
   "source": [
    "## This reporting-org ref as receiver-org"
   ]
  },
  {
   "cell_type": "markdown",
   "metadata": {},
   "source": [
    "### Publishers"
   ]
  },
  {
   "cell_type": "code",
   "execution_count": 9,
   "metadata": {
    "collapsed": false
   },
   "outputs": [
    {
     "data": {
      "text/html": [
       "<table border=\"1\" cellpadding=\"3\" cellspacing=\"0\"  style=\"border:1px solid black;border-collapse:collapse;\"><tr><td>art19</td><td>1</td></tr><tr><td>camfed</td><td>10</td></tr><tr><td>mce</td><td>1</td></tr><tr><td>mck</td><td>5</td></tr><tr><td>ycare</td><td>1</td></tr></table>"
      ],
      "text/plain": [
       "<ipy_table.IpyTable at 0x105bb27b8>"
      ]
     },
     "execution_count": 9,
     "metadata": {},
     "output_type": "execute_result"
    }
   ],
   "source": [
    "receiver_org = requests.get('http://dashboard.iatistandard.org/stats/current/inverted-publisher/receiver_org.json').json(object_pairs_hook=OrderedDict)\n",
    "make_table(list(receiver_org[reporting_org_ref].items()))"
   ]
  },
  {
   "cell_type": "markdown",
   "metadata": {},
   "source": [
    "### Files"
   ]
  },
  {
   "cell_type": "code",
   "execution_count": 10,
   "metadata": {
    "collapsed": false
   },
   "outputs": [
    {
     "data": {
      "text/html": [
       "<table border=\"1\" cellpadding=\"3\" cellspacing=\"0\"  style=\"border:1px solid black;border-collapse:collapse;\"><tr><td>art19-activities</td><td>1</td></tr><tr><td>camfed-tz</td><td>9</td></tr><tr><td>camfed-zw</td><td>1</td></tr><tr><td>mce-np</td><td>1</td></tr><tr><td>mck-gb</td><td>1</td></tr><tr><td>mck-ke</td><td>1</td></tr><tr><td>mck-pk</td><td>1</td></tr><tr><td>mck-sl</td><td>2</td></tr><tr><td>ycare-activities</td><td>1</td></tr></table>"
      ],
      "text/plain": [
       "<ipy_table.IpyTable at 0x1060b80f0>"
      ]
     },
     "execution_count": 10,
     "metadata": {},
     "output_type": "execute_result"
    }
   ],
   "source": [
    "receiver_org = requests.get('http://dashboard.iatistandard.org/stats/current/inverted-file/receiver_org.json').json(object_pairs_hook=OrderedDict)\n",
    "make_table(list(receiver_org[reporting_org_ref].items()))"
   ]
  },
  {
   "cell_type": "markdown",
   "metadata": {},
   "source": [
    "# Participating Org Text"
   ]
  },
  {
   "cell_type": "markdown",
   "metadata": {},
   "source": [
    "### Text used by publishers using the correct ref"
   ]
  },
  {
   "cell_type": "code",
   "execution_count": 11,
   "metadata": {
    "collapsed": false
   },
   "outputs": [
    {
     "data": {
      "text/html": [
       "<table border=\"1\" cellpadding=\"3\" cellspacing=\"0\"  style=\"border:1px solid black;border-collapse:collapse;\"><tr><td>Publisher</td><td>Ref</td><td>Text</td></tr><tr><td>unfpa</td><td>GB-1</td><td>\n",
       "</td></tr><tr><td>abaseen</td><td>GB-1</td><td>\n",
       "&nbsp&nbsp&nbsp&nbsp&nbsp&nbsp</td></tr><tr><td>across</td><td>GB-1</td><td>\n",
       "&nbsp&nbsp&nbsp&nbsp&nbsp&nbsp</td></tr><tr><td>act4africa</td><td>GB-1</td><td>\n",
       "&nbsp&nbsp&nbsp&nbsp&nbsp&nbsp</td></tr><tr><td>addinternational</td><td>GB-1</td><td>\n",
       "&nbsp&nbsp&nbsp&nbsp&nbsp&nbsp</td></tr><tr><td>adrauk</td><td>GB-1</td><td>\n",
       "&nbsp&nbsp&nbsp&nbsp&nbsp&nbsp</td></tr><tr><td>afrikids</td><td>GB-1</td><td>\n",
       "&nbsp&nbsp&nbsp&nbsp&nbsp&nbsp</td></tr><tr><td>ageintl</td><td>GB-1</td><td>\n",
       "&nbsp&nbsp&nbsp&nbsp&nbsp&nbsp</td></tr><tr><td>aktis</td><td>GB-1</td><td>\n",
       "&nbsp&nbsp&nbsp&nbsp&nbsp&nbsp</td></tr><tr><td>alcis</td><td>GB-1</td><td>\n",
       "&nbsp&nbsp&nbsp&nbsp&nbsp&nbsp</td></tr><tr><td>amrefha</td><td>GB-1</td><td>\n",
       "&nbsp&nbsp&nbsp&nbsp&nbsp&nbsp</td></tr><tr><td>apt</td><td>GB-1</td><td>\n",
       "&nbsp&nbsp&nbsp&nbsp&nbsp&nbsp</td></tr><tr><td>art19</td><td>GB-1</td><td>\n",
       "&nbsp&nbsp&nbsp&nbsp&nbsp&nbsp</td></tr><tr><td>asi</td><td>GB-1</td><td>\n",
       "&nbsp&nbsp&nbsp&nbsp&nbsp&nbsp</td></tr><tr><td>basicneeds</td><td>GB-1</td><td>\n",
       "&nbsp&nbsp&nbsp&nbsp&nbsp&nbsp</td></tr><tr><td>bbcmediaaction</td><td>GB-1</td><td>\n",
       "&nbsp&nbsp&nbsp&nbsp&nbsp&nbsp</td></tr><tr><td>beesfordevelopment</td><td>GB-1</td><td>\n",
       "&nbsp&nbsp&nbsp&nbsp&nbsp&nbsp</td></tr><tr><td>blueventures</td><td>GB-1</td><td>\n",
       "&nbsp&nbsp&nbsp&nbsp&nbsp&nbsp</td></tr><tr><td>bond</td><td>GB-1</td><td>\n",
       "&nbsp&nbsp&nbsp&nbsp&nbsp&nbsp</td></tr><tr><td>bracintl</td><td>GB-1</td><td>\n",
       "&nbsp&nbsp&nbsp&nbsp&nbsp&nbsp</td></tr><tr><td>cal</td><td>GB-1</td><td>\n",
       "&nbsp&nbsp&nbsp&nbsp&nbsp&nbsp</td></tr><tr><td>camfed</td><td>GB-1</td><td>\n",
       "&nbsp&nbsp&nbsp&nbsp&nbsp&nbsp</td></tr><tr><td>childhopeuk</td><td>GB-1</td><td>\n",
       "&nbsp&nbsp&nbsp&nbsp&nbsp&nbsp</td></tr><tr><td>cic</td><td>GB-1</td><td>\n",
       "&nbsp&nbsp&nbsp&nbsp&nbsp&nbsp</td></tr><tr><td>coffey</td><td>GB-1</td><td>\n",
       "&nbsp&nbsp&nbsp&nbsp&nbsp&nbsp</td></tr><tr><td>concernuk</td><td>GB-1</td><td>\n",
       "&nbsp&nbsp&nbsp&nbsp&nbsp&nbsp</td></tr><tr><td>cprojects</td><td>GB-1</td><td>\n",
       "&nbsp&nbsp&nbsp&nbsp&nbsp&nbsp</td></tr><tr><td>ctc</td><td>GB-1</td><td>\n",
       "&nbsp&nbsp&nbsp&nbsp&nbsp&nbsp</td></tr><tr><td>cu</td><td>GB-1</td><td>\n",
       "&nbsp&nbsp&nbsp&nbsp&nbsp&nbsp</td></tr><tr><td>cuammtrustees</td><td>GB-1</td><td>\n",
       "&nbsp&nbsp&nbsp&nbsp&nbsp&nbsp</td></tr><tr><td>cww</td><td>GB-1</td><td>\n",
       "&nbsp&nbsp&nbsp&nbsp&nbsp&nbsp</td></tr><tr><td>cyan</td><td>GB-1</td><td>\n",
       "&nbsp&nbsp&nbsp&nbsp&nbsp&nbsp</td></tr><tr><td>dai-e</td><td>GB-1</td><td>\n",
       "&nbsp&nbsp&nbsp&nbsp&nbsp&nbsp</td></tr><tr><td>dec-uk</td><td>GB-1</td><td>\n",
       "&nbsp&nbsp&nbsp&nbsp&nbsp&nbsp</td></tr><tr><td>deccadmin</td><td>GB-1</td><td>\n",
       "&nbsp&nbsp&nbsp&nbsp&nbsp&nbsp</td></tr><tr><td>diltuk</td><td>GB-1</td><td>\n",
       "&nbsp&nbsp&nbsp&nbsp&nbsp&nbsp</td></tr><tr><td>eel</td><td>GB-1</td><td>\n",
       "&nbsp&nbsp&nbsp&nbsp&nbsp&nbsp</td></tr><tr><td>eiuk</td><td>GB-1</td><td>\n",
       "&nbsp&nbsp&nbsp&nbsp&nbsp&nbsp</td></tr><tr><td>excellent</td><td>GB-1</td><td>\n",
       "&nbsp&nbsp&nbsp&nbsp&nbsp&nbsp</td></tr><tr><td>foe-ghana</td><td>GB-1</td><td>\n",
       "&nbsp&nbsp&nbsp&nbsp&nbsp&nbsp</td></tr><tr><td>ftm-291333</td><td>GB-1</td><td>\n",
       "&nbsp&nbsp&nbsp&nbsp&nbsp&nbsp</td></tr><tr><td>fyf</td><td>GB-1</td><td>\n",
       "&nbsp&nbsp&nbsp&nbsp&nbsp&nbsp</td></tr><tr><td>gb-chc-220949</td><td>GB-1</td><td>\n",
       "&nbsp&nbsp&nbsp&nbsp&nbsp&nbsp</td></tr><tr><td>goal</td><td>GB-1</td><td>\n",
       "&nbsp&nbsp&nbsp&nbsp&nbsp&nbsp</td></tr><tr><td>handinhand</td><td>GB-1</td><td>\n",
       "&nbsp&nbsp&nbsp&nbsp&nbsp&nbsp</td></tr><tr><td>hauk</td><td>GB-1</td><td>\n",
       "&nbsp&nbsp&nbsp&nbsp&nbsp&nbsp</td></tr><tr><td>hha</td><td>GB-1</td><td>\n",
       "&nbsp&nbsp&nbsp&nbsp&nbsp&nbsp</td></tr><tr><td>hhc</td><td>GB-1</td><td>\n",
       "&nbsp&nbsp&nbsp&nbsp&nbsp&nbsp</td></tr><tr><td>hifed</td><td>GB-1</td><td>\n",
       "&nbsp&nbsp&nbsp&nbsp&nbsp&nbsp</td></tr><tr><td>hpa</td><td>GB-1</td><td>\n",
       "&nbsp&nbsp&nbsp&nbsp&nbsp&nbsp</td></tr><tr><td>hwa-zm</td><td>GB-1</td><td>\n",
       "&nbsp&nbsp&nbsp&nbsp&nbsp&nbsp</td></tr><tr><td>interburns</td><td>GB-1</td><td>\n",
       "&nbsp&nbsp&nbsp&nbsp&nbsp&nbsp</td></tr><tr><td>ip-india</td><td>GB-1</td><td>\n",
       "&nbsp&nbsp&nbsp&nbsp&nbsp&nbsp</td></tr><tr><td>ipa</td><td>GB-1</td><td>\n",
       "&nbsp&nbsp&nbsp&nbsp&nbsp&nbsp</td></tr><tr><td>irw</td><td>GB-1</td><td>\n",
       "&nbsp&nbsp&nbsp&nbsp&nbsp&nbsp</td></tr><tr><td>karuna</td><td>GB-1</td><td>\n",
       "&nbsp&nbsp&nbsp&nbsp&nbsp&nbsp</td></tr><tr><td>kpmgllp</td><td>GB-1</td><td>\n",
       "&nbsp&nbsp&nbsp&nbsp&nbsp&nbsp</td></tr><tr><td>kwaafrica</td><td>GB-1</td><td>\n",
       "&nbsp&nbsp&nbsp&nbsp&nbsp&nbsp</td></tr><tr><td>lcd_admin</td><td>GB-1</td><td>\n",
       "&nbsp&nbsp&nbsp&nbsp&nbsp&nbsp</td></tr><tr><td>learningforlife</td><td>GB-1</td><td>\n",
       "&nbsp&nbsp&nbsp&nbsp&nbsp&nbsp</td></tr><tr><td>lepra</td><td>GB-1</td><td>\n",
       "&nbsp&nbsp&nbsp&nbsp&nbsp&nbsp</td></tr><tr><td>livelyminds</td><td>GB-1</td><td>\n",
       "&nbsp&nbsp&nbsp&nbsp&nbsp&nbsp</td></tr><tr><td>livingearth12</td><td>GB-1</td><td>\n",
       "&nbsp&nbsp&nbsp&nbsp&nbsp&nbsp</td></tr><tr><td>mce</td><td>GB-1</td><td>\n",
       "&nbsp&nbsp&nbsp&nbsp&nbsp&nbsp</td></tr><tr><td>mck</td><td>GB-1</td><td>\n",
       "&nbsp&nbsp&nbsp&nbsp&nbsp&nbsp</td></tr><tr><td>mie-1134415</td><td>GB-1</td><td>\n",
       "&nbsp&nbsp&nbsp&nbsp&nbsp&nbsp</td></tr><tr><td>motivation</td><td>GB-1</td><td>\n",
       "&nbsp&nbsp&nbsp&nbsp&nbsp&nbsp</td></tr><tr><td>mrc-sierra-leone</td><td>GB-1</td><td>\n",
       "&nbsp&nbsp&nbsp&nbsp&nbsp&nbsp</td></tr><tr><td>mstamp</td><td>GB-1</td><td>\n",
       "&nbsp&nbsp&nbsp&nbsp&nbsp&nbsp</td></tr><tr><td>opportunity-international-uk</td><td>GB-1</td><td>\n",
       "&nbsp&nbsp&nbsp&nbsp&nbsp&nbsp</td></tr><tr><td>oxfamindia</td><td>GB-1</td><td>\n",
       "&nbsp&nbsp&nbsp&nbsp&nbsp&nbsp</td></tr><tr><td>phase_worldwide</td><td>GB-1</td><td>\n",
       "&nbsp&nbsp&nbsp&nbsp&nbsp&nbsp</td></tr><tr><td>phe</td><td>GB-1</td><td>\n",
       "&nbsp&nbsp&nbsp&nbsp&nbsp&nbsp</td></tr><tr><td>pidg</td><td>GB-1</td><td>\n",
       "&nbsp&nbsp&nbsp&nbsp&nbsp&nbsp</td></tr><tr><td>pragya</td><td>GB-1</td><td>\n",
       "&nbsp&nbsp&nbsp&nbsp&nbsp&nbsp</td></tr><tr><td>pri</td><td>GB-1</td><td>\n",
       "&nbsp&nbsp&nbsp&nbsp&nbsp&nbsp</td></tr><tr><td>pumpaid</td><td>GB-1</td><td>\n",
       "&nbsp&nbsp&nbsp&nbsp&nbsp&nbsp</td></tr><tr><td>rc</td><td>GB-1</td><td>\n",
       "&nbsp&nbsp&nbsp&nbsp&nbsp&nbsp</td></tr><tr><td>restless</td><td>GB-1</td><td>\n",
       "&nbsp&nbsp&nbsp&nbsp&nbsp&nbsp</td></tr><tr><td>rfpap</td><td>GB-1</td><td>\n",
       "&nbsp&nbsp&nbsp&nbsp&nbsp&nbsp</td></tr><tr><td>sciaf</td><td>GB-1</td><td>\n",
       "&nbsp&nbsp&nbsp&nbsp&nbsp&nbsp</td></tr><tr><td>sct</td><td>GB-1</td><td>\n",
       "&nbsp&nbsp&nbsp&nbsp&nbsp&nbsp</td></tr><tr><td>sendacow</td><td>GB-1</td><td>\n",
       "&nbsp&nbsp&nbsp&nbsp&nbsp&nbsp</td></tr><tr><td>signal</td><td>GB-1</td><td>\n",
       "&nbsp&nbsp&nbsp&nbsp&nbsp&nbsp</td></tr><tr><td>spuk</td><td>GB-1</td><td>\n",
       "&nbsp&nbsp&nbsp&nbsp&nbsp&nbsp</td></tr><tr><td>surf</td><td>GB-1</td><td>\n",
       "&nbsp&nbsp&nbsp&nbsp&nbsp&nbsp</td></tr><tr><td>targettb</td><td>GB-1</td><td>\n",
       "&nbsp&nbsp&nbsp&nbsp&nbsp&nbsp</td></tr><tr><td>tbalert</td><td>GB-1</td><td>\n",
       "&nbsp&nbsp&nbsp&nbsp&nbsp&nbsp</td></tr><tr><td>tearfund</td><td>GB-1</td><td>\n",
       "&nbsp&nbsp&nbsp&nbsp&nbsp&nbsp</td></tr><tr><td>tib</td><td>GB-1</td><td>\n",
       "&nbsp&nbsp&nbsp&nbsp&nbsp&nbsp</td></tr><tr><td>tlmew</td><td>GB-1</td><td>\n",
       "&nbsp&nbsp&nbsp&nbsp&nbsp&nbsp</td></tr><tr><td>traidcraft</td><td>GB-1</td><td>\n",
       "&nbsp&nbsp&nbsp&nbsp&nbsp&nbsp</td></tr><tr><td>transparency-international</td><td>GB-1</td><td>\n",
       "&nbsp&nbsp&nbsp&nbsp&nbsp&nbsp</td></tr><tr><td>troc</td><td>GB-1</td><td>\n",
       "&nbsp&nbsp&nbsp&nbsp&nbsp&nbsp</td></tr><tr><td>twin-iati</td><td>GB-1</td><td>\n",
       "&nbsp&nbsp&nbsp&nbsp&nbsp&nbsp</td></tr><tr><td>umn</td><td>GB-1</td><td>\n",
       "&nbsp&nbsp&nbsp&nbsp&nbsp&nbsp</td></tr><tr><td>uq</td><td>GB-1</td><td>\n",
       "&nbsp&nbsp&nbsp&nbsp&nbsp&nbsp</td></tr><tr><td>viva</td><td>GB-1</td><td>\n",
       "&nbsp&nbsp&nbsp&nbsp&nbsp&nbsp</td></tr><tr><td>waterworks</td><td>GB-1</td><td>\n",
       "&nbsp&nbsp&nbsp&nbsp&nbsp&nbsp</td></tr><tr><td>wccuk</td><td>GB-1</td><td>\n",
       "&nbsp&nbsp&nbsp&nbsp&nbsp&nbsp</td></tr><tr><td>wcf</td><td>GB-1</td><td>\n",
       "&nbsp&nbsp&nbsp&nbsp&nbsp&nbsp</td></tr><tr><td>welbodipartnership</td><td>GB-1</td><td>\n",
       "&nbsp&nbsp&nbsp&nbsp&nbsp&nbsp</td></tr><tr><td>wellfound</td><td>GB-1</td><td>\n",
       "&nbsp&nbsp&nbsp&nbsp&nbsp&nbsp</td></tr><tr><td>wfwiuk</td><td>GB-1</td><td>\n",
       "&nbsp&nbsp&nbsp&nbsp&nbsp&nbsp</td></tr><tr><td>wowni</td><td>GB-1</td><td>\n",
       "&nbsp&nbsp&nbsp&nbsp&nbsp&nbsp</td></tr><tr><td>wvuk</td><td>GB-1</td><td>\n",
       "&nbsp&nbsp&nbsp&nbsp&nbsp&nbsp</td></tr><tr><td>wygi</td><td>GB-1</td><td>\n",
       "&nbsp&nbsp&nbsp&nbsp&nbsp&nbsp</td></tr><tr><td>ycare</td><td>GB-1</td><td>\n",
       "&nbsp&nbsp&nbsp&nbsp&nbsp&nbsp</td></tr><tr><td>zet</td><td>GB-1</td><td>\n",
       "&nbsp&nbsp&nbsp&nbsp&nbsp&nbsp</td></tr><tr><td>zoa</td><td>GB-1</td><td>\n",
       "&nbsp&nbsp&nbsp&nbsp&nbsp&nbsp</td></tr><tr><td>aai</td><td>GB-1</td><td>ActionAid&nbspMyanmar</td></tr><tr><td>aai</td><td>GB-1</td><td>DFID</td></tr><tr><td>aauk</td><td>GB-1</td><td>DFID</td></tr><tr><td>adrasom</td><td>GB-1</td><td>DFID</td></tr><tr><td>allwecan</td><td>GB-1</td><td>DFID</td></tr><tr><td>asf</td><td>GB-1</td><td>DFID</td></tr><tr><td>buildafrica</td><td>GB-1</td><td>DFID</td></tr><tr><td>caid</td><td>GB-1</td><td>DFID</td></tr><tr><td>cal</td><td>GB-1</td><td>DFID</td></tr><tr><td>canoncollinstrust</td><td>GB-1</td><td>DFID</td></tr><tr><td>cfbt_kenya</td><td>GB-1</td><td>DFID</td></tr><tr><td>coda</td><td>GB-1</td><td>DFID</td></tr><tr><td>foe_ewni</td><td>GB-1</td><td>DFID</td></tr><tr><td>gecfundmanagerpwc</td><td>GB-1</td><td>DFID</td></tr><tr><td>jeevika_trust</td><td>GB-1</td><td>DFID</td></tr><tr><td>malariaconsortium</td><td>GB-1</td><td>DFID</td></tr><tr><td>mia_india</td><td>GB-1</td><td>DFID</td></tr><tr><td>peopleinaid</td><td>GB-1</td><td>DFID</td></tr><tr><td>plan_uk</td><td>GB-1</td><td>DFID</td></tr><tr><td>ri-uk</td><td>GB-1</td><td>DFID</td></tr><tr><td>rojiroti</td><td>GB-1</td><td>DFID</td></tr><tr><td>sense_international</td><td>GB-1</td><td>DFID</td></tr><tr><td>ss-org</td><td>GB-1</td><td>DFID</td></tr><tr><td>tao-03473165</td><td>GB-1</td><td>DFID</td></tr><tr><td>tccec</td><td>GB-1</td><td>DFID</td></tr><tr><td>wsup</td><td>GB-1</td><td>DFID</td></tr><tr><td>wvuk</td><td>GB-1</td><td>DFID</td></tr><tr><td>restless</td><td>GB-1</td><td>DFID&nbsp-&nbspInternational&nbspCitizenship&nbspService</td></tr><tr><td>ss-org</td><td>GB-1</td><td>DFID&nbspAid&nbspMatch&nbsp</td></tr><tr><td>cal</td><td>GB-1</td><td>Department&nbspfor&nbspInternational&nbspDevelopment</td></tr><tr><td>emms</td><td>GB-1</td><td>Department&nbspfor&nbspInternational&nbspDevelopment</td></tr><tr><td>evc</td><td>GB-1</td><td>Department&nbspfor&nbspInternational&nbspDevelopment</td></tr><tr><td>irc_uk</td><td>GB-1</td><td>Department&nbspfor&nbspInternational&nbspDevelopment</td></tr><tr><td>kpmgea</td><td>GB-1</td><td>Department&nbspfor&nbspInternational&nbspDevelopment</td></tr><tr><td>oxfamgb</td><td>GB-1</td><td>Department&nbspfor&nbspInternational&nbspDevelopment</td></tr><tr><td>palladium</td><td>GB-1</td><td>Department&nbspfor&nbspInternational&nbspDevelopment</td></tr><tr><td>saferworld</td><td>GB-1</td><td>Department&nbspfor&nbspInternational&nbspDevelopment</td></tr><tr><td>tripleline_crownagents</td><td>GB-1</td><td>Department&nbspfor&nbspInternational&nbspDevelopment</td></tr><tr><td>vfan</td><td>GB-1</td><td>Department&nbspfor&nbspInternational&nbspDevelopment</td></tr><tr><td>waronwant</td><td>GB-1</td><td>Department&nbspfor&nbspInternational&nbspDevelopment</td></tr><tr><td>aai</td><td>GB-1</td><td>Department&nbspfor&nbspInternational&nbspDevelopment&nbsp(DFID)</td></tr><tr><td>rem</td><td>GB-1</td><td>Department&nbspfor&nbspInternational&nbspDevelopment&nbsp(DFID)</td></tr><tr><td>scuk</td><td>GB-1</td><td>Department&nbspfor&nbspInternational&nbspDevelopment&nbsp(DfID)</td></tr><tr><td>waronwant</td><td>GB-1</td><td>Department&nbspfor&nbspInternational&nbspDevelopment&nbsp(DfID)</td></tr><tr><td>saferworld</td><td>GB-1</td><td>Department&nbspfor&nbspInternational&nbspDevelopment,&nbspUnited&nbspKingdom</td></tr><tr><td>saferworld</td><td>GB-1</td><td>Department&nbspfor&nbspInternational&nbspDevelopment,&nbspUnited&nbspKingdom&nbsp</td></tr><tr><td>aai</td><td>GB-1</td><td>DfID</td></tr><tr><td>pont</td><td>GB-1</td><td>DfID</td></tr><tr><td>vso</td><td>GB-1</td><td>DfID</td></tr><tr><td>addinternational</td><td>GB-1</td><td>DfID&nbsp(UK&nbspAid)</td></tr><tr><td>crs_vyf</td><td>GB-1</td><td>DfiD</td></tr><tr><td>dipr</td><td>GB-1</td><td>UK&nbspDepartment&nbspfor&nbspInternational&nbspDevelopment</td></tr><tr><td>saferworld</td><td>GB-1</td><td>UK&nbspDepartment&nbspfor&nbspInternational&nbspDevelopment&nbsp</td></tr><tr><td>wacc-uk</td><td>GB-1</td><td>UK&nbspDepartment&nbspof&nbspInternational&nbspDevelopment</td></tr><tr><td>htspe</td><td>GB-1</td><td>UK&nbspGovernment</td></tr><tr><td>wateraid</td><td>GB-1</td><td>UK&nbspaid&nbspfrom&nbspthe&nbspDepartment&nbspfor&nbspInternational&nbspDevelopment</td></tr><tr><td>idlo</td><td>GB-1</td><td>United&nbspKingdom&nbspDepartment&nbspfor&nbspInternational&nbspDevelopment&nbsp(DFID)</td></tr><tr><td>caid</td><td>GB-1</td><td>null</td></tr><tr><td>ciuk</td><td>GB-1</td><td>null</td></tr><tr><td>hpa</td><td>GB-1</td><td>null</td></tr><tr><td>msi</td><td>GB-1</td><td>null</td></tr></table>"
      ],
      "text/plain": [
       "<ipy_table.IpyTable at 0x104be12b0>"
      ]
     },
     "execution_count": 11,
     "metadata": {},
     "output_type": "execute_result"
    }
   ],
   "source": [
    "participating_orgs_text = requests.get('http://dashboard.iatistandard.org/stats/current/inverted-publisher/participating_orgs_text.json').json(object_pairs_hook=OrderedDict)\n",
    "make_table([['Publisher', 'Ref', 'Text']] + [[ publisher, reporting_org_ref, text ] for text, publishers in  participating_orgs_text[reporting_org_ref].items() for publisher in publishers ])"
   ]
  },
  {
   "cell_type": "markdown",
   "metadata": {},
   "source": [
    "## ToDo\n",
    "\n",
    "We also need to search for:\n",
    "\n",
    "* Text used in transactions - provider-org AND receiver-org \n",
    "\n",
    "This will help detect errors such as that in ycare-activities where GB-1 is used as the reference for a reciever org, with the narrative text 'YCI'. "
   ]
  },
  {
   "cell_type": "markdown",
   "metadata": {},
   "source": [
    "### Search for relevant text across all refs"
   ]
  },
  {
   "cell_type": "code",
   "execution_count": 13,
   "metadata": {
    "collapsed": false
   },
   "outputs": [
    {
     "data": {
      "text/html": [
       "<table border=\"1\" cellpadding=\"3\" cellspacing=\"0\"  style=\"border:1px solid black;border-collapse:collapse;\"><tr><td>Publisher</td><td>Ref</td><td>Text</td></tr><tr><td>wateraid</td><td></td><td>DFID&nbsp-&nbspSHARE</td></tr><tr><td>danida</td><td></td><td>Department&nbspfor&nbspInternational&nbspDevelopment</td></tr><tr><td>wateraid</td><td></td><td>UK&nbspaid&nbspfrom&nbspthe&nbspDepartment&nbspfor&nbspInternational&nbspDevelopment&nbsp-&nbspTo&nbspBe&nbspA&nbspGirl</td></tr><tr><td>wvuk</td><td>&nbspGB-1</td><td>DFID</td></tr><tr><td>dapp</td><td>DFID</td><td>Department&nbspFor&nbspInternational&nbspDevelopment&nbsp(DFID)</td></tr><tr><td>allwecan</td><td>DFID&nbspGB-1</td><td>DFID</td></tr><tr><td>wvuk</td><td>DFID&nbspGB-1</td><td>DFID</td></tr><tr><td>mce</td><td>GB-01</td><td>DFID</td></tr><tr><td>aai</td><td>GB-1</td><td>DFID</td></tr><tr><td>aauk</td><td>GB-1</td><td>DFID</td></tr><tr><td>adrasom</td><td>GB-1</td><td>DFID</td></tr><tr><td>allwecan</td><td>GB-1</td><td>DFID</td></tr><tr><td>asf</td><td>GB-1</td><td>DFID</td></tr><tr><td>buildafrica</td><td>GB-1</td><td>DFID</td></tr><tr><td>caid</td><td>GB-1</td><td>DFID</td></tr><tr><td>cal</td><td>GB-1</td><td>DFID</td></tr><tr><td>canoncollinstrust</td><td>GB-1</td><td>DFID</td></tr><tr><td>cfbt_kenya</td><td>GB-1</td><td>DFID</td></tr><tr><td>coda</td><td>GB-1</td><td>DFID</td></tr><tr><td>foe_ewni</td><td>GB-1</td><td>DFID</td></tr><tr><td>gecfundmanagerpwc</td><td>GB-1</td><td>DFID</td></tr><tr><td>jeevika_trust</td><td>GB-1</td><td>DFID</td></tr><tr><td>malariaconsortium</td><td>GB-1</td><td>DFID</td></tr><tr><td>mia_india</td><td>GB-1</td><td>DFID</td></tr><tr><td>peopleinaid</td><td>GB-1</td><td>DFID</td></tr><tr><td>plan_uk</td><td>GB-1</td><td>DFID</td></tr><tr><td>ri-uk</td><td>GB-1</td><td>DFID</td></tr><tr><td>rojiroti</td><td>GB-1</td><td>DFID</td></tr><tr><td>sense_international</td><td>GB-1</td><td>DFID</td></tr><tr><td>ss-org</td><td>GB-1</td><td>DFID</td></tr><tr><td>tao-03473165</td><td>GB-1</td><td>DFID</td></tr><tr><td>tccec</td><td>GB-1</td><td>DFID</td></tr><tr><td>wsup</td><td>GB-1</td><td>DFID</td></tr><tr><td>wvuk</td><td>GB-1</td><td>DFID</td></tr><tr><td>restless</td><td>GB-1</td><td>DFID&nbsp-&nbspInternational&nbspCitizenship&nbspService</td></tr><tr><td>ss-org</td><td>GB-1</td><td>DFID&nbspAid&nbspMatch&nbsp</td></tr><tr><td>cal</td><td>GB-1</td><td>Department&nbspfor&nbspInternational&nbspDevelopment</td></tr><tr><td>emms</td><td>GB-1</td><td>Department&nbspfor&nbspInternational&nbspDevelopment</td></tr><tr><td>evc</td><td>GB-1</td><td>Department&nbspfor&nbspInternational&nbspDevelopment</td></tr><tr><td>irc_uk</td><td>GB-1</td><td>Department&nbspfor&nbspInternational&nbspDevelopment</td></tr><tr><td>kpmgea</td><td>GB-1</td><td>Department&nbspfor&nbspInternational&nbspDevelopment</td></tr><tr><td>oxfamgb</td><td>GB-1</td><td>Department&nbspfor&nbspInternational&nbspDevelopment</td></tr><tr><td>palladium</td><td>GB-1</td><td>Department&nbspfor&nbspInternational&nbspDevelopment</td></tr><tr><td>saferworld</td><td>GB-1</td><td>Department&nbspfor&nbspInternational&nbspDevelopment</td></tr><tr><td>tripleline_crownagents</td><td>GB-1</td><td>Department&nbspfor&nbspInternational&nbspDevelopment</td></tr><tr><td>vfan</td><td>GB-1</td><td>Department&nbspfor&nbspInternational&nbspDevelopment</td></tr><tr><td>waronwant</td><td>GB-1</td><td>Department&nbspfor&nbspInternational&nbspDevelopment</td></tr><tr><td>aai</td><td>GB-1</td><td>Department&nbspfor&nbspInternational&nbspDevelopment&nbsp(DFID)</td></tr><tr><td>rem</td><td>GB-1</td><td>Department&nbspfor&nbspInternational&nbspDevelopment&nbsp(DFID)</td></tr><tr><td>scuk</td><td>GB-1</td><td>Department&nbspfor&nbspInternational&nbspDevelopment&nbsp(DfID)</td></tr><tr><td>waronwant</td><td>GB-1</td><td>Department&nbspfor&nbspInternational&nbspDevelopment&nbsp(DfID)</td></tr><tr><td>saferworld</td><td>GB-1</td><td>Department&nbspfor&nbspInternational&nbspDevelopment,&nbspUnited&nbspKingdom</td></tr><tr><td>saferworld</td><td>GB-1</td><td>Department&nbspfor&nbspInternational&nbspDevelopment,&nbspUnited&nbspKingdom&nbsp</td></tr><tr><td>aai</td><td>GB-1</td><td>DfID</td></tr><tr><td>pont</td><td>GB-1</td><td>DfID</td></tr><tr><td>vso</td><td>GB-1</td><td>DfID</td></tr><tr><td>addinternational</td><td>GB-1</td><td>DfID&nbsp(UK&nbspAid)</td></tr><tr><td>crs_vyf</td><td>GB-1</td><td>DfiD</td></tr><tr><td>dipr</td><td>GB-1</td><td>UK&nbspDepartment&nbspfor&nbspInternational&nbspDevelopment</td></tr><tr><td>saferworld</td><td>GB-1</td><td>UK&nbspDepartment&nbspfor&nbspInternational&nbspDevelopment&nbsp</td></tr><tr><td>wateraid</td><td>GB-1</td><td>UK&nbspaid&nbspfrom&nbspthe&nbspDepartment&nbspfor&nbspInternational&nbspDevelopment</td></tr><tr><td>idlo</td><td>GB-1</td><td>United&nbspKingdom&nbspDepartment&nbspfor&nbspInternational&nbspDevelopment&nbsp(DFID)</td></tr><tr><td>power</td><td>GB-1-201242</td><td>DFID</td></tr><tr><td>addinternational</td><td>GB-1-202561</td><td>DfID&nbsp-&nbspUK&nbspAid</td></tr><tr><td>vso</td><td>GB-COH-3580586-GEC</td><td>DfID</td></tr><tr><td>aai</td><td>GB-GOV-1</td><td>DFID</td></tr><tr><td>cdc</td><td>GB-GOV-1</td><td>DFID</td></tr><tr><td>aai</td><td>GB-GOV-1</td><td>DfID</td></tr><tr><td>aiddata</td><td>null</td><td>\n",
       "\t\t\tDepartment&nbspfor&nbspInternational&nbspDevelopment\n",
       "\t\t</td></tr><tr><td>aiddata</td><td>null</td><td>\n",
       "\t\t\tDepartment&nbspfor&nbspInternational&nbspDevelopment&nbsp(DFID)\n",
       "\t\t</td></tr><tr><td>aiddata</td><td>null</td><td>\n",
       "\t\t\tUnited&nbspKingdom&nbsp(DFID)\n",
       "\t\t</td></tr><tr><td>aai</td><td>null</td><td>DFID</td></tr><tr><td>ffi_publisher</td><td>null</td><td>DFID</td></tr><tr><td>gain</td><td>null</td><td>DFID</td></tr><tr><td>gpe</td><td>null</td><td>DFID</td></tr><tr><td>icn</td><td>null</td><td>DFID</td></tr><tr><td>iww_publish</td><td>null</td><td>DFID</td></tr><tr><td>m2m_sa</td><td>null</td><td>DFID</td></tr><tr><td>pa</td><td>null</td><td>DFID</td></tr><tr><td>sossaheluk</td><td>null</td><td>DFID</td></tr><tr><td>aai</td><td>null</td><td>DFID&nbspTHROUGH&nbspAAUK</td></tr><tr><td>aai</td><td>null</td><td>DFID,&nbspAAU&nbspAND&nbsp&nbspMIFUMI</td></tr><tr><td>aai</td><td>null</td><td>DFID-NEPAL</td></tr><tr><td>aai</td><td>null</td><td>DFID-throught&nbspAAUK</td></tr><tr><td>unops</td><td>null</td><td>Department&nbspFor&nbspInternational&nbspDevelopment&nbsp(DFID)</td></tr><tr><td>ke-ngc-3372</td><td>null</td><td>Department&nbspfor&nbspInternational&nbspDevelopment</td></tr><tr><td>unhabitat</td><td>null</td><td>Department&nbspfor&nbspInternational&nbspDevelopment</td></tr><tr><td>cordaid</td><td>null</td><td>Department&nbspfor&nbspInternational&nbspDevelopment&nbsp&nbsp(DFID)</td></tr><tr><td>scuk</td><td>null</td><td>Department&nbspfor&nbspInternational&nbspDevelopment&nbsp(DfID)</td></tr><tr><td>aasaman</td><td>null</td><td>DfID</td></tr><tr><td>alfalit</td><td>null</td><td>DfID</td></tr><tr><td>anda</td><td>null</td><td>DfID</td></tr><tr><td>gan</td><td>null</td><td>DfID</td></tr><tr><td>magariro</td><td>null</td><td>DfID</td></tr><tr><td>vso</td><td>null</td><td>DfID</td></tr><tr><td>addinternational</td><td>null</td><td>DfID&nbsp-&nbspUK&nbspAid</td></tr><tr><td>hsa</td><td>null</td><td>UK&nbspDepartment&nbspfor&nbspInternational&nbspDevelopment</td></tr><tr><td>ippf</td><td>null</td><td>UK&nbspDepartment&nbspfor&nbspInternational&nbspDevelopment\r\n",
       "</td></tr><tr><td>aai</td><td>null</td><td>actionaid&nbspPakistan,&nbspactionaid&nbspPakistan/UK,&nbspDFID</td></tr><tr><td>be-dgd</td><td>null</td><td>uk&nbspDepartment&nbspfor&nbspInternational&nbspDevelopment&nbsp(DFID)</td></tr></table>"
      ],
      "text/plain": [
       "<ipy_table.IpyTable at 0x105bad400>"
      ]
     },
     "execution_count": 13,
     "metadata": {},
     "output_type": "execute_result"
    }
   ],
   "source": [
    "table = [ ['Publisher', 'Ref', 'Text'] ]\n",
    "for ref, text_dict in participating_orgs_text.items():\n",
    "    for text, publishers in text_dict.items():\n",
    "        tl = text.lower()\n",
    "        if ('dfid' in tl or 'department for international development' in tl):\n",
    "            for publisher in publishers:\n",
    "                table.append([publisher, ref, text])\n",
    "make_table(table)"
   ]
  },
  {
   "cell_type": "markdown",
   "metadata": {},
   "source": [
    "## ToDo\n",
    "\n",
    "* When you see GB-1 in provider-org, give me the activty id\n",
    "\n",
    "(May require a BaseX of the data)"
   ]
  }
 ],
 "metadata": {
  "kernelspec": {
   "display_name": "Python 3",
   "language": "python",
   "name": "python3"
  },
  "language_info": {
   "codemirror_mode": {
    "name": "ipython",
    "version": 3
   },
   "file_extension": ".py",
   "mimetype": "text/x-python",
   "name": "python",
   "nbconvert_exporter": "python",
   "pygments_lexer": "ipython3",
   "version": "3.5.1"
  }
 },
 "nbformat": 4,
 "nbformat_minor": 0
}
