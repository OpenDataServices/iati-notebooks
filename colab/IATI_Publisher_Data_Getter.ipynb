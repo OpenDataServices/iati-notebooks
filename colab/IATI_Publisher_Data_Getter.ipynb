{
  "nbformat": 4,
  "nbformat_minor": 0,
  "metadata": {
    "colab": {
      "name": "IATI Publisher Data Getter (Ben 3.0 dev)",
      "provenance": [],
      "collapsed_sections": [
        "5VVGUhui8bDV",
        "t0SLL1woSyoP",
        "xyGpqRc3cBfQ",
        "lV9Ub3BjS2xL",
        "JeT5ud4PB9oF"
      ],
      "toc_visible": true
    },
    "kernelspec": {
      "name": "python3",
      "display_name": "Python 3"
    }
  },
  "cells": [
    {
      "cell_type": "markdown",
      "metadata": {
        "id": "y4RJqtbd8E7k",
        "colab_type": "text"
      },
      "source": [
        "# IATI Publisher Data Getter\n"
      ]
    },
    {
      "cell_type": "markdown",
      "metadata": {
        "id": "z3rzDU84VPur",
        "colab_type": "text"
      },
      "source": [
        "| Version | Date | Description |\n",
        "|-|-|-|\n",
        "| 1.0 | 2019-09-23 | Initial run, investigating document link and related activity schema validation errors |\n",
        "| 1.1 | 2019-09-23 | Updating the ad-hoc analysis section for clarity, expanding ruleset validation presentation |\n",
        "| 2.0 | 2019-10-07 | Added non-current filter following PWYF rules, added codelist outputs to the ruleset evaluation, and added an exported .xslx file for ruleset evaluation sheets. |\n",
        "| 2.1 | 2019-11-27 | (Ben W) Use lxml's huge_tree param to support bigger files |\n",
        "|3.0-dev| 2019-12-X | (Ben W) Add file upload option, split current_dict into a function so we can test it in another notebook, and run CoVE validation on current activities only.\n",
        "|||"
      ]
    },
    {
      "cell_type": "markdown",
      "metadata": {
        "id": "aXq55yKijjjB",
        "colab_type": "text"
      },
      "source": [
        "Copyright (C) 2019 Open Data Services Co-operative Limited\n",
        "\n",
        "This program is free software: you can redistribute it and/or modify\n",
        "it under the terms of the GNU Affero General Public License as\n",
        "published by the Free Software Foundation, either version 3 of the\n",
        "License, or (at your option) any later version.\n",
        "\n",
        "This program is distributed in the hope that it will be useful,\n",
        "but WITHOUT ANY WARRANTY; without even the implied warranty of\n",
        "MERCHANTABILITY or FITNESS FOR A PARTICULAR PURPOSE.  See the\n",
        "GNU Affero General Public License for more details.\n",
        "\n",
        "You should have received a copy of the GNU Affero General Public License\n",
        "along with this program.  If not, see <https://www.gnu.org/licenses/>.\n"
      ]
    },
    {
      "cell_type": "markdown",
      "metadata": {
        "id": "lB2yOyiG8RBY",
        "colab_type": "text"
      },
      "source": [
        "## Imports, Downloading, Merging\n"
      ]
    },
    {
      "cell_type": "markdown",
      "metadata": {
        "id": "oFvi3YUssj6V",
        "colab_type": "text"
      },
      "source": [
        "### Imports"
      ]
    },
    {
      "cell_type": "code",
      "metadata": {
        "id": "NDWG7Opb44L9",
        "colab_type": "code",
        "outputId": "827dba74-16fe-4203-9703-b187246b1895",
        "colab": {
          "base_uri": "https://localhost:8080/",
          "height": 35
        }
      },
      "source": [
        "! pip install XlsxWriter"
      ],
      "execution_count": 1,
      "outputs": [
        {
          "output_type": "stream",
          "text": [
            "Requirement already satisfied: XlsxWriter in /usr/local/lib/python3.6/dist-packages (1.2.6)\n"
          ],
          "name": "stdout"
        }
      ]
    },
    {
      "cell_type": "code",
      "metadata": {
        "id": "YTluluXyiQEI",
        "colab_type": "code",
        "colab": {}
      },
      "source": [
        "import pandas as pd\n",
        "import requests as rq\n",
        "import lxml.etree as ET\n",
        "import json\n",
        "import shutil"
      ],
      "execution_count": 0,
      "outputs": []
    },
    {
      "cell_type": "markdown",
      "metadata": {
        "id": "EnZFK8RT68rR",
        "colab_type": "text"
      },
      "source": [
        "### Setup"
      ]
    },
    {
      "cell_type": "code",
      "metadata": {
        "id": "hqEytTRH6_Fg",
        "colab_type": "code",
        "colab": {}
      },
      "source": [
        "# Warning huge_tree disables security restrictions, so should only be used on trusted XML files\n",
        "parser = ET.XMLParser(huge_tree=True)\n",
        "\n",
        "#define comment removal method\n",
        "def remove_comments(etree):\n",
        "  \n",
        "  comments = etree.xpath('//comment()')\n",
        "\n",
        "  for c in comments:\n",
        "      p = c.getparent()\n",
        "      p.remove(c)\n",
        "\n",
        "  return etree"
      ],
      "execution_count": 0,
      "outputs": []
    },
    {
      "cell_type": "markdown",
      "metadata": {
        "id": "w4VMlH1P4e9G",
        "colab_type": "text"
      },
      "source": [
        "### Download or Upload"
      ]
    },
    {
      "cell_type": "code",
      "metadata": {
        "id": "ub2FHCMxhUV-",
        "colab_type": "code",
        "cellView": "both",
        "colab": {}
      },
      "source": [
        "data_mode = \"Download\" #@param [\"Download\", \"Upload\"]"
      ],
      "execution_count": 0,
      "outputs": []
    },
    {
      "cell_type": "markdown",
      "metadata": {
        "id": "8qKBNcBktLwR",
        "colab_type": "text"
      },
      "source": [
        "#### Download"
      ]
    },
    {
      "cell_type": "markdown",
      "metadata": {
        "id": "E-LI0goTzw-u",
        "colab_type": "text"
      },
      "source": [
        "Input the IATI Registry ID of a given IATI Publisher. \n",
        "\n",
        "Set `current_only` to filter the combined IATI to consider only activities which are 'current' according to the [PWYF ATI Methodology](https://github.com/pwyf/latest-index-indicator-definitions/issues/1).\n",
        "\n",
        "Exceptions can be added as an array of dataset_id strings such as this:\n",
        "\n",
        "```json\n",
        "exceptions: [\"dataset1\", \"dataset2, \"...\"]\n",
        "```\n",
        "\n",
        "Currently only Activity files are supported."
      ]
    },
    {
      "cell_type": "code",
      "metadata": {
        "id": "oItTiael2tv4",
        "colab_type": "code",
        "cellView": "form",
        "colab": {}
      },
      "source": [
        "if data_mode == \"Download\":\n",
        "  registry_id = \"dipr\" #@param {type:\"string\"}\n",
        "  filetype = \"Activities\" #@param [\"Activities\", \"Organisations\"]\n",
        "  current_only = True #@param {type:\"boolean\"}\n",
        "  exceptions = []\n",
        "  exceptions =  []#@param {type:\"raw\"}"
      ],
      "execution_count": 0,
      "outputs": []
    },
    {
      "cell_type": "code",
      "metadata": {
        "id": "pgb4or9hha5E",
        "colab_type": "code",
        "colab": {}
      },
      "source": [
        "if data_mode == \"Download\":\n",
        "  datasets = pd.read_csv(\"https://iatiregistry.org/csv/download/\"+registry_id)"
      ],
      "execution_count": 0,
      "outputs": []
    },
    {
      "cell_type": "code",
      "metadata": {
        "id": "qG8l9uyzjigQ",
        "colab_type": "code",
        "colab": {
          "base_uri": "https://localhost:8080/",
          "height": 35
        },
        "outputId": "a3369971-9234-4580-c2af-79fec7ecafa3"
      },
      "source": [
        "if data_mode == \"Download\":\n",
        "  # remove unwanted datasets\n",
        "\n",
        "  if filetype == \"Activities\":\n",
        "    datasets = datasets[datasets['file-type'] != 'organisation']\n",
        "  else: raise Exception('Currently, this notebook only supports IATI Activities, though could be easily modified to support Organisations')\n",
        "\n",
        "  datasets = datasets[~datasets['registry-file-id'].isin(exceptions)]\n",
        "  datasets = datasets.reset_index()\n",
        "\n",
        "  print(\"Removed unwanted activities and setup comment-removal method\")"
      ],
      "execution_count": 7,
      "outputs": [
        {
          "output_type": "stream",
          "text": [
            "Removed unwanted activities and setup comment-removal method\n"
          ],
          "name": "stdout"
        }
      ]
    },
    {
      "cell_type": "code",
      "metadata": {
        "id": "ifv7PR2eovIT",
        "colab_type": "code",
        "colab": {
          "base_uri": "https://localhost:8080/",
          "height": 143
        },
        "outputId": "3c227ba4-86ac-471c-9599-f2f06376d00c"
      },
      "source": [
        "if data_mode == \"Download\":\n",
        "  print(\"\\nCombining {} IATI files \\n\".format(len(datasets['source-url'])))\n",
        "\n",
        "  # Start with the first file, with comments removed\n",
        "  big_iati = remove_comments(ET.fromstring(rq.get(datasets['source-url'][0]).content, parser=parser))\n",
        "\n",
        "  # Start a dictionary to keep track of the additions\n",
        "  merge_log = {datasets['source-url'][0]: len(big_iati.getchildren())}\n",
        "\n",
        "  # Iterate through the 2nd through last file and\n",
        "  # insert their activtities to into the first\n",
        "  # and update the dictionary\n",
        "  for url in datasets['source-url'][1:]:\n",
        "      data = remove_comments(ET.fromstring(rq.get(url).content))\n",
        "      merge_log[url] = len(data.getchildren())\n",
        "      big_iati.extend(data.getchildren())\n",
        "\n",
        "  # Print a small report on the merging\n",
        "  print(\"Files Merged: \")\n",
        "  for file, activity_count in merge_log.items():\n",
        "      print(\"|-> {} activities from {}\".format(activity_count, file))\n",
        "  print(\"|--> {} in total\".format(len(big_iati.getchildren())))\n",
        "\n",
        "  with open(\"combined.xml\", \"wb+\") as out_file:\n",
        "      out_file.write(ET.tostring(big_iati, encoding='utf8', pretty_print=True))"
      ],
      "execution_count": 8,
      "outputs": [
        {
          "output_type": "stream",
          "text": [
            "\n",
            "Combining 2 IATI files \n",
            "\n",
            "Files Merged: \n",
            "|-> 7 activities from https://aidstream.s3.us-west-2.amazonaws.com/xml/dipr-activities.xml\n",
            "|-> 78 activities from http://devinit.org/wp-content/uploads/2019/09/DIPR-IATI-data-Sep-2019.xml\n",
            "|--> 85 in total\n"
          ],
          "name": "stdout"
        }
      ]
    },
    {
      "cell_type": "markdown",
      "metadata": {
        "id": "qhPAbNSatWNr",
        "colab_type": "text"
      },
      "source": [
        "#### Upload"
      ]
    },
    {
      "cell_type": "code",
      "metadata": {
        "id": "5Vxf7WuE3Peh",
        "colab_type": "code",
        "cellView": "both",
        "colab": {}
      },
      "source": [
        "if data_mode == \"Upload\":\n",
        "  filename = \"britishcouncil.xml\" #@param {type:\"string\"}\n",
        "  current_only = True #@param {type:\"boolean\"}"
      ],
      "execution_count": 0,
      "outputs": []
    },
    {
      "cell_type": "markdown",
      "metadata": {
        "id": "oWxN_d25t6Xs",
        "colab_type": "text"
      },
      "source": [
        "Go to View->\"Table of contents\" if the left pane isn't open, click Files at the top, then click Upload. Upload the file, then update `filename` below to match the filename you uploaded. Note that uploaded files will be cleared when the session ends."
      ]
    },
    {
      "cell_type": "code",
      "metadata": {
        "id": "3Sv3fEjYyejx",
        "colab_type": "code",
        "colab": {}
      },
      "source": [
        "if data_mode == \"Upload\":\n",
        "  shutil.copyfile(filename, 'combined.xml')\n",
        "  big_iati = remove_comments(ET.parse('combined.xml', parser=parser).getroot())"
      ],
      "execution_count": 0,
      "outputs": []
    },
    {
      "cell_type": "markdown",
      "metadata": {
        "id": "kHWwujRi_UxW",
        "colab_type": "text"
      },
      "source": [
        ""
      ]
    },
    {
      "cell_type": "markdown",
      "metadata": {
        "id": "Q1H9P72GtY6V",
        "colab_type": "text"
      },
      "source": [
        "### Filter current activities"
      ]
    },
    {
      "cell_type": "code",
      "metadata": {
        "id": "tRGl8fkYpyN2",
        "colab_type": "code",
        "colab": {}
      },
      "source": [
        "import datetime as dt\n",
        "from dateutil.relativedelta import relativedelta\n",
        "\n",
        "NOW = dt.datetime.now()\n",
        "\n",
        "def current_dict(activity):\n",
        "  status_check = False\n",
        "  planned_end_date_check = False\n",
        "  actual_end_date_check = False\n",
        "  transaction_date_check = False\n",
        "\n",
        "  # print(\"Activity {} of {}\".format(count, len(big_iati)))\n",
        "  \n",
        "  if activity.xpath(\"activity-status[@code=2]\"):\n",
        "    status_check = True\n",
        "\n",
        "  if activity.xpath(\"activity-date[@type=3]/@iso-date\"):\n",
        "    date_time_obj = dt.datetime.strptime(activity.xpath(\"activity-date[@type=3]/@iso-date\")[0], '%Y-%m-%d')\n",
        "    if date_time_obj > (NOW - relativedelta(years=1)):\n",
        "      planned_end_date_check = True\n",
        "  \n",
        "  if activity.xpath(\"activity-date[@type=4]/@iso-date\"):\n",
        "    date_time_obj = dt.datetime.strptime(activity.xpath(\"activity-date[@type=4]/@iso-date\")[0], '%Y-%m-%d')\n",
        "    if date_time_obj > (NOW - relativedelta(years=1)):\n",
        "      actual_end_date_check = True\n",
        "\n",
        "  if activity.xpath(\"transaction/transaction-type[@code=2 or @code=3 or @code=4]\"):\n",
        "    dates = activity.xpath(\"transaction[transaction-type[@code=2 or @code=3 or @code=4]]/transaction-date/@iso-date\")\n",
        "    date_truths = [dt.datetime.strptime(date, '%Y-%m-%d') > (NOW - relativedelta(years=1)) for date in dates]\n",
        "    if True in date_truths:\n",
        "      transaction_date_check = True\n",
        "\n",
        "  pwyf_current = status_check or planned_end_date_check or actual_end_date_check or transaction_date_check\n",
        "\n",
        "  return {\n",
        "    'iati-id': activity.findtext('iati-identifier'),\n",
        "    'status_check': status_check, \n",
        "    'planned_end_date_check': planned_end_date_check, \n",
        "    'actual_end_date_check': actual_end_date_check, \n",
        "    'transaction_date_check': transaction_date_check,\n",
        "    'pwyf_current': pwyf_current,\n",
        "  }\n",
        "  "
      ],
      "execution_count": 0,
      "outputs": []
    },
    {
      "cell_type": "code",
      "metadata": {
        "id": "NONf-fVa5diE",
        "colab_type": "code",
        "colab": {}
      },
      "source": [
        "# Filter out non-current activities, if appropriate\n",
        "# See https://github.com/pwyf/latest-index-indicator-definitions/issues/1\n",
        "\n",
        "log_columns = [\"iati-id\", \"status_check\", \"planned_end_date_check\", \"actual_end_date_check\", \"transaction_date_check\", \"pwyf_current\"]\n",
        "count = 1\n",
        "current_check_log = pd.DataFrame(columns=log_columns)\n",
        "\n",
        "for activity in big_iati:\n",
        "  current_check_log = current_check_log.append(current_dict(activity), ignore_index=True)\n",
        "  \n",
        "  count = count + 1\n",
        "    \n",
        "current_check_log.to_csv(\"current_check_log.csv\")"
      ],
      "execution_count": 0,
      "outputs": []
    },
    {
      "cell_type": "code",
      "metadata": {
        "id": "cUq37FhD14Lt",
        "colab_type": "code",
        "colab": {}
      },
      "source": [
        "big_iati_archived = big_iati"
      ],
      "execution_count": 0,
      "outputs": []
    },
    {
      "cell_type": "code",
      "metadata": {
        "id": "6KBo4l0_yGKI",
        "colab_type": "code",
        "outputId": "c65720a6-1d95-4c52-dff9-59ccc1be88af",
        "colab": {
          "base_uri": "https://localhost:8080/",
          "height": 53
        }
      },
      "source": [
        "cur_length = len(big_iati)\n",
        "\n",
        "if current_only:\n",
        "  for activity in big_iati:\n",
        "    if activity.findtext('iati-identifier') in current_check_log.loc[current_check_log['pwyf_current'] == False, 'iati-id'].values:\n",
        "      activity.getparent().remove(activity)\n",
        "  \n",
        "  print(\"Removed {} non-current activities from a total of {}.\".format((cur_length-len(big_iati)),cur_length))\n",
        "  print(\"{} current activities remain.\".format(len(big_iati)))\n",
        "\n",
        "else:\n",
        "  print(\"As `current_only` is set to False, all retrieved activities have been kept\")\n"
      ],
      "execution_count": 14,
      "outputs": [
        {
          "output_type": "stream",
          "text": [
            "Removed 48 non-current activities from a total of 85.\n",
            "37 current activities remain.\n"
          ],
          "name": "stdout"
        }
      ]
    },
    {
      "cell_type": "code",
      "metadata": {
        "id": "jrgYDTWZ3iPn",
        "colab_type": "code",
        "colab": {}
      },
      "source": [
        "with open(\"combined_current.xml\", \"wb+\") as out_file:\n",
        "    out_file.write(ET.tostring(big_iati, encoding='utf8', pretty_print=True))"
      ],
      "execution_count": 0,
      "outputs": []
    },
    {
      "cell_type": "markdown",
      "metadata": {
        "id": "5VVGUhui8bDV",
        "colab_type": "text"
      },
      "source": [
        "## Ad Hoc Analysis"
      ]
    },
    {
      "cell_type": "markdown",
      "metadata": {
        "id": "-Q6UP0JPXuJ3",
        "colab_type": "text"
      },
      "source": [
        "This section can be used to evaluate specifica aspects of the total corpus of data, for instance, using `coverage_check()` you can look at the number of activities which include specific elements, or which satisfy certain contditions. This requires some python and XML knowledge. Some examples have been included below."
      ]
    },
    {
      "cell_type": "code",
      "metadata": {
        "id": "Cv-ovpVqo5Mg",
        "colab_type": "code",
        "colab": {}
      },
      "source": [
        "def coverage_check(tree, path, manual_list_entry=False):\n",
        "  if manual_list_entry:\n",
        "    denominator = len(tree)\n",
        "    numerator = len(path)\n",
        "  else:\n",
        "    denominator = len(tree.getchildren())\n",
        "    numerator = len(tree.xpath(path))\n",
        "\n",
        "  coverage = numerator / denominator\n",
        "  return denominator, numerator, coverage"
      ],
      "execution_count": 0,
      "outputs": []
    },
    {
      "cell_type": "code",
      "metadata": {
        "id": "4Z7QBc4Xt1pE",
        "colab_type": "code",
        "outputId": "0d6ec2ce-3a4b-44e1-f3a4-7a1504bb380b",
        "colab": {
          "base_uri": "https://localhost:8080/",
          "height": 35
        }
      },
      "source": [
        "coverage_check(big_iati, \"iati-activity[transaction]\")"
      ],
      "execution_count": 17,
      "outputs": [
        {
          "output_type": "execute_result",
          "data": {
            "text/plain": [
              "(37, 37, 1.0)"
            ]
          },
          "metadata": {
            "tags": []
          },
          "execution_count": 17
        }
      ]
    },
    {
      "cell_type": "code",
      "metadata": {
        "id": "gegznTlTYHMG",
        "colab_type": "code",
        "outputId": "c8089e34-5d9a-47dd-b4ba-a6db814925e6",
        "colab": {
          "base_uri": "https://localhost:8080/",
          "height": 35
        }
      },
      "source": [
        "coverage_check(big_iati, \"iati-activity[capital-spend]\")"
      ],
      "execution_count": 18,
      "outputs": [
        {
          "output_type": "execute_result",
          "data": {
            "text/plain": [
              "(37, 0, 0.0)"
            ]
          },
          "metadata": {
            "tags": []
          },
          "execution_count": 18
        }
      ]
    },
    {
      "cell_type": "code",
      "metadata": {
        "id": "9kYuGLCQYOBa",
        "colab_type": "code",
        "outputId": "28693d89-cb9b-4ac6-9924-c839c60dd66e",
        "colab": {
          "base_uri": "https://localhost:8080/",
          "height": 35
        }
      },
      "source": [
        "# activities with a disbursement\n",
        "coverage_check(big_iati, \"iati-activity[transaction/transaction-type/@code = 3]\")"
      ],
      "execution_count": 19,
      "outputs": [
        {
          "output_type": "execute_result",
          "data": {
            "text/plain": [
              "(37, 0, 0.0)"
            ]
          },
          "metadata": {
            "tags": []
          },
          "execution_count": 19
        }
      ]
    },
    {
      "cell_type": "code",
      "metadata": {
        "id": "kxvlVOYtYs-E",
        "colab_type": "code",
        "outputId": "0036b864-2a0f-47ca-d447-000036d6f5c2",
        "colab": {
          "base_uri": "https://localhost:8080/",
          "height": 35
        }
      },
      "source": [
        "# Manual entry of two lists to see the proportion of transactions which are disbursements\n",
        "coverage_check(\n",
        "    big_iati.xpath(\"iati-activity/transaction\"), \n",
        "    big_iati.xpath(\"iati-activity/transaction[transaction-type/@code = 3]\"), \n",
        "    True)"
      ],
      "execution_count": 20,
      "outputs": [
        {
          "output_type": "execute_result",
          "data": {
            "text/plain": [
              "(2203, 0, 0.0)"
            ]
          },
          "metadata": {
            "tags": []
          },
          "execution_count": 20
        }
      ]
    },
    {
      "cell_type": "markdown",
      "metadata": {
        "id": "IYvJofhk8g1R",
        "colab_type": "text"
      },
      "source": [
        "## Batch CoVE Validation"
      ]
    },
    {
      "cell_type": "code",
      "metadata": {
        "id": "L-X7-aaR8j9Z",
        "colab_type": "code",
        "outputId": "fb92aa38-3e2e-4feb-9fd0-a604c3888a71",
        "colab": {
          "base_uri": "https://localhost:8080/",
          "height": 71
        }
      },
      "source": [
        "json_validation_filepath = 'validation.json'\n",
        "\n",
        "url = 'https://iati.cove.opendataservices.coop/api_test'\n",
        "files = {'file': open(\"combined_current.xml\", 'rb')}\n",
        "r = rq.post(url, files=files, data={\"name\": \"combined_current.xml\"})\n",
        "\n",
        "print(r)\n",
        "\n",
        "print(\"CoVE validation was successful.\" if r.ok else \"Something went wrong.\")\n",
        "\n",
        "validation_json = r.json()\n",
        "\n",
        "with open(json_validation_filepath, \"w\") as out_file:\n",
        "    json.dump(validation_json, out_file)\n",
        "\n",
        "print('Validation JSON file has been written to {}.'.format(\n",
        "    json_validation_filepath))"
      ],
      "execution_count": 21,
      "outputs": [
        {
          "output_type": "stream",
          "text": [
            "<Response [200]>\n",
            "CoVE validation was successful.\n",
            "Validation JSON file has been written to validation.json.\n"
          ],
          "name": "stdout"
        }
      ]
    },
    {
      "cell_type": "code",
      "metadata": {
        "id": "k5K3G7Ky8zI0",
        "colab_type": "code",
        "outputId": "66c8f7eb-83ec-4265-f659-97f858ddd5c9",
        "colab": {
          "base_uri": "https://localhost:8080/",
          "height": 143
        }
      },
      "source": [
        "ruleset_table = pd.DataFrame(data=validation_json['ruleset_errors'])\n",
        "schema_table = pd.DataFrame(data=validation_json['validation_errors'])\n",
        "embedded_codelist_table = pd.DataFrame(data=validation_json['invalid_embedded_codelist_values'])\n",
        "non_embedded_codelist_table = pd.DataFrame(data=validation_json['invalid_non_embedded_codelist_values'])\n",
        "\n",
        "print(\n",
        "    \"CoVE has found: \\n* {} schema errors \\n* {} ruleset errors \\n* {} embedded codelist errors \\n* {} non-embedded codelist errors\".format(\n",
        "    len(schema_table), \n",
        "    len(ruleset_table), \n",
        "    len(embedded_codelist_table), \n",
        "    len(non_embedded_codelist_table)))\n",
        "\n",
        "print(\"\\nWriting to validation_workbook.xlsx\")\n",
        "writer = pd.ExcelWriter('validation_workbook.xlsx', engine='xlsxwriter')\n",
        "# Write each dataframe to a different worksheet.\n",
        "schema_table.to_excel(writer, sheet_name='schema_table')\n",
        "ruleset_table.to_excel(writer, sheet_name='ruleset_table')\n",
        "embedded_codelist_table.to_excel(writer, sheet_name='embedded_codelist_table')\n",
        "non_embedded_codelist_table.to_excel(writer, sheet_name='non_embedded_codelist_table')\n",
        "\n",
        "# Close the Pandas Excel writer and output the Excel file.\n",
        "writer.save()\n"
      ],
      "execution_count": 22,
      "outputs": [
        {
          "output_type": "stream",
          "text": [
            "CoVE has found: \n",
            "* 0 schema errors \n",
            "* 1 ruleset errors \n",
            "* 2 embedded codelist errors \n",
            "* 7 non-embedded codelist errors\n",
            "\n",
            "Writing to validation_workbook.xlsx\n"
          ],
          "name": "stdout"
        }
      ]
    },
    {
      "cell_type": "markdown",
      "metadata": {
        "id": "t0SLL1woSyoP",
        "colab_type": "text"
      },
      "source": [
        "### Schema Validation"
      ]
    },
    {
      "cell_type": "code",
      "metadata": {
        "id": "0yEUfZoWAKrc",
        "colab_type": "code",
        "outputId": "92b37a4b-3777-467e-cac1-79677790b7f3",
        "colab": {
          "base_uri": "https://localhost:8080/",
          "height": 32
        }
      },
      "source": [
        "schema_table"
      ],
      "execution_count": 23,
      "outputs": [
        {
          "output_type": "execute_result",
          "data": {
            "text/html": [
              "<div>\n",
              "<style scoped>\n",
              "    .dataframe tbody tr th:only-of-type {\n",
              "        vertical-align: middle;\n",
              "    }\n",
              "\n",
              "    .dataframe tbody tr th {\n",
              "        vertical-align: top;\n",
              "    }\n",
              "\n",
              "    .dataframe thead th {\n",
              "        text-align: right;\n",
              "    }\n",
              "</style>\n",
              "<table border=\"1\" class=\"dataframe\">\n",
              "  <thead>\n",
              "    <tr style=\"text-align: right;\">\n",
              "      <th></th>\n",
              "    </tr>\n",
              "  </thead>\n",
              "  <tbody>\n",
              "  </tbody>\n",
              "</table>\n",
              "</div>"
            ],
            "text/plain": [
              "Empty DataFrame\n",
              "Columns: []\n",
              "Index: []"
            ]
          },
          "metadata": {
            "tags": []
          },
          "execution_count": 23
        }
      ]
    },
    {
      "cell_type": "markdown",
      "metadata": {
        "id": "xyGpqRc3cBfQ",
        "colab_type": "text"
      },
      "source": [
        "#### Custom Analysis\n",
        "\n",
        "This section gives space to investigate schema errors identified in the secion above. It requires a small amount of tinkering in python."
      ]
    },
    {
      "cell_type": "code",
      "metadata": {
        "id": "8WOGXSlLE7Tr",
        "colab_type": "code",
        "colab": {}
      },
      "source": [
        "# To view offending XML element, take the '/NN/' from the path above, add one, \n",
        "# and then modify the remaining content of the path to print a section of XML.\n",
        "# print(ET.tostring(big_iati.xpath(\"iati-activity[61]/related-activity\")[0].getparent()).decode())"
      ],
      "execution_count": 0,
      "outputs": []
    },
    {
      "cell_type": "markdown",
      "metadata": {
        "id": "3cG2D82Odnyx",
        "colab_type": "text"
      },
      "source": [
        "Note the lack of description in the XML output above"
      ]
    },
    {
      "cell_type": "markdown",
      "metadata": {
        "id": "lV9Ub3BjS2xL",
        "colab_type": "text"
      },
      "source": [
        "### Ruleset Validation"
      ]
    },
    {
      "cell_type": "code",
      "metadata": {
        "id": "4jmiZe2q9sj0",
        "colab_type": "code",
        "outputId": "7ae2879f-67d7-4c37-af31-0086a782bcff",
        "colab": {
          "base_uri": "https://localhost:8080/",
          "height": 112
        }
      },
      "source": [
        "# Concise Summary\n",
        "ruleset_table.pivot_table(index=['rule',], aggfunc='count').drop(columns=[\"path\", \"ruleset\", \"explanation\"])"
      ],
      "execution_count": 25,
      "outputs": [
        {
          "output_type": "execute_result",
          "data": {
            "text/html": [
              "<div>\n",
              "<style scoped>\n",
              "    .dataframe tbody tr th:only-of-type {\n",
              "        vertical-align: middle;\n",
              "    }\n",
              "\n",
              "    .dataframe tbody tr th {\n",
              "        vertical-align: top;\n",
              "    }\n",
              "\n",
              "    .dataframe thead th {\n",
              "        text-align: right;\n",
              "    }\n",
              "</style>\n",
              "<table border=\"1\" class=\"dataframe\">\n",
              "  <thead>\n",
              "    <tr style=\"text-align: right;\">\n",
              "      <th></th>\n",
              "      <th>id</th>\n",
              "    </tr>\n",
              "    <tr>\n",
              "      <th>rule</th>\n",
              "      <th></th>\n",
              "    </tr>\n",
              "  </thead>\n",
              "  <tbody>\n",
              "    <tr>\n",
              "      <th>activity-date[@type='4']/@iso-date must be today or in the past</th>\n",
              "      <td>1</td>\n",
              "    </tr>\n",
              "  </tbody>\n",
              "</table>\n",
              "</div>"
            ],
            "text/plain": [
              "                                                    id\n",
              "rule                                                  \n",
              "activity-date[@type='4']/@iso-date must be toda...   1"
            ]
          },
          "metadata": {
            "tags": []
          },
          "execution_count": 25
        }
      ]
    },
    {
      "cell_type": "code",
      "metadata": {
        "id": "W9SQLlEAeIrw",
        "colab_type": "code",
        "colab": {
          "base_uri": "https://localhost:8080/",
          "height": 81
        },
        "outputId": "813a14ae-0baf-4b20-ef27-94b4b9eb1caa"
      },
      "source": [
        "# Full Table\n",
        "ruleset_table.head()"
      ],
      "execution_count": 26,
      "outputs": [
        {
          "output_type": "execute_result",
          "data": {
            "text/html": [
              "<div>\n",
              "<style scoped>\n",
              "    .dataframe tbody tr th:only-of-type {\n",
              "        vertical-align: middle;\n",
              "    }\n",
              "\n",
              "    .dataframe tbody tr th {\n",
              "        vertical-align: top;\n",
              "    }\n",
              "\n",
              "    .dataframe thead th {\n",
              "        text-align: right;\n",
              "    }\n",
              "</style>\n",
              "<table border=\"1\" class=\"dataframe\">\n",
              "  <thead>\n",
              "    <tr style=\"text-align: right;\">\n",
              "      <th></th>\n",
              "      <th>ruleset</th>\n",
              "      <th>explanation</th>\n",
              "      <th>path</th>\n",
              "      <th>rule</th>\n",
              "      <th>id</th>\n",
              "    </tr>\n",
              "  </thead>\n",
              "  <tbody>\n",
              "    <tr>\n",
              "      <th>0</th>\n",
              "      <td>Actual dates must be in the past</td>\n",
              "      <td>2022-06-30 must be on or before today (2019-12...</td>\n",
              "      <td>/iati-activities/iati-activity[23]/activity-da...</td>\n",
              "      <td>activity-date[@type='4']/@iso-date must be tod...</td>\n",
              "      <td>GB-COH-06368740-P0314</td>\n",
              "    </tr>\n",
              "  </tbody>\n",
              "</table>\n",
              "</div>"
            ],
            "text/plain": [
              "                            ruleset  ...                     id\n",
              "0  Actual dates must be in the past  ...  GB-COH-06368740-P0314\n",
              "\n",
              "[1 rows x 5 columns]"
            ]
          },
          "metadata": {
            "tags": []
          },
          "execution_count": 26
        }
      ]
    },
    {
      "cell_type": "markdown",
      "metadata": {
        "id": "JeT5ud4PB9oF",
        "colab_type": "text"
      },
      "source": [
        "## ATI Data Quality Testing\n",
        "\n",
        "Download `combined.xml` and upload to [this testing tool](http://dataqualitytester.publishwhatyoufund.org/) to check data quality in line with the Aid Transparency Index Methodology\n",
        "\n",
        "| Date | Link | Notes |\n",
        "|-|-|-|\n",
        "|YYYY-MM-DD|[Link](http://dataqualitytester.publishwhatyoufund.org/package/bb957674-6ccf-4635-a553-1d2dd0382075)| Some description of findings or link to notes / report |\n",
        "||||\n",
        "||||\n",
        "||||\n",
        "||||"
      ]
    },
    {
      "cell_type": "markdown",
      "metadata": {
        "id": "luKkG8yTo2y_",
        "colab_type": "text"
      },
      "source": [
        "## IATI Publisher Statistics"
      ]
    },
    {
      "cell_type": "code",
      "metadata": {
        "id": "LmKR5Lm5o7Kh",
        "colab_type": "code",
        "colab": {
          "base_uri": "https://localhost:8080/",
          "height": 1000
        },
        "outputId": "5f3cce7d-4193-4600-841a-f772f3accc8b"
      },
      "source": [
        "import os\n",
        "os.chdir('/content')\n",
        "!git clone https://github.com/OpenDataServices/iati-publishingstats-details.git\n",
        "os.chdir('/content/iati-publishingstats-details')\n",
        "!git submodule init\n",
        "!git submodule update\n",
        "# Note that the Publishing Statistics code requires Python 2\n",
        "!sudo apt install python-virtualenv > APT-LOG\n",
        "!virtualenv .ve\n",
        "!source .ve/bin/activate; pip install -r requirements.txt\n",
        "!source .ve/bin/activate; ./fetch_helpers.sh\n",
        "!source .ve/bin/activate; python forward_looking_details.py ../combined_current.xml > forward_looking_details.csv\n",
        "os.chdir('/content')"
      ],
      "execution_count": 27,
      "outputs": [
        {
          "output_type": "stream",
          "text": [
            "Cloning into 'iati-publishingstats-details'...\n",
            "remote: Enumerating objects: 23, done.\u001b[K\n",
            "remote: Counting objects:   4% (1/23)\u001b[K\rremote: Counting objects:   8% (2/23)\u001b[K\rremote: Counting objects:  13% (3/23)\u001b[K\rremote: Counting objects:  17% (4/23)\u001b[K\rremote: Counting objects:  21% (5/23)\u001b[K\rremote: Counting objects:  26% (6/23)\u001b[K\rremote: Counting objects:  30% (7/23)\u001b[K\rremote: Counting objects:  34% (8/23)\u001b[K\rremote: Counting objects:  39% (9/23)\u001b[K\rremote: Counting objects:  43% (10/23)\u001b[K\rremote: Counting objects:  47% (11/23)\u001b[K\rremote: Counting objects:  52% (12/23)\u001b[K\rremote: Counting objects:  56% (13/23)\u001b[K\rremote: Counting objects:  60% (14/23)\u001b[K\rremote: Counting objects:  65% (15/23)\u001b[K\rremote: Counting objects:  69% (16/23)\u001b[K\rremote: Counting objects:  73% (17/23)\u001b[K\rremote: Counting objects:  78% (18/23)\u001b[K\rremote: Counting objects:  82% (19/23)\u001b[K\rremote: Counting objects:  86% (20/23)\u001b[K\rremote: Counting objects:  91% (21/23)\u001b[K\rremote: Counting objects:  95% (22/23)\u001b[K\rremote: Counting objects: 100% (23/23)\u001b[K\rremote: Counting objects: 100% (23/23), done.\u001b[K\n",
            "remote: Compressing objects:   6% (1/15)\u001b[K\rremote: Compressing objects:  13% (2/15)\u001b[K\rremote: Compressing objects:  20% (3/15)\u001b[K\rremote: Compressing objects:  26% (4/15)\u001b[K\rremote: Compressing objects:  33% (5/15)\u001b[K\rremote: Compressing objects:  40% (6/15)\u001b[K\rremote: Compressing objects:  46% (7/15)\u001b[K\rremote: Compressing objects:  53% (8/15)\u001b[K\rremote: Compressing objects:  60% (9/15)\u001b[K\rremote: Compressing objects:  66% (10/15)\u001b[K\rremote: Compressing objects:  73% (11/15)\u001b[K\rremote: Compressing objects:  80% (12/15)\u001b[K\rremote: Compressing objects:  86% (13/15)\u001b[K\rremote: Compressing objects:  93% (14/15)\u001b[K\rremote: Compressing objects: 100% (15/15)\u001b[K\rremote: Compressing objects: 100% (15/15), done.\u001b[K\n",
            "remote: Total 23 (delta 8), reused 19 (delta 4), pack-reused 0\u001b[K\n",
            "Unpacking objects:   4% (1/23)   \rUnpacking objects:   8% (2/23)   \rUnpacking objects:  13% (3/23)   \rUnpacking objects:  17% (4/23)   \rUnpacking objects:  21% (5/23)   \rUnpacking objects:  26% (6/23)   \rUnpacking objects:  30% (7/23)   \rUnpacking objects:  34% (8/23)   \rUnpacking objects:  39% (9/23)   \rUnpacking objects:  43% (10/23)   \rUnpacking objects:  47% (11/23)   \rUnpacking objects:  52% (12/23)   \rUnpacking objects:  56% (13/23)   \rUnpacking objects:  60% (14/23)   \rUnpacking objects:  65% (15/23)   \rUnpacking objects:  69% (16/23)   \rUnpacking objects:  73% (17/23)   \rUnpacking objects:  78% (18/23)   \rUnpacking objects:  82% (19/23)   \rUnpacking objects:  86% (20/23)   \rUnpacking objects:  91% (21/23)   \rUnpacking objects:  95% (22/23)   \rUnpacking objects: 100% (23/23)   \rUnpacking objects: 100% (23/23), done.\n",
            "Submodule 'IATI-Publishing-Statistics' (https://github.com/IATI/IATI-Publishing-Statistics.git) registered for path 'IATI-Publishing-Statistics'\n",
            "Cloning into '/content/iati-publishingstats-details/IATI-Publishing-Statistics'...\n",
            "Submodule path 'IATI-Publishing-Statistics': checked out '623498143ad809a57b87d357ea0dd0f65afd11b0'\n",
            "\n",
            "WARNING: apt does not have a stable CLI interface. Use with caution in scripts.\n",
            "\n",
            "Running virtualenv with interpreter /usr/bin/python2\n",
            "New python executable in /content/iati-publishingstats-details/.ve/bin/python2\n",
            "Also creating executable in /content/iati-publishingstats-details/.ve/bin/python\n",
            "Installing setuptools, pkg_resources, pip, wheel...done.\n",
            "Collecting lxml==4.4.1\n",
            "  Using cached https://files.pythonhosted.org/packages/e4/f4/65d145cd6917131826050b0479be35aaccba2847b7f80fc4afc6bec6616b/lxml-4.4.1-cp27-cp27mu-manylinux1_x86_64.whl\n",
            "Collecting python-dateutil==2.8.0\n",
            "  Using cached https://files.pythonhosted.org/packages/41/17/c62faccbfbd163c7f57f3844689e3a78bae1f403648a6afb1d0866d87fbb/python_dateutil-2.8.0-py2.py3-none-any.whl\n",
            "Collecting six==1.12.0\n",
            "  Using cached https://files.pythonhosted.org/packages/73/fb/00a976f728d0d1fecfe898238ce23f502a721c0ac0ecfedb80e0d88c64e9/six-1.12.0-py2.py3-none-any.whl\n",
            "Installing collected packages: lxml, six, python-dateutil\n",
            "Successfully installed lxml-4.4.1 python-dateutil-2.8.0 six-1.12.0\n",
            "--2019-12-17 16:37:08--  http://iatistandard.org/105/codelists/downloads/clv2/json/en/Version.json\n",
            "Resolving iatistandard.org (iatistandard.org)... 134.209.22.132\n",
            "Connecting to iatistandard.org (iatistandard.org)|134.209.22.132|:80... connected.\n",
            "HTTP request sent, awaiting response... 301 Moved Permanently\n",
            "Location: https://iatistandard.org:443/105/codelists/downloads/clv2/json/en/Version.json [following]\n",
            "--2019-12-17 16:37:08--  https://iatistandard.org/105/codelists/downloads/clv2/json/en/Version.json\n",
            "Connecting to iatistandard.org (iatistandard.org)|134.209.22.132|:443... connected.\n",
            "HTTP request sent, awaiting response... 301 Moved Permanently\n",
            "Location: http://reference.iatistandard.org/105/codelists/downloads/clv2/json/en/Version.json [following]\n",
            "--2019-12-17 16:37:09--  http://reference.iatistandard.org/105/codelists/downloads/clv2/json/en/Version.json\n",
            "Resolving reference.iatistandard.org (reference.iatistandard.org)... 104.26.5.17, 104.26.4.17, 2606:4700:20::681a:411, ...\n",
            "Connecting to reference.iatistandard.org (reference.iatistandard.org)|104.26.5.17|:80... connected.\n",
            "HTTP request sent, awaiting response... 301 Moved Permanently\n",
            "Location: http://reference.iatistandard.org/archived/105/codelists/downloads/clv2/json/en/Version.json [following]\n",
            "--2019-12-17 16:37:09--  http://reference.iatistandard.org/archived/105/codelists/downloads/clv2/json/en/Version.json\n",
            "Reusing existing connection to reference.iatistandard.org:80.\n",
            "HTTP request sent, awaiting response... 200 OK\n",
            "Length: 652 [application/json]\n",
            "Saving to: ‘codelists/1/Version.json’\n",
            "\n",
            "codelists/1/Version 100%[===================>]     652  --.-KB/s    in 0s      \n",
            "\n",
            "2019-12-17 16:37:09 (139 MB/s) - ‘codelists/1/Version.json’ saved [652/652]\n",
            "\n",
            "--2019-12-17 16:37:09--  http://iatistandard.org/105/codelists/downloads/clv2/json/en/ActivityStatus.json\n",
            "Resolving iatistandard.org (iatistandard.org)... 134.209.22.132\n",
            "Connecting to iatistandard.org (iatistandard.org)|134.209.22.132|:80... connected.\n",
            "HTTP request sent, awaiting response... 301 Moved Permanently\n",
            "Location: https://iatistandard.org:443/105/codelists/downloads/clv2/json/en/ActivityStatus.json [following]\n",
            "--2019-12-17 16:37:10--  https://iatistandard.org/105/codelists/downloads/clv2/json/en/ActivityStatus.json\n",
            "Connecting to iatistandard.org (iatistandard.org)|134.209.22.132|:443... connected.\n",
            "HTTP request sent, awaiting response... 301 Moved Permanently\n",
            "Location: http://reference.iatistandard.org/105/codelists/downloads/clv2/json/en/ActivityStatus.json [following]\n",
            "--2019-12-17 16:37:10--  http://reference.iatistandard.org/105/codelists/downloads/clv2/json/en/ActivityStatus.json\n",
            "Resolving reference.iatistandard.org (reference.iatistandard.org)... 104.26.5.17, 104.26.4.17, 2606:4700:20::681a:411, ...\n",
            "Connecting to reference.iatistandard.org (reference.iatistandard.org)|104.26.5.17|:80... connected.\n",
            "HTTP request sent, awaiting response... 301 Moved Permanently\n",
            "Location: http://reference.iatistandard.org/archived/105/codelists/downloads/clv2/json/en/ActivityStatus.json [following]\n",
            "--2019-12-17 16:37:11--  http://reference.iatistandard.org/archived/105/codelists/downloads/clv2/json/en/ActivityStatus.json\n",
            "Reusing existing connection to reference.iatistandard.org:80.\n",
            "HTTP request sent, awaiting response... 200 OK\n",
            "Length: 462 [application/json]\n",
            "Saving to: ‘codelists/1/ActivityStatus.json’\n",
            "\n",
            "codelists/1/Activit 100%[===================>]     462  --.-KB/s    in 0s      \n",
            "\n",
            "2019-12-17 16:37:11 (64.9 MB/s) - ‘codelists/1/ActivityStatus.json’ saved [462/462]\n",
            "\n",
            "--2019-12-17 16:37:11--  http://iatistandard.org/105/codelists/downloads/clv2/json/en/Currency.json\n",
            "Resolving iatistandard.org (iatistandard.org)... 134.209.22.132\n",
            "Connecting to iatistandard.org (iatistandard.org)|134.209.22.132|:80... connected.\n",
            "HTTP request sent, awaiting response... 301 Moved Permanently\n",
            "Location: https://iatistandard.org:443/105/codelists/downloads/clv2/json/en/Currency.json [following]\n",
            "--2019-12-17 16:37:11--  https://iatistandard.org/105/codelists/downloads/clv2/json/en/Currency.json\n",
            "Connecting to iatistandard.org (iatistandard.org)|134.209.22.132|:443... connected.\n",
            "HTTP request sent, awaiting response... 301 Moved Permanently\n",
            "Location: http://reference.iatistandard.org/105/codelists/downloads/clv2/json/en/Currency.json [following]\n",
            "--2019-12-17 16:37:12--  http://reference.iatistandard.org/105/codelists/downloads/clv2/json/en/Currency.json\n",
            "Resolving reference.iatistandard.org (reference.iatistandard.org)... 104.26.5.17, 104.26.4.17, 2606:4700:20::681a:411, ...\n",
            "Connecting to reference.iatistandard.org (reference.iatistandard.org)|104.26.5.17|:80... connected.\n",
            "HTTP request sent, awaiting response... 301 Moved Permanently\n",
            "Location: http://reference.iatistandard.org/archived/105/codelists/downloads/clv2/json/en/Currency.json [following]\n",
            "--2019-12-17 16:37:12--  http://reference.iatistandard.org/archived/105/codelists/downloads/clv2/json/en/Currency.json\n",
            "Reusing existing connection to reference.iatistandard.org:80.\n",
            "HTTP request sent, awaiting response... 200 OK\n",
            "Length: 7933 (7.7K) [application/json]\n",
            "Saving to: ‘codelists/1/Currency.json’\n",
            "\n",
            "codelists/1/Currenc 100%[===================>]   7.75K  --.-KB/s    in 0.004s  \n",
            "\n",
            "2019-12-17 16:37:12 (1.85 MB/s) - ‘codelists/1/Currency.json’ saved [7933/7933]\n",
            "\n",
            "--2019-12-17 16:37:12--  http://iatistandard.org/105/codelists/downloads/clv2/json/en/Sector.json\n",
            "Resolving iatistandard.org (iatistandard.org)... 134.209.22.132\n",
            "Connecting to iatistandard.org (iatistandard.org)|134.209.22.132|:80... connected.\n",
            "HTTP request sent, awaiting response... 301 Moved Permanently\n",
            "Location: https://iatistandard.org:443/105/codelists/downloads/clv2/json/en/Sector.json [following]\n",
            "--2019-12-17 16:37:12--  https://iatistandard.org/105/codelists/downloads/clv2/json/en/Sector.json\n",
            "Connecting to iatistandard.org (iatistandard.org)|134.209.22.132|:443... connected.\n",
            "HTTP request sent, awaiting response... 301 Moved Permanently\n",
            "Location: http://reference.iatistandard.org/105/codelists/downloads/clv2/json/en/Sector.json [following]\n",
            "--2019-12-17 16:37:13--  http://reference.iatistandard.org/105/codelists/downloads/clv2/json/en/Sector.json\n",
            "Resolving reference.iatistandard.org (reference.iatistandard.org)... 104.26.5.17, 104.26.4.17, 2606:4700:20::681a:411, ...\n",
            "Connecting to reference.iatistandard.org (reference.iatistandard.org)|104.26.5.17|:80... connected.\n",
            "HTTP request sent, awaiting response... 301 Moved Permanently\n",
            "Location: http://reference.iatistandard.org/archived/105/codelists/downloads/clv2/json/en/Sector.json [following]\n",
            "--2019-12-17 16:37:13--  http://reference.iatistandard.org/archived/105/codelists/downloads/clv2/json/en/Sector.json\n",
            "Reusing existing connection to reference.iatistandard.org:80.\n",
            "HTTP request sent, awaiting response... 200 OK\n",
            "Length: 87151 (85K) [application/json]\n",
            "Saving to: ‘codelists/1/Sector.json’\n",
            "\n",
            "codelists/1/Sector. 100%[===================>]  85.11K  --.-KB/s    in 0.1s    \n",
            "\n",
            "2019-12-17 16:37:14 (616 KB/s) - ‘codelists/1/Sector.json’ saved [87151/87151]\n",
            "\n",
            "--2019-12-17 16:37:14--  http://iatistandard.org/105/codelists/downloads/clv2/json/en/SectorCategory.json\n",
            "Resolving iatistandard.org (iatistandard.org)... 134.209.22.132\n",
            "Connecting to iatistandard.org (iatistandard.org)|134.209.22.132|:80... connected.\n",
            "HTTP request sent, awaiting response... 301 Moved Permanently\n",
            "Location: https://iatistandard.org:443/105/codelists/downloads/clv2/json/en/SectorCategory.json [following]\n",
            "--2019-12-17 16:37:14--  https://iatistandard.org/105/codelists/downloads/clv2/json/en/SectorCategory.json\n",
            "Connecting to iatistandard.org (iatistandard.org)|134.209.22.132|:443... connected.\n",
            "HTTP request sent, awaiting response... 301 Moved Permanently\n",
            "Location: http://reference.iatistandard.org/105/codelists/downloads/clv2/json/en/SectorCategory.json [following]\n",
            "--2019-12-17 16:37:15--  http://reference.iatistandard.org/105/codelists/downloads/clv2/json/en/SectorCategory.json\n",
            "Resolving reference.iatistandard.org (reference.iatistandard.org)... 104.26.5.17, 104.26.4.17, 2606:4700:20::681a:411, ...\n",
            "Connecting to reference.iatistandard.org (reference.iatistandard.org)|104.26.5.17|:80... connected.\n",
            "HTTP request sent, awaiting response... 301 Moved Permanently\n",
            "Location: http://reference.iatistandard.org/archived/105/codelists/downloads/clv2/json/en/SectorCategory.json [following]\n",
            "--2019-12-17 16:37:15--  http://reference.iatistandard.org/archived/105/codelists/downloads/clv2/json/en/SectorCategory.json\n",
            "Reusing existing connection to reference.iatistandard.org:80.\n",
            "HTTP request sent, awaiting response... 200 OK\n",
            "Length: 4622 (4.5K) [application/json]\n",
            "Saving to: ‘codelists/1/SectorCategory.json’\n",
            "\n",
            "codelists/1/SectorC 100%[===================>]   4.51K  --.-KB/s    in 0s      \n",
            "\n",
            "2019-12-17 16:37:15 (550 MB/s) - ‘codelists/1/SectorCategory.json’ saved [4622/4622]\n",
            "\n",
            "--2019-12-17 16:37:15--  http://iatistandard.org/105/codelists/downloads/clv2/json/en/DocumentCategory.json\n",
            "Resolving iatistandard.org (iatistandard.org)... 134.209.22.132\n",
            "Connecting to iatistandard.org (iatistandard.org)|134.209.22.132|:80... connected.\n",
            "HTTP request sent, awaiting response... 301 Moved Permanently\n",
            "Location: https://iatistandard.org:443/105/codelists/downloads/clv2/json/en/DocumentCategory.json [following]\n",
            "--2019-12-17 16:37:15--  https://iatistandard.org/105/codelists/downloads/clv2/json/en/DocumentCategory.json\n",
            "Connecting to iatistandard.org (iatistandard.org)|134.209.22.132|:443... connected.\n",
            "HTTP request sent, awaiting response... 301 Moved Permanently\n",
            "Location: http://reference.iatistandard.org/105/codelists/downloads/clv2/json/en/DocumentCategory.json [following]\n",
            "--2019-12-17 16:37:16--  http://reference.iatistandard.org/105/codelists/downloads/clv2/json/en/DocumentCategory.json\n",
            "Resolving reference.iatistandard.org (reference.iatistandard.org)... 104.26.5.17, 104.26.4.17, 2606:4700:20::681a:411, ...\n",
            "Connecting to reference.iatistandard.org (reference.iatistandard.org)|104.26.5.17|:80... connected.\n",
            "HTTP request sent, awaiting response... 301 Moved Permanently\n",
            "Location: http://reference.iatistandard.org/archived/105/codelists/downloads/clv2/json/en/DocumentCategory.json [following]\n",
            "--2019-12-17 16:37:16--  http://reference.iatistandard.org/archived/105/codelists/downloads/clv2/json/en/DocumentCategory.json\n",
            "Reusing existing connection to reference.iatistandard.org:80.\n",
            "HTTP request sent, awaiting response... 200 OK\n",
            "Length: 2582 (2.5K) [application/json]\n",
            "Saving to: ‘codelists/1/DocumentCategory.json’\n",
            "\n",
            "codelists/1/Documen 100%[===================>]   2.52K  --.-KB/s    in 0s      \n",
            "\n",
            "2019-12-17 16:37:16 (358 MB/s) - ‘codelists/1/DocumentCategory.json’ saved [2582/2582]\n",
            "\n",
            "--2019-12-17 16:37:16--  http://iatistandard.org/105/codelists/downloads/clv2/json/en/AidType.json\n",
            "Resolving iatistandard.org (iatistandard.org)... 134.209.22.132\n",
            "Connecting to iatistandard.org (iatistandard.org)|134.209.22.132|:80... connected.\n",
            "HTTP request sent, awaiting response... 301 Moved Permanently\n",
            "Location: https://iatistandard.org:443/105/codelists/downloads/clv2/json/en/AidType.json [following]\n",
            "--2019-12-17 16:37:17--  https://iatistandard.org/105/codelists/downloads/clv2/json/en/AidType.json\n",
            "Connecting to iatistandard.org (iatistandard.org)|134.209.22.132|:443... connected.\n",
            "HTTP request sent, awaiting response... 301 Moved Permanently\n",
            "Location: http://reference.iatistandard.org/105/codelists/downloads/clv2/json/en/AidType.json [following]\n",
            "--2019-12-17 16:37:17--  http://reference.iatistandard.org/105/codelists/downloads/clv2/json/en/AidType.json\n",
            "Resolving reference.iatistandard.org (reference.iatistandard.org)... 104.26.5.17, 104.26.4.17, 2606:4700:20::681a:411, ...\n",
            "Connecting to reference.iatistandard.org (reference.iatistandard.org)|104.26.5.17|:80... connected.\n",
            "HTTP request sent, awaiting response... 301 Moved Permanently\n",
            "Location: http://reference.iatistandard.org/archived/105/codelists/downloads/clv2/json/en/AidType.json [following]\n",
            "--2019-12-17 16:37:18--  http://reference.iatistandard.org/archived/105/codelists/downloads/clv2/json/en/AidType.json\n",
            "Reusing existing connection to reference.iatistandard.org:80.\n",
            "HTTP request sent, awaiting response... 200 OK\n",
            "Length: 9156 (8.9K) [application/json]\n",
            "Saving to: ‘codelists/1/AidType.json’\n",
            "\n",
            "codelists/1/AidType 100%[===================>]   8.94K  --.-KB/s    in 0s      \n",
            "\n",
            "2019-12-17 16:37:18 (218 MB/s) - ‘codelists/1/AidType.json’ saved [9156/9156]\n",
            "\n",
            "--2019-12-17 16:37:18--  http://iatistandard.org/105/codelists/downloads/clv2/json/en/BudgetNotProvided.json\n",
            "Resolving iatistandard.org (iatistandard.org)... 134.209.22.132\n",
            "Connecting to iatistandard.org (iatistandard.org)|134.209.22.132|:80... connected.\n",
            "HTTP request sent, awaiting response... 301 Moved Permanently\n",
            "Location: https://iatistandard.org:443/105/codelists/downloads/clv2/json/en/BudgetNotProvided.json [following]\n",
            "--2019-12-17 16:37:18--  https://iatistandard.org/105/codelists/downloads/clv2/json/en/BudgetNotProvided.json\n",
            "Connecting to iatistandard.org (iatistandard.org)|134.209.22.132|:443... connected.\n",
            "HTTP request sent, awaiting response... 301 Moved Permanently\n",
            "Location: http://reference.iatistandard.org/105/codelists/downloads/clv2/json/en/BudgetNotProvided.json [following]\n",
            "--2019-12-17 16:37:19--  http://reference.iatistandard.org/105/codelists/downloads/clv2/json/en/BudgetNotProvided.json\n",
            "Resolving reference.iatistandard.org (reference.iatistandard.org)... 104.26.5.17, 104.26.4.17, 2606:4700:20::681a:411, ...\n",
            "Connecting to reference.iatistandard.org (reference.iatistandard.org)|104.26.5.17|:80... connected.\n",
            "HTTP request sent, awaiting response... 301 Moved Permanently\n",
            "Location: http://reference.iatistandard.org/archived/105/codelists/downloads/clv2/json/en/BudgetNotProvided.json [following]\n",
            "--2019-12-17 16:37:19--  http://reference.iatistandard.org/archived/105/codelists/downloads/clv2/json/en/BudgetNotProvided.json\n",
            "Reusing existing connection to reference.iatistandard.org:80.\n",
            "HTTP request sent, awaiting response... 200 OK\n",
            "Length: 416 [application/json]\n",
            "Saving to: ‘codelists/1/BudgetNotProvided.json’\n",
            "\n",
            "codelists/1/BudgetN 100%[===================>]     416  --.-KB/s    in 0s      \n",
            "\n",
            "2019-12-17 16:37:19 (62.8 MB/s) - ‘codelists/1/BudgetNotProvided.json’ saved [416/416]\n",
            "\n",
            "--2019-12-17 16:37:19--  http://iatistandard.org/203/codelists/downloads/clv2/json/en/Version.json\n",
            "Resolving iatistandard.org (iatistandard.org)... 134.209.22.132\n",
            "Connecting to iatistandard.org (iatistandard.org)|134.209.22.132|:80... connected.\n",
            "HTTP request sent, awaiting response... 301 Moved Permanently\n",
            "Location: https://iatistandard.org:443/203/codelists/downloads/clv2/json/en/Version.json [following]\n",
            "--2019-12-17 16:37:20--  https://iatistandard.org/203/codelists/downloads/clv2/json/en/Version.json\n",
            "Connecting to iatistandard.org (iatistandard.org)|134.209.22.132|:443... connected.\n",
            "HTTP request sent, awaiting response... 301 Moved Permanently\n",
            "Location: http://reference.iatistandard.org/203/codelists/downloads/clv2/json/en/Version.json [following]\n",
            "--2019-12-17 16:37:20--  http://reference.iatistandard.org/203/codelists/downloads/clv2/json/en/Version.json\n",
            "Resolving reference.iatistandard.org (reference.iatistandard.org)... 104.26.5.17, 104.26.4.17, 2606:4700:20::681a:411, ...\n",
            "Connecting to reference.iatistandard.org (reference.iatistandard.org)|104.26.5.17|:80... connected.\n",
            "HTTP request sent, awaiting response... 200 OK\n",
            "Length: 853 [application/json]\n",
            "Saving to: ‘codelists/2/Version.json’\n",
            "\n",
            "codelists/2/Version 100%[===================>]     853  --.-KB/s    in 0s      \n",
            "\n",
            "2019-12-17 16:37:21 (113 MB/s) - ‘codelists/2/Version.json’ saved [853/853]\n",
            "\n",
            "--2019-12-17 16:37:21--  http://iatistandard.org/203/codelists/downloads/clv2/json/en/ActivityStatus.json\n",
            "Resolving iatistandard.org (iatistandard.org)... 134.209.22.132\n",
            "Connecting to iatistandard.org (iatistandard.org)|134.209.22.132|:80... connected.\n",
            "HTTP request sent, awaiting response... 301 Moved Permanently\n",
            "Location: https://iatistandard.org:443/203/codelists/downloads/clv2/json/en/ActivityStatus.json [following]\n",
            "--2019-12-17 16:37:21--  https://iatistandard.org/203/codelists/downloads/clv2/json/en/ActivityStatus.json\n",
            "Connecting to iatistandard.org (iatistandard.org)|134.209.22.132|:443... connected.\n",
            "HTTP request sent, awaiting response... 301 Moved Permanently\n",
            "Location: http://reference.iatistandard.org/203/codelists/downloads/clv2/json/en/ActivityStatus.json [following]\n",
            "--2019-12-17 16:37:21--  http://reference.iatistandard.org/203/codelists/downloads/clv2/json/en/ActivityStatus.json\n",
            "Resolving reference.iatistandard.org (reference.iatistandard.org)... 104.26.5.17, 104.26.4.17, 2606:4700:20::681a:411, ...\n",
            "Connecting to reference.iatistandard.org (reference.iatistandard.org)|104.26.5.17|:80... connected.\n",
            "HTTP request sent, awaiting response... 200 OK\n",
            "Length: 1093 (1.1K) [application/json]\n",
            "Saving to: ‘codelists/2/ActivityStatus.json’\n",
            "\n",
            "codelists/2/Activit 100%[===================>]   1.07K  --.-KB/s    in 0s      \n",
            "\n",
            "2019-12-17 16:37:22 (184 MB/s) - ‘codelists/2/ActivityStatus.json’ saved [1093/1093]\n",
            "\n",
            "--2019-12-17 16:37:22--  http://iatistandard.org/203/codelists/downloads/clv2/json/en/Currency.json\n",
            "Resolving iatistandard.org (iatistandard.org)... 134.209.22.132\n",
            "Connecting to iatistandard.org (iatistandard.org)|134.209.22.132|:80... connected.\n",
            "HTTP request sent, awaiting response... 301 Moved Permanently\n",
            "Location: https://iatistandard.org:443/203/codelists/downloads/clv2/json/en/Currency.json [following]\n",
            "--2019-12-17 16:37:22--  https://iatistandard.org/203/codelists/downloads/clv2/json/en/Currency.json\n",
            "Connecting to iatistandard.org (iatistandard.org)|134.209.22.132|:443... connected.\n",
            "HTTP request sent, awaiting response... 301 Moved Permanently\n",
            "Location: http://reference.iatistandard.org/203/codelists/downloads/clv2/json/en/Currency.json [following]\n",
            "--2019-12-17 16:37:23--  http://reference.iatistandard.org/203/codelists/downloads/clv2/json/en/Currency.json\n",
            "Resolving reference.iatistandard.org (reference.iatistandard.org)... 104.26.5.17, 104.26.4.17, 2606:4700:20::681a:411, ...\n",
            "Connecting to reference.iatistandard.org (reference.iatistandard.org)|104.26.5.17|:80... connected.\n",
            "HTTP request sent, awaiting response... 200 OK\n",
            "Length: 11483 (11K) [application/json]\n",
            "Saving to: ‘codelists/2/Currency.json’\n",
            "\n",
            "codelists/2/Currenc 100%[===================>]  11.21K  --.-KB/s    in 0s      \n",
            "\n",
            "2019-12-17 16:37:23 (39.5 MB/s) - ‘codelists/2/Currency.json’ saved [11483/11483]\n",
            "\n",
            "--2019-12-17 16:37:23--  http://iatistandard.org/203/codelists/downloads/clv2/json/en/Sector.json\n",
            "Resolving iatistandard.org (iatistandard.org)... 134.209.22.132\n",
            "Connecting to iatistandard.org (iatistandard.org)|134.209.22.132|:80... connected.\n",
            "HTTP request sent, awaiting response... 301 Moved Permanently\n",
            "Location: https://iatistandard.org:443/203/codelists/downloads/clv2/json/en/Sector.json [following]\n",
            "--2019-12-17 16:37:23--  https://iatistandard.org/203/codelists/downloads/clv2/json/en/Sector.json\n",
            "Connecting to iatistandard.org (iatistandard.org)|134.209.22.132|:443... connected.\n",
            "HTTP request sent, awaiting response... 301 Moved Permanently\n",
            "Location: http://reference.iatistandard.org/203/codelists/downloads/clv2/json/en/Sector.json [following]\n",
            "--2019-12-17 16:37:24--  http://reference.iatistandard.org/203/codelists/downloads/clv2/json/en/Sector.json\n",
            "Resolving reference.iatistandard.org (reference.iatistandard.org)... 104.26.5.17, 104.26.4.17, 2606:4700:20::681a:411, ...\n",
            "Connecting to reference.iatistandard.org (reference.iatistandard.org)|104.26.5.17|:80... connected.\n",
            "HTTP request sent, awaiting response... 200 OK\n",
            "Length: 98281 (96K) [application/json]\n",
            "Saving to: ‘codelists/2/Sector.json’\n",
            "\n",
            "codelists/2/Sector. 100%[===================>]  95.98K  --.-KB/s    in 0.07s   \n",
            "\n",
            "2019-12-17 16:37:24 (1.35 MB/s) - ‘codelists/2/Sector.json’ saved [98281/98281]\n",
            "\n",
            "--2019-12-17 16:37:24--  http://iatistandard.org/203/codelists/downloads/clv2/json/en/SectorCategory.json\n",
            "Resolving iatistandard.org (iatistandard.org)... 134.209.22.132\n",
            "Connecting to iatistandard.org (iatistandard.org)|134.209.22.132|:80... connected.\n",
            "HTTP request sent, awaiting response... 301 Moved Permanently\n",
            "Location: https://iatistandard.org:443/203/codelists/downloads/clv2/json/en/SectorCategory.json [following]\n",
            "--2019-12-17 16:37:24--  https://iatistandard.org/203/codelists/downloads/clv2/json/en/SectorCategory.json\n",
            "Connecting to iatistandard.org (iatistandard.org)|134.209.22.132|:443... connected.\n",
            "HTTP request sent, awaiting response... 301 Moved Permanently\n",
            "Location: http://reference.iatistandard.org/203/codelists/downloads/clv2/json/en/SectorCategory.json [following]\n",
            "--2019-12-17 16:37:25--  http://reference.iatistandard.org/203/codelists/downloads/clv2/json/en/SectorCategory.json\n",
            "Resolving reference.iatistandard.org (reference.iatistandard.org)... 104.26.5.17, 104.26.4.17, 2606:4700:20::681a:411, ...\n",
            "Connecting to reference.iatistandard.org (reference.iatistandard.org)|104.26.5.17|:80... connected.\n",
            "HTTP request sent, awaiting response... 200 OK\n",
            "Length: 5920 (5.8K) [application/json]\n",
            "Saving to: ‘codelists/2/SectorCategory.json’\n",
            "\n",
            "codelists/2/SectorC 100%[===================>]   5.78K  --.-KB/s    in 0s      \n",
            "\n",
            "2019-12-17 16:37:25 (803 MB/s) - ‘codelists/2/SectorCategory.json’ saved [5920/5920]\n",
            "\n",
            "--2019-12-17 16:37:25--  http://iatistandard.org/203/codelists/downloads/clv2/json/en/DocumentCategory.json\n",
            "Resolving iatistandard.org (iatistandard.org)... 134.209.22.132\n",
            "Connecting to iatistandard.org (iatistandard.org)|134.209.22.132|:80... connected.\n",
            "HTTP request sent, awaiting response... 301 Moved Permanently\n",
            "Location: https://iatistandard.org:443/203/codelists/downloads/clv2/json/en/DocumentCategory.json [following]\n",
            "--2019-12-17 16:37:26--  https://iatistandard.org/203/codelists/downloads/clv2/json/en/DocumentCategory.json\n",
            "Connecting to iatistandard.org (iatistandard.org)|134.209.22.132|:443... connected.\n",
            "HTTP request sent, awaiting response... 301 Moved Permanently\n",
            "Location: http://reference.iatistandard.org/203/codelists/downloads/clv2/json/en/DocumentCategory.json [following]\n",
            "--2019-12-17 16:37:26--  http://reference.iatistandard.org/203/codelists/downloads/clv2/json/en/DocumentCategory.json\n",
            "Resolving reference.iatistandard.org (reference.iatistandard.org)... 104.26.5.17, 104.26.4.17, 2606:4700:20::681a:411, ...\n",
            "Connecting to reference.iatistandard.org (reference.iatistandard.org)|104.26.5.17|:80... connected.\n",
            "HTTP request sent, awaiting response... 200 OK\n",
            "Length: 3563 (3.5K) [application/json]\n",
            "Saving to: ‘codelists/2/DocumentCategory.json’\n",
            "\n",
            "codelists/2/Documen 100%[===================>]   3.48K  --.-KB/s    in 0s      \n",
            "\n",
            "2019-12-17 16:37:27 (472 MB/s) - ‘codelists/2/DocumentCategory.json’ saved [3563/3563]\n",
            "\n",
            "--2019-12-17 16:37:27--  http://iatistandard.org/203/codelists/downloads/clv2/json/en/AidType.json\n",
            "Resolving iatistandard.org (iatistandard.org)... 134.209.22.132\n",
            "Connecting to iatistandard.org (iatistandard.org)|134.209.22.132|:80... connected.\n",
            "HTTP request sent, awaiting response... 301 Moved Permanently\n",
            "Location: https://iatistandard.org:443/203/codelists/downloads/clv2/json/en/AidType.json [following]\n",
            "--2019-12-17 16:37:27--  https://iatistandard.org/203/codelists/downloads/clv2/json/en/AidType.json\n",
            "Connecting to iatistandard.org (iatistandard.org)|134.209.22.132|:443... connected.\n",
            "HTTP request sent, awaiting response... 301 Moved Permanently\n",
            "Location: http://reference.iatistandard.org/203/codelists/downloads/clv2/json/en/AidType.json [following]\n",
            "--2019-12-17 16:37:27--  http://reference.iatistandard.org/203/codelists/downloads/clv2/json/en/AidType.json\n",
            "Resolving reference.iatistandard.org (reference.iatistandard.org)... 104.26.5.17, 104.26.4.17, 2606:4700:20::681a:411, ...\n",
            "Connecting to reference.iatistandard.org (reference.iatistandard.org)|104.26.5.17|:80... connected.\n",
            "HTTP request sent, awaiting response... 200 OK\n",
            "Length: 9559 (9.3K) [application/json]\n",
            "Saving to: ‘codelists/2/AidType.json’\n",
            "\n",
            "codelists/2/AidType 100%[===================>]   9.33K  --.-KB/s    in 0s      \n",
            "\n",
            "2019-12-17 16:37:28 (141 MB/s) - ‘codelists/2/AidType.json’ saved [9559/9559]\n",
            "\n",
            "--2019-12-17 16:37:28--  http://iatistandard.org/203/codelists/downloads/clv2/json/en/BudgetNotProvided.json\n",
            "Resolving iatistandard.org (iatistandard.org)... 134.209.22.132\n",
            "Connecting to iatistandard.org (iatistandard.org)|134.209.22.132|:80... connected.\n",
            "HTTP request sent, awaiting response... 301 Moved Permanently\n",
            "Location: https://iatistandard.org:443/203/codelists/downloads/clv2/json/en/BudgetNotProvided.json [following]\n",
            "--2019-12-17 16:37:28--  https://iatistandard.org/203/codelists/downloads/clv2/json/en/BudgetNotProvided.json\n",
            "Connecting to iatistandard.org (iatistandard.org)|134.209.22.132|:443... connected.\n",
            "HTTP request sent, awaiting response... 301 Moved Permanently\n",
            "Location: http://reference.iatistandard.org/203/codelists/downloads/clv2/json/en/BudgetNotProvided.json [following]\n",
            "--2019-12-17 16:37:29--  http://reference.iatistandard.org/203/codelists/downloads/clv2/json/en/BudgetNotProvided.json\n",
            "Resolving reference.iatistandard.org (reference.iatistandard.org)... 104.26.5.17, 104.26.4.17, 2606:4700:20::681a:411, ...\n",
            "Connecting to reference.iatistandard.org (reference.iatistandard.org)|104.26.5.17|:80... connected.\n",
            "HTTP request sent, awaiting response... 200 OK\n",
            "Length: 517 [application/json]\n",
            "Saving to: ‘codelists/2/BudgetNotProvided.json’\n",
            "\n",
            "codelists/2/BudgetN 100%[===================>]     517  --.-KB/s    in 0s      \n",
            "\n",
            "2019-12-17 16:37:29 (79.2 MB/s) - ‘codelists/2/BudgetNotProvided.json’ saved [517/517]\n",
            "\n"
          ],
          "name": "stdout"
        }
      ]
    },
    {
      "cell_type": "code",
      "metadata": {
        "id": "nbOzzrBFs3a9",
        "colab_type": "code",
        "colab": {
          "base_uri": "https://localhost:8080/",
          "height": 269
        },
        "outputId": "78348215-58e0-402c-fde3-b23d8226a583"
      },
      "source": [
        "os.chdir('/content')\n",
        "forward_looking_details = pd.read_csv('iati-publishingstats-details/forward_looking_details.csv')\n",
        "forward_looking_details"
      ],
      "execution_count": 28,
      "outputs": [
        {
          "output_type": "execute_result",
          "data": {
            "text/html": [
              "<div>\n",
              "<style scoped>\n",
              "    .dataframe tbody tr th:only-of-type {\n",
              "        vertical-align: middle;\n",
              "    }\n",
              "\n",
              "    .dataframe tbody tr th {\n",
              "        vertical-align: top;\n",
              "    }\n",
              "\n",
              "    .dataframe thead th {\n",
              "        text-align: right;\n",
              "    }\n",
              "</style>\n",
              "<table border=\"1\" class=\"dataframe\">\n",
              "  <thead>\n",
              "    <tr style=\"text-align: right;\">\n",
              "      <th></th>\n",
              "      <th>iati-identifier</th>\n",
              "      <th>First year to fail</th>\n",
              "      <th>End dates</th>\n",
              "      <th>Budget years</th>\n",
              "    </tr>\n",
              "  </thead>\n",
              "  <tbody>\n",
              "    <tr>\n",
              "      <th>0</th>\n",
              "      <td>GB-COH-06368740-P0258</td>\n",
              "      <td>2019</td>\n",
              "      <td>2020-12-31</td>\n",
              "      <td>2018</td>\n",
              "    </tr>\n",
              "    <tr>\n",
              "      <th>1</th>\n",
              "      <td>GB-COH-06368740-P0203</td>\n",
              "      <td>2019</td>\n",
              "      <td>2020-12-31</td>\n",
              "      <td>2017,2017,2017,2017</td>\n",
              "    </tr>\n",
              "    <tr>\n",
              "      <th>2</th>\n",
              "      <td>GB-COH-06368740-P0204</td>\n",
              "      <td>2019</td>\n",
              "      <td>2020-12-31</td>\n",
              "      <td>2017,2017,2017,2017</td>\n",
              "    </tr>\n",
              "    <tr>\n",
              "      <th>3</th>\n",
              "      <td>GB-COH-06368740-P0314</td>\n",
              "      <td>2019</td>\n",
              "      <td>2022-06-30</td>\n",
              "      <td>2018</td>\n",
              "    </tr>\n",
              "    <tr>\n",
              "      <th>4</th>\n",
              "      <td>GB-COH-06368740-P0341</td>\n",
              "      <td>2019</td>\n",
              "      <td>2022-05-31</td>\n",
              "      <td>No budgets</td>\n",
              "    </tr>\n",
              "    <tr>\n",
              "      <th>5</th>\n",
              "      <td>GB-COH-06368740-P0344</td>\n",
              "      <td>2019</td>\n",
              "      <td>2021-12-31</td>\n",
              "      <td>No budgets</td>\n",
              "    </tr>\n",
              "    <tr>\n",
              "      <th>6</th>\n",
              "      <td>GB-COH-06368740-P0358</td>\n",
              "      <td>2019</td>\n",
              "      <td>2021-12-31</td>\n",
              "      <td>No budgets</td>\n",
              "    </tr>\n",
              "  </tbody>\n",
              "</table>\n",
              "</div>"
            ],
            "text/plain": [
              "         iati-identifier  First year to fail   End dates         Budget years\n",
              "0  GB-COH-06368740-P0258                2019  2020-12-31                 2018\n",
              "1  GB-COH-06368740-P0203                2019  2020-12-31  2017,2017,2017,2017\n",
              "2  GB-COH-06368740-P0204                2019  2020-12-31  2017,2017,2017,2017\n",
              "3  GB-COH-06368740-P0314                2019  2022-06-30                 2018\n",
              "4  GB-COH-06368740-P0341                2019  2022-05-31           No budgets\n",
              "5  GB-COH-06368740-P0344                2019  2021-12-31           No budgets\n",
              "6  GB-COH-06368740-P0358                2019  2021-12-31           No budgets"
            ]
          },
          "metadata": {
            "tags": []
          },
          "execution_count": 28
        }
      ]
    }
  ]
}