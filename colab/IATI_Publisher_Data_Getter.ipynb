{
  "nbformat": 4,
  "nbformat_minor": 0,
  "metadata": {
    "colab": {
      "name": "IATI Publisher Data Getter #master",
      "provenance": [],
      "collapsed_sections": [],
      "toc_visible": true
    },
    "kernelspec": {
      "name": "python3",
      "display_name": "Python 3"
    }
  },
  "cells": [
    {
      "cell_type": "markdown",
      "metadata": {
        "id": "y4RJqtbd8E7k",
        "colab_type": "text"
      },
      "source": [
        "# IATI Publisher Data Getter\n"
      ]
    },
    {
      "cell_type": "markdown",
      "metadata": {
        "id": "z3rzDU84VPur",
        "colab_type": "text"
      },
      "source": [
        "| Version | Date | Description |\n",
        "|-|-|-|\n",
        "| 1.0 | 2019-09-23 | Initial run, investigating document link and related activity schema validation errors |\n",
        "| 1.1 | 2019-09-23 | Updating the ad-hoc analysis section for clarity, expanding ruleset validation presentation |\n",
        "| 2.0 | 2019-10-07 | Added non-current filter following PWYF rules, added codelist outputs to the ruleset evaluation, and added an exported .xslx file for ruleset evaluation sheets. |\n",
        "| 2.1 | 2019-11-27 | (Ben W) Use lxml's huge_tree param to support bigger files |\n",
        "|3.0| 2019-01-17 | (Ben W) Add file upload option, run CoVE validation on current activities only, split current_dict into a function so we can test it in another notebook, and run some checks from the IATI Publishing Statistics.\n",
        "|||"
      ]
    },
    {
      "cell_type": "markdown",
      "metadata": {
        "id": "aXq55yKijjjB",
        "colab_type": "text"
      },
      "source": [
        "Copyright (C) 2019 Open Data Services Co-operative Limited\n",
        "\n",
        "This program is free software: you can redistribute it and/or modify\n",
        "it under the terms of the GNU Affero General Public License as\n",
        "published by the Free Software Foundation, either version 3 of the\n",
        "License, or (at your option) any later version.\n",
        "\n",
        "This program is distributed in the hope that it will be useful,\n",
        "but WITHOUT ANY WARRANTY; without even the implied warranty of\n",
        "MERCHANTABILITY or FITNESS FOR A PARTICULAR PURPOSE.  See the\n",
        "GNU Affero General Public License for more details.\n",
        "\n",
        "You should have received a copy of the GNU Affero General Public License\n",
        "along with this program.  If not, see <https://www.gnu.org/licenses/>.\n"
      ]
    },
    {
      "cell_type": "markdown",
      "metadata": {
        "id": "lB2yOyiG8RBY",
        "colab_type": "text"
      },
      "source": [
        "## Imports, Downloading, Merging\n"
      ]
    },
    {
      "cell_type": "markdown",
      "metadata": {
        "id": "oFvi3YUssj6V",
        "colab_type": "text"
      },
      "source": [
        "### Imports"
      ]
    },
    {
      "cell_type": "code",
      "metadata": {
        "id": "NDWG7Opb44L9",
        "colab_type": "code",
        "outputId": "6f4e89bd-4233-4ee5-8a53-a6fb9f1d2182",
        "colab": {
          "base_uri": "https://localhost:8080/",
          "height": 34
        }
      },
      "source": [
        "! pip install XlsxWriter"
      ],
      "execution_count": 34,
      "outputs": [
        {
          "output_type": "stream",
          "text": [
            "Requirement already satisfied: XlsxWriter in /usr/local/lib/python3.6/dist-packages (1.2.7)\n"
          ],
          "name": "stdout"
        }
      ]
    },
    {
      "cell_type": "code",
      "metadata": {
        "id": "YTluluXyiQEI",
        "colab_type": "code",
        "colab": {}
      },
      "source": [
        "import pandas as pd\n",
        "import requests as rq\n",
        "import lxml.etree as ET\n",
        "import json\n",
        "import shutil\n",
        "import copy"
      ],
      "execution_count": 0,
      "outputs": []
    },
    {
      "cell_type": "markdown",
      "metadata": {
        "id": "EnZFK8RT68rR",
        "colab_type": "text"
      },
      "source": [
        "### Setup"
      ]
    },
    {
      "cell_type": "code",
      "metadata": {
        "id": "hqEytTRH6_Fg",
        "colab_type": "code",
        "colab": {}
      },
      "source": [
        "# Warning huge_tree disables security restrictions, so should only be used on trusted XML files\n",
        "parser = ET.XMLParser(huge_tree=True)\n",
        "\n",
        "#define comment removal method\n",
        "def remove_comments(etree):\n",
        "  \n",
        "  comments = etree.xpath('//comment()')\n",
        "\n",
        "  for c in comments:\n",
        "      p = c.getparent()\n",
        "      p.remove(c)\n",
        "\n",
        "  return etree"
      ],
      "execution_count": 0,
      "outputs": []
    },
    {
      "cell_type": "markdown",
      "metadata": {
        "id": "w4VMlH1P4e9G",
        "colab_type": "text"
      },
      "source": [
        "### Download or Upload"
      ]
    },
    {
      "cell_type": "code",
      "metadata": {
        "id": "ub2FHCMxhUV-",
        "colab_type": "code",
        "cellView": "both",
        "colab": {}
      },
      "source": [
        "data_mode = \"Download\" #@param [\"Download\", \"Upload\"]"
      ],
      "execution_count": 0,
      "outputs": []
    },
    {
      "cell_type": "markdown",
      "metadata": {
        "id": "8qKBNcBktLwR",
        "colab_type": "text"
      },
      "source": [
        "#### Download"
      ]
    },
    {
      "cell_type": "markdown",
      "metadata": {
        "id": "E-LI0goTzw-u",
        "colab_type": "text"
      },
      "source": [
        "Input the IATI Registry ID of a given IATI Publisher. \n",
        "\n",
        "Set `current_only` to filter the combined IATI to consider only activities which are 'current' according to the [PWYF ATI Methodology](https://github.com/pwyf/latest-index-indicator-definitions/issues/1).\n",
        "\n",
        "Set `current_until` to provide a date which will be used to calculate the current period (12 months prior to this date).\n",
        "\n",
        "Set `keep_non_current` if you want to download a copy of the non-current activities.\n",
        "\n",
        "Exceptions can be added as an array of dataset_id strings such as this:\n",
        "\n",
        "```json\n",
        "exceptions: [\"dataset1\", \"dataset2, \"...\"]\n",
        "```\n",
        "\n",
        "Currently only Activity files are supported."
      ]
    },
    {
      "cell_type": "code",
      "metadata": {
        "id": "oItTiael2tv4",
        "colab_type": "code",
        "cellView": "both",
        "colab": {}
      },
      "source": [
        "if data_mode == \"Download\":\n",
        "  registry_id = \"dfid\" #@param {type:\"string\"}\n",
        "  filetype = \"Activities\" #@param [\"Activities\", \"Organisations\"]\n",
        "  current_only = True #@param {type:\"boolean\"}\n",
        "  if current_only:\n",
        "    current_until = \"2020-01-29\" #@param {type:\"date\"}\n",
        "    keep_non_current = True #@param {type:\"boolean\"}\n",
        "  exceptions =  [] #@param {type:\"raw\"}"
      ],
      "execution_count": 0,
      "outputs": []
    },
    {
      "cell_type": "code",
      "metadata": {
        "id": "pgb4or9hha5E",
        "colab_type": "code",
        "colab": {}
      },
      "source": [
        "if data_mode == \"Download\":\n",
        "  datasets = pd.read_csv(\"https://iatiregistry.org/csv/download/\"+registry_id)"
      ],
      "execution_count": 0,
      "outputs": []
    },
    {
      "cell_type": "code",
      "metadata": {
        "id": "qG8l9uyzjigQ",
        "colab_type": "code",
        "outputId": "d358686d-7175-4e84-b356-06dc0d3a08ee",
        "colab": {
          "base_uri": "https://localhost:8080/",
          "height": 34
        }
      },
      "source": [
        "if data_mode == \"Download\":\n",
        "  # remove unwanted datasets\n",
        "\n",
        "  if filetype == \"Activities\":\n",
        "    datasets = datasets[datasets['file-type'] != 'organisation']\n",
        "  else: raise Exception('Currently, this notebook only supports IATI Activities, though could be easily modified to support Organisations')\n",
        "\n",
        "  datasets = datasets[~datasets['registry-file-id'].isin(exceptions)]\n",
        "  datasets = datasets.reset_index()\n",
        "\n",
        "  print(\"Removed unwanted activities and setup comment-removal method\")"
      ],
      "execution_count": 40,
      "outputs": [
        {
          "output_type": "stream",
          "text": [
            "Removed unwanted activities and setup comment-removal method\n"
          ],
          "name": "stdout"
        }
      ]
    },
    {
      "cell_type": "code",
      "metadata": {
        "id": "ifv7PR2eovIT",
        "colab_type": "code",
        "outputId": "21876136-e94b-44da-a7cc-5247f4b3eb61",
        "colab": {
          "base_uri": "https://localhost:8080/",
          "height": 1000
        }
      },
      "source": [
        "if data_mode == \"Download\":\n",
        "  print(\"\\nCombining {} IATI files \\n\".format(len(datasets['source-url'])))\n",
        "\n",
        "  # Start with the first file, with comments removed\n",
        "  big_iati = remove_comments(ET.fromstring(rq.get(datasets['source-url'][0]).content, parser=parser))\n",
        "\n",
        "  # Start a dictionary to keep track of the additions\n",
        "  merge_log = {datasets['source-url'][0]: len(big_iati.getchildren())}\n",
        "\n",
        "  # Iterate through the 2nd through last file and\n",
        "  # insert their activtities to into the first\n",
        "  # and update the dictionary\n",
        "  for url in datasets['source-url'][1:]:\n",
        "      data = remove_comments(ET.fromstring(rq.get(url).content))\n",
        "      merge_log[url] = len(data.getchildren())\n",
        "      big_iati.extend(data.getchildren())\n",
        "\n",
        "  # Print a small report on the merging\n",
        "  print(\"Files Merged: \")\n",
        "  for file, activity_count in merge_log.items():\n",
        "      print(\"|-> {} activities from {}\".format(activity_count, file))\n",
        "  print(\"|--> {} in total\".format(len(big_iati.getchildren())))\n",
        "\n",
        "  with open(\"combined.xml\", \"wb+\") as out_file:\n",
        "      out_file.write(ET.tostring(big_iati, encoding='utf8', pretty_print=True))"
      ],
      "execution_count": 41,
      "outputs": [
        {
          "output_type": "stream",
          "text": [
            "\n",
            "Combining 125 IATI files \n",
            "\n",
            "Files Merged: \n",
            "|-> 10 activities from http://iati.dfid.gov.uk/iati_files/Country/DFID-Ivory-Coast-CI.xml\n",
            "|-> 10 activities from http://iati.dfid.gov.uk/iati_files/Country/DFID-Niger-NE.xml\n",
            "|-> 101 activities from http://iati.dfid.gov.uk/iati_files/Country/DFID-Jordan-JO.xml\n",
            "|-> 11 activities from http://iati.dfid.gov.uk/iati_files/Country/DFID-Laos-LA.xml\n",
            "|-> 11 activities from http://iati.dfid.gov.uk/iati_files/Country/DFID-Mali-ML.xml\n",
            "|-> 11 activities from http://iati.dfid.gov.uk/iati_files/Country/DFID-Nicaragua-NI.xml\n",
            "|-> 119 activities from http://iati.dfid.gov.uk/iati_files/Country/DFID-Tajikistan-TJ.xml\n",
            "|-> 12 activities from http://iati.dfid.gov.uk/iati_files/Country/DFID-Russia-RU.xml\n",
            "|-> 13 activities from http://iati.dfid.gov.uk/iati_files/Country/DFID-Chad-TD.xml\n",
            "|-> 14 activities from http://iati.dfid.gov.uk/iati_files/Region/DFID-North-of-Sahara-regional-189.xml\n",
            "|-> 14 activities from http://iati.dfid.gov.uk/iati_files/Country/DFID-United-Kingdom-GB.xml\n",
            "|-> 15 activities from http://iati.dfid.gov.uk/iati_files/Country/DFID-Brazil-BR.xml\n",
            "|-> 16 activities from http://iati.dfid.gov.uk/iati_files/Country/DFID-Angola-AO.xml\n",
            "|-> 17 activities from http://iati.dfid.gov.uk/iati_files/Country/DFID-Egypt-EG.xml\n",
            "|-> 17 activities from http://iati.dfid.gov.uk/iati_files/Country/DFID-Philippines-PH.xml\n",
            "|-> 17 activities from http://iati.dfid.gov.uk/iati_files/Country/DFID-Turkey-TR.xml\n",
            "|-> 178 activities from http://iati.dfid.gov.uk/iati_files/Country/DFID-St-Helena-SH.xml\n",
            "|-> 189 activities from http://iati.dfid.gov.uk/iati_files/Region/DFID-Asia-regional-798.xml\n",
            "|-> 197 activities from http://iati.dfid.gov.uk/iati_files/Country/DFID-Montserrat-MS.xml\n",
            "|-> 2 activities from http://iati.dfid.gov.uk/iati_files/Country/DFID-Samoa-American-AS.xml\n",
            "|-> 2 activities from http://iati.dfid.gov.uk/iati_files/Country/DFID-Benin-BJ.xml\n",
            "|-> 2 activities from http://iati.dfid.gov.uk/iati_files/Country/DFID-Cuba-CU.xml\n",
            "|-> 2 activities from http://iati.dfid.gov.uk/iati_files/Country/DFID-Cape-Verde-CV.xml\n",
            "|-> 2 activities from http://iati.dfid.gov.uk/iati_files/Country/DFID-Fiji-FJ.xml\n",
            "|-> 2 activities from http://iati.dfid.gov.uk/iati_files/Country/DFID-Guinea-GN.xml\n",
            "|-> 2 activities from http://iati.dfid.gov.uk/iati_files/Country/DFID-Honduras-HN.xml\n",
            "|-> 2 activities from http://iati.dfid.gov.uk/iati_files/Country/DFID-St-Lucia-LC.xml\n",
            "|-> 2 activities from http://iati.dfid.gov.uk/iati_files/Country/DFID-Mongolia-MN.xml\n",
            "|-> 2 activities from http://iati.dfid.gov.uk/iati_files/Country/DFID-Maldives-MV.xml\n",
            "|-> 2 activities from http://iati.dfid.gov.uk/iati_files/Country/DFID-Namibia-NA.xml\n",
            "|-> 2 activities from http://iati.dfid.gov.uk/iati_files/Country/DFID-Togo-TG.xml\n",
            "|-> 2 activities from http://iati.dfid.gov.uk/iati_files/Country/DFID-Thailand-TH.xml\n",
            "|-> 2 activities from http://iati.dfid.gov.uk/iati_files/Country/DFID-East-Timor-TL.xml\n",
            "|-> 2 activities from http://iati.dfid.gov.uk/iati_files/Country/DFID-Samoa-WS.xml\n",
            "|-> 20 activities from http://iati.dfid.gov.uk/iati_files/Country/DFID-The-Gambia-GM.xml\n",
            "|-> 201 activities from http://iati.dfid.gov.uk/iati_files/Country/DFID-Yemen-YE.xml\n",
            "|-> 232 activities from http://iati.dfid.gov.uk/iati_files/Region/DFID-West-Indies-regional-380.xml\n",
            "|-> 235 activities from http://iati.dfid.gov.uk/iati_files/Region/DFID-South-of-Sahara-regional-289.xml\n",
            "|-> 237 activities from http://iati.dfid.gov.uk/iati_files/Country/DFID-Zimbabwe-ZW.xml\n",
            "|-> 24 activities from http://iati.dfid.gov.uk/iati_files/Country/DFID-Guyana-GY.xml\n",
            "|-> 276 activities from http://iati.dfid.gov.uk/iati_files/Country/DFID-South-Sudan-SS.xml\n",
            "|-> 296 activities from http://iati.dfid.gov.uk/iati_files/Country/DFID-Myanmar-MM.xml\n",
            "|-> 297 activities from http://iati.dfid.gov.uk/iati_files/Country/DFID-Rwanda-RW.xml\n",
            "|-> 297 activities from http://iati.dfid.gov.uk/iati_files/Country/DFID-Sudan-SD.xml\n",
            "|-> 3 activities from http://iati.dfid.gov.uk/iati_files/Country/DFID-Chile-CL.xml\n",
            "|-> 3 activities from http://iati.dfid.gov.uk/iati_files/Country/DFID-Ecuador-EC.xml\n",
            "|-> 300 activities from http://iati.dfid.gov.uk/iati_files/Country/DFID-Zambia-ZM.xml\n",
            "|-> 314 activities from http://iati.dfid.gov.uk/iati_files/Country/DFID-Mozambique-MZ.xml\n",
            "|-> 343 activities from http://iati.dfid.gov.uk/iati_files/Country/DFID-Ghana-GH.xml\n",
            "|-> 36 activities from http://iati.dfid.gov.uk/iati_files/Country/DFID-Pitcairn-Islands-PN.xml\n",
            "|-> 387 activities from http://iati.dfid.gov.uk/iati_files/Country/DFID-Uganda-UG.xml\n",
            "|-> 39 activities from http://iati.dfid.gov.uk/iati_files/Country/DFID-Jamaica-JM.xml\n",
            "|-> 394 activities from http://iati.dfid.gov.uk/iati_files/Country/DFID-Somalia-SO.xml\n",
            "|-> 4 activities from http://iati.dfid.gov.uk/iati_files/Country/DFID-Congo-CG.xml\n",
            "|-> 4 activities from http://iati.dfid.gov.uk/iati_files/Country/DFID-Japan-JP.xml\n",
            "|-> 4 activities from http://iati.dfid.gov.uk/iati_files/Country/DFID-Solomon-Islands-SB.xml\n",
            "|-> 4 activities from http://iati.dfid.gov.uk/iati_files/Country/DFID-Vanuatu-VU.xml\n",
            "|-> 43 activities from http://iati.dfid.gov.uk/iati_files/Country/DFID-Serbia-RS.xml\n",
            "|-> 432 activities from http://iati.dfid.gov.uk/iati_files/Country/DFID-Malawi-MW.xml\n",
            "|-> 44 activities from http://iati.dfid.gov.uk/iati_files/Country/DFID-Central-African-Republic-CF.xml\n",
            "|-> 440 activities from http://iati.dfid.gov.uk/iati_files/Country/DFID-India-IN.xml\n",
            "|-> 444 activities from http://iati.dfid.gov.uk/iati_files/Country/DFID-Nepal-NP.xml\n",
            "|-> 453 activities from http://iati.dfid.gov.uk/iati_files/Country/DFID-Afghanistan-AF.xml\n",
            "|-> 456 activities from http://iati.dfid.gov.uk/iati_files/Country/DFID-Tanzania-TZ.xml\n",
            "|-> 466 activities from http://iati.dfid.gov.uk/iati_files/Country/DFID-Bangladesh-BD.xml\n",
            "|-> 48 activities from http://iati.dfid.gov.uk/iati_files/Country/DFID-Sri-Lanka-LK.xml\n",
            "|-> 492 activities from http://iati.dfid.gov.uk/iati_files/Country/DFID-Sierra-Leone-SL.xml\n",
            "|-> 5 activities from http://iati.dfid.gov.uk/iati_files/Country/DFID-Burkina-Faso-BF.xml\n",
            "|-> 5 activities from http://iati.dfid.gov.uk/iati_files/Country/DFID-Guatemala-GT.xml\n",
            "|-> 5 activities from http://iati.dfid.gov.uk/iati_files/Country/DFID-Tunisia-TN.xml\n",
            "|-> 507 activities from http://iati.dfid.gov.uk/iati_files/Country/DFID-Nigeria-NG.xml\n",
            "|-> 52 activities from http://iati.dfid.gov.uk/iati_files/Country/DFID-Bosnia-and-Herzegovina-BA.xml\n",
            "|-> 520 activities from http://iati.dfid.gov.uk/iati_files/Country/DFID-Ethiopia-ET.xml\n",
            "|-> 53 activities from http://iati.dfid.gov.uk/iati_files/Region/DFID-Europe-regional-89.xml\n",
            "|-> 54 activities from http://iati.dfid.gov.uk/iati_files/Country/DFID-Haiti-HT.xml\n",
            "|-> 56 activities from http://iati.dfid.gov.uk/iati_files/Country/DFID-Kyrgyzstan-KG.xml\n",
            "|-> 56 activities from http://iati.dfid.gov.uk/iati_files/Country/DFID-Ukraine-UA.xml\n",
            "|-> 562 activities from http://iati.dfid.gov.uk/iati_files/Country/DFID-Pakistan-PK.xml\n",
            "|-> 6 activities from http://iati.dfid.gov.uk/iati_files/Country/DFID-Papua-New-Guinea-PG.xml\n",
            "|-> 6 activities from http://iati.dfid.gov.uk/iati_files/Country/DFID-Senegal-SN.xml\n",
            "|-> 64 activities from http://iati.dfid.gov.uk/iati_files/Country/DFID-Cambodia-KH.xml\n",
            "|-> 64 activities from http://iati.dfid.gov.uk/iati_files/Country/DFID-Liberia-LR.xml\n",
            "|-> 65 activities from http://iati.dfid.gov.uk/iati_files/Country/DFID-Kosovo-XK.xml\n",
            "|-> 7 activities from http://iati.dfid.gov.uk/iati_files/Country/DFID-Georgia-GE.xml\n",
            "|-> 7 activities from http://iati.dfid.gov.uk/iati_files/Country/DFID-Madagascar-MG.xml\n",
            "|-> 79 activities from http://iati.dfid.gov.uk/iati_files/Country/DFID-Iraq-IQ.xml\n",
            "|-> 8 activities from http://iati.dfid.gov.uk/iati_files/Country/DFID-Albania-AL.xml\n",
            "|-> 8 activities from http://iati.dfid.gov.uk/iati_files/Country/DFID-Peru-PE.xml\n",
            "|-> 81 activities from http://iati.dfid.gov.uk/iati_files/Region/DFID-Middle-East-regional-589.xml\n",
            "|-> 81 activities from http://iati.dfid.gov.uk/iati_files/Country/DFID-Burundi-BI.xml\n",
            "|-> 85 activities from http://iati.dfid.gov.uk/iati_files/Country/DFID-Libya-LY.xml\n",
            "|-> 92 activities from http://iati.dfid.gov.uk/iati_files/Country/DFID-Lebanon-LB.xml\n",
            "|-> 95 activities from http://iati.dfid.gov.uk/iati_files/Country/DFID-South-Africa-ZA.xml\n",
            "|-> 953 activities from http://iati.dfid.gov.uk/iati_files/Region/DFID-Africa-regional-298.xml\n",
            "|-> 98 activities from http://iati.dfid.gov.uk/iati_files/Country/DFID-China-CN.xml\n",
            "|-> 98 activities from http://iati.dfid.gov.uk/iati_files/Country/DFID-Vietnam-VN.xml\n",
            "|-> 12 activities from http://iati.dfid.gov.uk/iati_files/Region/DFID-North-and-Central-America-regional-389.xml\n",
            "|-> 1278 activities from http://iati.dfid.gov.uk/iati_files/Region/DFID-Developing-countries-unspecified-998-3.xml\n",
            "|-> 1288 activities from http://iati.dfid.gov.uk/iati_files/Region/DFID-Developing-countries-unspecified-998-2.xml\n",
            "|-> 1335 activities from http://iati.dfid.gov.uk/iati_files/Region/DFID-Developing-countries-unspecified-998-1.xml\n",
            "|-> 14 activities from http://iati.dfid.gov.uk/iati_files/Country/DFID-Eritrea-ER.xml\n",
            "|-> 15 activities from http://iati.dfid.gov.uk/iati_files/Country/DFID-Turks-and-Caicos-Islands-TC.xml\n",
            "|-> 158 activities from http://iati.dfid.gov.uk/iati_files/Country/DFID-Indonesia-ID.xml\n",
            "|-> 185 activities from http://iati.dfid.gov.uk/iati_files/Country/DFID-Syria-SY.xml\n",
            "|-> 189 activities from http://iati.dfid.gov.uk/iati_files/Country/DFID-Occupied-Palestinian-Territories-OPT-PS.xml\n",
            "|-> 1913 activities from http://iati.dfid.gov.uk/iati_files/Region/DFID-Developing-countries-unspecified-998-4.xml\n",
            "|-> 2 activities from http://iati.dfid.gov.uk/iati_files/Country/DFID-United-Arab-Emirates-AE.xml\n",
            "|-> 2 activities from http://iati.dfid.gov.uk/iati_files/Country/DFID-Bahrain-BH.xml\n",
            "|-> 2 activities from http://iati.dfid.gov.uk/iati_files/Country/DFID-The-Bahamas-BS.xml\n",
            "|-> 2 activities from http://iati.dfid.gov.uk/iati_files/Country/DFID-Mauritania-MR.xml\n",
            "|-> 2 activities from http://iati.dfid.gov.uk/iati_files/Country/DFID-Uzbekistan-UZ.xml\n",
            "|-> 2 activities from http://iati.dfid.gov.uk/iati_files/Country/DFID-VIRGIN-ISLANDS-BRITISH-VG.xml\n",
            "|-> 26 activities from http://iati.dfid.gov.uk/iati_files/Country/DFID-Lesotho-LS.xml\n",
            "|-> 27 activities from http://iati.dfid.gov.uk/iati_files/Country/DFID-Cameroon-CM.xml\n",
            "|-> 3 activities from http://iati.dfid.gov.uk/iati_files/Region/DFID-Oceania-regional-889.xml\n",
            "|-> 325 activities from http://iati.dfid.gov.uk/iati_files/Country/DFID-Congo-Democratic-Republic-CD.xml\n",
            "|-> 4 activities from http://iati.dfid.gov.uk/iati_files/Country/DFID-Venezuela-VE.xml\n",
            "|-> 43 activities from http://iati.dfid.gov.uk/iati_files/Country/DFID-Tristan-da-Cunha-TA.xml\n",
            "|-> 44 activities from http://iati.dfid.gov.uk/iati_files/Country/DFID-Moldova-MD.xml\n",
            "|-> 524 activities from http://iati.dfid.gov.uk/iati_files/Country/DFID-Kenya-KE.xml\n",
            "|-> 7 activities from http://iati.dfid.gov.uk/iati_files/Country/DFID-Armenia-AM.xml\n",
            "|-> 7 activities from http://iati.dfid.gov.uk/iati_files/Country/DFID-Greece-GR.xml\n",
            "|-> 8 activities from http://iati.dfid.gov.uk/iati_files/Country/DFID-Ascension-Island-AC.xml\n",
            "|-> 9 activities from http://iati.dfid.gov.uk/iati_files/Region/DFID-South-Asia-regional-679.xml\n",
            "|-> 9 activities from http://iati.dfid.gov.uk/iati_files/Country/DFID-Dominica-DM.xml\n",
            "|--> 19477 in total\n"
          ],
          "name": "stdout"
        }
      ]
    },
    {
      "cell_type": "markdown",
      "metadata": {
        "id": "qhPAbNSatWNr",
        "colab_type": "text"
      },
      "source": [
        "#### Upload"
      ]
    },
    {
      "cell_type": "code",
      "metadata": {
        "colab_type": "code",
        "cellView": "both",
        "id": "xirvSb4eANNO",
        "colab": {}
      },
      "source": [
        "if data_mode == \"Upload\":\n",
        "  filename = \"upload.xml\" #@param {type:\"string\"}\n",
        "  current_only = True #@param {type:\"boolean\"}\n",
        "  if current_only == True:\n",
        "    current_until = \"2020-01-29\" #@param {type:\"date\"}\n",
        "    keep_non_current = False #@param {type:\"boolean\"}"
      ],
      "execution_count": 0,
      "outputs": []
    },
    {
      "cell_type": "markdown",
      "metadata": {
        "id": "oWxN_d25t6Xs",
        "colab_type": "text"
      },
      "source": [
        "Go to View->\"Table of contents\" if the left pane isn't open, click Files at the top, then click Upload. Upload the file, then update `filename` below to match the filename you uploaded. Note that uploaded files will be cleared when the session ends."
      ]
    },
    {
      "cell_type": "code",
      "metadata": {
        "id": "3Sv3fEjYyejx",
        "colab_type": "code",
        "colab": {}
      },
      "source": [
        "if data_mode == \"Upload\":\n",
        "  shutil.copyfile(filename, 'combined.xml')\n",
        "  big_iati = remove_comments(ET.parse('combined.xml', parser=parser).getroot())"
      ],
      "execution_count": 0,
      "outputs": []
    },
    {
      "cell_type": "markdown",
      "metadata": {
        "id": "kHWwujRi_UxW",
        "colab_type": "text"
      },
      "source": [
        ""
      ]
    },
    {
      "cell_type": "markdown",
      "metadata": {
        "id": "Q1H9P72GtY6V",
        "colab_type": "text"
      },
      "source": [
        "### Filter current activities"
      ]
    },
    {
      "cell_type": "code",
      "metadata": {
        "id": "tRGl8fkYpyN2",
        "colab_type": "code",
        "colab": {}
      },
      "source": [
        "import datetime as dt\n",
        "from dateutil.relativedelta import relativedelta\n",
        "\n",
        "selected_date = dt.datetime.strptime(current_until, \"%Y-%m-%d\")\n",
        "\n",
        "def current_dict(activity):\n",
        "  status_check = False\n",
        "  planned_end_date_check = False\n",
        "  actual_end_date_check = False\n",
        "  transaction_date_check = False\n",
        "\n",
        "  # print(\"Activity {} of {}\".format(count, len(big_iati)))\n",
        "  \n",
        "  if activity.xpath(\"activity-status[@code=2]\"):\n",
        "    status_check = True\n",
        "\n",
        "  if activity.xpath(\"activity-date[@type=3]/@iso-date\"):\n",
        "    date_time_obj = dt.datetime.strptime(activity.xpath(\"activity-date[@type=3]/@iso-date\")[0], '%Y-%m-%d')\n",
        "    if date_time_obj > (selected_date - relativedelta(years=1)):\n",
        "      planned_end_date_check = True\n",
        "  \n",
        "  if activity.xpath(\"activity-date[@type=4]/@iso-date\"):\n",
        "    date_time_obj = dt.datetime.strptime(activity.xpath(\"activity-date[@type=4]/@iso-date\")[0], '%Y-%m-%d')\n",
        "    if date_time_obj > (selected_date - relativedelta(years=1)):\n",
        "      actual_end_date_check = True\n",
        "\n",
        "  if activity.xpath(\"transaction/transaction-type[@code=2 or @code=3 or @code=4]\"):\n",
        "    dates = activity.xpath(\"transaction[transaction-type[@code=2 or @code=3 or @code=4]]/transaction-date/@iso-date\")\n",
        "    date_truths = [dt.datetime.strptime(date, '%Y-%m-%d') > (selected_date - relativedelta(years=1)) for date in dates]\n",
        "    if True in date_truths:\n",
        "      transaction_date_check = True\n",
        "\n",
        "  pwyf_current = status_check or planned_end_date_check or actual_end_date_check or transaction_date_check\n",
        "\n",
        "  return {\n",
        "    'iati-identifier': activity.findtext('iati-identifier'),\n",
        "    'status_check': status_check, \n",
        "    'planned_end_date_check': planned_end_date_check, \n",
        "    'actual_end_date_check': actual_end_date_check, \n",
        "    'transaction_date_check': transaction_date_check,\n",
        "    'pwyf_current': pwyf_current,\n",
        "  }\n",
        "  "
      ],
      "execution_count": 0,
      "outputs": []
    },
    {
      "cell_type": "code",
      "metadata": {
        "id": "NONf-fVa5diE",
        "colab_type": "code",
        "colab": {}
      },
      "source": [
        "# Filter out non-current activities, if appropriate\n",
        "# See https://github.com/pwyf/latest-index-indicator-definitions/issues/1\n",
        "\n",
        "log_columns = [\"iati-identifier\", \"status_check\", \"planned_end_date_check\", \"actual_end_date_check\", \"transaction_date_check\", \"pwyf_current\"]\n",
        "count = 1\n",
        "current_check_log = pd.DataFrame(columns=log_columns)\n",
        "\n",
        "for activity in big_iati:\n",
        "  current_check_log = current_check_log.append(current_dict(activity), ignore_index=True)\n",
        "  count = count + 1\n",
        "    \n",
        "current_check_log.to_csv(\"current_check_log.csv\")"
      ],
      "execution_count": 0,
      "outputs": []
    },
    {
      "cell_type": "code",
      "metadata": {
        "id": "cUq37FhD14Lt",
        "colab_type": "code",
        "cellView": "both",
        "colab": {}
      },
      "source": [
        "big_iati_archived = copy.copy(big_iati)"
      ],
      "execution_count": 0,
      "outputs": []
    },
    {
      "cell_type": "code",
      "metadata": {
        "id": "zsxbSxwyvTe8",
        "colab_type": "code",
        "colab": {}
      },
      "source": [
        "import datetime as dt\n",
        "\n",
        "selected_date = dt.datetime.strptime(current_until, \"%Y-%m-%d\")\n",
        "\n",
        "def print_non_current(activity):\n",
        "    print_output = \"\"\n",
        "\n",
        "    iati_identifier = activity.findtext('iati-identifier')\n",
        "    activity_status = activity.xpath(\"activity-status\")[0].values()\n",
        "    print_output += \"-----------------------Non-Current Activity-------------------------\\n\"\n",
        "    print_output += \"iati-identifier: {}\\n\".format(iati_identifier)\n",
        "    print_output += \"activity-status: {}\\n\".format(activity_status)\n",
        "\n",
        "    if activity.xpath(\"activity-date[@type=3]/@iso-date\"):\n",
        "      date_time_obj = dt.datetime.strptime(activity.xpath(\"activity-date[@type=3]/@iso-date\")[0], '%Y-%m-%d')\n",
        "      print_output += \"activity-date[@type=3]/@iso-date: {}\\n\".format(date_time_obj)\n",
        "      \n",
        "    if activity.xpath(\"activity-date[@type=4]/@iso-date\"):\n",
        "      date_time_obj = dt.datetime.strptime(activity.xpath(\"activity-date[@type=4]/@iso-date\")[0], '%Y-%m-%d')\n",
        "      print_output += \"activity-date[@type=4]/@iso-date: {}\\n\".format(date_time_obj)\n",
        "\n",
        "\n",
        "    if activity.xpath(\"transaction/transaction-type[@code=2]\"):\n",
        "      dates = activity.xpath(\"transaction[transaction-type[@code=2]]/transaction-date/@iso-date\")\n",
        "      print_output += \"transaction/transaction-type[@code=2]: {}\\n\".format(dates)\n",
        "\n",
        "    if activity.xpath(\"transaction/transaction-type[@code=3]\"):\n",
        "      dates = activity.xpath(\"transaction[transaction-type[@code=3]]/transaction-date/@iso-date\")\n",
        "      print_output += \"transaction/transaction-type[@code=3]: {}\\n\".format(dates)\n",
        "\n",
        "    if activity.xpath(\"transaction/transaction-type[@code=4]\"):\n",
        "      dates = activity.xpath(\"transaction[transaction-type[@code=4]]/transaction-date/@iso-date\")\n",
        "      print_output += \"transaction/transaction-type[@code=4]: {}\\n\".format(dates)\n",
        "\n",
        "    return print_output\n",
        "    "
      ],
      "execution_count": 0,
      "outputs": []
    },
    {
      "cell_type": "code",
      "metadata": {
        "id": "6KBo4l0_yGKI",
        "colab_type": "code",
        "outputId": "f2436ae0-3725-41b3-aa32-61b01b675250",
        "colab": {
          "base_uri": "https://localhost:8080/",
          "height": 119
        }
      },
      "source": [
        "cur_length = len(big_iati)\n",
        "if keep_non_current:\n",
        "  non_current_iati = copy.copy(big_iati)\n",
        "\n",
        "if current_only:\n",
        "  for activity in big_iati:\n",
        "    if activity.findtext('iati-identifier') in current_check_log.loc[current_check_log['pwyf_current'] == False, 'iati-identifier'].values: \n",
        "      activity.getparent().remove(activity)\n",
        "  if keep_non_current:\n",
        "    for activity in non_current_iati:\n",
        "      if activity.findtext('iati-identifier') in current_check_log.loc[current_check_log['pwyf_current'] == True, 'iati-identifier'].values:  \n",
        "        activity.getparent().remove(activity)\n",
        "       \n",
        "\n",
        "  print(\"Removed {} non-current activities from a total of {}.\".format((cur_length-len(big_iati)),cur_length))\n",
        "  print(\"{} current activities remain.\".format(len(big_iati)))\n",
        "  if keep_non_current:\n",
        "    print(\"The {} non-current activities have been stored in non_current_details.xml\".format((len(non_current_iati))))\n",
        "\n",
        "\n",
        "else:\n",
        "  print(\"As `current_only` is set to False, all retrieved activities have been kept\")"
      ],
      "execution_count": 48,
      "outputs": [
        {
          "output_type": "stream",
          "text": [
            "Removed 13626 non-current activities from a total of 19477.\n",
            "5851 current activities remain.\n",
            "The 13626 non-current activities have been stored in non_current_details.xml\n",
            "Removed 13626 non-current activities from a total of 19477.\n",
            "5851 current activities remain.\n",
            "The 13626 non-current activities have been stored in non_current_details.xml\n"
          ],
          "name": "stdout"
        }
      ]
    },
    {
      "cell_type": "code",
      "metadata": {
        "id": "jrgYDTWZ3iPn",
        "colab_type": "code",
        "colab": {}
      },
      "source": [
        "with open(\"combined_current.xml\", \"wb+\") as out_file:\n",
        "  out_file.write(ET.tostring(big_iati, encoding='utf8', pretty_print=True))"
      ],
      "execution_count": 0,
      "outputs": []
    },
    {
      "cell_type": "code",
      "metadata": {
        "colab_type": "code",
        "id": "qftCj-54Bz21",
        "colab": {}
      },
      "source": [
        "if current_only and keep_non_current:\n",
        "  with open(\"combined_non_current.xml\", \"wb+\") as out_file:\n",
        "    out_file.write(ET.tostring(non_current_iati, encoding='utf8', pretty_print=True))\n",
        "  \n",
        "  with open(\"non_current_details.txt\", \"w\") as out_file:\n",
        "    out_file.write(\"There are {} non-current activities.\\n\".format(len(non_current_iati)))\n",
        "    for activity in non_current_iati:\n",
        "      out_file.write(print_non_current(activity))"
      ],
      "execution_count": 0,
      "outputs": []
    },
    {
      "cell_type": "markdown",
      "metadata": {
        "id": "5VVGUhui8bDV",
        "colab_type": "text"
      },
      "source": [
        "## Ad Hoc Analysis"
      ]
    },
    {
      "cell_type": "markdown",
      "metadata": {
        "id": "-Q6UP0JPXuJ3",
        "colab_type": "text"
      },
      "source": [
        "This section can be used to evaluate specifica aspects of the total corpus of data, for instance, using `coverage_check()` you can look at the number of activities which include specific elements, or which satisfy certain contditions. This requires some python and XML knowledge. Some examples have been included below."
      ]
    },
    {
      "cell_type": "code",
      "metadata": {
        "id": "Cv-ovpVqo5Mg",
        "colab_type": "code",
        "colab": {}
      },
      "source": [
        "def coverage_check(tree, path, manual_list_entry=False):\n",
        "  if manual_list_entry:\n",
        "    denominator = len(tree)\n",
        "    numerator = len(path)\n",
        "  else:\n",
        "    denominator = len(tree.getchildren())\n",
        "    numerator = len(tree.xpath(path))\n",
        "\n",
        "  coverage = numerator / denominator\n",
        "  return denominator, numerator, coverage"
      ],
      "execution_count": 0,
      "outputs": []
    },
    {
      "cell_type": "code",
      "metadata": {
        "id": "4Z7QBc4Xt1pE",
        "colab_type": "code",
        "outputId": "e139a943-ae96-46f3-ab56-f69fa178f84a",
        "colab": {
          "base_uri": "https://localhost:8080/",
          "height": 34
        }
      },
      "source": [
        "coverage_check(big_iati, \"iati-activity[transaction]\")"
      ],
      "execution_count": 52,
      "outputs": [
        {
          "output_type": "execute_result",
          "data": {
            "text/plain": [
              "(5851, 3939, 0.6732182532900359)"
            ]
          },
          "metadata": {
            "tags": []
          },
          "execution_count": 19
        },
        {
          "output_type": "execute_result",
          "data": {
            "text/plain": [
              "(5851, 3939, 0.6732182532900359)"
            ]
          },
          "metadata": {
            "tags": []
          },
          "execution_count": 52
        }
      ]
    },
    {
      "cell_type": "code",
      "metadata": {
        "id": "gegznTlTYHMG",
        "colab_type": "code",
        "outputId": "bbe1d018-c045-4008-a9a9-bc160b767568",
        "colab": {
          "base_uri": "https://localhost:8080/",
          "height": 34
        }
      },
      "source": [
        "coverage_check(big_iati, \"iati-activity[capital-spend]\")"
      ],
      "execution_count": 53,
      "outputs": [
        {
          "output_type": "execute_result",
          "data": {
            "text/plain": [
              "(5851, 4570, 0.7810630661425397)"
            ]
          },
          "metadata": {
            "tags": []
          },
          "execution_count": 20
        },
        {
          "output_type": "execute_result",
          "data": {
            "text/plain": [
              "(5851, 4570, 0.7810630661425397)"
            ]
          },
          "metadata": {
            "tags": []
          },
          "execution_count": 53
        }
      ]
    },
    {
      "cell_type": "code",
      "metadata": {
        "id": "9kYuGLCQYOBa",
        "colab_type": "code",
        "outputId": "343aaaed-6d49-4fde-f540-1da4a12a2366",
        "colab": {
          "base_uri": "https://localhost:8080/",
          "height": 34
        }
      },
      "source": [
        "# activities with a disbursement\n",
        "coverage_check(big_iati, \"iati-activity[transaction/transaction-type/@code = 3]\")"
      ],
      "execution_count": 54,
      "outputs": [
        {
          "output_type": "execute_result",
          "data": {
            "text/plain": [
              "(5851, 3567, 0.6096393778841224)"
            ]
          },
          "metadata": {
            "tags": []
          },
          "execution_count": 21
        },
        {
          "output_type": "execute_result",
          "data": {
            "text/plain": [
              "(5851, 3567, 0.6096393778841224)"
            ]
          },
          "metadata": {
            "tags": []
          },
          "execution_count": 54
        }
      ]
    },
    {
      "cell_type": "code",
      "metadata": {
        "id": "kxvlVOYtYs-E",
        "colab_type": "code",
        "outputId": "fadd20ed-9fd7-4670-dbe7-74385f534ed9",
        "colab": {
          "base_uri": "https://localhost:8080/",
          "height": 34
        }
      },
      "source": [
        "# Manual entry of two lists to see the proportion of transactions which are disbursements\n",
        "coverage_check(\n",
        "    big_iati.xpath(\"iati-activity/transaction\"), \n",
        "    big_iati.xpath(\"iati-activity/transaction[transaction-type/@code = 3]\"), \n",
        "    True)"
      ],
      "execution_count": 55,
      "outputs": [
        {
          "output_type": "execute_result",
          "data": {
            "text/plain": [
              "(54551, 37882, 0.6944327326721783)"
            ]
          },
          "metadata": {
            "tags": []
          },
          "execution_count": 22
        },
        {
          "output_type": "execute_result",
          "data": {
            "text/plain": [
              "(54551, 37882, 0.6944327326721783)"
            ]
          },
          "metadata": {
            "tags": []
          },
          "execution_count": 55
        }
      ]
    },
    {
      "cell_type": "markdown",
      "metadata": {
        "id": "IYvJofhk8g1R",
        "colab_type": "text"
      },
      "source": [
        "## Batch CoVE Validation"
      ]
    },
    {
      "cell_type": "code",
      "metadata": {
        "id": "L-X7-aaR8j9Z",
        "colab_type": "code",
        "outputId": "67f455b6-5274-4091-c2bd-981daa9b9f5e",
        "colab": {
          "base_uri": "https://localhost:8080/",
          "height": 68
        }
      },
      "source": [
        "json_validation_filepath = 'validation.json'\n",
        "\n",
        "url = 'https://iati.cove.opendataservices.coop/api_test'\n",
        "files = {'file': open(\"combined_current.xml\", 'rb')}\n",
        "r = rq.post(url, files=files, data={\"name\": \"combined_current.xml\"})\n",
        "\n",
        "print(r)\n",
        "\n",
        "print(\"CoVE validation was successful.\" if r.ok else \"Something went wrong.\")\n",
        "\n",
        "validation_json = r.json()\n",
        "\n",
        "with open(json_validation_filepath, \"w\") as out_file:\n",
        "    json.dump(validation_json, out_file)\n",
        "\n",
        "print('Validation JSON file has been written to {}.'.format(\n",
        "    json_validation_filepath))"
      ],
      "execution_count": 23,
      "outputs": [
        {
          "output_type": "stream",
          "text": [
            "<Response [200]>\n",
            "CoVE validation was successful.\n",
            "Validation JSON file has been written to validation.json.\n"
          ],
          "name": "stdout"
        }
      ]
    },
    {
      "cell_type": "code",
      "metadata": {
        "id": "k5K3G7Ky8zI0",
        "colab_type": "code",
        "outputId": "a8ee0544-42b0-42fc-a116-06b5a9930d42",
        "colab": {
          "base_uri": "https://localhost:8080/",
          "height": 136
        }
      },
      "source": [
        "ruleset_table = pd.DataFrame(data=validation_json['ruleset_errors'])\n",
        "schema_table = pd.DataFrame(data=validation_json['validation_errors'])\n",
        "embedded_codelist_table = pd.DataFrame(data=validation_json['invalid_embedded_codelist_values'])\n",
        "non_embedded_codelist_table = pd.DataFrame(data=validation_json['invalid_non_embedded_codelist_values'])\n",
        "\n",
        "print(\n",
        "    \"CoVE has found: \\n* {} schema errors \\n* {} ruleset errors \\n* {} embedded codelist errors \\n* {} non-embedded codelist errors\".format(\n",
        "    len(schema_table), \n",
        "    len(ruleset_table), \n",
        "    len(embedded_codelist_table), \n",
        "    len(non_embedded_codelist_table)))\n",
        "\n",
        "print(\"\\nWriting to validation_workbook.xlsx\")\n",
        "writer = pd.ExcelWriter('validation_workbook.xlsx', engine='xlsxwriter')\n",
        "# Write each dataframe to a different worksheet.\n",
        "schema_table.to_excel(writer, sheet_name='schema_table')\n",
        "ruleset_table.to_excel(writer, sheet_name='ruleset_table')\n",
        "embedded_codelist_table.to_excel(writer, sheet_name='embedded_codelist_table')\n",
        "non_embedded_codelist_table.to_excel(writer, sheet_name='non_embedded_codelist_table')\n",
        "\n",
        "# Close the Pandas Excel writer and output the Excel file.\n",
        "writer.save()\n"
      ],
      "execution_count": 24,
      "outputs": [
        {
          "output_type": "stream",
          "text": [
            "CoVE has found: \n",
            "* 0 schema errors \n",
            "* 116 ruleset errors \n",
            "* 0 embedded codelist errors \n",
            "* 3 non-embedded codelist errors\n",
            "\n",
            "Writing to validation_workbook.xlsx\n"
          ],
          "name": "stdout"
        }
      ]
    },
    {
      "cell_type": "markdown",
      "metadata": {
        "id": "t0SLL1woSyoP",
        "colab_type": "text"
      },
      "source": [
        "### Schema Validation"
      ]
    },
    {
      "cell_type": "code",
      "metadata": {
        "id": "0yEUfZoWAKrc",
        "colab_type": "code",
        "outputId": "b9fc94e1-de46-4d85-a060-f45fd9342609",
        "colab": {
          "base_uri": "https://localhost:8080/",
          "height": 32
        }
      },
      "source": [
        "schema_table"
      ],
      "execution_count": 25,
      "outputs": [
        {
          "output_type": "execute_result",
          "data": {
            "text/html": [
              "<div>\n",
              "<style scoped>\n",
              "    .dataframe tbody tr th:only-of-type {\n",
              "        vertical-align: middle;\n",
              "    }\n",
              "\n",
              "    .dataframe tbody tr th {\n",
              "        vertical-align: top;\n",
              "    }\n",
              "\n",
              "    .dataframe thead th {\n",
              "        text-align: right;\n",
              "    }\n",
              "</style>\n",
              "<table border=\"1\" class=\"dataframe\">\n",
              "  <thead>\n",
              "    <tr style=\"text-align: right;\">\n",
              "      <th></th>\n",
              "    </tr>\n",
              "  </thead>\n",
              "  <tbody>\n",
              "  </tbody>\n",
              "</table>\n",
              "</div>"
            ],
            "text/plain": [
              "Empty DataFrame\n",
              "Columns: []\n",
              "Index: []"
            ]
          },
          "metadata": {
            "tags": []
          },
          "execution_count": 25
        }
      ]
    },
    {
      "cell_type": "markdown",
      "metadata": {
        "id": "xyGpqRc3cBfQ",
        "colab_type": "text"
      },
      "source": [
        "#### Custom Analysis\n",
        "\n",
        "This section gives space to investigate schema errors identified in the secion above. It requires a small amount of tinkering in python."
      ]
    },
    {
      "cell_type": "code",
      "metadata": {
        "id": "8WOGXSlLE7Tr",
        "colab_type": "code",
        "colab": {}
      },
      "source": [
        "# To view offending XML element, take the '/NN/' from the path above, add one, \n",
        "# and then modify the remaining content of the path to print a section of XML.\n",
        "# print(ET.tostring(big_iati.xpath(\"iati-activity[61]/related-activity\")[0].getparent()).decode())"
      ],
      "execution_count": 0,
      "outputs": []
    },
    {
      "cell_type": "markdown",
      "metadata": {
        "id": "3cG2D82Odnyx",
        "colab_type": "text"
      },
      "source": [
        "Note the lack of description in the XML output above"
      ]
    },
    {
      "cell_type": "markdown",
      "metadata": {
        "id": "lV9Ub3BjS2xL",
        "colab_type": "text"
      },
      "source": [
        "### Ruleset Validation"
      ]
    },
    {
      "cell_type": "code",
      "metadata": {
        "id": "4jmiZe2q9sj0",
        "colab_type": "code",
        "outputId": "7df8d712-f332-4e9d-8384-45aca37298e2",
        "colab": {
          "base_uri": "https://localhost:8080/",
          "height": 173
        }
      },
      "source": [
        "# Concise Summary\n",
        "ruleset_table.pivot_table(index=['rule',], aggfunc='count').drop(columns=[\"path\", \"ruleset\", \"explanation\"])"
      ],
      "execution_count": 27,
      "outputs": [
        {
          "output_type": "execute_result",
          "data": {
            "text/html": [
              "<div>\n",
              "<style scoped>\n",
              "    .dataframe tbody tr th:only-of-type {\n",
              "        vertical-align: middle;\n",
              "    }\n",
              "\n",
              "    .dataframe tbody tr th {\n",
              "        vertical-align: top;\n",
              "    }\n",
              "\n",
              "    .dataframe thead th {\n",
              "        text-align: right;\n",
              "    }\n",
              "</style>\n",
              "<table border=\"1\" class=\"dataframe\">\n",
              "  <thead>\n",
              "    <tr style=\"text-align: right;\">\n",
              "      <th></th>\n",
              "      <th>id</th>\n",
              "    </tr>\n",
              "    <tr>\n",
              "      <th>rule</th>\n",
              "      <th></th>\n",
              "    </tr>\n",
              "  </thead>\n",
              "  <tbody>\n",
              "    <tr>\n",
              "      <th>activity-date[@type='2']/@iso-date must be today or in the past</th>\n",
              "      <td>19</td>\n",
              "    </tr>\n",
              "    <tr>\n",
              "      <th>either sector or transaction/sector must be present</th>\n",
              "      <td>17</td>\n",
              "    </tr>\n",
              "    <tr>\n",
              "      <th>recipient-country/@percentage and recipient-region/@percentage must sum to 100%</th>\n",
              "      <td>80</td>\n",
              "    </tr>\n",
              "  </tbody>\n",
              "</table>\n",
              "</div>"
            ],
            "text/plain": [
              "                                                    id\n",
              "rule                                                  \n",
              "activity-date[@type='2']/@iso-date must be toda...  19\n",
              "either sector or transaction/sector must be pre...  17\n",
              "recipient-country/@percentage and recipient-reg...  80"
            ]
          },
          "metadata": {
            "tags": []
          },
          "execution_count": 27
        }
      ]
    },
    {
      "cell_type": "code",
      "metadata": {
        "id": "W9SQLlEAeIrw",
        "colab_type": "code",
        "outputId": "e9756edf-1b18-412a-c004-98cadb0a32cb",
        "colab": {
          "base_uri": "https://localhost:8080/",
          "height": 204
        }
      },
      "source": [
        "# Full Table\n",
        "ruleset_table.head()"
      ],
      "execution_count": 28,
      "outputs": [
        {
          "output_type": "execute_result",
          "data": {
            "text/html": [
              "<div>\n",
              "<style scoped>\n",
              "    .dataframe tbody tr th:only-of-type {\n",
              "        vertical-align: middle;\n",
              "    }\n",
              "\n",
              "    .dataframe tbody tr th {\n",
              "        vertical-align: top;\n",
              "    }\n",
              "\n",
              "    .dataframe thead th {\n",
              "        text-align: right;\n",
              "    }\n",
              "</style>\n",
              "<table border=\"1\" class=\"dataframe\">\n",
              "  <thead>\n",
              "    <tr style=\"text-align: right;\">\n",
              "      <th></th>\n",
              "      <th>rule</th>\n",
              "      <th>id</th>\n",
              "      <th>explanation</th>\n",
              "      <th>path</th>\n",
              "      <th>ruleset</th>\n",
              "    </tr>\n",
              "  </thead>\n",
              "  <tbody>\n",
              "    <tr>\n",
              "      <th>0</th>\n",
              "      <td>recipient-country/@percentage and recipient-re...</td>\n",
              "      <td>GB-1-202921</td>\n",
              "      <td>recipient-country|recipient-region/@percentage...</td>\n",
              "      <td>/iati-activities/iati-activity[57]/recipient-c...</td>\n",
              "      <td>Percentages must sum to 100%</td>\n",
              "    </tr>\n",
              "    <tr>\n",
              "      <th>1</th>\n",
              "      <td>recipient-country/@percentage and recipient-re...</td>\n",
              "      <td>GB-GOV-1-300535</td>\n",
              "      <td>recipient-country|recipient-region/@percentage...</td>\n",
              "      <td>/iati-activities/iati-activity[74]/recipient-c...</td>\n",
              "      <td>Percentages must sum to 100%</td>\n",
              "    </tr>\n",
              "    <tr>\n",
              "      <th>2</th>\n",
              "      <td>recipient-country/@percentage and recipient-re...</td>\n",
              "      <td>GB-1-204516</td>\n",
              "      <td>recipient-country|recipient-region/@percentage...</td>\n",
              "      <td>/iati-activities/iati-activity[83]/recipient-c...</td>\n",
              "      <td>Percentages must sum to 100%</td>\n",
              "    </tr>\n",
              "    <tr>\n",
              "      <th>3</th>\n",
              "      <td>recipient-country/@percentage and recipient-re...</td>\n",
              "      <td>GB-1-205210</td>\n",
              "      <td>recipient-country|recipient-region/@percentage...</td>\n",
              "      <td>/iati-activities/iati-activity[205]/recipient-...</td>\n",
              "      <td>Percentages must sum to 100%</td>\n",
              "    </tr>\n",
              "    <tr>\n",
              "      <th>4</th>\n",
              "      <td>recipient-country/@percentage and recipient-re...</td>\n",
              "      <td>GB-1-205210</td>\n",
              "      <td>recipient-country|recipient-region/@percentage...</td>\n",
              "      <td>/iati-activities/iati-activity[296]/recipient-...</td>\n",
              "      <td>Percentages must sum to 100%</td>\n",
              "    </tr>\n",
              "  </tbody>\n",
              "</table>\n",
              "</div>"
            ],
            "text/plain": [
              "                                                rule  ...                       ruleset\n",
              "0  recipient-country/@percentage and recipient-re...  ...  Percentages must sum to 100%\n",
              "1  recipient-country/@percentage and recipient-re...  ...  Percentages must sum to 100%\n",
              "2  recipient-country/@percentage and recipient-re...  ...  Percentages must sum to 100%\n",
              "3  recipient-country/@percentage and recipient-re...  ...  Percentages must sum to 100%\n",
              "4  recipient-country/@percentage and recipient-re...  ...  Percentages must sum to 100%\n",
              "\n",
              "[5 rows x 5 columns]"
            ]
          },
          "metadata": {
            "tags": []
          },
          "execution_count": 28
        }
      ]
    },
    {
      "cell_type": "markdown",
      "metadata": {
        "id": "JeT5ud4PB9oF",
        "colab_type": "text"
      },
      "source": [
        "## ATI Data Quality Testing\n",
        "\n",
        "Download `combined.xml` and upload to [this testing tool](http://dataqualitytester.publishwhatyoufund.org/) to check data quality in line with the Aid Transparency Index Methodology\n",
        "\n",
        "| Date | Link | Notes |\n",
        "|-|-|-|\n",
        "|YYYY-MM-DD|[Link](http://dataqualitytester.publishwhatyoufund.org/package/bb957674-6ccf-4635-a553-1d2dd0382075)| Some description of findings or link to notes / report |\n",
        "||||\n",
        "||||\n",
        "||||\n",
        "||||"
      ]
    },
    {
      "cell_type": "markdown",
      "metadata": {
        "id": "luKkG8yTo2y_",
        "colab_type": "text"
      },
      "source": [
        "## IATI Publisher Statistics"
      ]
    },
    {
      "cell_type": "markdown",
      "metadata": {
        "id": "N5H2tTm9dmKZ",
        "colab_type": "text"
      },
      "source": [
        "Run some code from the [OpenDataServices/iati-publishingstats-details](https://github.com/OpenDataServices/iati-publishingstats-details) repo, which produces per activity CSVs for the [IATI Publishing Statistics](http://publishingstats.iatistandard.org/) checks."
      ]
    },
    {
      "cell_type": "code",
      "metadata": {
        "id": "LmKR5Lm5o7Kh",
        "colab_type": "code",
        "outputId": "ef78cc61-a746-48ed-8f8b-76a2f0d9dc26",
        "colab": {
          "base_uri": "https://localhost:8080/",
          "height": 425
        }
      },
      "source": [
        "import os\n",
        "os.chdir('/content')\n",
        "!rm -r iati-publishingstats-details\n",
        "!git clone https://github.com/OpenDataServices/iati-publishingstats-details.git\n",
        "os.chdir('/content/iati-publishingstats-details')\n",
        "!git submodule init\n",
        "!git submodule update\n",
        "!mkdir logs\n",
        "# Note that the Publishing Statistics code requires Python 2, so needs a virtualenv\n",
        "!sudo apt install python-virtualenv > logs/apt.log\n",
        "!virtualenv .ve\n",
        "!source .ve/bin/activate; pip install -r requirements.txt > logs/requirements.log\n",
        "!source .ve/bin/activate; ./fetch_helpers.sh > logs/fetch_helpers.log 2>&1\n",
        "!source .ve/bin/activate; python forward_looking_details.py ../combined.xml > forward_looking_details.csv\n",
        "!source .ve/bin/activate; python comprehensiveness_is_current_details.py ../combined.xml > comprehensiveness_is_current_details.csv\n",
        "os.chdir('/content')"
      ],
      "execution_count": 29,
      "outputs": [
        {
          "output_type": "stream",
          "text": [
            "rm: cannot remove 'iati-publishingstats-details': No such file or directory\n",
            "Cloning into 'iati-publishingstats-details'...\n",
            "remote: Enumerating objects: 30, done.\u001b[K\n",
            "remote: Counting objects: 100% (30/30), done.\u001b[K\n",
            "remote: Compressing objects: 100% (20/20), done.\u001b[K\n",
            "remote: Total 30 (delta 12), reused 24 (delta 6), pack-reused 0\u001b[K\n",
            "Unpacking objects: 100% (30/30), done.\n",
            "Submodule 'IATI-Publishing-Statistics' (https://github.com/IATI/IATI-Publishing-Statistics.git) registered for path 'IATI-Publishing-Statistics'\n",
            "Cloning into '/content/iati-publishingstats-details/IATI-Publishing-Statistics'...\n",
            "Submodule path 'IATI-Publishing-Statistics': checked out '623498143ad809a57b87d357ea0dd0f65afd11b0'\n",
            "\n",
            "WARNING: apt does not have a stable CLI interface. Use with caution in scripts.\n",
            "\n",
            "debconf: unable to initialize frontend: Dialog\n",
            "debconf: (No usable dialog-like program is installed, so the dialog based frontend cannot be used. at /usr/share/perl5/Debconf/FrontEnd/Dialog.pm line 76, <> line 6.)\n",
            "debconf: falling back to frontend: Readline\n",
            "debconf: unable to initialize frontend: Readline\n",
            "debconf: (This frontend requires a controlling tty.)\n",
            "debconf: falling back to frontend: Teletype\n",
            "dpkg-preconfigure: unable to re-open stdin: \n",
            "Running virtualenv with interpreter /usr/bin/python2\n",
            "New python executable in /content/iati-publishingstats-details/.ve/bin/python2\n",
            "Also creating executable in /content/iati-publishingstats-details/.ve/bin/python\n",
            "Installing setuptools, pkg_resources, pip, wheel...done.\n"
          ],
          "name": "stdout"
        }
      ]
    },
    {
      "cell_type": "code",
      "metadata": {
        "id": "nbOzzrBFs3a9",
        "colab_type": "code",
        "colab": {
          "base_uri": "https://localhost:8080/",
          "height": 419
        },
        "outputId": "d2ad59e1-d144-4a5b-ad75-d5d0e66d01d1"
      },
      "source": [
        "os.chdir('/content')\n",
        "forward_looking_details = pd.read_csv('iati-publishingstats-details/forward_looking_details.csv')\n",
        "forward_looking_details"
      ],
      "execution_count": 30,
      "outputs": [
        {
          "output_type": "execute_result",
          "data": {
            "text/html": [
              "<div>\n",
              "<style scoped>\n",
              "    .dataframe tbody tr th:only-of-type {\n",
              "        vertical-align: middle;\n",
              "    }\n",
              "\n",
              "    .dataframe tbody tr th {\n",
              "        vertical-align: top;\n",
              "    }\n",
              "\n",
              "    .dataframe thead th {\n",
              "        text-align: right;\n",
              "    }\n",
              "</style>\n",
              "<table border=\"1\" class=\"dataframe\">\n",
              "  <thead>\n",
              "    <tr style=\"text-align: right;\">\n",
              "      <th></th>\n",
              "      <th>iati-identifier</th>\n",
              "      <th>First year to fail</th>\n",
              "      <th>End dates</th>\n",
              "      <th>Budget years</th>\n",
              "    </tr>\n",
              "  </thead>\n",
              "  <tbody>\n",
              "    <tr>\n",
              "      <th>0</th>\n",
              "      <td>GB-1-204895</td>\n",
              "      <td>2020</td>\n",
              "      <td>2021-12-30</td>\n",
              "      <td>No budgets</td>\n",
              "    </tr>\n",
              "    <tr>\n",
              "      <th>1</th>\n",
              "      <td>GB-1-205200</td>\n",
              "      <td>2020</td>\n",
              "      <td>2022-12-31</td>\n",
              "      <td>No budgets</td>\n",
              "    </tr>\n",
              "    <tr>\n",
              "      <th>2</th>\n",
              "      <td>GB-1-205200-105</td>\n",
              "      <td>2020</td>\n",
              "      <td>2022-11-30</td>\n",
              "      <td>2017,2018,2018,2018</td>\n",
              "    </tr>\n",
              "    <tr>\n",
              "      <th>3</th>\n",
              "      <td>GB-1-205201</td>\n",
              "      <td>2020</td>\n",
              "      <td>2025-06-30</td>\n",
              "      <td>No budgets</td>\n",
              "    </tr>\n",
              "    <tr>\n",
              "      <th>4</th>\n",
              "      <td>GB-1-205201-106</td>\n",
              "      <td>2020</td>\n",
              "      <td>2022-03-31</td>\n",
              "      <td>2018</td>\n",
              "    </tr>\n",
              "    <tr>\n",
              "      <th>...</th>\n",
              "      <td>...</td>\n",
              "      <td>...</td>\n",
              "      <td>...</td>\n",
              "      <td>...</td>\n",
              "    </tr>\n",
              "    <tr>\n",
              "      <th>1900</th>\n",
              "      <td>GB-GOV-1-300731-101</td>\n",
              "      <td>2021</td>\n",
              "      <td>2021-03-31</td>\n",
              "      <td>2018,2019,2019,2019,2019,2020,2020</td>\n",
              "    </tr>\n",
              "    <tr>\n",
              "      <th>1901</th>\n",
              "      <td>GB-GOV-1-300123</td>\n",
              "      <td>2020</td>\n",
              "      <td>2023-09-30</td>\n",
              "      <td>No budgets</td>\n",
              "    </tr>\n",
              "    <tr>\n",
              "      <th>1902</th>\n",
              "      <td>GB-GOV-1-300310</td>\n",
              "      <td>2020</td>\n",
              "      <td>2023-03-31</td>\n",
              "      <td>No budgets</td>\n",
              "    </tr>\n",
              "    <tr>\n",
              "      <th>1903</th>\n",
              "      <td>GB-GOV-1-300310-106</td>\n",
              "      <td>2020</td>\n",
              "      <td>2023-03-31</td>\n",
              "      <td>2019</td>\n",
              "    </tr>\n",
              "    <tr>\n",
              "      <th>1904</th>\n",
              "      <td>GB-GOV-1-300686</td>\n",
              "      <td>2020</td>\n",
              "      <td>2023-03-31</td>\n",
              "      <td>No budgets</td>\n",
              "    </tr>\n",
              "  </tbody>\n",
              "</table>\n",
              "<p>1905 rows × 4 columns</p>\n",
              "</div>"
            ],
            "text/plain": [
              "          iati-identifier  ...                        Budget years\n",
              "0             GB-1-204895  ...                          No budgets\n",
              "1             GB-1-205200  ...                          No budgets\n",
              "2         GB-1-205200-105  ...                 2017,2018,2018,2018\n",
              "3             GB-1-205201  ...                          No budgets\n",
              "4         GB-1-205201-106  ...                                2018\n",
              "...                   ...  ...                                 ...\n",
              "1900  GB-GOV-1-300731-101  ...  2018,2019,2019,2019,2019,2020,2020\n",
              "1901      GB-GOV-1-300123  ...                          No budgets\n",
              "1902      GB-GOV-1-300310  ...                          No budgets\n",
              "1903  GB-GOV-1-300310-106  ...                                2019\n",
              "1904      GB-GOV-1-300686  ...                          No budgets\n",
              "\n",
              "[1905 rows x 4 columns]"
            ]
          },
          "metadata": {
            "tags": []
          },
          "execution_count": 30
        }
      ]
    },
    {
      "cell_type": "code",
      "metadata": {
        "id": "Y3ZQZc0r5RTn",
        "colab_type": "code",
        "colab": {
          "base_uri": "https://localhost:8080/",
          "height": 419
        },
        "outputId": "50ef7522-88cc-4a08-81dc-297fa11e7f97"
      },
      "source": [
        "comprehensiveness_is_current_details = pd.read_csv('iati-publishingstats-details/comprehensiveness_is_current_details.csv')\n",
        "comprehensiveness_is_current_details"
      ],
      "execution_count": 31,
      "outputs": [
        {
          "output_type": "execute_result",
          "data": {
            "text/html": [
              "<div>\n",
              "<style scoped>\n",
              "    .dataframe tbody tr th:only-of-type {\n",
              "        vertical-align: middle;\n",
              "    }\n",
              "\n",
              "    .dataframe tbody tr th {\n",
              "        vertical-align: top;\n",
              "    }\n",
              "\n",
              "    .dataframe thead th {\n",
              "        text-align: right;\n",
              "    }\n",
              "</style>\n",
              "<table border=\"1\" class=\"dataframe\">\n",
              "  <thead>\n",
              "    <tr style=\"text-align: right;\">\n",
              "      <th></th>\n",
              "      <th>iati-identifier</th>\n",
              "      <th>publishingstats_comprehensiveness_current</th>\n",
              "    </tr>\n",
              "  </thead>\n",
              "  <tbody>\n",
              "    <tr>\n",
              "      <th>0</th>\n",
              "      <td>GB-1-202417</td>\n",
              "      <td>False</td>\n",
              "    </tr>\n",
              "    <tr>\n",
              "      <th>1</th>\n",
              "      <td>GB-1-202417-101</td>\n",
              "      <td>False</td>\n",
              "    </tr>\n",
              "    <tr>\n",
              "      <th>2</th>\n",
              "      <td>GB-1-202429</td>\n",
              "      <td>False</td>\n",
              "    </tr>\n",
              "    <tr>\n",
              "      <th>3</th>\n",
              "      <td>GB-1-202429-101</td>\n",
              "      <td>False</td>\n",
              "    </tr>\n",
              "    <tr>\n",
              "      <th>4</th>\n",
              "      <td>GB-1-202434</td>\n",
              "      <td>False</td>\n",
              "    </tr>\n",
              "    <tr>\n",
              "      <th>...</th>\n",
              "      <td>...</td>\n",
              "      <td>...</td>\n",
              "    </tr>\n",
              "    <tr>\n",
              "      <th>19472</th>\n",
              "      <td>GB-GOV-1-300599</td>\n",
              "      <td>True</td>\n",
              "    </tr>\n",
              "    <tr>\n",
              "      <th>19473</th>\n",
              "      <td>GB-GOV-1-300599-101</td>\n",
              "      <td>False</td>\n",
              "    </tr>\n",
              "    <tr>\n",
              "      <th>19474</th>\n",
              "      <td>GB-GOV-1-300686</td>\n",
              "      <td>True</td>\n",
              "    </tr>\n",
              "    <tr>\n",
              "      <th>19475</th>\n",
              "      <td>GB-GOV-1-300686-101</td>\n",
              "      <td>True</td>\n",
              "    </tr>\n",
              "    <tr>\n",
              "      <th>19476</th>\n",
              "      <td>GB-GOV-1-300686-102</td>\n",
              "      <td>True</td>\n",
              "    </tr>\n",
              "  </tbody>\n",
              "</table>\n",
              "<p>19477 rows × 2 columns</p>\n",
              "</div>"
            ],
            "text/plain": [
              "           iati-identifier  publishingstats_comprehensiveness_current\n",
              "0              GB-1-202417                                      False\n",
              "1          GB-1-202417-101                                      False\n",
              "2              GB-1-202429                                      False\n",
              "3          GB-1-202429-101                                      False\n",
              "4              GB-1-202434                                      False\n",
              "...                    ...                                        ...\n",
              "19472      GB-GOV-1-300599                                       True\n",
              "19473  GB-GOV-1-300599-101                                      False\n",
              "19474      GB-GOV-1-300686                                       True\n",
              "19475  GB-GOV-1-300686-101                                       True\n",
              "19476  GB-GOV-1-300686-102                                       True\n",
              "\n",
              "[19477 rows x 2 columns]"
            ]
          },
          "metadata": {
            "tags": []
          },
          "execution_count": 31
        }
      ]
    },
    {
      "cell_type": "code",
      "metadata": {
        "id": "VMxIFo5j2KRA",
        "colab_type": "code",
        "colab": {
          "base_uri": "https://localhost:8080/",
          "height": 51
        },
        "outputId": "608eed41-c17c-46b8-f1d7-6f4531e4867c"
      },
      "source": [
        "big_iati_comprehensiveness_current = copy.copy(big_iati_archived)\n",
        "\n",
        "cur_length = len(big_iati_comprehensiveness_current)\n",
        "\n",
        "if current_only:\n",
        "  for activity in big_iati_comprehensiveness_current:\n",
        "    if activity.findtext('iati-identifier') in comprehensiveness_is_current_details.loc[comprehensiveness_is_current_details['publishingstats_comprehensiveness_current'] == False, 'iati-identifier'].values:\n",
        "      activity.getparent().remove(activity)\n",
        "  \n",
        "  print(\"Removed {} non-current activities from a total of {}.\".format((cur_length-len(big_iati_comprehensiveness_current)),cur_length))\n",
        "  print(\"{} current activities remain.\".format(len(big_iati_comprehensiveness_current)))\n",
        "\n",
        "else:\n",
        "  print(\"As `current_only` is set to False, all retrieved activities have been kept\")"
      ],
      "execution_count": 32,
      "outputs": [
        {
          "output_type": "stream",
          "text": [
            "Removed 14529 non-current activities from a total of 19477.\n",
            "4948 current activities remain.\n"
          ],
          "name": "stdout"
        }
      ]
    },
    {
      "cell_type": "code",
      "metadata": {
        "id": "l-_7aD4n3fvS",
        "colab_type": "code",
        "colab": {
          "base_uri": "https://localhost:8080/",
          "height": 142
        },
        "outputId": "16792545-8d23-493b-8ba0-e66fdff7956a"
      },
      "source": [
        "merged_currents = pd.merge(current_check_log, comprehensiveness_is_current_details, on=\"iati-identifier\")\n",
        "merged_currents.groupby(['pwyf_current', 'publishingstats_comprehensiveness_current']).size().unstack()\n",
        "# Note: these numbers will not add up properly if there are duplicate iati-identifiers"
      ],
      "execution_count": 33,
      "outputs": [
        {
          "output_type": "execute_result",
          "data": {
            "text/html": [
              "<div>\n",
              "<style scoped>\n",
              "    .dataframe tbody tr th:only-of-type {\n",
              "        vertical-align: middle;\n",
              "    }\n",
              "\n",
              "    .dataframe tbody tr th {\n",
              "        vertical-align: top;\n",
              "    }\n",
              "\n",
              "    .dataframe thead th {\n",
              "        text-align: right;\n",
              "    }\n",
              "</style>\n",
              "<table border=\"1\" class=\"dataframe\">\n",
              "  <thead>\n",
              "    <tr style=\"text-align: right;\">\n",
              "      <th>publishingstats_comprehensiveness_current</th>\n",
              "      <th>False</th>\n",
              "      <th>True</th>\n",
              "    </tr>\n",
              "    <tr>\n",
              "      <th>pwyf_current</th>\n",
              "      <th></th>\n",
              "      <th></th>\n",
              "    </tr>\n",
              "  </thead>\n",
              "  <tbody>\n",
              "    <tr>\n",
              "      <th>False</th>\n",
              "      <td>14285</td>\n",
              "      <td>1</td>\n",
              "    </tr>\n",
              "    <tr>\n",
              "      <th>True</th>\n",
              "      <td>966</td>\n",
              "      <td>5859</td>\n",
              "    </tr>\n",
              "  </tbody>\n",
              "</table>\n",
              "</div>"
            ],
            "text/plain": [
              "publishingstats_comprehensiveness_current  False  True \n",
              "pwyf_current                                           \n",
              "False                                      14285      1\n",
              "True                                         966   5859"
            ]
          },
          "metadata": {
            "tags": []
          },
          "execution_count": 33
        }
      ]
    }
  ]
}
