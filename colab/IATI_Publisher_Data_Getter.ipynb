{
  "nbformat": 4,
  "nbformat_minor": 0,
  "metadata": {
    "colab": {
      "name": "IATI Publisher Data Getter (Ben 3.0 dev)",
      "provenance": [],
      "collapsed_sections": [
        "5VVGUhui8bDV",
        "t0SLL1woSyoP",
        "xyGpqRc3cBfQ",
        "lV9Ub3BjS2xL",
        "JeT5ud4PB9oF"
      ],
      "toc_visible": true
    },
    "kernelspec": {
      "name": "python3",
      "display_name": "Python 3"
    }
  },
  "cells": [
    {
      "cell_type": "markdown",
      "metadata": {
        "id": "y4RJqtbd8E7k",
        "colab_type": "text"
      },
      "source": [
        "# IATI Publisher Data Getter\n"
      ]
    },
    {
      "cell_type": "markdown",
      "metadata": {
        "id": "z3rzDU84VPur",
        "colab_type": "text"
      },
      "source": [
        "| Version | Date | Description |\n",
        "|-|-|-|\n",
        "| 1.0 | 2019-09-23 | Initial run, investigating document link and related activity schema validation errors |\n",
        "| 1.1 | 2019-09-23 | Updating the ad-hoc analysis section for clarity, expanding ruleset validation presentation |\n",
        "| 2.0 | 2019-10-07 | Added non-current filter following PWYF rules, added codelist outputs to the ruleset evaluation, and added an exported .xslx file for ruleset evaluation sheets. |\n",
        "| 2.1 | 2019-11-27 | (Ben W) Use lxml's huge_tree param to support bigger files |\n",
        "|3.0| 2019-12-X | Add file upload option\n",
        "|||"
      ]
    },
    {
      "cell_type": "markdown",
      "metadata": {
        "id": "aXq55yKijjjB",
        "colab_type": "text"
      },
      "source": [
        "Copyright (C) 2019 Open Data Services Co-operative Limited\n",
        "\n",
        "This program is free software: you can redistribute it and/or modify\n",
        "it under the terms of the GNU Affero General Public License as\n",
        "published by the Free Software Foundation, either version 3 of the\n",
        "License, or (at your option) any later version.\n",
        "\n",
        "This program is distributed in the hope that it will be useful,\n",
        "but WITHOUT ANY WARRANTY; without even the implied warranty of\n",
        "MERCHANTABILITY or FITNESS FOR A PARTICULAR PURPOSE.  See the\n",
        "GNU Affero General Public License for more details.\n",
        "\n",
        "You should have received a copy of the GNU Affero General Public License\n",
        "along with this program.  If not, see <https://www.gnu.org/licenses/>.\n"
      ]
    },
    {
      "cell_type": "markdown",
      "metadata": {
        "id": "lB2yOyiG8RBY",
        "colab_type": "text"
      },
      "source": [
        "## Imports, Downloading, Merging\n"
      ]
    },
    {
      "cell_type": "markdown",
      "metadata": {
        "id": "oFvi3YUssj6V",
        "colab_type": "text"
      },
      "source": [
        "### Imports"
      ]
    },
    {
      "cell_type": "code",
      "metadata": {
        "id": "NDWG7Opb44L9",
        "colab_type": "code",
        "outputId": "07d1ec83-bec0-465a-a082-a80840a0e0e3",
        "colab": {
          "base_uri": "https://localhost:8080/",
          "height": 107
        }
      },
      "source": [
        "! pip install XlsxWriter"
      ],
      "execution_count": 0,
      "outputs": [
        {
          "output_type": "stream",
          "text": [
            "Collecting XlsxWriter\n",
            "\u001b[?25l  Downloading https://files.pythonhosted.org/packages/f2/16/da654cfbc0b05f2ad253c0f244b0c2a76c403bb774717b39c92653acb290/XlsxWriter-1.2.6-py2.py3-none-any.whl (141kB)\n",
            "\r\u001b[K     |██▎                             | 10kB 20.8MB/s eta 0:00:01\r\u001b[K     |████▋                           | 20kB 6.3MB/s eta 0:00:01\r\u001b[K     |███████                         | 30kB 8.9MB/s eta 0:00:01\r\u001b[K     |█████████▎                      | 40kB 5.6MB/s eta 0:00:01\r\u001b[K     |███████████▋                    | 51kB 6.8MB/s eta 0:00:01\r\u001b[K     |██████████████                  | 61kB 8.0MB/s eta 0:00:01\r\u001b[K     |████████████████▎               | 71kB 9.0MB/s eta 0:00:01\r\u001b[K     |██████████████████▋             | 81kB 10.0MB/s eta 0:00:01\r\u001b[K     |████████████████████▉           | 92kB 11.1MB/s eta 0:00:01\r\u001b[K     |███████████████████████▏        | 102kB 9.0MB/s eta 0:00:01\r\u001b[K     |█████████████████████████▌      | 112kB 9.0MB/s eta 0:00:01\r\u001b[K     |███████████████████████████▉    | 122kB 9.0MB/s eta 0:00:01\r\u001b[K     |██████████████████████████████▏ | 133kB 9.0MB/s eta 0:00:01\r\u001b[K     |████████████████████████████████| 143kB 9.0MB/s \n",
            "\u001b[?25hInstalling collected packages: XlsxWriter\n",
            "Successfully installed XlsxWriter-1.2.6\n"
          ],
          "name": "stdout"
        }
      ]
    },
    {
      "cell_type": "code",
      "metadata": {
        "id": "YTluluXyiQEI",
        "colab_type": "code",
        "colab": {}
      },
      "source": [
        "import pandas as pd\n",
        "import requests as rq\n",
        "import lxml.etree as ET\n",
        "import json\n",
        "import shutil"
      ],
      "execution_count": 0,
      "outputs": []
    },
    {
      "cell_type": "markdown",
      "metadata": {
        "id": "EnZFK8RT68rR",
        "colab_type": "text"
      },
      "source": [
        "### Setup"
      ]
    },
    {
      "cell_type": "code",
      "metadata": {
        "id": "hqEytTRH6_Fg",
        "colab_type": "code",
        "colab": {}
      },
      "source": [
        "# Warning huge_tree disables security restrictions, so should only be used on trusted XML files\n",
        "parser = ET.XMLParser(huge_tree=True)\n",
        "\n",
        "#define comment removal method\n",
        "def remove_comments(etree):\n",
        "  \n",
        "  comments = etree.xpath('//comment()')\n",
        "\n",
        "  for c in comments:\n",
        "      p = c.getparent()\n",
        "      p.remove(c)\n",
        "\n",
        "  return etree"
      ],
      "execution_count": 0,
      "outputs": []
    },
    {
      "cell_type": "markdown",
      "metadata": {
        "id": "w4VMlH1P4e9G",
        "colab_type": "text"
      },
      "source": [
        "### Download or Upload"
      ]
    },
    {
      "cell_type": "code",
      "metadata": {
        "id": "ub2FHCMxhUV-",
        "colab_type": "code",
        "cellView": "both",
        "colab": {}
      },
      "source": [
        "data_mode = \"Download\" #@param [\"Download\", \"Upload\"]\n",
        "\n"
      ],
      "execution_count": 0,
      "outputs": []
    },
    {
      "cell_type": "markdown",
      "metadata": {
        "id": "8qKBNcBktLwR",
        "colab_type": "text"
      },
      "source": [
        "#### Download"
      ]
    },
    {
      "cell_type": "markdown",
      "metadata": {
        "id": "E-LI0goTzw-u",
        "colab_type": "text"
      },
      "source": [
        "Input the IATI Registry ID of a given IATI Publisher. \n",
        "\n",
        "Set `current_only` to filter the combined IATI to consider only activities which are 'current' according to the [PWYF ATI Methodology](https://github.com/pwyf/latest-index-indicator-definitions/issues/1).\n",
        "\n",
        "Exceptions can be added as an array of dataset_id strings such as this:\n",
        "\n",
        "```json\n",
        "exceptions: [\"dataset1\", \"dataset2, \"...\"]\n",
        "```\n",
        "\n",
        "Currently only Activity files are supported."
      ]
    },
    {
      "cell_type": "code",
      "metadata": {
        "id": "oItTiael2tv4",
        "colab_type": "code",
        "cellView": "form",
        "colab": {}
      },
      "source": [
        "if data_mode == \"Download\":\n",
        "  registry_id = \"dipr\" #@param {type:\"string\"}\n",
        "  filetype = \"Activities\" #@param [\"Activities\", \"Organisations\"]\n",
        "  current_only = True #@param {type:\"boolean\"}\n",
        "  exceptions = []\n",
        "  exceptions =  []#@param {type:\"raw\"}"
      ],
      "execution_count": 0,
      "outputs": []
    },
    {
      "cell_type": "code",
      "metadata": {
        "id": "pgb4or9hha5E",
        "colab_type": "code",
        "colab": {}
      },
      "source": [
        "if data_mode == \"Download\":\n",
        "  datasets = pd.read_csv(\"https://iatiregistry.org/csv/download/\"+registry_id)"
      ],
      "execution_count": 0,
      "outputs": []
    },
    {
      "cell_type": "code",
      "metadata": {
        "id": "qG8l9uyzjigQ",
        "colab_type": "code",
        "outputId": "36fb7dc1-d181-4dec-997c-8bc57e5fc87e",
        "colab": {
          "base_uri": "https://localhost:8080/",
          "height": 35
        }
      },
      "source": [
        "if data_mode == \"Download\":\n",
        "  # remove unwanted datasets\n",
        "\n",
        "  if filetype == \"Activities\":\n",
        "    datasets = datasets[datasets['file-type'] != 'organisation']\n",
        "  else: raise Exception('Currently, this notebook only supports IATI Activities, though could be easily modified to support Organisations')\n",
        "\n",
        "  datasets = datasets[~datasets['registry-file-id'].isin(exceptions)]\n",
        "  datasets = datasets.reset_index()\n",
        "\n",
        "  print(\"Removed unwanted activities and setup comment-removal method\")"
      ],
      "execution_count": 0,
      "outputs": [
        {
          "output_type": "stream",
          "text": [
            "Removed unwanted activities and setup comment-removal method\n"
          ],
          "name": "stdout"
        }
      ]
    },
    {
      "cell_type": "code",
      "metadata": {
        "id": "ifv7PR2eovIT",
        "colab_type": "code",
        "outputId": "9f0d2f6e-e2f2-49b7-b582-2a7ae8eaa1b7",
        "colab": {
          "base_uri": "https://localhost:8080/",
          "height": 143
        }
      },
      "source": [
        "if data_mode == \"Download\":\n",
        "  print(\"\\nCombining {} IATI files \\n\".format(len(datasets['source-url'])))\n",
        "\n",
        "  # Start with the first file, with comments removed\n",
        "  big_iati = remove_comments(ET.fromstring(rq.get(datasets['source-url'][0]).content, parser=parser))\n",
        "\n",
        "  # Start a dictionary to keep track of the additions\n",
        "  merge_log = {datasets['source-url'][0]: len(big_iati.getchildren())}\n",
        "\n",
        "  # Iterate through the 2nd through last file and\n",
        "  # insert their activtities to into the first\n",
        "  # and update the dictionary\n",
        "  for url in datasets['source-url'][1:]:\n",
        "      data = remove_comments(ET.fromstring(rq.get(url).content))\n",
        "      merge_log[url] = len(data.getchildren())\n",
        "      big_iati.extend(data.getchildren())\n",
        "\n",
        "  # Print a small report on the merging\n",
        "  print(\"Files Merged: \")\n",
        "  for file, activity_count in merge_log.items():\n",
        "      print(\"|-> {} activities from {}\".format(activity_count, file))\n",
        "  print(\"|--> {} in total\".format(len(big_iati.getchildren())))\n",
        "\n",
        "  with open(\"combined.xml\", \"wb+\") as out_file:\n",
        "      out_file.write(ET.tostring(big_iati, encoding='utf8', pretty_print=True))"
      ],
      "execution_count": 0,
      "outputs": [
        {
          "output_type": "stream",
          "text": [
            "\n",
            "Combining 2 IATI files \n",
            "\n",
            "Files Merged: \n",
            "|-> 7 activities from https://aidstream.s3.us-west-2.amazonaws.com/xml/dipr-activities.xml\n",
            "|-> 78 activities from http://devinit.org/wp-content/uploads/2019/09/DIPR-IATI-data-Sep-2019.xml\n",
            "|--> 85 in total\n"
          ],
          "name": "stdout"
        }
      ]
    },
    {
      "cell_type": "markdown",
      "metadata": {
        "id": "qhPAbNSatWNr",
        "colab_type": "text"
      },
      "source": [
        "#### Upload"
      ]
    },
    {
      "cell_type": "code",
      "metadata": {
        "id": "5Vxf7WuE3Peh",
        "colab_type": "code",
        "cellView": "both",
        "colab": {}
      },
      "source": [
        "if data_mode == \"Upload\":\n",
        "  filename = \"uploaded.xml\" #@param {type:\"string\"}\n",
        "  current_only = True #@param {type:\"boolean\"}"
      ],
      "execution_count": 0,
      "outputs": []
    },
    {
      "cell_type": "markdown",
      "metadata": {
        "id": "oWxN_d25t6Xs",
        "colab_type": "text"
      },
      "source": [
        "Go to View->\"Table of contents\" if the left pane isn't open, click Files at the top, then click Upload. Upload the file, then update `filename` below to match the filename you uploaded. Note that uploaded files will be cleared when the session ends."
      ]
    },
    {
      "cell_type": "code",
      "metadata": {
        "id": "3Sv3fEjYyejx",
        "colab_type": "code",
        "colab": {}
      },
      "source": [
        "if data_mode == \"Upload\":\n",
        "  shutil.copyfile(filename, 'combined.xml')\n",
        "  big_iati = remove_comments(ET.parse('combined.xml', parser=parser).getroot())"
      ],
      "execution_count": 0,
      "outputs": []
    },
    {
      "cell_type": "markdown",
      "metadata": {
        "id": "kHWwujRi_UxW",
        "colab_type": "text"
      },
      "source": [
        ""
      ]
    },
    {
      "cell_type": "markdown",
      "metadata": {
        "id": "Q1H9P72GtY6V",
        "colab_type": "text"
      },
      "source": [
        "### Filter current activities"
      ]
    },
    {
      "cell_type": "code",
      "metadata": {
        "id": "NONf-fVa5diE",
        "colab_type": "code",
        "colab": {}
      },
      "source": [
        "import datetime as dt\n",
        "from dateutil.relativedelta import relativedelta\n",
        "\n",
        "# Filter out non-current activities, if appropriate\n",
        "# See https://github.com/pwyf/latest-index-indicator-definitions/issues/1\n",
        "\n",
        "log_columns = [\"iati-id\", \"status_check\", \"planned_end_date_check\", \"actual_end_date_check\", \"transaction_date_check\", \"pwyf_current\"]\n",
        "count = 1\n",
        "current_check_log = pd.DataFrame(columns=log_columns)\n",
        "\n",
        "for activity in big_iati:\n",
        "\n",
        "  status_check = False\n",
        "  planned_end_date_check = False\n",
        "  actual_end_date_check = False\n",
        "  transaction_date_check = False\n",
        "\n",
        "  # print(\"Activity {} of {}\".format(count, len(big_iati)))\n",
        "  \n",
        "  if activity.xpath(\"activity-status[@code=2]\"):\n",
        "    status_check = True\n",
        "\n",
        "  if activity.xpath(\"activity-date[@type=3]/@iso-date\"):\n",
        "    date_time_obj = dt.datetime.strptime(activity.xpath(\"activity-date[@type=3]/@iso-date\")[0], '%Y-%m-%d')\n",
        "    if date_time_obj > (dt.datetime.now() - relativedelta(years=1)):\n",
        "      planned_end_date_check = True\n",
        "  \n",
        "  if activity.xpath(\"activity-date[@type=4]/@iso-date\"):\n",
        "    date_time_obj = dt.datetime.strptime(activity.xpath(\"activity-date[@type=4]/@iso-date\")[0], '%Y-%m-%d')\n",
        "    if date_time_obj > (dt.datetime.now() - relativedelta(years=1)):\n",
        "      actual_end_date_check = True\n",
        "\n",
        "  if activity.xpath(\"transaction/transaction-type[@code=2 or @code=3 or @code=4]\"):\n",
        "    dates = activity.xpath(\"transaction[transaction-type[@code=2 or @code=3 or @code=4]]/transaction-date/@iso-date\")\n",
        "    date_truths = [dt.datetime.strptime(date, '%Y-%m-%d') > (dt.datetime.now() - relativedelta(years=1)) for date in dates]\n",
        "    if True in date_truths:\n",
        "      transaction_date_check = True\n",
        "\n",
        "  pwyf_current = status_check or planned_end_date_check or actual_end_date_check or transaction_date_check\n",
        "  \n",
        "  current_check_log = current_check_log.append(\n",
        "      {'iati-id': activity.findtext('iati-identifier'),\n",
        "        'status_check': status_check, \n",
        "        'planned_end_date_check': planned_end_date_check, \n",
        "        'actual_end_date_check': actual_end_date_check, \n",
        "        'transaction_date_check': transaction_date_check,\n",
        "        'pwyf_current': pwyf_current}\n",
        "        , ignore_index=True)\n",
        "  \n",
        "  count = count + 1\n",
        "    \n",
        "current_check_log.to_csv(\"current_check_log.csv\")"
      ],
      "execution_count": 0,
      "outputs": []
    },
    {
      "cell_type": "code",
      "metadata": {
        "id": "cUq37FhD14Lt",
        "colab_type": "code",
        "colab": {}
      },
      "source": [
        "big_iati_archived = big_iati"
      ],
      "execution_count": 0,
      "outputs": []
    },
    {
      "cell_type": "code",
      "metadata": {
        "id": "6KBo4l0_yGKI",
        "colab_type": "code",
        "outputId": "86e25029-aa39-4bb8-e9be-eb38051f8e58",
        "colab": {
          "base_uri": "https://localhost:8080/",
          "height": 53
        }
      },
      "source": [
        "cur_length = len(big_iati)\n",
        "\n",
        "if current_only:\n",
        "  for activity in big_iati:\n",
        "    if activity.findtext('iati-identifier') in current_check_log.loc[current_check_log['pwyf_current'] == False, 'iati-id'].values:\n",
        "      activity.getparent().remove(activity)\n",
        "  \n",
        "  print(\"Removed {} non-current activities from a total of {}.\".format((cur_length-len(big_iati)),cur_length))\n",
        "  print(\"{} current activities remain.\".format(len(big_iati)))\n",
        "\n",
        "else:\n",
        "  print(\"As `current_only` is set to False, all retrieved activities have been kept\")\n"
      ],
      "execution_count": 0,
      "outputs": [
        {
          "output_type": "stream",
          "text": [
            "Removed 48 non-current activities from a total of 85.\n",
            "37 current activities remain.\n"
          ],
          "name": "stdout"
        }
      ]
    },
    {
      "cell_type": "code",
      "metadata": {
        "id": "jrgYDTWZ3iPn",
        "colab_type": "code",
        "colab": {}
      },
      "source": [
        "with open(\"combined_current.xml\", \"wb+\") as out_file:\n",
        "    out_file.write(ET.tostring(big_iati, encoding='utf8', pretty_print=True))"
      ],
      "execution_count": 0,
      "outputs": []
    },
    {
      "cell_type": "markdown",
      "metadata": {
        "id": "5VVGUhui8bDV",
        "colab_type": "text"
      },
      "source": [
        "## Ad Hoc Analysis"
      ]
    },
    {
      "cell_type": "markdown",
      "metadata": {
        "id": "-Q6UP0JPXuJ3",
        "colab_type": "text"
      },
      "source": [
        "This section can be used to evaluate specifica aspects of the total corpus of data, for instance, using `coverage_check()` you can look at the number of activities which include specific elements, or which satisfy certain contditions. This requires some python and XML knowledge. Some examples have been included below."
      ]
    },
    {
      "cell_type": "code",
      "metadata": {
        "id": "Cv-ovpVqo5Mg",
        "colab_type": "code",
        "colab": {}
      },
      "source": [
        "def coverage_check(tree, path, manual_list_entry=False):\n",
        "  if manual_list_entry:\n",
        "    denominator = len(tree)\n",
        "    numerator = len(path)\n",
        "  else:\n",
        "    denominator = len(tree.getchildren())\n",
        "    numerator = len(tree.xpath(path))\n",
        "\n",
        "  coverage = numerator / denominator\n",
        "  return denominator, numerator, coverage"
      ],
      "execution_count": 0,
      "outputs": []
    },
    {
      "cell_type": "code",
      "metadata": {
        "id": "4Z7QBc4Xt1pE",
        "colab_type": "code",
        "outputId": "a3e29523-a56c-4d9c-9f35-859567dfd395",
        "colab": {
          "base_uri": "https://localhost:8080/",
          "height": 35
        }
      },
      "source": [
        "coverage_check(big_iati, \"iati-activity[transaction]\")"
      ],
      "execution_count": 0,
      "outputs": [
        {
          "output_type": "execute_result",
          "data": {
            "text/plain": [
              "(37, 37, 1.0)"
            ]
          },
          "metadata": {
            "tags": []
          },
          "execution_count": 16
        }
      ]
    },
    {
      "cell_type": "code",
      "metadata": {
        "id": "gegznTlTYHMG",
        "colab_type": "code",
        "outputId": "c744942b-59a9-454e-82b0-ad3cf69df730",
        "colab": {
          "base_uri": "https://localhost:8080/",
          "height": 35
        }
      },
      "source": [
        "coverage_check(big_iati, \"iati-activity[capital-spend]\")"
      ],
      "execution_count": 0,
      "outputs": [
        {
          "output_type": "execute_result",
          "data": {
            "text/plain": [
              "(37, 0, 0.0)"
            ]
          },
          "metadata": {
            "tags": []
          },
          "execution_count": 17
        }
      ]
    },
    {
      "cell_type": "code",
      "metadata": {
        "id": "9kYuGLCQYOBa",
        "colab_type": "code",
        "outputId": "6fe12ae9-cf55-43fe-e279-15fd61b0a1e8",
        "colab": {
          "base_uri": "https://localhost:8080/",
          "height": 35
        }
      },
      "source": [
        "# activities with a disbursement\n",
        "coverage_check(big_iati, \"iati-activity[transaction/transaction-type/@code = 3]\")"
      ],
      "execution_count": 0,
      "outputs": [
        {
          "output_type": "execute_result",
          "data": {
            "text/plain": [
              "(37, 0, 0.0)"
            ]
          },
          "metadata": {
            "tags": []
          },
          "execution_count": 18
        }
      ]
    },
    {
      "cell_type": "code",
      "metadata": {
        "id": "kxvlVOYtYs-E",
        "colab_type": "code",
        "outputId": "d1712d0e-ca81-42ab-d3f6-9f11f151e86b",
        "colab": {
          "base_uri": "https://localhost:8080/",
          "height": 35
        }
      },
      "source": [
        "# Manual entry of two lists to see the proportion of transactions which are disbursements\n",
        "coverage_check(\n",
        "    big_iati.xpath(\"iati-activity/transaction\"), \n",
        "    big_iati.xpath(\"iati-activity/transaction[transaction-type/@code = 3]\"), \n",
        "    True)"
      ],
      "execution_count": 0,
      "outputs": [
        {
          "output_type": "execute_result",
          "data": {
            "text/plain": [
              "(2203, 0, 0.0)"
            ]
          },
          "metadata": {
            "tags": []
          },
          "execution_count": 19
        }
      ]
    },
    {
      "cell_type": "markdown",
      "metadata": {
        "id": "IYvJofhk8g1R",
        "colab_type": "text"
      },
      "source": [
        "## Batch CoVE Validation"
      ]
    },
    {
      "cell_type": "code",
      "metadata": {
        "id": "L-X7-aaR8j9Z",
        "colab_type": "code",
        "outputId": "6204e76e-f699-478c-a390-a3bfcf1c7e41",
        "colab": {
          "base_uri": "https://localhost:8080/",
          "height": 71
        }
      },
      "source": [
        "json_validation_filepath = 'validation.json'\n",
        "\n",
        "url = 'https://iati.cove.opendataservices.coop/api_test'\n",
        "files = {'file': open(\"combined.xml\", 'rb')}\n",
        "r = rq.post(url, files=files, data={\"name\": \"combined.xml\"})\n",
        "\n",
        "print(r)\n",
        "\n",
        "print(\"CoVE validation was successful.\" if r.ok else \"Something went wrong.\")\n",
        "\n",
        "validation_json = r.json()\n",
        "\n",
        "with open(json_validation_filepath, \"w\") as out_file:\n",
        "    json.dump(validation_json, out_file)\n",
        "\n",
        "print('Validation JSON file has been written to {}.'.format(\n",
        "    json_validation_filepath))"
      ],
      "execution_count": 0,
      "outputs": [
        {
          "output_type": "stream",
          "text": [
            "<Response [200]>\n",
            "CoVE validation was successful.\n",
            "Validation JSON file has been written to validation.json.\n"
          ],
          "name": "stdout"
        }
      ]
    },
    {
      "cell_type": "code",
      "metadata": {
        "id": "k5K3G7Ky8zI0",
        "colab_type": "code",
        "outputId": "f7f0214d-1a40-4faa-bb2f-887c9cb0f635",
        "colab": {
          "base_uri": "https://localhost:8080/",
          "height": 143
        }
      },
      "source": [
        "ruleset_table = pd.DataFrame(data=validation_json['ruleset_errors'])\n",
        "schema_table = pd.DataFrame(data=validation_json['validation_errors'])\n",
        "embedded_codelist_table = pd.DataFrame(data=validation_json['invalid_embedded_codelist_values'])\n",
        "non_embedded_codelist_table = pd.DataFrame(data=validation_json['invalid_non_embedded_codelist_values'])\n",
        "\n",
        "print(\n",
        "    \"CoVE has found: \\n* {} schema errors \\n* {} ruleset errors \\n* {} embedded codelist errors \\n* {} non-embedded codelist errors\".format(\n",
        "    len(schema_table), \n",
        "    len(ruleset_table), \n",
        "    len(embedded_codelist_table), \n",
        "    len(non_embedded_codelist_table)))\n",
        "\n",
        "print(\"\\nWriting to validation_workbook.xlsx\")\n",
        "writer = pd.ExcelWriter('validation_workbook.xlsx', engine='xlsxwriter')\n",
        "# Write each dataframe to a different worksheet.\n",
        "schema_table.to_excel(writer, sheet_name='schema_table')\n",
        "ruleset_table.to_excel(writer, sheet_name='ruleset_table')\n",
        "embedded_codelist_table.to_excel(writer, sheet_name='embedded_codelist_table')\n",
        "non_embedded_codelist_table.to_excel(writer, sheet_name='non_embedded_codelist_table')\n",
        "\n",
        "# Close the Pandas Excel writer and output the Excel file.\n",
        "writer.save()\n"
      ],
      "execution_count": 0,
      "outputs": [
        {
          "output_type": "stream",
          "text": [
            "CoVE has found: \n",
            "* 0 schema errors \n",
            "* 1 ruleset errors \n",
            "* 2 embedded codelist errors \n",
            "* 22 non-embedded codelist errors\n",
            "\n",
            "Writing to validation_workbook.xlsx\n"
          ],
          "name": "stdout"
        }
      ]
    },
    {
      "cell_type": "markdown",
      "metadata": {
        "id": "t0SLL1woSyoP",
        "colab_type": "text"
      },
      "source": [
        "### Schema Validation"
      ]
    },
    {
      "cell_type": "code",
      "metadata": {
        "id": "0yEUfZoWAKrc",
        "colab_type": "code",
        "outputId": "60a3cd01-3592-4f59-cb02-b3289e47e451",
        "colab": {
          "base_uri": "https://localhost:8080/",
          "height": 32
        }
      },
      "source": [
        "schema_table"
      ],
      "execution_count": 0,
      "outputs": [
        {
          "output_type": "execute_result",
          "data": {
            "text/html": [
              "<div>\n",
              "<style scoped>\n",
              "    .dataframe tbody tr th:only-of-type {\n",
              "        vertical-align: middle;\n",
              "    }\n",
              "\n",
              "    .dataframe tbody tr th {\n",
              "        vertical-align: top;\n",
              "    }\n",
              "\n",
              "    .dataframe thead th {\n",
              "        text-align: right;\n",
              "    }\n",
              "</style>\n",
              "<table border=\"1\" class=\"dataframe\">\n",
              "  <thead>\n",
              "    <tr style=\"text-align: right;\">\n",
              "      <th></th>\n",
              "    </tr>\n",
              "  </thead>\n",
              "  <tbody>\n",
              "  </tbody>\n",
              "</table>\n",
              "</div>"
            ],
            "text/plain": [
              "Empty DataFrame\n",
              "Columns: []\n",
              "Index: []"
            ]
          },
          "metadata": {
            "tags": []
          },
          "execution_count": 22
        }
      ]
    },
    {
      "cell_type": "markdown",
      "metadata": {
        "id": "xyGpqRc3cBfQ",
        "colab_type": "text"
      },
      "source": [
        "#### Custom Analysis\n",
        "\n",
        "This section gives space to investigate schema errors identified in the secion above. It requires a small amount of tinkering in python."
      ]
    },
    {
      "cell_type": "code",
      "metadata": {
        "id": "8WOGXSlLE7Tr",
        "colab_type": "code",
        "colab": {}
      },
      "source": [
        "# To view offending XML element, take the '/NN/' from the path above, add one, \n",
        "# and then modify the remaining content of the path to print a section of XML.\n",
        "# print(ET.tostring(big_iati.xpath(\"iati-activity[61]/related-activity\")[0].getparent()).decode())"
      ],
      "execution_count": 0,
      "outputs": []
    },
    {
      "cell_type": "markdown",
      "metadata": {
        "id": "3cG2D82Odnyx",
        "colab_type": "text"
      },
      "source": [
        "Note the lack of description in the XML output above"
      ]
    },
    {
      "cell_type": "markdown",
      "metadata": {
        "id": "lV9Ub3BjS2xL",
        "colab_type": "text"
      },
      "source": [
        "### Ruleset Validation"
      ]
    },
    {
      "cell_type": "code",
      "metadata": {
        "id": "4jmiZe2q9sj0",
        "colab_type": "code",
        "outputId": "f8311229-1d9a-4e7b-9d11-5a786981758c",
        "colab": {
          "base_uri": "https://localhost:8080/",
          "height": 112
        }
      },
      "source": [
        "# Concise Summary\n",
        "ruleset_table.pivot_table(index=['rule',], aggfunc='count').drop(columns=[\"path\", \"ruleset\", \"explanation\"])"
      ],
      "execution_count": 0,
      "outputs": [
        {
          "output_type": "execute_result",
          "data": {
            "text/html": [
              "<div>\n",
              "<style scoped>\n",
              "    .dataframe tbody tr th:only-of-type {\n",
              "        vertical-align: middle;\n",
              "    }\n",
              "\n",
              "    .dataframe tbody tr th {\n",
              "        vertical-align: top;\n",
              "    }\n",
              "\n",
              "    .dataframe thead th {\n",
              "        text-align: right;\n",
              "    }\n",
              "</style>\n",
              "<table border=\"1\" class=\"dataframe\">\n",
              "  <thead>\n",
              "    <tr style=\"text-align: right;\">\n",
              "      <th></th>\n",
              "      <th>id</th>\n",
              "    </tr>\n",
              "    <tr>\n",
              "      <th>rule</th>\n",
              "      <th></th>\n",
              "    </tr>\n",
              "  </thead>\n",
              "  <tbody>\n",
              "    <tr>\n",
              "      <th>activity-date[@type='4']/@iso-date must be today or in the past</th>\n",
              "      <td>1</td>\n",
              "    </tr>\n",
              "  </tbody>\n",
              "</table>\n",
              "</div>"
            ],
            "text/plain": [
              "                                                    id\n",
              "rule                                                  \n",
              "activity-date[@type='4']/@iso-date must be toda...   1"
            ]
          },
          "metadata": {
            "tags": []
          },
          "execution_count": 24
        }
      ]
    },
    {
      "cell_type": "code",
      "metadata": {
        "id": "W9SQLlEAeIrw",
        "colab_type": "code",
        "outputId": "8c614a3e-d396-45f8-8448-22d989f6ca21",
        "colab": {
          "base_uri": "https://localhost:8080/",
          "height": 81
        }
      },
      "source": [
        "# Full Table\n",
        "ruleset_table.head()"
      ],
      "execution_count": 0,
      "outputs": [
        {
          "output_type": "execute_result",
          "data": {
            "text/html": [
              "<div>\n",
              "<style scoped>\n",
              "    .dataframe tbody tr th:only-of-type {\n",
              "        vertical-align: middle;\n",
              "    }\n",
              "\n",
              "    .dataframe tbody tr th {\n",
              "        vertical-align: top;\n",
              "    }\n",
              "\n",
              "    .dataframe thead th {\n",
              "        text-align: right;\n",
              "    }\n",
              "</style>\n",
              "<table border=\"1\" class=\"dataframe\">\n",
              "  <thead>\n",
              "    <tr style=\"text-align: right;\">\n",
              "      <th></th>\n",
              "      <th>ruleset</th>\n",
              "      <th>explanation</th>\n",
              "      <th>path</th>\n",
              "      <th>rule</th>\n",
              "      <th>id</th>\n",
              "    </tr>\n",
              "  </thead>\n",
              "  <tbody>\n",
              "    <tr>\n",
              "      <th>0</th>\n",
              "      <td>Actual dates must be in the past</td>\n",
              "      <td>2022-06-30 must be on or before today (2019-12...</td>\n",
              "      <td>/iati-activities/iati-activity[71]/activity-da...</td>\n",
              "      <td>activity-date[@type='4']/@iso-date must be tod...</td>\n",
              "      <td>GB-COH-06368740-P0314</td>\n",
              "    </tr>\n",
              "  </tbody>\n",
              "</table>\n",
              "</div>"
            ],
            "text/plain": [
              "                            ruleset  ...                     id\n",
              "0  Actual dates must be in the past  ...  GB-COH-06368740-P0314\n",
              "\n",
              "[1 rows x 5 columns]"
            ]
          },
          "metadata": {
            "tags": []
          },
          "execution_count": 25
        }
      ]
    },
    {
      "cell_type": "markdown",
      "metadata": {
        "id": "JeT5ud4PB9oF",
        "colab_type": "text"
      },
      "source": [
        "## ATI Data Quality Testing\n",
        "\n",
        "Download `combined.xml` and upload to [this testing tool](http://dataqualitytester.publishwhatyoufund.org/) to check data quality in line with the Aid Transparency Index Methodology\n",
        "\n",
        "| Date | Link | Notes |\n",
        "|-|-|-|\n",
        "|YYYY-MM-DD|[Link](http://dataqualitytester.publishwhatyoufund.org/package/bb957674-6ccf-4635-a553-1d2dd0382075)| Some description of findings or link to notes / report |\n",
        "||||\n",
        "||||\n",
        "||||\n",
        "||||"
      ]
    }
  ]
}