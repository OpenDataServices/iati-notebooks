{
  "nbformat": 4,
  "nbformat_minor": 0,
  "metadata": {
    "colab": {
      "name": "IATI Publisher Data Getter (Ben 3.0 dev)",
      "provenance": [],
      "collapsed_sections": [
        "5VVGUhui8bDV",
        "t0SLL1woSyoP",
        "xyGpqRc3cBfQ",
        "lV9Ub3BjS2xL",
        "JeT5ud4PB9oF"
      ],
      "toc_visible": true
    },
    "kernelspec": {
      "name": "python3",
      "display_name": "Python 3"
    }
  },
  "cells": [
    {
      "cell_type": "markdown",
      "metadata": {
        "id": "y4RJqtbd8E7k",
        "colab_type": "text"
      },
      "source": [
        "# IATI Publisher Data Getter\n"
      ]
    },
    {
      "cell_type": "markdown",
      "metadata": {
        "id": "z3rzDU84VPur",
        "colab_type": "text"
      },
      "source": [
        "| Version | Date | Description |\n",
        "|-|-|-|\n",
        "| 1.0 | 2019-09-23 | Initial run, investigating document link and related activity schema validation errors |\n",
        "| 1.1 | 2019-09-23 | Updating the ad-hoc analysis section for clarity, expanding ruleset validation presentation |\n",
        "| 2.0 | 2019-10-07 | Added non-current filter following PWYF rules, added codelist outputs to the ruleset evaluation, and added an exported .xslx file for ruleset evaluation sheets. |\n",
        "| 2.1 | 2019-11-27 | (Ben W) Use lxml's huge_tree param to support bigger files |\n",
        "|3.0-dev| 2019-12-X | (Ben W) Add file upload option, run CoVE validation on current activities only, split current_dict into a function so we can test it in another notebook, and run some checks from the IATI Publishing Statistics.\n",
        "|||"
      ]
    },
    {
      "cell_type": "markdown",
      "metadata": {
        "id": "aXq55yKijjjB",
        "colab_type": "text"
      },
      "source": [
        "Copyright (C) 2019 Open Data Services Co-operative Limited\n",
        "\n",
        "This program is free software: you can redistribute it and/or modify\n",
        "it under the terms of the GNU Affero General Public License as\n",
        "published by the Free Software Foundation, either version 3 of the\n",
        "License, or (at your option) any later version.\n",
        "\n",
        "This program is distributed in the hope that it will be useful,\n",
        "but WITHOUT ANY WARRANTY; without even the implied warranty of\n",
        "MERCHANTABILITY or FITNESS FOR A PARTICULAR PURPOSE.  See the\n",
        "GNU Affero General Public License for more details.\n",
        "\n",
        "You should have received a copy of the GNU Affero General Public License\n",
        "along with this program.  If not, see <https://www.gnu.org/licenses/>.\n"
      ]
    },
    {
      "cell_type": "markdown",
      "metadata": {
        "id": "lB2yOyiG8RBY",
        "colab_type": "text"
      },
      "source": [
        "## Imports, Downloading, Merging\n"
      ]
    },
    {
      "cell_type": "markdown",
      "metadata": {
        "id": "oFvi3YUssj6V",
        "colab_type": "text"
      },
      "source": [
        "### Imports"
      ]
    },
    {
      "cell_type": "code",
      "metadata": {
        "id": "NDWG7Opb44L9",
        "colab_type": "code",
        "outputId": "aea016e9-8a29-4dd2-d2aa-d7444488b7ba",
        "colab": {
          "base_uri": "https://localhost:8080/",
          "height": 35
        }
      },
      "source": [
        "! pip install XlsxWriter"
      ],
      "execution_count": 1,
      "outputs": [
        {
          "output_type": "stream",
          "text": [
            "Requirement already satisfied: XlsxWriter in /usr/local/lib/python3.6/dist-packages (1.2.7)\n"
          ],
          "name": "stdout"
        }
      ]
    },
    {
      "cell_type": "code",
      "metadata": {
        "id": "YTluluXyiQEI",
        "colab_type": "code",
        "colab": {}
      },
      "source": [
        "import pandas as pd\n",
        "import requests as rq\n",
        "import lxml.etree as ET\n",
        "import json\n",
        "import shutil\n",
        "import copy"
      ],
      "execution_count": 0,
      "outputs": []
    },
    {
      "cell_type": "markdown",
      "metadata": {
        "id": "EnZFK8RT68rR",
        "colab_type": "text"
      },
      "source": [
        "### Setup"
      ]
    },
    {
      "cell_type": "code",
      "metadata": {
        "id": "hqEytTRH6_Fg",
        "colab_type": "code",
        "colab": {}
      },
      "source": [
        "# Warning huge_tree disables security restrictions, so should only be used on trusted XML files\n",
        "parser = ET.XMLParser(huge_tree=True)\n",
        "\n",
        "#define comment removal method\n",
        "def remove_comments(etree):\n",
        "  \n",
        "  comments = etree.xpath('//comment()')\n",
        "\n",
        "  for c in comments:\n",
        "      p = c.getparent()\n",
        "      p.remove(c)\n",
        "\n",
        "  return etree"
      ],
      "execution_count": 0,
      "outputs": []
    },
    {
      "cell_type": "markdown",
      "metadata": {
        "id": "w4VMlH1P4e9G",
        "colab_type": "text"
      },
      "source": [
        "### Download or Upload"
      ]
    },
    {
      "cell_type": "code",
      "metadata": {
        "id": "ub2FHCMxhUV-",
        "colab_type": "code",
        "cellView": "both",
        "colab": {}
      },
      "source": [
        "data_mode = \"Download\" #@param [\"Download\", \"Upload\"]"
      ],
      "execution_count": 0,
      "outputs": []
    },
    {
      "cell_type": "markdown",
      "metadata": {
        "id": "8qKBNcBktLwR",
        "colab_type": "text"
      },
      "source": [
        "#### Download"
      ]
    },
    {
      "cell_type": "markdown",
      "metadata": {
        "id": "E-LI0goTzw-u",
        "colab_type": "text"
      },
      "source": [
        "Input the IATI Registry ID of a given IATI Publisher. \n",
        "\n",
        "Set `current_only` to filter the combined IATI to consider only activities which are 'current' according to the [PWYF ATI Methodology](https://github.com/pwyf/latest-index-indicator-definitions/issues/1).\n",
        "\n",
        "Exceptions can be added as an array of dataset_id strings such as this:\n",
        "\n",
        "```json\n",
        "exceptions: [\"dataset1\", \"dataset2, \"...\"]\n",
        "```\n",
        "\n",
        "Currently only Activity files are supported."
      ]
    },
    {
      "cell_type": "code",
      "metadata": {
        "id": "oItTiael2tv4",
        "colab_type": "code",
        "cellView": "form",
        "colab": {}
      },
      "source": [
        "if data_mode == \"Download\":\n",
        "  registry_id = \"dipr\" #@param {type:\"string\"}\n",
        "  filetype = \"Activities\" #@param [\"Activities\", \"Organisations\"]\n",
        "  current_only = True #@param {type:\"boolean\"}\n",
        "  exceptions = []\n",
        "  exceptions =  []#@param {type:\"raw\"}"
      ],
      "execution_count": 0,
      "outputs": []
    },
    {
      "cell_type": "code",
      "metadata": {
        "id": "pgb4or9hha5E",
        "colab_type": "code",
        "colab": {}
      },
      "source": [
        "if data_mode == \"Download\":\n",
        "  datasets = pd.read_csv(\"https://iatiregistry.org/csv/download/\"+registry_id)"
      ],
      "execution_count": 0,
      "outputs": []
    },
    {
      "cell_type": "code",
      "metadata": {
        "id": "qG8l9uyzjigQ",
        "colab_type": "code",
        "outputId": "07fd140f-4624-4669-d999-8d678207b360",
        "colab": {
          "base_uri": "https://localhost:8080/",
          "height": 35
        }
      },
      "source": [
        "if data_mode == \"Download\":\n",
        "  # remove unwanted datasets\n",
        "\n",
        "  if filetype == \"Activities\":\n",
        "    datasets = datasets[datasets['file-type'] != 'organisation']\n",
        "  else: raise Exception('Currently, this notebook only supports IATI Activities, though could be easily modified to support Organisations')\n",
        "\n",
        "  datasets = datasets[~datasets['registry-file-id'].isin(exceptions)]\n",
        "  datasets = datasets.reset_index()\n",
        "\n",
        "  print(\"Removed unwanted activities and setup comment-removal method\")"
      ],
      "execution_count": 7,
      "outputs": [
        {
          "output_type": "stream",
          "text": [
            "Removed unwanted activities and setup comment-removal method\n"
          ],
          "name": "stdout"
        }
      ]
    },
    {
      "cell_type": "code",
      "metadata": {
        "id": "ifv7PR2eovIT",
        "colab_type": "code",
        "outputId": "0271898d-d121-4f0e-a016-292e6092cee5",
        "colab": {
          "base_uri": "https://localhost:8080/",
          "height": 142
        }
      },
      "source": [
        "if data_mode == \"Download\":\n",
        "  print(\"\\nCombining {} IATI files \\n\".format(len(datasets['source-url'])))\n",
        "\n",
        "  # Start with the first file, with comments removed\n",
        "  big_iati = remove_comments(ET.fromstring(rq.get(datasets['source-url'][0]).content, parser=parser))\n",
        "\n",
        "  # Start a dictionary to keep track of the additions\n",
        "  merge_log = {datasets['source-url'][0]: len(big_iati.getchildren())}\n",
        "\n",
        "  # Iterate through the 2nd through last file and\n",
        "  # insert their activtities to into the first\n",
        "  # and update the dictionary\n",
        "  for url in datasets['source-url'][1:]:\n",
        "      data = remove_comments(ET.fromstring(rq.get(url).content))\n",
        "      merge_log[url] = len(data.getchildren())\n",
        "      big_iati.extend(data.getchildren())\n",
        "\n",
        "  # Print a small report on the merging\n",
        "  print(\"Files Merged: \")\n",
        "  for file, activity_count in merge_log.items():\n",
        "      print(\"|-> {} activities from {}\".format(activity_count, file))\n",
        "  print(\"|--> {} in total\".format(len(big_iati.getchildren())))\n",
        "\n",
        "  with open(\"combined.xml\", \"wb+\") as out_file:\n",
        "      out_file.write(ET.tostring(big_iati, encoding='utf8', pretty_print=True))"
      ],
      "execution_count": 8,
      "outputs": [
        {
          "output_type": "stream",
          "text": [
            "\n",
            "Combining 2 IATI files \n",
            "\n",
            "Files Merged: \n",
            "|-> 7 activities from https://aidstream.s3.us-west-2.amazonaws.com/xml/dipr-activities.xml\n",
            "|-> 78 activities from http://devinit.org/wp-content/uploads/2019/09/DIPR-IATI-data-Sep-2019.xml\n",
            "|--> 85 in total\n"
          ],
          "name": "stdout"
        }
      ]
    },
    {
      "cell_type": "markdown",
      "metadata": {
        "id": "qhPAbNSatWNr",
        "colab_type": "text"
      },
      "source": [
        "#### Upload"
      ]
    },
    {
      "cell_type": "code",
      "metadata": {
        "id": "5Vxf7WuE3Peh",
        "colab_type": "code",
        "cellView": "both",
        "colab": {}
      },
      "source": [
        "if data_mode == \"Upload\":\n",
        "  filename = \"britishcouncil.xml\" #@param {type:\"string\"}\n",
        "  current_only = True #@param {type:\"boolean\"}"
      ],
      "execution_count": 0,
      "outputs": []
    },
    {
      "cell_type": "markdown",
      "metadata": {
        "id": "oWxN_d25t6Xs",
        "colab_type": "text"
      },
      "source": [
        "Go to View->\"Table of contents\" if the left pane isn't open, click Files at the top, then click Upload. Upload the file, then update `filename` below to match the filename you uploaded. Note that uploaded files will be cleared when the session ends."
      ]
    },
    {
      "cell_type": "code",
      "metadata": {
        "id": "3Sv3fEjYyejx",
        "colab_type": "code",
        "colab": {}
      },
      "source": [
        "if data_mode == \"Upload\":\n",
        "  shutil.copyfile(filename, 'combined.xml')\n",
        "  big_iati = remove_comments(ET.parse('combined.xml', parser=parser).getroot())"
      ],
      "execution_count": 0,
      "outputs": []
    },
    {
      "cell_type": "markdown",
      "metadata": {
        "id": "kHWwujRi_UxW",
        "colab_type": "text"
      },
      "source": [
        ""
      ]
    },
    {
      "cell_type": "markdown",
      "metadata": {
        "id": "Q1H9P72GtY6V",
        "colab_type": "text"
      },
      "source": [
        "### Filter current activities"
      ]
    },
    {
      "cell_type": "code",
      "metadata": {
        "id": "tRGl8fkYpyN2",
        "colab_type": "code",
        "colab": {}
      },
      "source": [
        "import datetime as dt\n",
        "from dateutil.relativedelta import relativedelta\n",
        "\n",
        "NOW = dt.datetime.now()\n",
        "\n",
        "def current_dict(activity):\n",
        "  status_check = False\n",
        "  planned_end_date_check = False\n",
        "  actual_end_date_check = False\n",
        "  transaction_date_check = False\n",
        "\n",
        "  # print(\"Activity {} of {}\".format(count, len(big_iati)))\n",
        "  \n",
        "  if activity.xpath(\"activity-status[@code=2]\"):\n",
        "    status_check = True\n",
        "\n",
        "  if activity.xpath(\"activity-date[@type=3]/@iso-date\"):\n",
        "    date_time_obj = dt.datetime.strptime(activity.xpath(\"activity-date[@type=3]/@iso-date\")[0], '%Y-%m-%d')\n",
        "    if date_time_obj > (NOW - relativedelta(years=1)):\n",
        "      planned_end_date_check = True\n",
        "  \n",
        "  if activity.xpath(\"activity-date[@type=4]/@iso-date\"):\n",
        "    date_time_obj = dt.datetime.strptime(activity.xpath(\"activity-date[@type=4]/@iso-date\")[0], '%Y-%m-%d')\n",
        "    if date_time_obj > (NOW - relativedelta(years=1)):\n",
        "      actual_end_date_check = True\n",
        "\n",
        "  if activity.xpath(\"transaction/transaction-type[@code=2 or @code=3 or @code=4]\"):\n",
        "    dates = activity.xpath(\"transaction[transaction-type[@code=2 or @code=3 or @code=4]]/transaction-date/@iso-date\")\n",
        "    date_truths = [dt.datetime.strptime(date, '%Y-%m-%d') > (NOW - relativedelta(years=1)) for date in dates]\n",
        "    if True in date_truths:\n",
        "      transaction_date_check = True\n",
        "\n",
        "  pwyf_current = status_check or planned_end_date_check or actual_end_date_check or transaction_date_check\n",
        "\n",
        "  return {\n",
        "    'iati-identifier': activity.findtext('iati-identifier'),\n",
        "    'status_check': status_check, \n",
        "    'planned_end_date_check': planned_end_date_check, \n",
        "    'actual_end_date_check': actual_end_date_check, \n",
        "    'transaction_date_check': transaction_date_check,\n",
        "    'pwyf_current': pwyf_current,\n",
        "  }\n",
        "  "
      ],
      "execution_count": 0,
      "outputs": []
    },
    {
      "cell_type": "code",
      "metadata": {
        "id": "NONf-fVa5diE",
        "colab_type": "code",
        "colab": {}
      },
      "source": [
        "# Filter out non-current activities, if appropriate\n",
        "# See https://github.com/pwyf/latest-index-indicator-definitions/issues/1\n",
        "\n",
        "log_columns = [\"iati-identifier\", \"status_check\", \"planned_end_date_check\", \"actual_end_date_check\", \"transaction_date_check\", \"pwyf_current\"]\n",
        "count = 1\n",
        "current_check_log = pd.DataFrame(columns=log_columns)\n",
        "\n",
        "for activity in big_iati:\n",
        "  current_check_log = current_check_log.append(current_dict(activity), ignore_index=True)\n",
        "  \n",
        "  count = count + 1\n",
        "    \n",
        "current_check_log.to_csv(\"current_check_log.csv\")"
      ],
      "execution_count": 0,
      "outputs": []
    },
    {
      "cell_type": "code",
      "metadata": {
        "id": "cUq37FhD14Lt",
        "colab_type": "code",
        "colab": {}
      },
      "source": [
        "big_iati_archived = copy.copy(big_iati)"
      ],
      "execution_count": 0,
      "outputs": []
    },
    {
      "cell_type": "code",
      "metadata": {
        "id": "6KBo4l0_yGKI",
        "colab_type": "code",
        "outputId": "56c29e31-1a1f-4371-c1b5-e1eb9193c5cd",
        "colab": {
          "base_uri": "https://localhost:8080/",
          "height": 53
        }
      },
      "source": [
        "cur_length = len(big_iati)\n",
        "\n",
        "if current_only:\n",
        "  for activity in big_iati:\n",
        "    if activity.findtext('iati-identifier') in current_check_log.loc[current_check_log['pwyf_current'] == False, 'iati-identifier'].values:\n",
        "      activity.getparent().remove(activity)\n",
        "  \n",
        "  print(\"Removed {} non-current activities from a total of {}.\".format((cur_length-len(big_iati)),cur_length))\n",
        "  print(\"{} current activities remain.\".format(len(big_iati)))\n",
        "\n",
        "else:\n",
        "  print(\"As `current_only` is set to False, all retrieved activities have been kept\")"
      ],
      "execution_count": 14,
      "outputs": [
        {
          "output_type": "stream",
          "text": [
            "Removed 51 non-current activities from a total of 85.\n",
            "34 current activities remain.\n"
          ],
          "name": "stdout"
        }
      ]
    },
    {
      "cell_type": "code",
      "metadata": {
        "id": "jrgYDTWZ3iPn",
        "colab_type": "code",
        "colab": {}
      },
      "source": [
        "with open(\"combined_current.xml\", \"wb+\") as out_file:\n",
        "    out_file.write(ET.tostring(big_iati, encoding='utf8', pretty_print=True))"
      ],
      "execution_count": 0,
      "outputs": []
    },
    {
      "cell_type": "markdown",
      "metadata": {
        "id": "5VVGUhui8bDV",
        "colab_type": "text"
      },
      "source": [
        "## Ad Hoc Analysis"
      ]
    },
    {
      "cell_type": "markdown",
      "metadata": {
        "id": "-Q6UP0JPXuJ3",
        "colab_type": "text"
      },
      "source": [
        "This section can be used to evaluate specifica aspects of the total corpus of data, for instance, using `coverage_check()` you can look at the number of activities which include specific elements, or which satisfy certain contditions. This requires some python and XML knowledge. Some examples have been included below."
      ]
    },
    {
      "cell_type": "code",
      "metadata": {
        "id": "Cv-ovpVqo5Mg",
        "colab_type": "code",
        "colab": {}
      },
      "source": [
        "def coverage_check(tree, path, manual_list_entry=False):\n",
        "  if manual_list_entry:\n",
        "    denominator = len(tree)\n",
        "    numerator = len(path)\n",
        "  else:\n",
        "    denominator = len(tree.getchildren())\n",
        "    numerator = len(tree.xpath(path))\n",
        "\n",
        "  coverage = numerator / denominator\n",
        "  return denominator, numerator, coverage"
      ],
      "execution_count": 0,
      "outputs": []
    },
    {
      "cell_type": "code",
      "metadata": {
        "id": "4Z7QBc4Xt1pE",
        "colab_type": "code",
        "outputId": "d966c78f-0c01-4eef-a969-5c8d73dd02b7",
        "colab": {
          "base_uri": "https://localhost:8080/",
          "height": 35
        }
      },
      "source": [
        "coverage_check(big_iati, \"iati-activity[transaction]\")"
      ],
      "execution_count": 17,
      "outputs": [
        {
          "output_type": "execute_result",
          "data": {
            "text/plain": [
              "(34, 34, 1.0)"
            ]
          },
          "metadata": {
            "tags": []
          },
          "execution_count": 17
        }
      ]
    },
    {
      "cell_type": "code",
      "metadata": {
        "id": "gegznTlTYHMG",
        "colab_type": "code",
        "outputId": "c375921d-1ba1-4cc5-d176-f9945d341f54",
        "colab": {
          "base_uri": "https://localhost:8080/",
          "height": 35
        }
      },
      "source": [
        "coverage_check(big_iati, \"iati-activity[capital-spend]\")"
      ],
      "execution_count": 18,
      "outputs": [
        {
          "output_type": "execute_result",
          "data": {
            "text/plain": [
              "(34, 0, 0.0)"
            ]
          },
          "metadata": {
            "tags": []
          },
          "execution_count": 18
        }
      ]
    },
    {
      "cell_type": "code",
      "metadata": {
        "id": "9kYuGLCQYOBa",
        "colab_type": "code",
        "outputId": "38da1e44-3b55-46d3-b848-e8fadf97a968",
        "colab": {
          "base_uri": "https://localhost:8080/",
          "height": 35
        }
      },
      "source": [
        "# activities with a disbursement\n",
        "coverage_check(big_iati, \"iati-activity[transaction/transaction-type/@code = 3]\")"
      ],
      "execution_count": 19,
      "outputs": [
        {
          "output_type": "execute_result",
          "data": {
            "text/plain": [
              "(34, 0, 0.0)"
            ]
          },
          "metadata": {
            "tags": []
          },
          "execution_count": 19
        }
      ]
    },
    {
      "cell_type": "code",
      "metadata": {
        "id": "kxvlVOYtYs-E",
        "colab_type": "code",
        "outputId": "29e42fc8-dc27-4da9-b771-2d212be08d01",
        "colab": {
          "base_uri": "https://localhost:8080/",
          "height": 35
        }
      },
      "source": [
        "# Manual entry of two lists to see the proportion of transactions which are disbursements\n",
        "coverage_check(\n",
        "    big_iati.xpath(\"iati-activity/transaction\"), \n",
        "    big_iati.xpath(\"iati-activity/transaction[transaction-type/@code = 3]\"), \n",
        "    True)"
      ],
      "execution_count": 20,
      "outputs": [
        {
          "output_type": "execute_result",
          "data": {
            "text/plain": [
              "(2138, 0, 0.0)"
            ]
          },
          "metadata": {
            "tags": []
          },
          "execution_count": 20
        }
      ]
    },
    {
      "cell_type": "markdown",
      "metadata": {
        "id": "IYvJofhk8g1R",
        "colab_type": "text"
      },
      "source": [
        "## Batch CoVE Validation"
      ]
    },
    {
      "cell_type": "code",
      "metadata": {
        "id": "L-X7-aaR8j9Z",
        "colab_type": "code",
        "outputId": "66833bd4-50dc-4365-bf51-6f50bde3f253",
        "colab": {
          "base_uri": "https://localhost:8080/",
          "height": 71
        }
      },
      "source": [
        "json_validation_filepath = 'validation.json'\n",
        "\n",
        "url = 'https://iati.cove.opendataservices.coop/api_test'\n",
        "files = {'file': open(\"combined_current.xml\", 'rb')}\n",
        "r = rq.post(url, files=files, data={\"name\": \"combined_current.xml\"})\n",
        "\n",
        "print(r)\n",
        "\n",
        "print(\"CoVE validation was successful.\" if r.ok else \"Something went wrong.\")\n",
        "\n",
        "validation_json = r.json()\n",
        "\n",
        "with open(json_validation_filepath, \"w\") as out_file:\n",
        "    json.dump(validation_json, out_file)\n",
        "\n",
        "print('Validation JSON file has been written to {}.'.format(\n",
        "    json_validation_filepath))"
      ],
      "execution_count": 21,
      "outputs": [
        {
          "output_type": "stream",
          "text": [
            "<Response [200]>\n",
            "CoVE validation was successful.\n",
            "Validation JSON file has been written to validation.json.\n"
          ],
          "name": "stdout"
        }
      ]
    },
    {
      "cell_type": "code",
      "metadata": {
        "id": "k5K3G7Ky8zI0",
        "colab_type": "code",
        "outputId": "96a886de-77c3-4b20-e802-bb5d3709c20d",
        "colab": {
          "base_uri": "https://localhost:8080/",
          "height": 142
        }
      },
      "source": [
        "ruleset_table = pd.DataFrame(data=validation_json['ruleset_errors'])\n",
        "schema_table = pd.DataFrame(data=validation_json['validation_errors'])\n",
        "embedded_codelist_table = pd.DataFrame(data=validation_json['invalid_embedded_codelist_values'])\n",
        "non_embedded_codelist_table = pd.DataFrame(data=validation_json['invalid_non_embedded_codelist_values'])\n",
        "\n",
        "print(\n",
        "    \"CoVE has found: \\n* {} schema errors \\n* {} ruleset errors \\n* {} embedded codelist errors \\n* {} non-embedded codelist errors\".format(\n",
        "    len(schema_table), \n",
        "    len(ruleset_table), \n",
        "    len(embedded_codelist_table), \n",
        "    len(non_embedded_codelist_table)))\n",
        "\n",
        "print(\"\\nWriting to validation_workbook.xlsx\")\n",
        "writer = pd.ExcelWriter('validation_workbook.xlsx', engine='xlsxwriter')\n",
        "# Write each dataframe to a different worksheet.\n",
        "schema_table.to_excel(writer, sheet_name='schema_table')\n",
        "ruleset_table.to_excel(writer, sheet_name='ruleset_table')\n",
        "embedded_codelist_table.to_excel(writer, sheet_name='embedded_codelist_table')\n",
        "non_embedded_codelist_table.to_excel(writer, sheet_name='non_embedded_codelist_table')\n",
        "\n",
        "# Close the Pandas Excel writer and output the Excel file.\n",
        "writer.save()\n"
      ],
      "execution_count": 22,
      "outputs": [
        {
          "output_type": "stream",
          "text": [
            "CoVE has found: \n",
            "* 0 schema errors \n",
            "* 1 ruleset errors \n",
            "* 2 embedded codelist errors \n",
            "* 6 non-embedded codelist errors\n",
            "\n",
            "Writing to validation_workbook.xlsx\n"
          ],
          "name": "stdout"
        }
      ]
    },
    {
      "cell_type": "markdown",
      "metadata": {
        "id": "t0SLL1woSyoP",
        "colab_type": "text"
      },
      "source": [
        "### Schema Validation"
      ]
    },
    {
      "cell_type": "code",
      "metadata": {
        "id": "0yEUfZoWAKrc",
        "colab_type": "code",
        "outputId": "31558867-ffd8-422a-8756-5c5ecf8abf60",
        "colab": {
          "base_uri": "https://localhost:8080/",
          "height": 32
        }
      },
      "source": [
        "schema_table"
      ],
      "execution_count": 23,
      "outputs": [
        {
          "output_type": "execute_result",
          "data": {
            "text/html": [
              "<div>\n",
              "<style scoped>\n",
              "    .dataframe tbody tr th:only-of-type {\n",
              "        vertical-align: middle;\n",
              "    }\n",
              "\n",
              "    .dataframe tbody tr th {\n",
              "        vertical-align: top;\n",
              "    }\n",
              "\n",
              "    .dataframe thead th {\n",
              "        text-align: right;\n",
              "    }\n",
              "</style>\n",
              "<table border=\"1\" class=\"dataframe\">\n",
              "  <thead>\n",
              "    <tr style=\"text-align: right;\">\n",
              "      <th></th>\n",
              "    </tr>\n",
              "  </thead>\n",
              "  <tbody>\n",
              "  </tbody>\n",
              "</table>\n",
              "</div>"
            ],
            "text/plain": [
              "Empty DataFrame\n",
              "Columns: []\n",
              "Index: []"
            ]
          },
          "metadata": {
            "tags": []
          },
          "execution_count": 23
        }
      ]
    },
    {
      "cell_type": "markdown",
      "metadata": {
        "id": "xyGpqRc3cBfQ",
        "colab_type": "text"
      },
      "source": [
        "#### Custom Analysis\n",
        "\n",
        "This section gives space to investigate schema errors identified in the secion above. It requires a small amount of tinkering in python."
      ]
    },
    {
      "cell_type": "code",
      "metadata": {
        "id": "8WOGXSlLE7Tr",
        "colab_type": "code",
        "colab": {}
      },
      "source": [
        "# To view offending XML element, take the '/NN/' from the path above, add one, \n",
        "# and then modify the remaining content of the path to print a section of XML.\n",
        "# print(ET.tostring(big_iati.xpath(\"iati-activity[61]/related-activity\")[0].getparent()).decode())"
      ],
      "execution_count": 0,
      "outputs": []
    },
    {
      "cell_type": "markdown",
      "metadata": {
        "id": "3cG2D82Odnyx",
        "colab_type": "text"
      },
      "source": [
        "Note the lack of description in the XML output above"
      ]
    },
    {
      "cell_type": "markdown",
      "metadata": {
        "id": "lV9Ub3BjS2xL",
        "colab_type": "text"
      },
      "source": [
        "### Ruleset Validation"
      ]
    },
    {
      "cell_type": "code",
      "metadata": {
        "id": "4jmiZe2q9sj0",
        "colab_type": "code",
        "outputId": "5e569e7c-eefa-478b-fce8-11fb4f3dfbea",
        "colab": {
          "base_uri": "https://localhost:8080/",
          "height": 112
        }
      },
      "source": [
        "# Concise Summary\n",
        "ruleset_table.pivot_table(index=['rule',], aggfunc='count').drop(columns=[\"path\", \"ruleset\", \"explanation\"])"
      ],
      "execution_count": 25,
      "outputs": [
        {
          "output_type": "execute_result",
          "data": {
            "text/html": [
              "<div>\n",
              "<style scoped>\n",
              "    .dataframe tbody tr th:only-of-type {\n",
              "        vertical-align: middle;\n",
              "    }\n",
              "\n",
              "    .dataframe tbody tr th {\n",
              "        vertical-align: top;\n",
              "    }\n",
              "\n",
              "    .dataframe thead th {\n",
              "        text-align: right;\n",
              "    }\n",
              "</style>\n",
              "<table border=\"1\" class=\"dataframe\">\n",
              "  <thead>\n",
              "    <tr style=\"text-align: right;\">\n",
              "      <th></th>\n",
              "      <th>id</th>\n",
              "    </tr>\n",
              "    <tr>\n",
              "      <th>rule</th>\n",
              "      <th></th>\n",
              "    </tr>\n",
              "  </thead>\n",
              "  <tbody>\n",
              "    <tr>\n",
              "      <th>activity-date[@type='4']/@iso-date must be today or in the past</th>\n",
              "      <td>1</td>\n",
              "    </tr>\n",
              "  </tbody>\n",
              "</table>\n",
              "</div>"
            ],
            "text/plain": [
              "                                                    id\n",
              "rule                                                  \n",
              "activity-date[@type='4']/@iso-date must be toda...   1"
            ]
          },
          "metadata": {
            "tags": []
          },
          "execution_count": 25
        }
      ]
    },
    {
      "cell_type": "code",
      "metadata": {
        "id": "W9SQLlEAeIrw",
        "colab_type": "code",
        "colab": {
          "base_uri": "https://localhost:8080/",
          "height": 98
        },
        "outputId": "76abed82-f109-407f-c140-f5dc43903f1b"
      },
      "source": [
        "# Full Table\n",
        "ruleset_table.head()"
      ],
      "execution_count": 26,
      "outputs": [
        {
          "output_type": "execute_result",
          "data": {
            "text/html": [
              "<div>\n",
              "<style scoped>\n",
              "    .dataframe tbody tr th:only-of-type {\n",
              "        vertical-align: middle;\n",
              "    }\n",
              "\n",
              "    .dataframe tbody tr th {\n",
              "        vertical-align: top;\n",
              "    }\n",
              "\n",
              "    .dataframe thead th {\n",
              "        text-align: right;\n",
              "    }\n",
              "</style>\n",
              "<table border=\"1\" class=\"dataframe\">\n",
              "  <thead>\n",
              "    <tr style=\"text-align: right;\">\n",
              "      <th></th>\n",
              "      <th>id</th>\n",
              "      <th>path</th>\n",
              "      <th>ruleset</th>\n",
              "      <th>explanation</th>\n",
              "      <th>rule</th>\n",
              "    </tr>\n",
              "  </thead>\n",
              "  <tbody>\n",
              "    <tr>\n",
              "      <th>0</th>\n",
              "      <td>GB-COH-06368740-P0314</td>\n",
              "      <td>/iati-activities/iati-activity[20]/activity-da...</td>\n",
              "      <td>Actual dates must be in the past</td>\n",
              "      <td>2022-06-30 must be on or before today (2020-01...</td>\n",
              "      <td>activity-date[@type='4']/@iso-date must be tod...</td>\n",
              "    </tr>\n",
              "  </tbody>\n",
              "</table>\n",
              "</div>"
            ],
            "text/plain": [
              "                      id  ...                                               rule\n",
              "0  GB-COH-06368740-P0314  ...  activity-date[@type='4']/@iso-date must be tod...\n",
              "\n",
              "[1 rows x 5 columns]"
            ]
          },
          "metadata": {
            "tags": []
          },
          "execution_count": 26
        }
      ]
    },
    {
      "cell_type": "markdown",
      "metadata": {
        "id": "JeT5ud4PB9oF",
        "colab_type": "text"
      },
      "source": [
        "## ATI Data Quality Testing\n",
        "\n",
        "Download `combined.xml` and upload to [this testing tool](http://dataqualitytester.publishwhatyoufund.org/) to check data quality in line with the Aid Transparency Index Methodology\n",
        "\n",
        "| Date | Link | Notes |\n",
        "|-|-|-|\n",
        "|YYYY-MM-DD|[Link](http://dataqualitytester.publishwhatyoufund.org/package/bb957674-6ccf-4635-a553-1d2dd0382075)| Some description of findings or link to notes / report |\n",
        "||||\n",
        "||||\n",
        "||||\n",
        "||||"
      ]
    },
    {
      "cell_type": "markdown",
      "metadata": {
        "id": "luKkG8yTo2y_",
        "colab_type": "text"
      },
      "source": [
        "## IATI Publisher Statistics"
      ]
    },
    {
      "cell_type": "code",
      "metadata": {
        "id": "LmKR5Lm5o7Kh",
        "colab_type": "code",
        "colab": {
          "base_uri": "https://localhost:8080/",
          "height": 324
        },
        "outputId": "c2b5e08c-0297-4820-f07e-fe85ff74f730"
      },
      "source": [
        "import os\n",
        "os.chdir('/content')\n",
        "!rm -r iati-publishingstats-details\n",
        "!git clone https://github.com/OpenDataServices/iati-publishingstats-details.git\n",
        "os.chdir('/content/iati-publishingstats-details')\n",
        "!git submodule init\n",
        "!git submodule update\n",
        "!mkdir logs\n",
        "!sudo apt install python-virtualenv > logs/apt.log\n",
        "# Note that the Publishing Statistics code requires Python 2\n",
        "!virtualenv .ve\n",
        "!source .ve/bin/activate; pip install -r requirements.txt > logs/requirements.log\n",
        "!source .ve/bin/activate; ./fetch_helpers.sh > logs/fetch_helpers.log 2>&1\n",
        "!source .ve/bin/activate; python forward_looking_details.py ../combined.xml > forward_looking_details.csv\n",
        "!source .ve/bin/activate; python comprehensiveness_is_current_details.py ../combined.xml > comprehensiveness_is_current_details.csv\n",
        "os.chdir('/content')"
      ],
      "execution_count": 27,
      "outputs": [
        {
          "output_type": "stream",
          "text": [
            "Cloning into 'iati-publishingstats-details'...\n",
            "remote: Enumerating objects: 30, done.\u001b[K\n",
            "remote: Counting objects:   3% (1/30)\u001b[K\rremote: Counting objects:   6% (2/30)\u001b[K\rremote: Counting objects:  10% (3/30)\u001b[K\rremote: Counting objects:  13% (4/30)\u001b[K\rremote: Counting objects:  16% (5/30)\u001b[K\rremote: Counting objects:  20% (6/30)\u001b[K\rremote: Counting objects:  23% (7/30)\u001b[K\rremote: Counting objects:  26% (8/30)\u001b[K\rremote: Counting objects:  30% (9/30)\u001b[K\rremote: Counting objects:  33% (10/30)\u001b[K\rremote: Counting objects:  36% (11/30)\u001b[K\rremote: Counting objects:  40% (12/30)\u001b[K\rremote: Counting objects:  43% (13/30)\u001b[K\rremote: Counting objects:  46% (14/30)\u001b[K\rremote: Counting objects:  50% (15/30)\u001b[K\rremote: Counting objects:  53% (16/30)\u001b[K\rremote: Counting objects:  56% (17/30)\u001b[K\rremote: Counting objects:  60% (18/30)\u001b[K\rremote: Counting objects:  63% (19/30)\u001b[K\rremote: Counting objects:  66% (20/30)\u001b[K\rremote: Counting objects:  70% (21/30)\u001b[K\rremote: Counting objects:  73% (22/30)\u001b[K\rremote: Counting objects:  76% (23/30)\u001b[K\rremote: Counting objects:  80% (24/30)\u001b[K\rremote: Counting objects:  83% (25/30)\u001b[K\rremote: Counting objects:  86% (26/30)\u001b[K\rremote: Counting objects:  90% (27/30)\u001b[K\rremote: Counting objects:  93% (28/30)\u001b[K\rremote: Counting objects:  96% (29/30)\u001b[K\rremote: Counting objects: 100% (30/30)\u001b[K\rremote: Counting objects: 100% (30/30), done.\u001b[K\n",
            "remote: Compressing objects:   5% (1/20)\u001b[K\rremote: Compressing objects:  10% (2/20)\rremote: Compressing objects:  15% (3/20)\u001b[K\rremote: Compressing objects:  20% (4/20)\u001b[K\rremote: Compressing objects:  25% (5/20)\u001b[K\rremote: Compressing objects:  30% (6/20)\u001b[K\rremote: Compressing objects:  35% (7/20)\u001b[K\rremote: Compressing objects:  40% (8/20)\u001b[K\rremote: Compressing objects:  45% (9/20)\u001b[K\rremote: Compressing objects:  50% (10/20)\u001b[K\rremote: Compressing objects:  55% (11/20)\u001b[K\rremote: Compressing objects:  60% (12/20)\u001b[K\rremote: Compressing objects:  65% (13/20)\u001b[K\rremote: Compressing objects:  70% (14/20)\u001b[K\rremote: Compressing objects:  75% (15/20)\u001b[K\rremote: Compressing objects:  80% (16/20)\u001b[K\rremote: Compressing objects:  85% (17/20)\u001b[K\rremote: Compressing objects:  90% (18/20)\u001b[K\rremote: Compressing objects:  95% (19/20)\u001b[K\rremote: Compressing objects: 100% (20/20)\u001b[K\rremote: Compressing objects: 100% (20/20), done.\u001b[K\n",
            "remote: Total 30 (delta 12), reused 24 (delta 6), pack-reused 0\u001b[K\n",
            "Unpacking objects:   3% (1/30)   \rUnpacking objects:   6% (2/30)   \rUnpacking objects:  10% (3/30)   \rUnpacking objects:  13% (4/30)   \rUnpacking objects:  16% (5/30)   \rUnpacking objects:  20% (6/30)   \rUnpacking objects:  23% (7/30)   \rUnpacking objects:  26% (8/30)   \rUnpacking objects:  30% (9/30)   \rUnpacking objects:  33% (10/30)   \rUnpacking objects:  36% (11/30)   \rUnpacking objects:  40% (12/30)   \rUnpacking objects:  43% (13/30)   \rUnpacking objects:  46% (14/30)   \rUnpacking objects:  50% (15/30)   \rUnpacking objects:  53% (16/30)   \rUnpacking objects:  56% (17/30)   \rUnpacking objects:  60% (18/30)   \rUnpacking objects:  63% (19/30)   \rUnpacking objects:  66% (20/30)   \rUnpacking objects:  70% (21/30)   \rUnpacking objects:  73% (22/30)   \rUnpacking objects:  76% (23/30)   \rUnpacking objects:  80% (24/30)   \rUnpacking objects:  83% (25/30)   \rUnpacking objects:  86% (26/30)   \rUnpacking objects:  90% (27/30)   \rUnpacking objects:  93% (28/30)   \rUnpacking objects:  96% (29/30)   \rUnpacking objects: 100% (30/30)   \rUnpacking objects: 100% (30/30), done.\n",
            "Submodule 'IATI-Publishing-Statistics' (https://github.com/IATI/IATI-Publishing-Statistics.git) registered for path 'IATI-Publishing-Statistics'\n",
            "Cloning into '/content/iati-publishingstats-details/IATI-Publishing-Statistics'...\n",
            "Submodule path 'IATI-Publishing-Statistics': checked out '623498143ad809a57b87d357ea0dd0f65afd11b0'\n",
            "\n",
            "WARNING: apt does not have a stable CLI interface. Use with caution in scripts.\n",
            "\n",
            "Running virtualenv with interpreter /usr/bin/python2\n",
            "New python executable in /content/iati-publishingstats-details/.ve/bin/python2\n",
            "Also creating executable in /content/iati-publishingstats-details/.ve/bin/python\n",
            "Installing setuptools, pkg_resources, pip, wheel...done.\n"
          ],
          "name": "stdout"
        }
      ]
    },
    {
      "cell_type": "code",
      "metadata": {
        "id": "nbOzzrBFs3a9",
        "colab_type": "code",
        "colab": {
          "base_uri": "https://localhost:8080/",
          "height": 268
        },
        "outputId": "5297c12f-3585-47bc-c434-94ae52f598be"
      },
      "source": [
        "os.chdir('/content')\n",
        "forward_looking_details = pd.read_csv('iati-publishingstats-details/forward_looking_details.csv')\n",
        "forward_looking_details"
      ],
      "execution_count": 28,
      "outputs": [
        {
          "output_type": "execute_result",
          "data": {
            "text/html": [
              "<div>\n",
              "<style scoped>\n",
              "    .dataframe tbody tr th:only-of-type {\n",
              "        vertical-align: middle;\n",
              "    }\n",
              "\n",
              "    .dataframe tbody tr th {\n",
              "        vertical-align: top;\n",
              "    }\n",
              "\n",
              "    .dataframe thead th {\n",
              "        text-align: right;\n",
              "    }\n",
              "</style>\n",
              "<table border=\"1\" class=\"dataframe\">\n",
              "  <thead>\n",
              "    <tr style=\"text-align: right;\">\n",
              "      <th></th>\n",
              "      <th>iati-identifier</th>\n",
              "      <th>First year to fail</th>\n",
              "      <th>End dates</th>\n",
              "      <th>Budget years</th>\n",
              "    </tr>\n",
              "  </thead>\n",
              "  <tbody>\n",
              "    <tr>\n",
              "      <th>0</th>\n",
              "      <td>GB-COH-06368740-P0258</td>\n",
              "      <td>2020</td>\n",
              "      <td>2020-12-31</td>\n",
              "      <td>2018</td>\n",
              "    </tr>\n",
              "    <tr>\n",
              "      <th>1</th>\n",
              "      <td>GB-COH-06368740-P0203</td>\n",
              "      <td>2020</td>\n",
              "      <td>2020-12-31</td>\n",
              "      <td>2017,2017,2017,2017</td>\n",
              "    </tr>\n",
              "    <tr>\n",
              "      <th>2</th>\n",
              "      <td>GB-COH-06368740-P0204</td>\n",
              "      <td>2020</td>\n",
              "      <td>2020-12-31</td>\n",
              "      <td>2017,2017,2017,2017</td>\n",
              "    </tr>\n",
              "    <tr>\n",
              "      <th>3</th>\n",
              "      <td>GB-COH-06368740-P0314</td>\n",
              "      <td>2020</td>\n",
              "      <td>2022-06-30</td>\n",
              "      <td>2018</td>\n",
              "    </tr>\n",
              "    <tr>\n",
              "      <th>4</th>\n",
              "      <td>GB-COH-06368740-P0341</td>\n",
              "      <td>2020</td>\n",
              "      <td>2022-05-31</td>\n",
              "      <td>No budgets</td>\n",
              "    </tr>\n",
              "    <tr>\n",
              "      <th>5</th>\n",
              "      <td>GB-COH-06368740-P0344</td>\n",
              "      <td>2020</td>\n",
              "      <td>2021-12-31</td>\n",
              "      <td>No budgets</td>\n",
              "    </tr>\n",
              "    <tr>\n",
              "      <th>6</th>\n",
              "      <td>GB-COH-06368740-P0358</td>\n",
              "      <td>2020</td>\n",
              "      <td>2021-12-31</td>\n",
              "      <td>No budgets</td>\n",
              "    </tr>\n",
              "  </tbody>\n",
              "</table>\n",
              "</div>"
            ],
            "text/plain": [
              "         iati-identifier  First year to fail   End dates         Budget years\n",
              "0  GB-COH-06368740-P0258                2020  2020-12-31                 2018\n",
              "1  GB-COH-06368740-P0203                2020  2020-12-31  2017,2017,2017,2017\n",
              "2  GB-COH-06368740-P0204                2020  2020-12-31  2017,2017,2017,2017\n",
              "3  GB-COH-06368740-P0314                2020  2022-06-30                 2018\n",
              "4  GB-COH-06368740-P0341                2020  2022-05-31           No budgets\n",
              "5  GB-COH-06368740-P0344                2020  2021-12-31           No budgets\n",
              "6  GB-COH-06368740-P0358                2020  2021-12-31           No budgets"
            ]
          },
          "metadata": {
            "tags": []
          },
          "execution_count": 28
        }
      ]
    },
    {
      "cell_type": "code",
      "metadata": {
        "id": "Y3ZQZc0r5RTn",
        "colab_type": "code",
        "colab": {
          "base_uri": "https://localhost:8080/",
          "height": 423
        },
        "outputId": "c55d9a41-9fda-4880-e153-a4a271f5bfc3"
      },
      "source": [
        "comprehensiveness_is_current_details = pd.read_csv('iati-publishingstats-details/comprehensiveness_is_current_details.csv')\n",
        "comprehensiveness_is_current_details"
      ],
      "execution_count": 29,
      "outputs": [
        {
          "output_type": "execute_result",
          "data": {
            "text/html": [
              "<div>\n",
              "<style scoped>\n",
              "    .dataframe tbody tr th:only-of-type {\n",
              "        vertical-align: middle;\n",
              "    }\n",
              "\n",
              "    .dataframe tbody tr th {\n",
              "        vertical-align: top;\n",
              "    }\n",
              "\n",
              "    .dataframe thead th {\n",
              "        text-align: right;\n",
              "    }\n",
              "</style>\n",
              "<table border=\"1\" class=\"dataframe\">\n",
              "  <thead>\n",
              "    <tr style=\"text-align: right;\">\n",
              "      <th></th>\n",
              "      <th>iati-identifier</th>\n",
              "      <th>publishingstats_comprehensiveness_current</th>\n",
              "    </tr>\n",
              "  </thead>\n",
              "  <tbody>\n",
              "    <tr>\n",
              "      <th>0</th>\n",
              "      <td>GB-COH-06368740-P0255</td>\n",
              "      <td>False</td>\n",
              "    </tr>\n",
              "    <tr>\n",
              "      <th>1</th>\n",
              "      <td>GB-COH-06368740-P0283</td>\n",
              "      <td>False</td>\n",
              "    </tr>\n",
              "    <tr>\n",
              "      <th>2</th>\n",
              "      <td>GB-COH-06368740-P0256</td>\n",
              "      <td>False</td>\n",
              "    </tr>\n",
              "    <tr>\n",
              "      <th>3</th>\n",
              "      <td>GB-COH-06368740-P0144</td>\n",
              "      <td>False</td>\n",
              "    </tr>\n",
              "    <tr>\n",
              "      <th>4</th>\n",
              "      <td>GB-COH-06368740-P0044</td>\n",
              "      <td>True</td>\n",
              "    </tr>\n",
              "    <tr>\n",
              "      <th>...</th>\n",
              "      <td>...</td>\n",
              "      <td>...</td>\n",
              "    </tr>\n",
              "    <tr>\n",
              "      <th>80</th>\n",
              "      <td>GB-COH-06368740-P0353</td>\n",
              "      <td>False</td>\n",
              "    </tr>\n",
              "    <tr>\n",
              "      <th>81</th>\n",
              "      <td>GB-COH-06368740-P0356</td>\n",
              "      <td>False</td>\n",
              "    </tr>\n",
              "    <tr>\n",
              "      <th>82</th>\n",
              "      <td>GB-COH-06368740-P0357</td>\n",
              "      <td>False</td>\n",
              "    </tr>\n",
              "    <tr>\n",
              "      <th>83</th>\n",
              "      <td>GB-COH-06368740-P0358</td>\n",
              "      <td>True</td>\n",
              "    </tr>\n",
              "    <tr>\n",
              "      <th>84</th>\n",
              "      <td>GB-COH-06368740-P0363</td>\n",
              "      <td>False</td>\n",
              "    </tr>\n",
              "  </tbody>\n",
              "</table>\n",
              "<p>85 rows × 2 columns</p>\n",
              "</div>"
            ],
            "text/plain": [
              "          iati-identifier  publishingstats_comprehensiveness_current\n",
              "0   GB-COH-06368740-P0255                                      False\n",
              "1   GB-COH-06368740-P0283                                      False\n",
              "2   GB-COH-06368740-P0256                                      False\n",
              "3   GB-COH-06368740-P0144                                      False\n",
              "4   GB-COH-06368740-P0044                                       True\n",
              "..                    ...                                        ...\n",
              "80  GB-COH-06368740-P0353                                      False\n",
              "81  GB-COH-06368740-P0356                                      False\n",
              "82  GB-COH-06368740-P0357                                      False\n",
              "83  GB-COH-06368740-P0358                                       True\n",
              "84  GB-COH-06368740-P0363                                      False\n",
              "\n",
              "[85 rows x 2 columns]"
            ]
          },
          "metadata": {
            "tags": []
          },
          "execution_count": 29
        }
      ]
    },
    {
      "cell_type": "code",
      "metadata": {
        "id": "VMxIFo5j2KRA",
        "colab_type": "code",
        "colab": {
          "base_uri": "https://localhost:8080/",
          "height": 53
        },
        "outputId": "5257ef03-d196-439d-ebbb-09cf213a4283"
      },
      "source": [
        "big_iati_comprehensiveness_current = copy.copy(big_iati_archived)\n",
        "\n",
        "cur_length = len(big_iati_comprehensiveness_current)\n",
        "\n",
        "if current_only:\n",
        "  for activity in big_iati_comprehensiveness_current:\n",
        "    if activity.findtext('iati-identifier') in comprehensiveness_is_current_details.loc[comprehensiveness_is_current_details['publishingstats_comprehensiveness_current'] == False, 'iati-identifier'].values:\n",
        "      activity.getparent().remove(activity)\n",
        "  \n",
        "  print(\"Removed {} non-current activities from a total of {}.\".format((cur_length-len(big_iati_comprehensiveness_current)),cur_length))\n",
        "  print(\"{} current activities remain.\".format(len(big_iati_comprehensiveness_current)))\n",
        "\n",
        "else:\n",
        "  print(\"As `current_only` is set to False, all retrieved activities have been kept\")"
      ],
      "execution_count": 30,
      "outputs": [
        {
          "output_type": "stream",
          "text": [
            "Removed 75 non-current activities from a total of 85.\n",
            "10 current activities remain.\n"
          ],
          "name": "stdout"
        }
      ]
    },
    {
      "cell_type": "code",
      "metadata": {
        "id": "l-_7aD4n3fvS",
        "colab_type": "code",
        "colab": {
          "base_uri": "https://localhost:8080/",
          "height": 143
        },
        "outputId": "7ff3c910-b48f-4cdf-f734-f2d31ef6976c"
      },
      "source": [
        "merged_currents = pd.merge(current_check_log, comprehensiveness_is_current_details, on=\"iati-identifier\")\n",
        "merged_currents.groupby(['pwyf_current', 'publishingstats_comprehensiveness_current']).size().unstack()\n",
        "# Note: these numbers will not add up properly if there are duplicate iati-identifiers"
      ],
      "execution_count": 31,
      "outputs": [
        {
          "output_type": "execute_result",
          "data": {
            "text/html": [
              "<div>\n",
              "<style scoped>\n",
              "    .dataframe tbody tr th:only-of-type {\n",
              "        vertical-align: middle;\n",
              "    }\n",
              "\n",
              "    .dataframe tbody tr th {\n",
              "        vertical-align: top;\n",
              "    }\n",
              "\n",
              "    .dataframe thead th {\n",
              "        text-align: right;\n",
              "    }\n",
              "</style>\n",
              "<table border=\"1\" class=\"dataframe\">\n",
              "  <thead>\n",
              "    <tr style=\"text-align: right;\">\n",
              "      <th>publishingstats_comprehensiveness_current</th>\n",
              "      <th>False</th>\n",
              "      <th>True</th>\n",
              "    </tr>\n",
              "    <tr>\n",
              "      <th>pwyf_current</th>\n",
              "      <th></th>\n",
              "      <th></th>\n",
              "    </tr>\n",
              "  </thead>\n",
              "  <tbody>\n",
              "    <tr>\n",
              "      <th>False</th>\n",
              "      <td>50</td>\n",
              "      <td>1</td>\n",
              "    </tr>\n",
              "    <tr>\n",
              "      <th>True</th>\n",
              "      <td>25</td>\n",
              "      <td>11</td>\n",
              "    </tr>\n",
              "  </tbody>\n",
              "</table>\n",
              "</div>"
            ],
            "text/plain": [
              "publishingstats_comprehensiveness_current  False  True \n",
              "pwyf_current                                           \n",
              "False                                         50      1\n",
              "True                                          25     11"
            ]
          },
          "metadata": {
            "tags": []
          },
          "execution_count": 31
        }
      ]
    }
  ]
}