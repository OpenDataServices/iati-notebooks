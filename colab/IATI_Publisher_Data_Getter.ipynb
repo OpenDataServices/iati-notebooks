{
  "nbformat": 4,
  "nbformat_minor": 0,
  "metadata": {
    "colab": {
      "name": "IATI Publisher Data Getter #master",
      "provenance": [],
      "collapsed_sections": [],
      "toc_visible": true
    },
    "kernelspec": {
      "name": "python3",
      "display_name": "Python 3"
    }
  },
  "cells": [
    {
      "cell_type": "markdown",
      "metadata": {
        "id": "y4RJqtbd8E7k",
        "colab_type": "text"
      },
      "source": [
        "# IATI Publisher Data Getter\n"
      ]
    },
    {
      "cell_type": "markdown",
      "metadata": {
        "id": "z3rzDU84VPur",
        "colab_type": "text"
      },
      "source": [
        "| Version | Date | Description |\n",
        "|-|-|-|\n",
        "| 1.0 | 2019-09-23 | Initial run, investigating document link and related activity schema validation errors |\n",
        "| 1.1 | 2019-09-23 | Updating the ad-hoc analysis section for clarity, expanding ruleset validation presentation |\n",
        "| 2.0 | 2019-10-07 | Added non-current filter following PWYF rules, added codelist outputs to the ruleset evaluation, and added an exported .xslx file for ruleset evaluation sheets. |\n",
        "| 2.1 | 2019-11-27 | (Ben W) Use lxml's huge_tree param to support bigger files |\n",
        "|3.0| 2019-01-17 | (Ben W) Add file upload option, run CoVE validation on current activities only, split current_dict into a function so we can test it in another notebook, and run some checks from the IATI Publishing Statistics.\n",
        "|4.0| 2020-02-20 | (Jared P) Add a file to set the current date used and XML output of non-current activities\n",
        "|5.0| 2021-02-04 | (Jared P) Provide a filter for activity status"
      ]
    },
    {
      "cell_type": "markdown",
      "metadata": {
        "id": "aXq55yKijjjB",
        "colab_type": "text"
      },
      "source": [
        "Copyright (C) 2019 Open Data Services Co-operative Limited\n",
        "\n",
        "This program is free software: you can redistribute it and/or modify\n",
        "it under the terms of the GNU Affero General Public License as\n",
        "published by the Free Software Foundation, either version 3 of the\n",
        "License, or (at your option) any later version.\n",
        "\n",
        "This program is distributed in the hope that it will be useful,\n",
        "but WITHOUT ANY WARRANTY; without even the implied warranty of\n",
        "MERCHANTABILITY or FITNESS FOR A PARTICULAR PURPOSE.  See the\n",
        "GNU Affero General Public License for more details.\n",
        "\n",
        "You should have received a copy of the GNU Affero General Public License\n",
        "along with this program.  If not, see <https://www.gnu.org/licenses/>.\n"
      ]
    },
    {
      "cell_type": "markdown",
      "metadata": {
        "id": "lB2yOyiG8RBY",
        "colab_type": "text"
      },
      "source": [
        "## Imports, Downloading, Merging\n"
      ]
    },
    {
      "cell_type": "markdown",
      "metadata": {
        "id": "oFvi3YUssj6V",
        "colab_type": "text"
      },
      "source": [
        "### Imports"
      ]
    },
    {
      "cell_type": "code",
      "metadata": {
        "id": "NDWG7Opb44L9",
        "colab_type": "code",
        "outputId": "5ce75587-97f5-40b1-a088-5472673d53e8",
        "colab": {
          "base_uri": "https://localhost:8080/",
          "height": 34
        }
      },
      "source": [
        "! pip install XlsxWriter"
      ],
      "execution_count": 155,
      "outputs": [
        {
          "output_type": "stream",
          "text": [
            "Requirement already satisfied: XlsxWriter in /usr/local/lib/python3.6/dist-packages (1.2.8)\n"
          ],
          "name": "stdout"
        }
      ]
    },
    {
      "cell_type": "code",
      "metadata": {
        "id": "YTluluXyiQEI",
        "colab_type": "code",
        "colab": {}
      },
      "source": [
        "import pandas as pd\n",
        "import requests as rq\n",
        "import lxml.etree as ET\n",
        "import json\n",
        "import shutil\n",
        "import copy"
      ],
      "execution_count": 0,
      "outputs": []
    },
    {
      "cell_type": "markdown",
      "metadata": {
        "id": "EnZFK8RT68rR",
        "colab_type": "text"
      },
      "source": [
        "### Setup"
      ]
    },
    {
      "cell_type": "code",
      "metadata": {
        "id": "hqEytTRH6_Fg",
        "colab_type": "code",
        "colab": {}
      },
      "source": [
        "# Warning huge_tree disables security restrictions, so should only be used on trusted XML files\n",
        "parser = ET.XMLParser(huge_tree=True)\n",
        "\n",
        "#define comment removal method\n",
        "def remove_comments(etree):\n",
        "  \n",
        "  comments = etree.xpath('//comment()')\n",
        "\n",
        "  for c in comments:\n",
        "      p = c.getparent()\n",
        "      p.remove(c)\n",
        "\n",
        "  return etree"
      ],
      "execution_count": 0,
      "outputs": []
    },
    {
      "cell_type": "markdown",
      "metadata": {
        "id": "w4VMlH1P4e9G",
        "colab_type": "text"
      },
      "source": [
        "### Download or Upload"
      ]
    },
    {
      "cell_type": "code",
      "metadata": {
        "id": "ub2FHCMxhUV-",
        "colab_type": "code",
        "cellView": "both",
        "colab": {}
      },
      "source": [
        "data_mode = \"Download\" #@param [\"Download\", \"Upload\"]"
      ],
      "execution_count": 0,
      "outputs": []
    },
    {
      "cell_type": "markdown",
      "metadata": {
        "id": "8qKBNcBktLwR",
        "colab_type": "text"
      },
      "source": [
        "#### Download"
      ]
    },
    {
      "cell_type": "markdown",
      "metadata": {
        "id": "E-LI0goTzw-u",
        "colab_type": "text"
      },
      "source": [
        "Input the IATI Registry ID of a given IATI Publisher.\n",
        "\n",
        "`activity_status_filter` should be a list of the the activity-status values that you want to be included in the output as per the [IATI Standard (v2.03)](http://reference.iatistandard.org/203/codelists/ActivityStatus/). For example: \n",
        "\n",
        "```\n",
        "activity_status_filter: [3,4]\n",
        "```\n",
        "\n",
        "Set `current_only` to filter the combined IATI to consider only activities which are 'current' according to the [PWYF ATI Methodology](https://github.com/pwyf/latest-index-indicator-definitions/issues/1).\n",
        "\n",
        "Set `current_until` to provide a date which will be used to calculate the current period (12 months prior to this date).\n",
        "\n",
        "Set `keep_non_current` if you want to download a copy of the non-current activities.\n",
        "\n",
        "Exceptions can be added as an array of dataset_id strings such as this:\n",
        "\n",
        "```json\n",
        "exceptions: [\"dataset1\", \"dataset2, \"...\"]\n",
        "```\n",
        "\n",
        "Currently only Activity files are supported."
      ]
    },
    {
      "cell_type": "code",
      "metadata": {
        "id": "oItTiael2tv4",
        "colab_type": "code",
        "cellView": "both",
        "colab": {}
      },
      "source": [
        "if data_mode == \"Download\":\n",
        "  registry_id = \"gac-amc\" #@param {type:\"string\"}\n",
        "  filetype = \"Activities\" #@param [\"Activities\", \"Organisations\"]\n",
        "  activity_status_filter = [3,4] #@param {type: \"raw\"}\n",
        "  current_only = False #@param {type:\"boolean\"}\n",
        "  if current_only:\n",
        "    current_until = \"2020-03-31\" #@param {type:\"date\"}\n",
        "    keep_non_current = False #@param {type:\"boolean\"}\n",
        "  exceptions =  [] #@param {type:\"raw\"}\n"
      ],
      "execution_count": 0,
      "outputs": []
    },
    {
      "cell_type": "code",
      "metadata": {
        "id": "pgb4or9hha5E",
        "colab_type": "code",
        "colab": {}
      },
      "source": [
        "if data_mode == \"Download\":\n",
        "  datasets = pd.read_csv(\"https://iatiregistry.org/csv/download/\"+registry_id)"
      ],
      "execution_count": 0,
      "outputs": []
    },
    {
      "cell_type": "code",
      "metadata": {
        "id": "qG8l9uyzjigQ",
        "colab_type": "code",
        "outputId": "a0224ab2-8563-4cfa-de36-016e91bf4f59",
        "colab": {
          "base_uri": "https://localhost:8080/",
          "height": 34
        }
      },
      "source": [
        "if data_mode == \"Download\":\n",
        "  # remove unwanted datasets\n",
        "\n",
        "  if filetype == \"Activities\":\n",
        "    datasets = datasets[datasets['file-type'] != 'organisation']\n",
        "  else: raise Exception('Currently, this notebook only supports IATI Activities, though could be easily modified to support Organisations')\n",
        "\n",
        "  datasets = datasets[~datasets['registry-file-id'].isin(exceptions)]\n",
        "  datasets = datasets.reset_index()\n",
        "\n",
        "  print(\"Removed unwanted activities and setup comment-removal method\")"
      ],
      "execution_count": 161,
      "outputs": [
        {
          "output_type": "stream",
          "text": [
            "Removed unwanted activities and setup comment-removal method\n"
          ],
          "name": "stdout"
        }
      ]
    },
    {
      "cell_type": "code",
      "metadata": {
        "id": "ifv7PR2eovIT",
        "colab_type": "code",
        "outputId": "c877e707-7ad0-4053-bf37-a4e780e25e71",
        "colab": {
          "base_uri": "https://localhost:8080/",
          "height": 156
        }
      },
      "source": [
        "if data_mode == \"Download\":\n",
        "  print(\"\\nCombining {} IATI files \\n\".format(len(datasets['source-url'])))\n",
        "\n",
        "  # Start with the first file, with comments removed\n",
        "  big_iati = remove_comments(ET.fromstring(rq.get(datasets['source-url'][0]).content, parser=parser))\n",
        "\n",
        "  # Start a dictionary to keep track of the additions\n",
        "  merge_log = {datasets['source-url'][0]: len(big_iati.getchildren())}\n",
        "\n",
        "  # Iterate through the 2nd through last file and\n",
        "  # insert their activtities to into the first\n",
        "  # and update the dictionary\n",
        "  for url in datasets['source-url'][1:]:\n",
        "      data = remove_comments(ET.fromstring(rq.get(url).content))\n",
        "      merge_log[url] = len(data.getchildren())\n",
        "      big_iati.extend(data.getchildren())\n",
        "\n",
        "  # Print a small report on the merging\n",
        "  print(\"Files Merged: \")\n",
        "  for file, activity_count in merge_log.items():\n",
        "      print(\"|-> {} activities from {}\".format(activity_count, file))\n",
        "  print(\"|--> {} in total\".format(len(big_iati.getchildren())))\n",
        "\n",
        "  with open(\"combined.xml\", \"wb+\") as out_file:\n",
        "      out_file.write(ET.tostring(big_iati, encoding='utf8', pretty_print=True))"
      ],
      "execution_count": 162,
      "outputs": [
        {
          "output_type": "stream",
          "text": [
            "\n",
            "Combining 2 IATI files \n",
            "\n",
            "Files Merged: \n",
            "|-> 1572 activities from http://w05.international.gc.ca/projectbrowser-banqueprojets/iita-iati/dfatd-maecd_activit_status_2_3.xml\n",
            "|-> 3396 activities from http://w05.international.gc.ca/projectbrowser-banqueprojets/iita-iati/dfatd-maecd_activit_status_4.xml\n",
            "|--> 4968 in total\n"
          ],
          "name": "stdout"
        }
      ]
    },
    {
      "cell_type": "markdown",
      "metadata": {
        "id": "qhPAbNSatWNr",
        "colab_type": "text"
      },
      "source": [
        "#### Upload"
      ]
    },
    {
      "cell_type": "code",
      "metadata": {
        "colab_type": "code",
        "cellView": "both",
        "id": "xirvSb4eANNO",
        "colab": {}
      },
      "source": [
        "if data_mode == \"Upload\":\n",
        "  filename = \"upload.xml\" #@param {type:\"string\"}\n",
        "  activity_status_filter = [] #@param {type: \"raw\"}\n",
        "  current_only = True #@param {type:\"boolean\"}\n",
        "  if current_only == True:\n",
        "    current_until = \"2020-01-29\" #@param {type:\"date\"}\n",
        "    keep_non_current = False #@param {type:\"boolean\"}"
      ],
      "execution_count": 0,
      "outputs": []
    },
    {
      "cell_type": "markdown",
      "metadata": {
        "id": "oWxN_d25t6Xs",
        "colab_type": "text"
      },
      "source": [
        "Go to View->\"Table of contents\" if the left pane isn't open, click Files at the top, then click Upload. Upload the file, then update `filename` below to match the filename you uploaded. Note that uploaded files will be cleared when the session ends."
      ]
    },
    {
      "cell_type": "code",
      "metadata": {
        "id": "3Sv3fEjYyejx",
        "colab_type": "code",
        "colab": {}
      },
      "source": [
        "if data_mode == \"Upload\":\n",
        "  shutil.copyfile(filename, 'combined.xml')\n",
        "  big_iati = remove_comments(ET.parse('combined.xml', parser=parser).getroot())"
      ],
      "execution_count": 0,
      "outputs": []
    },
    {
      "cell_type": "markdown",
      "metadata": {
        "id": "kHWwujRi_UxW",
        "colab_type": "text"
      },
      "source": []
    },
    {
      "cell_type": "markdown",
      "metadata": {
        "id": "Q1H9P72GtY6V",
        "colab_type": "text"
      },
      "source": [
        "### Filter current activities"
      ]
    },
    {
      "cell_type": "code",
      "metadata": {
        "id": "tRGl8fkYpyN2",
        "colab_type": "code",
        "colab": {}
      },
      "source": [
        "import datetime as dt\n",
        "from dateutil.relativedelta import relativedelta\n",
        "\n",
        "if current_only:\n",
        "  selected_date = dt.datetime.strptime(current_until, \"%Y-%m-%d\")\n",
        "else:\n",
        "  selected_date = dt.datetime.now()\n",
        "\n",
        "def current_dict(activity):\n",
        "  status_check = False\n",
        "  planned_end_date_check = False\n",
        "  actual_end_date_check = False\n",
        "  transaction_date_check = False\n",
        "\n",
        "  # print(\"Activity {} of {}\".format(count, len(big_iati)))\n",
        "  \n",
        "  if activity.xpath(\"activity-status[@code=2]\"):\n",
        "    status_check = True\n",
        "\n",
        "  if activity.xpath(\"activity-date[@type=3]/@iso-date\"):\n",
        "    date_time_obj = dt.datetime.strptime(activity.xpath(\"activity-date[@type=3]/@iso-date\")[0], '%Y-%m-%d')\n",
        "    if date_time_obj > (selected_date - relativedelta(years=1)):\n",
        "      planned_end_date_check = True\n",
        "  \n",
        "  if activity.xpath(\"activity-date[@type=4]/@iso-date\"):\n",
        "    date_time_obj = dt.datetime.strptime(activity.xpath(\"activity-date[@type=4]/@iso-date\")[0], '%Y-%m-%d')\n",
        "    if date_time_obj > (selected_date - relativedelta(years=1)):\n",
        "      actual_end_date_check = True\n",
        "\n",
        "  if activity.xpath(\"transaction/transaction-type[@code=2 or @code=3 or @code=4]\"):\n",
        "    dates = activity.xpath(\"transaction[transaction-type[@code=2 or @code=3 or @code=4]]/transaction-date/@iso-date\")\n",
        "    date_truths = [dt.datetime.strptime(date, '%Y-%m-%d') > (selected_date - relativedelta(years=1)) for date in dates]\n",
        "    if True in date_truths:\n",
        "      transaction_date_check = True\n",
        "\n",
        "  pwyf_current = status_check or planned_end_date_check or actual_end_date_check or transaction_date_check\n",
        "\n",
        "  return {\n",
        "    'iati-identifier': activity.findtext('iati-identifier'),\n",
        "    'status_check': status_check, \n",
        "    'planned_end_date_check': planned_end_date_check, \n",
        "    'actual_end_date_check': actual_end_date_check, \n",
        "    'transaction_date_check': transaction_date_check,\n",
        "    'pwyf_current': pwyf_current,\n",
        "  }\n",
        "  "
      ],
      "execution_count": 0,
      "outputs": []
    },
    {
      "cell_type": "code",
      "metadata": {
        "id": "NONf-fVa5diE",
        "colab_type": "code",
        "colab": {}
      },
      "source": [
        "# Filter out non-current activities, if appropriate\n",
        "# See https://github.com/pwyf/latest-index-indicator-definitions/issues/1\n",
        "\n",
        "log_columns = [\"iati-identifier\", \"status_check\", \"planned_end_date_check\", \"actual_end_date_check\", \"transaction_date_check\", \"pwyf_current\"]\n",
        "count = 1\n",
        "current_check_log = pd.DataFrame(columns=log_columns)\n",
        "\n",
        "for activity in big_iati:\n",
        "  current_check_log = current_check_log.append(current_dict(activity), ignore_index=True)\n",
        "  count = count + 1\n",
        "    \n",
        "current_check_log.to_csv(\"current_check_log.csv\")"
      ],
      "execution_count": 0,
      "outputs": []
    },
    {
      "cell_type": "code",
      "metadata": {
        "id": "cUq37FhD14Lt",
        "colab_type": "code",
        "cellView": "both",
        "colab": {}
      },
      "source": [
        "big_iati_archived = copy.copy(big_iati)"
      ],
      "execution_count": 0,
      "outputs": []
    },
    {
      "cell_type": "code",
      "metadata": {
        "id": "zsxbSxwyvTe8",
        "colab_type": "code",
        "colab": {}
      },
      "source": [
        "import datetime as dt\n",
        "\n",
        "if current_only:\n",
        "  selected_date = dt.datetime.strptime(current_until, \"%Y-%m-%d\")\n",
        "else:\n",
        "  selected_date = dt.datetime.now()\n",
        "\n",
        "def print_non_current(activity):\n",
        "    print_output = \"\"\n",
        "\n",
        "    iati_identifier = activity.findtext('iati-identifier')\n",
        "    activity_status = activity.xpath(\"activity-status\")[0].values()\n",
        "    print_output += \"-----------------------Non-Current Activity-------------------------\\n\"\n",
        "    print_output += \"iati-identifier: {}\\n\".format(iati_identifier)\n",
        "    print_output += \"activity-status: {}\\n\".format(activity_status)\n",
        "\n",
        "    if activity.xpath(\"activity-date[@type=3]/@iso-date\"):\n",
        "      date_time_obj = dt.datetime.strptime(activity.xpath(\"activity-date[@type=3]/@iso-date\")[0], '%Y-%m-%d')\n",
        "      print_output += \"activity-date[@type=3]/@iso-date: {}\\n\".format(date_time_obj)\n",
        "      \n",
        "    if activity.xpath(\"activity-date[@type=4]/@iso-date\"):\n",
        "      date_time_obj = dt.datetime.strptime(activity.xpath(\"activity-date[@type=4]/@iso-date\")[0], '%Y-%m-%d')\n",
        "      print_output += \"activity-date[@type=4]/@iso-date: {}\\n\".format(date_time_obj)\n",
        "\n",
        "\n",
        "    if activity.xpath(\"transaction/transaction-type[@code=2]\"):\n",
        "      dates = activity.xpath(\"transaction[transaction-type[@code=2]]/transaction-date/@iso-date\")\n",
        "      print_output += \"transaction/transaction-type[@code=2]: {}\\n\".format(dates)\n",
        "\n",
        "    if activity.xpath(\"transaction/transaction-type[@code=3]\"):\n",
        "      dates = activity.xpath(\"transaction[transaction-type[@code=3]]/transaction-date/@iso-date\")\n",
        "      print_output += \"transaction/transaction-type[@code=3]: {}\\n\".format(dates)\n",
        "\n",
        "    if activity.xpath(\"transaction/transaction-type[@code=4]\"):\n",
        "      dates = activity.xpath(\"transaction[transaction-type[@code=4]]/transaction-date/@iso-date\")\n",
        "      print_output += \"transaction/transaction-type[@code=4]: {}\\n\".format(dates)\n",
        "\n",
        "    return print_output\n",
        "    "
      ],
      "execution_count": 0,
      "outputs": []
    },
    {
      "cell_type": "code",
      "metadata": {
        "id": "6KBo4l0_yGKI",
        "colab_type": "code",
        "outputId": "8cd58332-ee64-4082-bca5-5de83af05902",
        "colab": {
          "base_uri": "https://localhost:8080/",
          "height": 34
        }
      },
      "source": [
        "cur_length = len(big_iati)\n",
        "if current_only and keep_non_current:\n",
        "  non_current_iati = copy.copy(big_iati)\n",
        "\n",
        "if current_only:\n",
        "  for activity in big_iati:\n",
        "    if activity.findtext('iati-identifier') in current_check_log.loc[current_check_log['pwyf_current'] == False, 'iati-identifier'].values: \n",
        "      activity.getparent().remove(activity)\n",
        "  if keep_non_current:\n",
        "    for activity in non_current_iati:\n",
        "      if activity.findtext('iati-identifier') in current_check_log.loc[current_check_log['pwyf_current'] == True, 'iati-identifier'].values:  \n",
        "        activity.getparent().remove(activity)\n",
        "\n",
        "  print(\"Removed {} non-current activities from a total of {}.\".format((cur_length-len(big_iati)),cur_length))\n",
        "  print(\"{} current activities remain.\".format(len(big_iati)))\n",
        "  if keep_non_current:\n",
        "    print(\"The {} non-current activities have been stored in non_current_details.xml\".format((len(non_current_iati))))\n",
        "\n",
        "\n",
        "else:\n",
        "  print(\"As `current_only` is set to False, all retrieved activities have been kept\")"
      ],
      "execution_count": 169,
      "outputs": [
        {
          "output_type": "stream",
          "text": [
            "As `current_only` is set to False, all retrieved activities have been kept\n"
          ],
          "name": "stdout"
        }
      ]
    },
    {
      "cell_type": "code",
      "metadata": {
        "id": "84ZYBp-woFGj",
        "colab_type": "code",
        "outputId": "f4ac6bb1-b5a9-4d22-f5fe-dbce57099b26",
        "colab": {
          "base_uri": "https://localhost:8080/",
          "height": 68
        }
      },
      "source": [
        "cur_length = len(big_iati)\n",
        "\n",
        "if len(activity_status_filter) > 0:\n",
        "  all_activity_statuses = [1,2,3,4,5,6]\n",
        "  invert_statuses = [filtered_status for filtered_status in all_activity_statuses if filtered_status not in activity_status_filter]\n",
        "  print(\"Removing all activities with activity-status code = {0}\".format(invert_statuses))\n",
        "  for status in invert_statuses:\n",
        "    for activity in big_iati:\n",
        "      if activity.xpath(\"activity-status/@code = {0}\".format(status)): \n",
        "        activity.getparent().remove(activity)\n",
        "\n",
        "  print(\"Removed {} which did not have the specified activity statuses from a total of {}.\".format((cur_length-len(big_iati)),cur_length))\n",
        "  print(\"{} current activities remain.\".format(len(big_iati)))"
      ],
      "execution_count": 170,
      "outputs": [
        {
          "output_type": "stream",
          "text": [
            "Removing all activities with activity-status code = [1, 2, 5, 6]\n",
            "Removed 1221 which did not have the specified activity statuses from a total of 4968.\n",
            "3747 current activities remain.\n"
          ],
          "name": "stdout"
        }
      ]
    },
    {
      "cell_type": "code",
      "metadata": {
        "id": "jrgYDTWZ3iPn",
        "colab_type": "code",
        "colab": {}
      },
      "source": [
        "with open(\"combined_current.xml\", \"wb+\") as out_file:\n",
        "  out_file.write(ET.tostring(big_iati, encoding='utf8', pretty_print=True))"
      ],
      "execution_count": 0,
      "outputs": []
    },
    {
      "cell_type": "code",
      "metadata": {
        "colab_type": "code",
        "id": "qftCj-54Bz21",
        "colab": {}
      },
      "source": [
        "if current_only and keep_non_current:\n",
        "  with open(\"combined_non_current.xml\", \"wb+\") as out_file:\n",
        "    out_file.write(ET.tostring(non_current_iati, encoding='utf8', pretty_print=True))\n",
        "  \n",
        "  with open(\"non_current_details.txt\", \"w\") as out_file:\n",
        "    out_file.write(\"There are {} non-current activities.\\n\".format(len(non_current_iati)))\n",
        "    for activity in non_current_iati:\n",
        "      out_file.write(print_non_current(activity))"
      ],
      "execution_count": 0,
      "outputs": []
    },
    {
      "cell_type": "markdown",
      "metadata": {
        "id": "5VVGUhui8bDV",
        "colab_type": "text"
      },
      "source": [
        "## Ad Hoc Analysis"
      ]
    },
    {
      "cell_type": "markdown",
      "metadata": {
        "id": "-Q6UP0JPXuJ3",
        "colab_type": "text"
      },
      "source": [
        "This section can be used to evaluate specifica aspects of the total corpus of data, for instance, using `coverage_check()` you can look at the number of activities which include specific elements, or which satisfy certain contditions. This requires some python and XML knowledge. Some examples have been included below."
      ]
    },
    {
      "cell_type": "code",
      "metadata": {
        "id": "Cv-ovpVqo5Mg",
        "colab_type": "code",
        "colab": {}
      },
      "source": [
        "def coverage_check(tree, path, manual_list_entry=False):\n",
        "  if manual_list_entry:\n",
        "    denominator = len(tree)\n",
        "    numerator = len(path)\n",
        "  else:\n",
        "    denominator = len(tree.getchildren())\n",
        "    numerator = len(tree.xpath(path))\n",
        "\n",
        "  coverage = numerator / denominator\n",
        "  return denominator, numerator, coverage"
      ],
      "execution_count": 0,
      "outputs": []
    },
    {
      "cell_type": "code",
      "metadata": {
        "id": "4Z7QBc4Xt1pE",
        "colab_type": "code",
        "outputId": "544b7293-a83a-4ef5-dcc2-3d87c9408ea2",
        "colab": {
          "base_uri": "https://localhost:8080/",
          "height": 34
        }
      },
      "source": [
        "coverage_check(big_iati, \"iati-activity[transaction]\")"
      ],
      "execution_count": 174,
      "outputs": [
        {
          "output_type": "execute_result",
          "data": {
            "text/plain": [
              "(3747, 3745, 0.9994662396583934)"
            ]
          },
          "metadata": {
            "tags": []
          },
          "execution_count": 174
        }
      ]
    },
    {
      "cell_type": "code",
      "metadata": {
        "id": "gegznTlTYHMG",
        "colab_type": "code",
        "outputId": "489a4796-adb7-43db-e306-930d0769c045",
        "colab": {
          "base_uri": "https://localhost:8080/",
          "height": 34
        }
      },
      "source": [
        "coverage_check(big_iati, \"iati-activity[capital-spend]\")"
      ],
      "execution_count": 175,
      "outputs": [
        {
          "output_type": "execute_result",
          "data": {
            "text/plain": [
              "(3747, 830, 0.22151054176674673)"
            ]
          },
          "metadata": {
            "tags": []
          },
          "execution_count": 175
        }
      ]
    },
    {
      "cell_type": "code",
      "metadata": {
        "id": "9kYuGLCQYOBa",
        "colab_type": "code",
        "outputId": "548a408e-ca74-47c6-80cd-3cad7d88d988",
        "colab": {
          "base_uri": "https://localhost:8080/",
          "height": 34
        }
      },
      "source": [
        "# activities with a disbursement\n",
        "coverage_check(big_iati, \"iati-activity[transaction/transaction-type/@code = 3]\")"
      ],
      "execution_count": 176,
      "outputs": [
        {
          "output_type": "execute_result",
          "data": {
            "text/plain": [
              "(3747, 3301, 0.8809714438217241)"
            ]
          },
          "metadata": {
            "tags": []
          },
          "execution_count": 176
        }
      ]
    },
    {
      "cell_type": "code",
      "metadata": {
        "id": "kxvlVOYtYs-E",
        "colab_type": "code",
        "outputId": "a23014ec-db6c-48f9-a6a0-7f33ca897ed8",
        "colab": {
          "base_uri": "https://localhost:8080/",
          "height": 34
        }
      },
      "source": [
        "# Manual entry of two lists to see the proportion of transactions which are disbursements\n",
        "coverage_check(\n",
        "    big_iati.xpath(\"iati-activity/transaction\"), \n",
        "    big_iati.xpath(\"iati-activity/transaction[transaction-type/@code = 3]\"), \n",
        "    True)"
      ],
      "execution_count": 177,
      "outputs": [
        {
          "output_type": "execute_result",
          "data": {
            "text/plain": [
              "(21044, 17284, 0.8213267439650257)"
            ]
          },
          "metadata": {
            "tags": []
          },
          "execution_count": 177
        }
      ]
    },
    {
      "cell_type": "markdown",
      "metadata": {
        "id": "IYvJofhk8g1R",
        "colab_type": "text"
      },
      "source": [
        "## Batch CoVE Validation"
      ]
    },
    {
      "cell_type": "code",
      "metadata": {
        "id": "L-X7-aaR8j9Z",
        "colab_type": "code",
        "outputId": "6b4e25fb-817e-40ba-acd7-be59b925592b",
        "colab": {
          "base_uri": "https://localhost:8080/",
          "height": 68
        }
      },
      "source": [
        "json_validation_filepath = 'validation.json'\n",
        "\n",
        "url = 'https://iati.cove.opendataservices.coop/api_test'\n",
        "files = {'file': open(\"combined_current.xml\", 'rb')}\n",
        "r = rq.post(url, files=files, data={\"name\": \"combined_current.xml\"})\n",
        "\n",
        "print(r)\n",
        "\n",
        "print(\"CoVE validation was successful.\" if r.ok else \"Something went wrong.\")\n",
        "\n",
        "validation_json = r.json()\n",
        "\n",
        "with open(json_validation_filepath, \"w\") as out_file:\n",
        "    json.dump(validation_json, out_file)\n",
        "\n",
        "print('Validation JSON file has been written to {}.'.format(\n",
        "    json_validation_filepath))"
      ],
      "execution_count": 178,
      "outputs": [
        {
          "output_type": "stream",
          "text": [
            "<Response [200]>\n",
            "CoVE validation was successful.\n",
            "Validation JSON file has been written to validation.json.\n"
          ],
          "name": "stdout"
        }
      ]
    },
    {
      "cell_type": "code",
      "metadata": {
        "id": "k5K3G7Ky8zI0",
        "colab_type": "code",
        "outputId": "3bd872ae-0ec5-4ca5-b77f-068ede93d2ed",
        "colab": {
          "base_uri": "https://localhost:8080/",
          "height": 136
        }
      },
      "source": [
        "ruleset_table = pd.DataFrame(data=validation_json['ruleset_errors'])\n",
        "schema_table = pd.DataFrame(data=validation_json['validation_errors'])\n",
        "embedded_codelist_table = pd.DataFrame(data=validation_json['invalid_embedded_codelist_values'])\n",
        "non_embedded_codelist_table = pd.DataFrame(data=validation_json['invalid_non_embedded_codelist_values'])\n",
        "\n",
        "print(\n",
        "    \"CoVE has found: \\n* {} schema errors \\n* {} ruleset errors \\n* {} embedded codelist errors \\n* {} non-embedded codelist errors\".format(\n",
        "    len(schema_table), \n",
        "    len(ruleset_table), \n",
        "    len(embedded_codelist_table), \n",
        "    len(non_embedded_codelist_table)))\n",
        "\n",
        "print(\"\\nWriting to validation_workbook.xlsx\")\n",
        "writer = pd.ExcelWriter('validation_workbook.xlsx', engine='xlsxwriter')\n",
        "# Write each dataframe to a different worksheet.\n",
        "schema_table.to_excel(writer, sheet_name='schema_table')\n",
        "ruleset_table.to_excel(writer, sheet_name='ruleset_table')\n",
        "embedded_codelist_table.to_excel(writer, sheet_name='embedded_codelist_table')\n",
        "non_embedded_codelist_table.to_excel(writer, sheet_name='non_embedded_codelist_table')\n",
        "\n",
        "# Close the Pandas Excel writer and output the Excel file.\n",
        "writer.save()\n"
      ],
      "execution_count": 179,
      "outputs": [
        {
          "output_type": "stream",
          "text": [
            "CoVE has found: \n",
            "* 0 schema errors \n",
            "* 21 ruleset errors \n",
            "* 0 embedded codelist errors \n",
            "* 62 non-embedded codelist errors\n",
            "\n",
            "Writing to validation_workbook.xlsx\n"
          ],
          "name": "stdout"
        }
      ]
    },
    {
      "cell_type": "markdown",
      "metadata": {
        "id": "t0SLL1woSyoP",
        "colab_type": "text"
      },
      "source": [
        "### Schema Validation"
      ]
    },
    {
      "cell_type": "code",
      "metadata": {
        "id": "0yEUfZoWAKrc",
        "colab_type": "code",
        "outputId": "8fbfc5d7-7cd0-4bf4-b493-29cf57f911db",
        "colab": {
          "base_uri": "https://localhost:8080/",
          "height": 32
        }
      },
      "source": [
        "schema_table"
      ],
      "execution_count": 180,
      "outputs": [
        {
          "output_type": "execute_result",
          "data": {
            "text/html": [
              "<div>\n",
              "<style scoped>\n",
              "    .dataframe tbody tr th:only-of-type {\n",
              "        vertical-align: middle;\n",
              "    }\n",
              "\n",
              "    .dataframe tbody tr th {\n",
              "        vertical-align: top;\n",
              "    }\n",
              "\n",
              "    .dataframe thead th {\n",
              "        text-align: right;\n",
              "    }\n",
              "</style>\n",
              "<table border=\"1\" class=\"dataframe\">\n",
              "  <thead>\n",
              "    <tr style=\"text-align: right;\">\n",
              "      <th></th>\n",
              "    </tr>\n",
              "  </thead>\n",
              "  <tbody>\n",
              "  </tbody>\n",
              "</table>\n",
              "</div>"
            ],
            "text/plain": [
              "Empty DataFrame\n",
              "Columns: []\n",
              "Index: []"
            ]
          },
          "metadata": {
            "tags": []
          },
          "execution_count": 180
        }
      ]
    },
    {
      "cell_type": "markdown",
      "metadata": {
        "id": "xyGpqRc3cBfQ",
        "colab_type": "text"
      },
      "source": [
        "#### Custom Analysis\n",
        "\n",
        "This section gives space to investigate schema errors identified in the secion above. It requires a small amount of tinkering in python."
      ]
    },
    {
      "cell_type": "code",
      "metadata": {
        "id": "8WOGXSlLE7Tr",
        "colab_type": "code",
        "colab": {}
      },
      "source": [
        "# To view offending XML element, take the '/NN/' from the path above, add one, \n",
        "# and then modify the remaining content of the path to print a section of XML.\n",
        "# print(ET.tostring(big_iati.xpath(\"iati-activity[61]/related-activity\")[0].getparent()).decode())"
      ],
      "execution_count": 0,
      "outputs": []
    },
    {
      "cell_type": "markdown",
      "metadata": {
        "id": "3cG2D82Odnyx",
        "colab_type": "text"
      },
      "source": [
        "Note the lack of description in the XML output above"
      ]
    },
    {
      "cell_type": "markdown",
      "metadata": {
        "id": "lV9Ub3BjS2xL",
        "colab_type": "text"
      },
      "source": [
        "### Ruleset Validation"
      ]
    },
    {
      "cell_type": "code",
      "metadata": {
        "id": "4jmiZe2q9sj0",
        "colab_type": "code",
        "outputId": "43686126-9439-4e9d-ad42-e3cc95d8d796",
        "colab": {
          "base_uri": "https://localhost:8080/",
          "height": 142
        }
      },
      "source": [
        "# Concise Summary\n",
        "ruleset_table.pivot_table(index=['rule',], aggfunc='count').drop(columns=[\"path\", \"ruleset\", \"explanation\"])"
      ],
      "execution_count": 182,
      "outputs": [
        {
          "output_type": "execute_result",
          "data": {
            "text/html": [
              "<div>\n",
              "<style scoped>\n",
              "    .dataframe tbody tr th:only-of-type {\n",
              "        vertical-align: middle;\n",
              "    }\n",
              "\n",
              "    .dataframe tbody tr th {\n",
              "        vertical-align: top;\n",
              "    }\n",
              "\n",
              "    .dataframe thead th {\n",
              "        text-align: right;\n",
              "    }\n",
              "</style>\n",
              "<table border=\"1\" class=\"dataframe\">\n",
              "  <thead>\n",
              "    <tr style=\"text-align: right;\">\n",
              "      <th></th>\n",
              "      <th>id</th>\n",
              "    </tr>\n",
              "    <tr>\n",
              "      <th>rule</th>\n",
              "      <th></th>\n",
              "    </tr>\n",
              "  </thead>\n",
              "  <tbody>\n",
              "    <tr>\n",
              "      <th>activity-date[@type=\"2\"]/@iso-date must be before activity-date[@type=\"4\"]/@iso-date</th>\n",
              "      <td>19</td>\n",
              "    </tr>\n",
              "    <tr>\n",
              "      <th>activity-date[date @type=\"1\"] or activity-date[@type=\"2\"] must be present</th>\n",
              "      <td>2</td>\n",
              "    </tr>\n",
              "  </tbody>\n",
              "</table>\n",
              "</div>"
            ],
            "text/plain": [
              "                                                    id\n",
              "rule                                                  \n",
              "activity-date[@type=\"2\"]/@iso-date must be befo...  19\n",
              "activity-date[date @type=\"1\"] or activity-date[...   2"
            ]
          },
          "metadata": {
            "tags": []
          },
          "execution_count": 182
        }
      ]
    },
    {
      "cell_type": "code",
      "metadata": {
        "id": "W9SQLlEAeIrw",
        "colab_type": "code",
        "outputId": "189d90bd-614b-4488-cfaa-cba88d76b605",
        "colab": {
          "base_uri": "https://localhost:8080/",
          "height": 374
        }
      },
      "source": [
        "# Full Table\n",
        "ruleset_table.head()"
      ],
      "execution_count": 183,
      "outputs": [
        {
          "output_type": "execute_result",
          "data": {
            "text/html": [
              "<div>\n",
              "<style scoped>\n",
              "    .dataframe tbody tr th:only-of-type {\n",
              "        vertical-align: middle;\n",
              "    }\n",
              "\n",
              "    .dataframe tbody tr th {\n",
              "        vertical-align: top;\n",
              "    }\n",
              "\n",
              "    .dataframe thead th {\n",
              "        text-align: right;\n",
              "    }\n",
              "</style>\n",
              "<table border=\"1\" class=\"dataframe\">\n",
              "  <thead>\n",
              "    <tr style=\"text-align: right;\">\n",
              "      <th></th>\n",
              "      <th>path</th>\n",
              "      <th>id</th>\n",
              "      <th>ruleset</th>\n",
              "      <th>explanation</th>\n",
              "      <th>rule</th>\n",
              "    </tr>\n",
              "  </thead>\n",
              "  <tbody>\n",
              "    <tr>\n",
              "      <th>0</th>\n",
              "      <td>/iati-activities/iati-activity[159]/activity-d...</td>\n",
              "      <td>CA-3-M013793001</td>\n",
              "      <td>Start dates must be chronologically before end...</td>\n",
              "      <td>Start date (2013-01-02) must be before end dat...</td>\n",
              "      <td>activity-date[@type=\"2\"]/@iso-date must be bef...</td>\n",
              "    </tr>\n",
              "    <tr>\n",
              "      <th>1</th>\n",
              "      <td>/iati-activities/iati-activity[312]/activity-d...</td>\n",
              "      <td>CA-3-D004490001</td>\n",
              "      <td>Start dates must be chronologically before end...</td>\n",
              "      <td>Start date (2017-04-07) must be before end dat...</td>\n",
              "      <td>activity-date[@type=\"2\"]/@iso-date must be bef...</td>\n",
              "    </tr>\n",
              "    <tr>\n",
              "      <th>2</th>\n",
              "      <td>/iati-activities/iati-activity[825]/activity-d...</td>\n",
              "      <td>CA-3-A033637001</td>\n",
              "      <td>Start dates must be chronologically before end...</td>\n",
              "      <td>Start date (2007-03-27) must be before end dat...</td>\n",
              "      <td>activity-date[@type=\"2\"]/@iso-date must be bef...</td>\n",
              "    </tr>\n",
              "    <tr>\n",
              "      <th>3</th>\n",
              "      <td>/iati-activities/iati-activity[1149]/activity-...</td>\n",
              "      <td>CA-3-A035214001</td>\n",
              "      <td>Start dates must be chronologically before end...</td>\n",
              "      <td>Start date (2011-03-30) must be before end dat...</td>\n",
              "      <td>activity-date[@type=\"2\"]/@iso-date must be bef...</td>\n",
              "    </tr>\n",
              "    <tr>\n",
              "      <th>4</th>\n",
              "      <td>/iati-activities/iati-activity[1342]/activity-...</td>\n",
              "      <td>CA-3-D000578001</td>\n",
              "      <td>Start dates must be chronologically before end...</td>\n",
              "      <td>Start date (2014-03-28) must be before end dat...</td>\n",
              "      <td>activity-date[@type=\"2\"]/@iso-date must be bef...</td>\n",
              "    </tr>\n",
              "  </tbody>\n",
              "</table>\n",
              "</div>"
            ],
            "text/plain": [
              "                                                path  ...                                               rule\n",
              "0  /iati-activities/iati-activity[159]/activity-d...  ...  activity-date[@type=\"2\"]/@iso-date must be bef...\n",
              "1  /iati-activities/iati-activity[312]/activity-d...  ...  activity-date[@type=\"2\"]/@iso-date must be bef...\n",
              "2  /iati-activities/iati-activity[825]/activity-d...  ...  activity-date[@type=\"2\"]/@iso-date must be bef...\n",
              "3  /iati-activities/iati-activity[1149]/activity-...  ...  activity-date[@type=\"2\"]/@iso-date must be bef...\n",
              "4  /iati-activities/iati-activity[1342]/activity-...  ...  activity-date[@type=\"2\"]/@iso-date must be bef...\n",
              "\n",
              "[5 rows x 5 columns]"
            ]
          },
          "metadata": {
            "tags": []
          },
          "execution_count": 183
        }
      ]
    },
    {
      "cell_type": "markdown",
      "metadata": {
        "id": "JeT5ud4PB9oF",
        "colab_type": "text"
      },
      "source": [
        "## ATI Data Quality Testing\n",
        "\n",
        "Download `combined.xml` and upload to [this testing tool](http://dataqualitytester.publishwhatyoufund.org/) to check data quality in line with the Aid Transparency Index Methodology\n",
        "\n",
        "| Date | Link | Notes |\n",
        "|-|-|-|\n",
        "|YYYY-MM-DD|[Link](http://dataqualitytester.publishwhatyoufund.org/package/bb957674-6ccf-4635-a553-1d2dd0382075)| Some description of findings or link to notes / report |\n",
        "||||\n",
        "||||\n",
        "||||\n",
        "||||"
      ]
    },
    {
      "cell_type": "markdown",
      "metadata": {
        "id": "luKkG8yTo2y_",
        "colab_type": "text"
      },
      "source": [
        "## IATI Publisher Statistics"
      ]
    },
    {
      "cell_type": "markdown",
      "metadata": {
        "id": "N5H2tTm9dmKZ",
        "colab_type": "text"
      },
      "source": [
        "Run some code from the [OpenDataServices/iati-publishingstats-details](https://github.com/OpenDataServices/iati-publishingstats-details) repo, which produces per activity CSVs for the [IATI Publishing Statistics](http://publishingstats.iatistandard.org/) checks."
      ]
    },
    {
      "cell_type": "code",
      "metadata": {
        "id": "LmKR5Lm5o7Kh",
        "colab_type": "code",
        "outputId": "f1eb8563-a582-43e1-bfb5-8b9fab6c1290",
        "colab": {
          "base_uri": "https://localhost:8080/",
          "height": 1000
        }
      },
      "source": [
        "import os\n",
        "os.chdir('/content')\n",
        "!rm -r iati-publishingstats-details\n",
        "!git clone https://github.com/OpenDataServices/iati-publishingstats-details.git\n",
        "os.chdir('/content/iati-publishingstats-details')\n",
        "!git submodule init\n",
        "!git submodule update\n",
        "!mkdir logs\n",
        "# Note that the Publishing Statistics code requires Python 2, so needs a virtualenv\n",
        "!sudo apt install python-virtualenv > logs/apt.log\n",
        "!virtualenv .ve\n",
        "!source .ve/bin/activate; pip install -r requirements.txt > logs/requirements.log\n",
        "!source .ve/bin/activate; ./fetch_helpers.sh > logs/fetch_helpers.log 2>&1\n",
        "!source .ve/bin/activate; python forward_looking_details.py ../combined.xml > forward_looking_details.csv\n",
        "!source .ve/bin/activate; python comprehensiveness_is_current_details.py ../combined.xml > comprehensiveness_is_current_details.csv\n",
        "os.chdir('/content')"
      ],
      "execution_count": 184,
      "outputs": [
        {
          "output_type": "stream",
          "text": [
            "Cloning into 'iati-publishingstats-details'...\n",
            "remote: Enumerating objects: 30, done.\u001b[K\n",
            "remote: Counting objects:   3% (1/30)\u001b[K\rremote: Counting objects:   6% (2/30)\u001b[K\rremote: Counting objects:  10% (3/30)\u001b[K\rremote: Counting objects:  13% (4/30)\u001b[K\rremote: Counting objects:  16% (5/30)\u001b[K\rremote: Counting objects:  20% (6/30)\u001b[K\rremote: Counting objects:  23% (7/30)\u001b[K\rremote: Counting objects:  26% (8/30)\u001b[K\rremote: Counting objects:  30% (9/30)\u001b[K\rremote: Counting objects:  33% (10/30)\u001b[K\rremote: Counting objects:  36% (11/30)\u001b[K\rremote: Counting objects:  40% (12/30)\u001b[K\rremote: Counting objects:  43% (13/30)\u001b[K\rremote: Counting objects:  46% (14/30)\u001b[K\rremote: Counting objects:  50% (15/30)\u001b[K\rremote: Counting objects:  53% (16/30)\u001b[K\rremote: Counting objects:  56% (17/30)\u001b[K\rremote: Counting objects:  60% (18/30)\u001b[K\rremote: Counting objects:  63% (19/30)\u001b[K\rremote: Counting objects:  66% (20/30)\u001b[K\rremote: Counting objects:  70% (21/30)\u001b[K\rremote: Counting objects:  73% (22/30)\u001b[K\rremote: Counting objects:  76% (23/30)\u001b[K\rremote: Counting objects:  80% (24/30)\u001b[K\rremote: Counting objects:  83% (25/30)\u001b[K\rremote: Counting objects:  86% (26/30)\u001b[K\rremote: Counting objects:  90% (27/30)\u001b[K\rremote: Counting objects:  93% (28/30)\u001b[K\rremote: Counting objects:  96% (29/30)\u001b[K\rremote: Counting objects: 100% (30/30)\u001b[K\rremote: Counting objects: 100% (30/30), done.\u001b[K\n",
            "remote: Compressing objects: 100% (20/20), done.\u001b[K\n",
            "remote: Total 30 (delta 12), reused 24 (delta 6), pack-reused 0\u001b[K\n",
            "Unpacking objects: 100% (30/30), done.\n",
            "Submodule 'IATI-Publishing-Statistics' (https://github.com/IATI/IATI-Publishing-Statistics.git) registered for path 'IATI-Publishing-Statistics'\n",
            "Cloning into '/content/iati-publishingstats-details/IATI-Publishing-Statistics'...\n",
            "Submodule path 'IATI-Publishing-Statistics': checked out '623498143ad809a57b87d357ea0dd0f65afd11b0'\n",
            "\n",
            "WARNING: apt does not have a stable CLI interface. Use with caution in scripts.\n",
            "\n",
            "Running virtualenv with interpreter /usr/bin/python2\n",
            "New python executable in /content/iati-publishingstats-details/.ve/bin/python2\n",
            "Also creating executable in /content/iati-publishingstats-details/.ve/bin/python\n",
            "Installing setuptools, pkg_resources, pip, wheel...done.\n",
            "\u001b[31mERROR: tflearn 0.3.2 requires numpy, which is not installed.\u001b[0m\n",
            "\u001b[31mERROR: tflearn 0.3.2 requires Pillow, which is not installed.\u001b[0m\n",
            "\u001b[31mERROR: tensor2tensor 1.14.1 requires dopamine-rl, which is not installed.\u001b[0m\n",
            "\u001b[31mERROR: tensor2tensor 1.14.1 requires flask, which is not installed.\u001b[0m\n",
            "\u001b[31mERROR: tensor2tensor 1.14.1 requires future, which is not installed.\u001b[0m\n",
            "\u001b[31mERROR: tensor2tensor 1.14.1 requires gin-config, which is not installed.\u001b[0m\n",
            "\u001b[31mERROR: tensor2tensor 1.14.1 requires google-api-python-client, which is not installed.\u001b[0m\n",
            "\u001b[31mERROR: tensor2tensor 1.14.1 requires gym, which is not installed.\u001b[0m\n",
            "\u001b[31mERROR: tensor2tensor 1.14.1 requires h5py, which is not installed.\u001b[0m\n",
            "\u001b[31mERROR: tensor2tensor 1.14.1 requires numpy, which is not installed.\u001b[0m\n",
            "\u001b[31mERROR: tensor2tensor 1.14.1 requires oauth2client, which is not installed.\u001b[0m\n",
            "\u001b[31mERROR: tensor2tensor 1.14.1 requires opencv-python, which is not installed.\u001b[0m\n",
            "\u001b[31mERROR: tensor2tensor 1.14.1 requires Pillow, which is not installed.\u001b[0m\n",
            "\u001b[31mERROR: tensor2tensor 1.14.1 requires requests, which is not installed.\u001b[0m\n",
            "\u001b[31mERROR: tensor2tensor 1.14.1 requires scipy, which is not installed.\u001b[0m\n",
            "\u001b[31mERROR: tensor2tensor 1.14.1 requires sympy, which is not installed.\u001b[0m\n",
            "\u001b[31mERROR: tensor2tensor 1.14.1 requires tensorflow-datasets, which is not installed.\u001b[0m\n",
            "\u001b[31mERROR: tensor2tensor 1.14.1 requires tqdm, which is not installed.\u001b[0m\n",
            "\u001b[31mERROR: mesh-tensorflow 0.1.12 requires absl-py, which is not installed.\u001b[0m\n",
            "\u001b[31mERROR: mesh-tensorflow 0.1.12 requires future, which is not installed.\u001b[0m\n",
            "\u001b[31mERROR: mesh-tensorflow 0.1.12 requires gin-config, which is not installed.\u001b[0m\n",
            "\u001b[31mERROR: tensorboard 1.15.0 requires absl-py>=0.4, which is not installed.\u001b[0m\n",
            "\u001b[31mERROR: tensorboard 1.15.0 requires futures>=3.1.1; python_version < \"3\", which is not installed.\u001b[0m\n",
            "\u001b[31mERROR: tensorboard 1.15.0 requires grpcio>=1.6.3, which is not installed.\u001b[0m\n",
            "\u001b[31mERROR: tensorboard 1.15.0 requires markdown>=2.6.8, which is not installed.\u001b[0m\n",
            "\u001b[31mERROR: tensorboard 1.15.0 requires numpy>=1.12.0, which is not installed.\u001b[0m\n",
            "\u001b[31mERROR: tensorboard 1.15.0 requires protobuf>=3.6.0, which is not installed.\u001b[0m\n",
            "\u001b[31mERROR: tensorboard 1.15.0 requires werkzeug>=0.11.15, which is not installed.\u001b[0m\n",
            "\u001b[31mERROR: tensorflow-probability 0.7.0 requires cloudpickle>=0.6.1, which is not installed.\u001b[0m\n",
            "\u001b[31mERROR: tensorflow-probability 0.7.0 requires decorator, which is not installed.\u001b[0m\n",
            "\u001b[31mERROR: tensorflow-probability 0.7.0 requires numpy>=1.13.3, which is not installed.\u001b[0m\n",
            "\u001b[31mERROR: tensorflow 1.15.0 requires absl-py>=0.7.0, which is not installed.\u001b[0m\n",
            "\u001b[31mERROR: tensorflow 1.15.0 requires astor>=0.6.0, which is not installed.\u001b[0m\n",
            "\u001b[31mERROR: tensorflow 1.15.0 requires backports.weakref>=1.0rc1; python_version < \"3.4\", which is not installed.\u001b[0m\n",
            "\u001b[31mERROR: tensorflow 1.15.0 requires enum34>=1.1.6; python_version < \"3.4\", which is not installed.\u001b[0m\n",
            "\u001b[31mERROR: tensorflow 1.15.0 requires gast==0.2.2, which is not installed.\u001b[0m\n",
            "\u001b[31mERROR: tensorflow 1.15.0 requires google-pasta>=0.1.6, which is not installed.\u001b[0m\n",
            "\u001b[31mERROR: tensorflow 1.15.0 requires grpcio>=1.8.6, which is not installed.\u001b[0m\n",
            "\u001b[31mERROR: tensorflow 1.15.0 requires keras-applications>=1.0.8, which is not installed.\u001b[0m\n",
            "\u001b[31mERROR: tensorflow 1.15.0 requires keras-preprocessing>=1.0.5, which is not installed.\u001b[0m\n",
            "\u001b[31mERROR: tensorflow 1.15.0 requires numpy<2.0,>=1.16.0, which is not installed.\u001b[0m\n",
            "\u001b[31mERROR: tensorflow 1.15.0 requires opt-einsum>=2.3.2, which is not installed.\u001b[0m\n",
            "\u001b[31mERROR: tensorflow 1.15.0 requires protobuf>=3.6.1, which is not installed.\u001b[0m\n",
            "\u001b[31mERROR: tensorflow 1.15.0 requires termcolor>=1.1.0, which is not installed.\u001b[0m\n",
            "\u001b[31mERROR: tensorflow 1.15.0 requires wrapt>=1.11.1, which is not installed.\u001b[0m\n",
            "\u001b[31mERROR: kfac 0.2.0 requires numpy, which is not installed.\u001b[0m\n"
          ],
          "name": "stdout"
        }
      ]
    },
    {
      "cell_type": "code",
      "metadata": {
        "id": "nbOzzrBFs3a9",
        "colab_type": "code",
        "outputId": "d36def2d-de03-4360-a6f4-bce77e31f4d0",
        "colab": {
          "base_uri": "https://localhost:8080/",
          "height": 419
        }
      },
      "source": [
        "os.chdir('/content')\n",
        "forward_looking_details = pd.read_csv('iati-publishingstats-details/forward_looking_details.csv')\n",
        "forward_looking_details"
      ],
      "execution_count": 185,
      "outputs": [
        {
          "output_type": "execute_result",
          "data": {
            "text/html": [
              "<div>\n",
              "<style scoped>\n",
              "    .dataframe tbody tr th:only-of-type {\n",
              "        vertical-align: middle;\n",
              "    }\n",
              "\n",
              "    .dataframe tbody tr th {\n",
              "        vertical-align: top;\n",
              "    }\n",
              "\n",
              "    .dataframe thead th {\n",
              "        text-align: right;\n",
              "    }\n",
              "</style>\n",
              "<table border=\"1\" class=\"dataframe\">\n",
              "  <thead>\n",
              "    <tr style=\"text-align: right;\">\n",
              "      <th></th>\n",
              "      <th>iati-identifier</th>\n",
              "      <th>First year to fail</th>\n",
              "      <th>End dates</th>\n",
              "      <th>Budget years</th>\n",
              "    </tr>\n",
              "  </thead>\n",
              "  <tbody>\n",
              "    <tr>\n",
              "      <th>0</th>\n",
              "      <td>CA-3-A021378002</td>\n",
              "      <td>2020</td>\n",
              "      <td>2020-09-30</td>\n",
              "      <td>2017,2019</td>\n",
              "    </tr>\n",
              "    <tr>\n",
              "      <th>1</th>\n",
              "      <td>CA-3-A032220001</td>\n",
              "      <td>2020</td>\n",
              "      <td>2020-12-31</td>\n",
              "      <td>2007,2008,2009,2010,2017,2018</td>\n",
              "    </tr>\n",
              "    <tr>\n",
              "      <th>2</th>\n",
              "      <td>CA-3-A032561001</td>\n",
              "      <td>2020</td>\n",
              "      <td>2020-12-31</td>\n",
              "      <td>2008,2009,2010,2011,2012,2017</td>\n",
              "    </tr>\n",
              "    <tr>\n",
              "      <th>3</th>\n",
              "      <td>CA-3-A032615001</td>\n",
              "      <td>2020</td>\n",
              "      <td>2020-09-30</td>\n",
              "      <td>2007,2008,2009,2010,2011,2012,2013,2014,2017,2...</td>\n",
              "    </tr>\n",
              "    <tr>\n",
              "      <th>4</th>\n",
              "      <td>CA-3-A032615005</td>\n",
              "      <td>2020</td>\n",
              "      <td>2020-09-30</td>\n",
              "      <td>2016,2017,2018,2019</td>\n",
              "    </tr>\n",
              "    <tr>\n",
              "      <th>...</th>\n",
              "      <td>...</td>\n",
              "      <td>...</td>\n",
              "      <td>...</td>\n",
              "      <td>...</td>\n",
              "    </tr>\n",
              "    <tr>\n",
              "      <th>322</th>\n",
              "      <td>CA-3-P008053001</td>\n",
              "      <td>2021</td>\n",
              "      <td>2021-03-31</td>\n",
              "      <td>2019,2020</td>\n",
              "    </tr>\n",
              "    <tr>\n",
              "      <th>323</th>\n",
              "      <td>CA-3-P008097001</td>\n",
              "      <td>2020</td>\n",
              "      <td>2021-07-31</td>\n",
              "      <td>2019</td>\n",
              "    </tr>\n",
              "    <tr>\n",
              "      <th>324</th>\n",
              "      <td>CA-3-P008162001</td>\n",
              "      <td>2021</td>\n",
              "      <td>2021-11-30</td>\n",
              "      <td>2018,2019,2020</td>\n",
              "    </tr>\n",
              "    <tr>\n",
              "      <th>325</th>\n",
              "      <td>CA-3-P008241001</td>\n",
              "      <td>2020</td>\n",
              "      <td>2020-12-31</td>\n",
              "      <td>2019</td>\n",
              "    </tr>\n",
              "    <tr>\n",
              "      <th>326</th>\n",
              "      <td>CA-3-P008241002</td>\n",
              "      <td>2020</td>\n",
              "      <td>2020-12-31</td>\n",
              "      <td>2019</td>\n",
              "    </tr>\n",
              "  </tbody>\n",
              "</table>\n",
              "<p>327 rows × 4 columns</p>\n",
              "</div>"
            ],
            "text/plain": [
              "     iati-identifier  ...                                       Budget years\n",
              "0    CA-3-A021378002  ...                                          2017,2019\n",
              "1    CA-3-A032220001  ...                      2007,2008,2009,2010,2017,2018\n",
              "2    CA-3-A032561001  ...                      2008,2009,2010,2011,2012,2017\n",
              "3    CA-3-A032615001  ...  2007,2008,2009,2010,2011,2012,2013,2014,2017,2...\n",
              "4    CA-3-A032615005  ...                                2016,2017,2018,2019\n",
              "..               ...  ...                                                ...\n",
              "322  CA-3-P008053001  ...                                          2019,2020\n",
              "323  CA-3-P008097001  ...                                               2019\n",
              "324  CA-3-P008162001  ...                                     2018,2019,2020\n",
              "325  CA-3-P008241001  ...                                               2019\n",
              "326  CA-3-P008241002  ...                                               2019\n",
              "\n",
              "[327 rows x 4 columns]"
            ]
          },
          "metadata": {
            "tags": []
          },
          "execution_count": 185
        }
      ]
    },
    {
      "cell_type": "code",
      "metadata": {
        "id": "Y3ZQZc0r5RTn",
        "colab_type": "code",
        "outputId": "5debea7e-d671-42cc-8ad4-bb9528ec45f4",
        "colab": {
          "base_uri": "https://localhost:8080/",
          "height": 419
        }
      },
      "source": [
        "comprehensiveness_is_current_details = pd.read_csv('iati-publishingstats-details/comprehensiveness_is_current_details.csv')\n",
        "comprehensiveness_is_current_details"
      ],
      "execution_count": 186,
      "outputs": [
        {
          "output_type": "execute_result",
          "data": {
            "text/html": [
              "<div>\n",
              "<style scoped>\n",
              "    .dataframe tbody tr th:only-of-type {\n",
              "        vertical-align: middle;\n",
              "    }\n",
              "\n",
              "    .dataframe tbody tr th {\n",
              "        vertical-align: top;\n",
              "    }\n",
              "\n",
              "    .dataframe thead th {\n",
              "        text-align: right;\n",
              "    }\n",
              "</style>\n",
              "<table border=\"1\" class=\"dataframe\">\n",
              "  <thead>\n",
              "    <tr style=\"text-align: right;\">\n",
              "      <th></th>\n",
              "      <th>iati-identifier</th>\n",
              "      <th>publishingstats_comprehensiveness_current</th>\n",
              "    </tr>\n",
              "  </thead>\n",
              "  <tbody>\n",
              "    <tr>\n",
              "      <th>0</th>\n",
              "      <td>CA-3-A031268001</td>\n",
              "      <td>False</td>\n",
              "    </tr>\n",
              "    <tr>\n",
              "      <th>1</th>\n",
              "      <td>CA-3-A031470001</td>\n",
              "      <td>False</td>\n",
              "    </tr>\n",
              "    <tr>\n",
              "      <th>2</th>\n",
              "      <td>CA-3-A031708001</td>\n",
              "      <td>False</td>\n",
              "    </tr>\n",
              "    <tr>\n",
              "      <th>3</th>\n",
              "      <td>CA-3-A031708003</td>\n",
              "      <td>False</td>\n",
              "    </tr>\n",
              "    <tr>\n",
              "      <th>4</th>\n",
              "      <td>CA-3-A031717001</td>\n",
              "      <td>False</td>\n",
              "    </tr>\n",
              "    <tr>\n",
              "      <th>...</th>\n",
              "      <td>...</td>\n",
              "      <td>...</td>\n",
              "    </tr>\n",
              "    <tr>\n",
              "      <th>4963</th>\n",
              "      <td>CA-3-Z021047001</td>\n",
              "      <td>False</td>\n",
              "    </tr>\n",
              "    <tr>\n",
              "      <th>4964</th>\n",
              "      <td>CA-3-Z021048001</td>\n",
              "      <td>False</td>\n",
              "    </tr>\n",
              "    <tr>\n",
              "      <th>4965</th>\n",
              "      <td>CA-3-Z021059001</td>\n",
              "      <td>False</td>\n",
              "    </tr>\n",
              "    <tr>\n",
              "      <th>4966</th>\n",
              "      <td>CA-3-Z021065001</td>\n",
              "      <td>False</td>\n",
              "    </tr>\n",
              "    <tr>\n",
              "      <th>4967</th>\n",
              "      <td>CA-3-Z021070001</td>\n",
              "      <td>False</td>\n",
              "    </tr>\n",
              "  </tbody>\n",
              "</table>\n",
              "<p>4968 rows × 2 columns</p>\n",
              "</div>"
            ],
            "text/plain": [
              "      iati-identifier  publishingstats_comprehensiveness_current\n",
              "0     CA-3-A031268001                                      False\n",
              "1     CA-3-A031470001                                      False\n",
              "2     CA-3-A031708001                                      False\n",
              "3     CA-3-A031708003                                      False\n",
              "4     CA-3-A031717001                                      False\n",
              "...               ...                                        ...\n",
              "4963  CA-3-Z021047001                                      False\n",
              "4964  CA-3-Z021048001                                      False\n",
              "4965  CA-3-Z021059001                                      False\n",
              "4966  CA-3-Z021065001                                      False\n",
              "4967  CA-3-Z021070001                                      False\n",
              "\n",
              "[4968 rows x 2 columns]"
            ]
          },
          "metadata": {
            "tags": []
          },
          "execution_count": 186
        }
      ]
    },
    {
      "cell_type": "code",
      "metadata": {
        "id": "VMxIFo5j2KRA",
        "colab_type": "code",
        "outputId": "a06f3e78-a2e4-4a27-abff-7a9ab935281b",
        "colab": {
          "base_uri": "https://localhost:8080/",
          "height": 34
        }
      },
      "source": [
        "big_iati_comprehensiveness_current = copy.copy(big_iati_archived)\n",
        "\n",
        "cur_length = len(big_iati_comprehensiveness_current)\n",
        "\n",
        "if current_only:\n",
        "  for activity in big_iati_comprehensiveness_current:\n",
        "    if activity.findtext('iati-identifier') in comprehensiveness_is_current_details.loc[comprehensiveness_is_current_details['publishingstats_comprehensiveness_current'] == False, 'iati-identifier'].values:\n",
        "      activity.getparent().remove(activity)\n",
        "  \n",
        "  print(\"Removed {} non-current activities from a total of {}.\".format((cur_length-len(big_iati_comprehensiveness_current)),cur_length))\n",
        "  print(\"{} current activities remain.\".format(len(big_iati_comprehensiveness_current)))\n",
        "\n",
        "else:\n",
        "  print(\"As `current_only` is set to False, all retrieved activities have been kept\")"
      ],
      "execution_count": 187,
      "outputs": [
        {
          "output_type": "stream",
          "text": [
            "As `current_only` is set to False, all retrieved activities have been kept\n"
          ],
          "name": "stdout"
        }
      ]
    },
    {
      "cell_type": "code",
      "metadata": {
        "id": "l-_7aD4n3fvS",
        "colab_type": "code",
        "outputId": "790196d7-e66d-46a1-f008-3978b2114a84",
        "colab": {
          "base_uri": "https://localhost:8080/",
          "height": 142
        }
      },
      "source": [
        "merged_currents = pd.merge(current_check_log, comprehensiveness_is_current_details, on=\"iati-identifier\")\n",
        "merged_currents.groupby(['pwyf_current', 'publishingstats_comprehensiveness_current']).size().unstack()\n",
        "# Note: these numbers will not add up properly if there are duplicate iati-identifiers"
      ],
      "execution_count": 188,
      "outputs": [
        {
          "output_type": "execute_result",
          "data": {
            "text/html": [
              "<div>\n",
              "<style scoped>\n",
              "    .dataframe tbody tr th:only-of-type {\n",
              "        vertical-align: middle;\n",
              "    }\n",
              "\n",
              "    .dataframe tbody tr th {\n",
              "        vertical-align: top;\n",
              "    }\n",
              "\n",
              "    .dataframe thead th {\n",
              "        text-align: right;\n",
              "    }\n",
              "</style>\n",
              "<table border=\"1\" class=\"dataframe\">\n",
              "  <thead>\n",
              "    <tr style=\"text-align: right;\">\n",
              "      <th>publishingstats_comprehensiveness_current</th>\n",
              "      <th>False</th>\n",
              "      <th>True</th>\n",
              "    </tr>\n",
              "    <tr>\n",
              "      <th>pwyf_current</th>\n",
              "      <th></th>\n",
              "      <th></th>\n",
              "    </tr>\n",
              "  </thead>\n",
              "  <tbody>\n",
              "    <tr>\n",
              "      <th>False</th>\n",
              "      <td>3480</td>\n",
              "      <td>134</td>\n",
              "    </tr>\n",
              "    <tr>\n",
              "      <th>True</th>\n",
              "      <td>508</td>\n",
              "      <td>846</td>\n",
              "    </tr>\n",
              "  </tbody>\n",
              "</table>\n",
              "</div>"
            ],
            "text/plain": [
              "publishingstats_comprehensiveness_current  False  True \n",
              "pwyf_current                                           \n",
              "False                                       3480    134\n",
              "True                                         508    846"
            ]
          },
          "metadata": {
            "tags": []
          },
          "execution_count": 188
        }
      ]
    }
  ]
}