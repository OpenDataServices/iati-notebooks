{
 "metadata": {
  "name": "",
  "signature": "sha256:c7944769c09c9701dcc40d7996b88573222530f56fa7dff308a0ed821168b726"
 },
 "nbformat": 3,
 "nbformat_minor": 0,
 "worksheets": [
  {
   "cells": [
    {
     "cell_type": "code",
     "collapsed": false,
     "input": [
      "import requests\n",
      "reporting_org = '41120'"
     ],
     "language": "python",
     "metadata": {},
     "outputs": [
      {
       "metadata": {},
       "output_type": "pyout",
       "prompt_number": 4,
       "text": [
        "{'akvo': 1,\n",
        " 'dfatd-maecd': 1,\n",
        " 'dfid': 19,\n",
        " 'zimmzimm': 1,\n",
        " 'jica': 9,\n",
        " 'finland_mfa': 7,\n",
        " 'minbuza_nl': 2,\n",
        " 'sida': 48}"
       ]
      }
     ],
     "prompt_number": 4
    },
    {
     "cell_type": "heading",
     "level": 3,
     "metadata": {},
     "source": [
      "This reporting org as a participating org"
     ]
    },
    {
     "cell_type": "heading",
     "level": 3,
     "metadata": {},
     "source": [
      "Publishers"
     ]
    },
    {
     "cell_type": "code",
     "collapsed": false,
     "input": [
      "requests.get('http://dashboard.iatistandard.org/stats/current/inverted-publisher/participating_orgs.json').json()[reporting_org]"
     ],
     "language": "python",
     "metadata": {},
     "outputs": [
      {
       "metadata": {},
       "output_type": "pyout",
       "prompt_number": 5,
       "text": [
        "{'akvo': 1,\n",
        " 'dfatd-maecd': 1,\n",
        " 'dfid': 19,\n",
        " 'zimmzimm': 1,\n",
        " 'jica': 9,\n",
        " 'finland_mfa': 7,\n",
        " 'minbuza_nl': 2,\n",
        " 'sida': 48}"
       ]
      }
     ],
     "prompt_number": 5
    },
    {
     "cell_type": "heading",
     "level": 3,
     "metadata": {},
     "source": [
      "Files"
     ]
    },
    {
     "cell_type": "code",
     "collapsed": false,
     "input": [
      "requests.get('http://dashboard.iatistandard.org/stats/current/inverted-file/participating_orgs.json').json()[reporting_org]"
     ],
     "language": "python",
     "metadata": {},
     "outputs": [
      {
       "metadata": {},
       "output_type": "pyout",
       "prompt_number": 6,
       "text": [
        "{'dfid-mm': 2,\n",
        " 'sida-289': 7,\n",
        " 'dfid-af': 4,\n",
        " 'minbuza_nl-activities20142015': 1,\n",
        " 'dfid-ns3': 2,\n",
        " 'dfid-pk': 4,\n",
        " 'minbuza_nl-activities20082009': 1,\n",
        " 'dfid-zz': 2,\n",
        " 'akvo-activities': 1,\n",
        " 'sida-pk': 1,\n",
        " 'sida-tz': 1,\n",
        " 'sida-so': 2,\n",
        " 'zimmzimm-activities': 1,\n",
        " 'finland_mfa-998': 1,\n",
        " 'sida-xk': 10,\n",
        " 'sida-et': 1,\n",
        " 'finland_mfa-003': 1,\n",
        " 'sida-998b': 11,\n",
        " 'finland_mfa-lb': 1,\n",
        " 'sida-lr': 2,\n",
        " 'jica-grant_2012': 9,\n",
        " 'sida-298': 10,\n",
        " 'sida-998c': 1,\n",
        " 'finland_mfa-001': 2,\n",
        " 'finland_mfa-002': 2,\n",
        " 'dfatd-maecd-act_2_3': 1,\n",
        " 'dfid-cd': 2,\n",
        " 'sida-998e': 2,\n",
        " 'dfid-ps': 3}"
       ]
      }
     ],
     "prompt_number": 6
    },
    {
     "cell_type": "heading",
     "level": 3,
     "metadata": {},
     "source": [
      "Which participating org roles?"
     ]
    },
    {
     "cell_type": "code",
     "collapsed": false,
     "input": [
      "by_role = requests.get('http://dashboard.iatistandard.org/stats/current/inverted-publisher/participating_orgs_by_role.json').json()\n",
      "{ k:v[reporting_org] for k,v in by_role.items() if reporting_org in v }"
     ],
     "language": "python",
     "metadata": {},
     "outputs": [
      {
       "metadata": {},
       "output_type": "pyout",
       "prompt_number": 15,
       "text": [
        "{'1': {'akvo': 1},\n",
        " 'Implementing': {'dfid': 12, 'jica': 9, 'finland_mfa': 5, 'minbuza_nl': 2},\n",
        " 'Accountable': {'zimmzimm': 1},\n",
        " 'implementing': {'finland_mfa': 2},\n",
        " '4': {'dfatd-maecd': 1, 'sida': 48}}"
       ]
      }
     ],
     "prompt_number": 15
    }
   ],
   "metadata": {}
  }
 ]
}