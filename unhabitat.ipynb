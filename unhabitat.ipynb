{
 "metadata": {
  "name": "",
  "signature": "sha256:cab6aa33b475ffc592f69932551dce4e0b8d478faae33d77859d4ea0db4e068c"
 },
 "nbformat": 3,
 "nbformat_minor": 0,
 "worksheets": [
  {
   "cells": [
    {
     "cell_type": "code",
     "collapsed": false,
     "input": [
      "import requests\n",
      "import datetime\n",
      "reporting_org_ref = '41120'"
     ],
     "language": "python",
     "metadata": {},
     "outputs": [],
     "prompt_number": 1
    },
    {
     "cell_type": "heading",
     "level": 2,
     "metadata": {},
     "source": [
      "This reporting org ref as a participating org ref"
     ]
    },
    {
     "cell_type": "heading",
     "level": 3,
     "metadata": {},
     "source": [
      "Publishers"
     ]
    },
    {
     "cell_type": "code",
     "collapsed": false,
     "input": [
      "requests.get('http://dashboard.iatistandard.org/stats/current/inverted-publisher/participating_orgs.json').json()[reporting_org_ref]"
     ],
     "language": "python",
     "metadata": {},
     "outputs": [
      {
       "metadata": {},
       "output_type": "pyout",
       "prompt_number": 2,
       "text": [
        "{'sida': 48,\n",
        " 'dfid': 19,\n",
        " 'akvo': 1,\n",
        " 'jica': 9,\n",
        " 'minbuza_nl': 2,\n",
        " 'dfatd-maecd': 1,\n",
        " 'finland_mfa': 7,\n",
        " 'zimmzimm': 1}"
       ]
      }
     ],
     "prompt_number": 2
    },
    {
     "cell_type": "heading",
     "level": 3,
     "metadata": {},
     "source": [
      "Files"
     ]
    },
    {
     "cell_type": "code",
     "collapsed": false,
     "input": [
      "requests.get('http://dashboard.iatistandard.org/stats/current/inverted-file/participating_orgs.json').json()[reporting_org_ref]"
     ],
     "language": "python",
     "metadata": {},
     "outputs": [
      {
       "metadata": {},
       "output_type": "pyout",
       "prompt_number": 3,
       "text": [
        "{'finland_mfa-002': 2,\n",
        " 'finland_mfa-998': 1,\n",
        " 'sida-lr': 2,\n",
        " 'dfid-af': 4,\n",
        " 'sida-298': 10,\n",
        " 'dfid-cd': 2,\n",
        " 'minbuza_nl-activities20082009': 1,\n",
        " 'sida-et': 1,\n",
        " 'finland_mfa-003': 1,\n",
        " 'finland_mfa-lb': 1,\n",
        " 'dfid-zz': 2,\n",
        " 'dfatd-maecd-act_2_3': 1,\n",
        " 'sida-tz': 1,\n",
        " 'dfid-ns3': 2,\n",
        " 'dfid-ps': 3,\n",
        " 'minbuza_nl-activities20142015': 1,\n",
        " 'sida-xk': 10,\n",
        " 'sida-998c': 1,\n",
        " 'sida-pk': 1,\n",
        " 'akvo-activities': 1,\n",
        " 'dfid-pk': 4,\n",
        " 'sida-998e': 2,\n",
        " 'sida-so': 2,\n",
        " 'dfid-mm': 2,\n",
        " 'sida-998b': 11,\n",
        " 'jica-grant_2012': 9,\n",
        " 'finland_mfa-001': 2,\n",
        " 'sida-289': 7,\n",
        " 'zimmzimm-activities': 1}"
       ]
      }
     ],
     "prompt_number": 3
    },
    {
     "cell_type": "heading",
     "level": 3,
     "metadata": {},
     "source": [
      "Which participating org roles?"
     ]
    },
    {
     "cell_type": "code",
     "collapsed": false,
     "input": [
      "by_role = requests.get('http://dashboard.iatistandard.org/stats/current/inverted-publisher/participating_orgs_by_role.json').json()\n",
      "{ k:v[reporting_org_ref] for k,v in by_role.items() if reporting_org_ref in v }"
     ],
     "language": "python",
     "metadata": {},
     "outputs": [
      {
       "metadata": {},
       "output_type": "pyout",
       "prompt_number": 4,
       "text": [
        "{'implementing': {'finland_mfa': 2},\n",
        " 'Accountable': {'zimmzimm': 1},\n",
        " '1': {'akvo': 1},\n",
        " '4': {'sida': 48, 'dfatd-maecd': 1},\n",
        " 'Implementing': {'minbuza_nl': 2, 'jica': 9, 'finland_mfa': 5, 'dfid': 12}}"
       ]
      }
     ],
     "prompt_number": 4
    },
    {
     "cell_type": "heading",
     "level": 2,
     "metadata": {},
     "source": [
      "This reporting-org ref as provider-org"
     ]
    },
    {
     "cell_type": "heading",
     "level": 3,
     "metadata": {},
     "source": [
      "Publishers"
     ]
    },
    {
     "cell_type": "code",
     "collapsed": false,
     "input": [
      "requests.get('http://dashboard.iatistandard.org/stats/current/inverted-publisher/provider_org.json').json()[reporting_org_ref]"
     ],
     "language": "python",
     "metadata": {},
     "outputs": [
      {
       "metadata": {},
       "output_type": "pyout",
       "prompt_number": 5,
       "text": [
        "{'akvo': 2}"
       ]
      }
     ],
     "prompt_number": 5
    },
    {
     "cell_type": "heading",
     "level": 3,
     "metadata": {},
     "source": [
      "Files"
     ]
    },
    {
     "cell_type": "code",
     "collapsed": false,
     "input": [
      "requests.get('http://dashboard.iatistandard.org/stats/current/inverted-file/provider_org.json').json()[reporting_org_ref]"
     ],
     "language": "python",
     "metadata": {},
     "outputs": [
      {
       "metadata": {},
       "output_type": "pyout",
       "prompt_number": 6,
       "text": [
        "{'akvo-activities': 2}"
       ]
      }
     ],
     "prompt_number": 6
    },
    {
     "cell_type": "heading",
     "level": 2,
     "metadata": {},
     "source": [
      "This reporting-org ref as receiver-org"
     ]
    },
    {
     "cell_type": "heading",
     "level": 3,
     "metadata": {},
     "source": [
      "Publishers"
     ]
    },
    {
     "cell_type": "code",
     "collapsed": false,
     "input": [
      "requests.get('http://dashboard.iatistandard.org/stats/current/inverted-publisher/receiver_org.json').json()[reporting_org_ref]"
     ],
     "language": "python",
     "metadata": {},
     "outputs": [
      {
       "metadata": {},
       "output_type": "pyout",
       "prompt_number": 7,
       "text": [
        "{'minbuza_nl': 11, 'dfatd-maecd': 6, 'finland_mfa': 15, 'dfid': 7}"
       ]
      }
     ],
     "prompt_number": 7
    },
    {
     "cell_type": "heading",
     "level": 3,
     "metadata": {},
     "source": [
      "Files"
     ]
    },
    {
     "cell_type": "code",
     "collapsed": false,
     "input": [
      "requests.get('http://dashboard.iatistandard.org/stats/current/inverted-file/receiver_org.json').json()[reporting_org_ref]"
     ],
     "language": "python",
     "metadata": {},
     "outputs": [
      {
       "metadata": {},
       "output_type": "pyout",
       "prompt_number": 8,
       "text": [
        "{'finland_mfa-002': 6,\n",
        " 'minbuza_nl-activities20142015': 2,\n",
        " 'dfid-zz': 1,\n",
        " 'dfatd-maecd-act_2_3': 6,\n",
        " 'finland_mfa-003': 3,\n",
        " 'minbuza_nl-activities20082009': 9,\n",
        " 'dfid-cd': 3,\n",
        " 'dfid-ns3': 3,\n",
        " 'finland_mfa-001': 6}"
       ]
      }
     ],
     "prompt_number": 8
    }
   ],
   "metadata": {}
  }
 ]
}