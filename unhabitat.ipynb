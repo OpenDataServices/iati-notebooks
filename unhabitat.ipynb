{
 "metadata": {
  "name": "",
  "signature": "sha256:b08c907a7c969bb905927ad5582c567f9288836169dc6617846cc59eb97cfe5a"
 },
 "nbformat": 3,
 "nbformat_minor": 0,
 "worksheets": [
  {
   "cells": [
    {
     "cell_type": "code",
     "collapsed": false,
     "input": [
      "import requests\n",
      "import json\n",
      "from collections import OrderedDict\n",
      "def pretty_json(x):\n",
      "    print(json.dumps(x, indent=4))\n",
      "\n",
      "reporting_org_ref = '41120'"
     ],
     "language": "python",
     "metadata": {},
     "outputs": [],
     "prompt_number": 1
    },
    {
     "cell_type": "heading",
     "level": 2,
     "metadata": {},
     "source": [
      "This reporting org ref as a participating org ref"
     ]
    },
    {
     "cell_type": "heading",
     "level": 3,
     "metadata": {},
     "source": [
      "Publishers"
     ]
    },
    {
     "cell_type": "code",
     "collapsed": false,
     "input": [
      "participating_orgs = requests.get('http://dashboard.iatistandard.org/stats/current/inverted-publisher/participating_orgs.json').json(object_pairs_hook=OrderedDict)\n",
      "pretty_json(participating_orgs[reporting_org_ref])"
     ],
     "language": "python",
     "metadata": {},
     "outputs": [
      {
       "output_type": "stream",
       "stream": "stdout",
       "text": [
        "{\n",
        "    \"akvo\": 1,\n",
        "    \"dfatd-maecd\": 1,\n",
        "    \"dfid\": 19,\n",
        "    \"finland_mfa\": 7,\n",
        "    \"jica\": 9,\n",
        "    \"minbuza_nl\": 2,\n",
        "    \"sida\": 48,\n",
        "    \"zimmzimm\": 1\n",
        "}\n"
       ]
      }
     ],
     "prompt_number": 2
    },
    {
     "cell_type": "heading",
     "level": 3,
     "metadata": {},
     "source": [
      "Files"
     ]
    },
    {
     "cell_type": "code",
     "collapsed": false,
     "input": [
      "participating_orgs = requests.get('http://dashboard.iatistandard.org/stats/current/inverted-file/participating_orgs.json').json(object_pairs_hook=OrderedDict)\n",
      "pretty_json(participating_orgs[reporting_org_ref])"
     ],
     "language": "python",
     "metadata": {},
     "outputs": [
      {
       "output_type": "stream",
       "stream": "stdout",
       "text": [
        "{\n",
        "    \"akvo-activities\": 1,\n",
        "    \"dfatd-maecd-act_2_3\": 1,\n",
        "    \"dfid-af\": 4,\n",
        "    \"dfid-cd\": 2,\n",
        "    \"dfid-mm\": 2,\n",
        "    \"dfid-ns3\": 2,\n",
        "    \"dfid-pk\": 4,\n",
        "    \"dfid-ps\": 3,\n",
        "    \"dfid-zz\": 2,\n",
        "    \"finland_mfa-001\": 2,\n",
        "    \"finland_mfa-002\": 2,\n",
        "    \"finland_mfa-003\": 1,\n",
        "    \"finland_mfa-998\": 1,\n",
        "    \"finland_mfa-lb\": 1,\n",
        "    \"jica-grant_2012\": 9,\n",
        "    \"minbuza_nl-activities20082009\": 1,\n",
        "    \"minbuza_nl-activities20142015\": 1,\n",
        "    \"sida-289\": 7,\n",
        "    \"sida-298\": 10,\n",
        "    \"sida-998b\": 11,\n",
        "    \"sida-998c\": 1,\n",
        "    \"sida-998e\": 2,\n",
        "    \"sida-et\": 1,\n",
        "    \"sida-lr\": 2,\n",
        "    \"sida-pk\": 1,\n",
        "    \"sida-so\": 2,\n",
        "    \"sida-tz\": 1,\n",
        "    \"sida-xk\": 10,\n",
        "    \"zimmzimm-activities\": 1\n",
        "}\n"
       ]
      }
     ],
     "prompt_number": 3
    },
    {
     "cell_type": "heading",
     "level": 3,
     "metadata": {},
     "source": [
      "Which participating org roles?"
     ]
    },
    {
     "cell_type": "code",
     "collapsed": false,
     "input": [
      "by_role = requests.get('http://dashboard.iatistandard.org/stats/current/inverted-publisher/participating_orgs_by_role.json').json(object_pairs_hook=OrderedDict)\n",
      "by_role_this_org = OrderedDict([(k,v[reporting_org_ref]) for k,v in by_role.items() if reporting_org_ref in v ])\n",
      "pretty_json(by_role_this_org)"
     ],
     "language": "python",
     "metadata": {},
     "outputs": [
      {
       "output_type": "stream",
       "stream": "stdout",
       "text": [
        "{\n",
        "    \"1\": {\n",
        "        \"akvo\": 1\n",
        "    },\n",
        "    \"4\": {\n",
        "        \"dfatd-maecd\": 1,\n",
        "        \"sida\": 48\n",
        "    },\n",
        "    \"Accountable\": {\n",
        "        \"zimmzimm\": 1\n",
        "    },\n",
        "    \"Implementing\": {\n",
        "        \"dfid\": 12,\n",
        "        \"finland_mfa\": 5,\n",
        "        \"jica\": 9,\n",
        "        \"minbuza_nl\": 2\n",
        "    },\n",
        "    \"implementing\": {\n",
        "        \"finland_mfa\": 2\n",
        "    }\n",
        "}\n"
       ]
      }
     ],
     "prompt_number": 4
    },
    {
     "cell_type": "heading",
     "level": 2,
     "metadata": {},
     "source": [
      "This reporting-org ref as provider-org"
     ]
    },
    {
     "cell_type": "heading",
     "level": 3,
     "metadata": {},
     "source": [
      "Publishers"
     ]
    },
    {
     "cell_type": "code",
     "collapsed": false,
     "input": [
      "provider_org = requests.get('http://dashboard.iatistandard.org/stats/current/inverted-publisher/provider_org.json').json(object_pairs_hook=OrderedDict)\n",
      "pretty_json(provider_org[reporting_org_ref])"
     ],
     "language": "python",
     "metadata": {},
     "outputs": [
      {
       "output_type": "stream",
       "stream": "stdout",
       "text": [
        "{\n",
        "    \"akvo\": 2\n",
        "}\n"
       ]
      }
     ],
     "prompt_number": 5
    },
    {
     "cell_type": "heading",
     "level": 3,
     "metadata": {},
     "source": [
      "Files"
     ]
    },
    {
     "cell_type": "code",
     "collapsed": false,
     "input": [
      "provider_org = requests.get('http://dashboard.iatistandard.org/stats/current/inverted-file/provider_org.json').json(object_pairs_hook=OrderedDict)\n",
      "pretty_json(provider_org[reporting_org_ref])"
     ],
     "language": "python",
     "metadata": {},
     "outputs": [
      {
       "output_type": "stream",
       "stream": "stdout",
       "text": [
        "{\n",
        "    \"akvo-activities\": 2\n",
        "}\n"
       ]
      }
     ],
     "prompt_number": 6
    },
    {
     "cell_type": "heading",
     "level": 2,
     "metadata": {},
     "source": [
      "This reporting-org ref as receiver-org"
     ]
    },
    {
     "cell_type": "heading",
     "level": 3,
     "metadata": {},
     "source": [
      "Publishers"
     ]
    },
    {
     "cell_type": "code",
     "collapsed": false,
     "input": [
      "receiver_org = requests.get('http://dashboard.iatistandard.org/stats/current/inverted-publisher/receiver_org.json').json(object_pairs_hook=OrderedDict)\n",
      "pretty_json(receiver_org[reporting_org_ref])"
     ],
     "language": "python",
     "metadata": {},
     "outputs": [
      {
       "output_type": "stream",
       "stream": "stdout",
       "text": [
        "{\n",
        "    \"dfatd-maecd\": 6,\n",
        "    \"dfid\": 7,\n",
        "    \"finland_mfa\": 15,\n",
        "    \"minbuza_nl\": 11\n",
        "}\n"
       ]
      }
     ],
     "prompt_number": 7
    },
    {
     "cell_type": "heading",
     "level": 3,
     "metadata": {},
     "source": [
      "Files"
     ]
    },
    {
     "cell_type": "code",
     "collapsed": false,
     "input": [
      "receiver_org = requests.get('http://dashboard.iatistandard.org/stats/current/inverted-file/receiver_org.json').json(object_pairs_hook=OrderedDict)\n",
      "pretty_json(receiver_org[reporting_org_ref])"
     ],
     "language": "python",
     "metadata": {},
     "outputs": [
      {
       "output_type": "stream",
       "stream": "stdout",
       "text": [
        "{\n",
        "    \"dfatd-maecd-act_2_3\": 6,\n",
        "    \"dfid-cd\": 3,\n",
        "    \"dfid-ns3\": 3,\n",
        "    \"dfid-zz\": 1,\n",
        "    \"finland_mfa-001\": 6,\n",
        "    \"finland_mfa-002\": 6,\n",
        "    \"finland_mfa-003\": 3,\n",
        "    \"minbuza_nl-activities20082009\": 9,\n",
        "    \"minbuza_nl-activities20142015\": 2\n",
        "}\n"
       ]
      }
     ],
     "prompt_number": 8
    }
   ],
   "metadata": {}
  }
 ]
}